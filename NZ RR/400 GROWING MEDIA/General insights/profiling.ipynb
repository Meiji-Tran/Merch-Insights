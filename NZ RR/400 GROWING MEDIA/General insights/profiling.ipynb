{
 "cells": [
  {
   "cell_type": "markdown",
   "metadata": {},
   "source": [
    "## Setup"
   ]
  },
  {
   "cell_type": "code",
   "execution_count": 2,
   "metadata": {},
   "outputs": [],
   "source": [
    "# Import packages\n",
    "import pandas as pd\n",
    "from ds_common_utils.aux.io.snowflake_tools import SnowflakeTools\n",
    "from datetime import datetime\n",
    "import matplotlib.pyplot as plt\n",
    "import plotly.express as px"
   ]
  },
  {
   "cell_type": "code",
   "execution_count": 3,
   "metadata": {},
   "outputs": [],
   "source": [
    "# Setup connection\n",
    "con = SnowflakeTools(\n",
    "    role=\"INSIGHT_ANALYST_MERCH_DE_GENERAL_PRD\",\n",
    "    warehouse=\"INSIGHT_ANALYST_WH\",\n",
    "    database=\"BDWPRD_DE\",\n",
    "    schema=\"IA_MERCH_DE\"\n",
    ")"
   ]
  },
  {
   "cell_type": "code",
   "execution_count": 4,
   "metadata": {},
   "outputs": [],
   "source": [
    "# Date range\n",
    "start_date = \"'2024-06-01'\"\n",
    "end_date = \"'2025-05-31'\""
   ]
  },
  {
   "cell_type": "markdown",
   "metadata": {},
   "source": [
    "## Data"
   ]
  },
  {
   "cell_type": "code",
   "execution_count": 5,
   "metadata": {},
   "outputs": [],
   "source": [
    "# Set item range table name\n",
    "table_GM = 'GM_item_range' + datetime.today().strftime('%Y_%m_%d')"
   ]
  },
  {
   "cell_type": "code",
   "execution_count": 6,
   "metadata": {},
   "outputs": [
    {
     "name": "stderr",
     "output_type": "stream",
     "text": [
      "snowflake_tools - 2025-07-11 10:36:22.278896+10:00 - Generating new token with 'INSIGHT_ANALYST_MERCH_DE_GENERAL_PRD' role and 'SESSION:ROLE-ANY' scope...\n",
      "snowflake_tools - 2025-07-11 10:36:28.863018+10:00 - Saved token with '2025-07-11 14:36:28+10:00' expiry...\n"
     ]
    }
   ],
   "source": [
    "# Create temp item table\n",
    "con.execute_statement_from_sql_file(\n",
    "    file='sql/0-item-range.sql',\n",
    "    formatting={'table_name': table_GM,\n",
    "                'filter' : \"AND item_sub_department_name = '400 GROWING MEDIA' \"})"
   ]
  },
  {
   "cell_type": "markdown",
   "metadata": {},
   "source": [
    "## Demographic Segments (AU)"
   ]
  },
  {
   "cell_type": "markdown",
   "metadata": {},
   "source": [
    "### Overall index"
   ]
  },
  {
   "cell_type": "code",
   "execution_count": 7,
   "metadata": {},
   "outputs": [],
   "source": [
    "ds = con.read_sql_file_into_pandas(\n",
    "    file=\"sql/demographic-segments-overall.sql\",\n",
    "    formatting={\n",
    "        'start_date': start_date,\n",
    "        'end_date': end_date,\n",
    "        'filter' : \"item_sub_department_name = '400 GROWING MEDIA'\"\n",
    "    }\n",
    ")"
   ]
  },
  {
   "cell_type": "code",
   "execution_count": 8,
   "metadata": {},
   "outputs": [
    {
     "name": "stdout",
     "output_type": "stream",
     "text": [
      "Total sales: $160,691,813.73\n",
      "Total quantity: 18,538,496\n",
      "Total customers: 2,592,007\n"
     ]
    }
   ],
   "source": [
    "print(f\"Total sales: ${ds['RANGE_SALES'].sum():,.2f}\")\n",
    "print(f\"Total quantity: {int(ds['RANGE_QUANTITY'].sum()):,}\")\n",
    "print(f\"Total customers: {int(ds['RANGE_CUSTOMERS'].sum()):,}\")"
   ]
  },
  {
   "cell_type": "code",
   "execution_count": 9,
   "metadata": {},
   "outputs": [
    {
     "data": {
      "text/html": [
       "<div>\n",
       "<style scoped>\n",
       "    .dataframe tbody tr th:only-of-type {\n",
       "        vertical-align: middle;\n",
       "    }\n",
       "\n",
       "    .dataframe tbody tr th {\n",
       "        vertical-align: top;\n",
       "    }\n",
       "\n",
       "    .dataframe thead th {\n",
       "        text-align: right;\n",
       "    }\n",
       "</style>\n",
       "<table border=\"1\" class=\"dataframe\">\n",
       "  <thead>\n",
       "    <tr style=\"text-align: right;\">\n",
       "      <th></th>\n",
       "      <th>DEMOGRAPHIC_SEGMENT</th>\n",
       "      <th>RANGE_SALES</th>\n",
       "      <th>RANGE_SALES_SHARE</th>\n",
       "      <th>SALES_INDEX</th>\n",
       "    </tr>\n",
       "  </thead>\n",
       "  <tbody>\n",
       "    <tr>\n",
       "      <th>0</th>\n",
       "      <td>Homeowner older kids</td>\n",
       "      <td>12658140.01</td>\n",
       "      <td>0.078773</td>\n",
       "      <td>0.83</td>\n",
       "    </tr>\n",
       "    <tr>\n",
       "      <th>1</th>\n",
       "      <td>Homeowner younger kids</td>\n",
       "      <td>21650028.46</td>\n",
       "      <td>0.134730</td>\n",
       "      <td>0.72</td>\n",
       "    </tr>\n",
       "    <tr>\n",
       "      <th>2</th>\n",
       "      <td>Older homeowner</td>\n",
       "      <td>87747198.46</td>\n",
       "      <td>0.546059</td>\n",
       "      <td>1.31</td>\n",
       "    </tr>\n",
       "    <tr>\n",
       "      <th>3</th>\n",
       "      <td>Renter no kids</td>\n",
       "      <td>9191033.47</td>\n",
       "      <td>0.057197</td>\n",
       "      <td>0.65</td>\n",
       "    </tr>\n",
       "    <tr>\n",
       "      <th>4</th>\n",
       "      <td>Renter with kids</td>\n",
       "      <td>5073012.15</td>\n",
       "      <td>0.031570</td>\n",
       "      <td>0.52</td>\n",
       "    </tr>\n",
       "    <tr>\n",
       "      <th>5</th>\n",
       "      <td>Unclassifiable</td>\n",
       "      <td>1434624.35</td>\n",
       "      <td>0.008928</td>\n",
       "      <td>1.31</td>\n",
       "    </tr>\n",
       "    <tr>\n",
       "      <th>6</th>\n",
       "      <td>Younger homeowner</td>\n",
       "      <td>22937776.83</td>\n",
       "      <td>0.142744</td>\n",
       "      <td>0.99</td>\n",
       "    </tr>\n",
       "  </tbody>\n",
       "</table>\n",
       "</div>"
      ],
      "text/plain": [
       "      DEMOGRAPHIC_SEGMENT  RANGE_SALES  RANGE_SALES_SHARE  SALES_INDEX\n",
       "0    Homeowner older kids  12658140.01           0.078773         0.83\n",
       "1  Homeowner younger kids  21650028.46           0.134730         0.72\n",
       "2         Older homeowner  87747198.46           0.546059         1.31\n",
       "3          Renter no kids   9191033.47           0.057197         0.65\n",
       "4        Renter with kids   5073012.15           0.031570         0.52\n",
       "5          Unclassifiable   1434624.35           0.008928         1.31\n",
       "6       Younger homeowner  22937776.83           0.142744         0.99"
      ]
     },
     "execution_count": 9,
     "metadata": {},
     "output_type": "execute_result"
    }
   ],
   "source": [
    "ds[[\"DEMOGRAPHIC_SEGMENT\", \"RANGE_SALES\", \"RANGE_SALES_SHARE\", \"SALES_INDEX\"]]"
   ]
  },
  {
   "cell_type": "markdown",
   "metadata": {},
   "source": [
    "$161M in sales, 54% comes from Older homeowner\n",
    "- Older homeowner over indexed - loves gardening, have large garden\n",
    "- Homwowner younger kids and renters under indexed - no garden?"
   ]
  },
  {
   "cell_type": "markdown",
   "metadata": {},
   "source": [
    "### Class index"
   ]
  },
  {
   "cell_type": "code",
   "execution_count": 10,
   "metadata": {},
   "outputs": [],
   "source": [
    "GM_ds = con.read_sql_file_into_pandas(\n",
    "    file=\"sql/1-demographic-segments.sql\",\n",
    "    formatting={\n",
    "        'start_date': start_date,\n",
    "        'end_date': end_date,\n",
    "        'table_name': table_GM,\n",
    "        'level' : 'item_class_name',\n",
    "        'country' : 'AU' \n",
    "    }\n",
    ")"
   ]
  },
  {
   "cell_type": "code",
   "execution_count": 11,
   "metadata": {},
   "outputs": [
    {
     "data": {
      "text/html": [
       "<div>\n",
       "<style scoped>\n",
       "    .dataframe tbody tr th:only-of-type {\n",
       "        vertical-align: middle;\n",
       "    }\n",
       "\n",
       "    .dataframe tbody tr th {\n",
       "        vertical-align: top;\n",
       "    }\n",
       "\n",
       "    .dataframe thead th {\n",
       "        text-align: right;\n",
       "    }\n",
       "</style>\n",
       "<table border=\"1\" class=\"dataframe\">\n",
       "  <thead>\n",
       "    <tr style=\"text-align: right;\">\n",
       "      <th></th>\n",
       "      <th>ITEM_CLASS_NAME</th>\n",
       "      <th>CLASS_SALES</th>\n",
       "      <th>CLASS_QUANTITY</th>\n",
       "      <th>CLASS_CUSTOMERS</th>\n",
       "      <th>CLASS_SALES_SHARE</th>\n",
       "      <th>CLASS_QUANTITY_SHARE</th>\n",
       "      <th>CLASS_CUSTOMERS_SHARE</th>\n",
       "    </tr>\n",
       "  </thead>\n",
       "  <tbody>\n",
       "    <tr>\n",
       "      <th>0</th>\n",
       "      <td>500 COIR MULCH BLOCK HYDRO</td>\n",
       "      <td>1155603.63</td>\n",
       "      <td>60511.0</td>\n",
       "      <td>30355</td>\n",
       "      <td>0.007191</td>\n",
       "      <td>0.003264</td>\n",
       "      <td>0.006839</td>\n",
       "    </tr>\n",
       "    <tr>\n",
       "      <th>7</th>\n",
       "      <td>500 COIR POTTING MIX BLOCK</td>\n",
       "      <td>708514.12</td>\n",
       "      <td>84519.0</td>\n",
       "      <td>49384</td>\n",
       "      <td>0.004409</td>\n",
       "      <td>0.004559</td>\n",
       "      <td>0.011126</td>\n",
       "    </tr>\n",
       "    <tr>\n",
       "      <th>14</th>\n",
       "      <td>500 COMPOSTS SOIL CONDITIONERS</td>\n",
       "      <td>29642027.43</td>\n",
       "      <td>4166671.0</td>\n",
       "      <td>881094</td>\n",
       "      <td>0.184465</td>\n",
       "      <td>0.224758</td>\n",
       "      <td>0.198498</td>\n",
       "    </tr>\n",
       "    <tr>\n",
       "      <th>21</th>\n",
       "      <td>500 MANURE</td>\n",
       "      <td>5803884.42</td>\n",
       "      <td>1101361.0</td>\n",
       "      <td>293716</td>\n",
       "      <td>0.036118</td>\n",
       "      <td>0.059409</td>\n",
       "      <td>0.066170</td>\n",
       "    </tr>\n",
       "    <tr>\n",
       "      <th>28</th>\n",
       "      <td>500 MULCHES</td>\n",
       "      <td>39012025.94</td>\n",
       "      <td>3291401.0</td>\n",
       "      <td>742062</td>\n",
       "      <td>0.242775</td>\n",
       "      <td>0.177544</td>\n",
       "      <td>0.167176</td>\n",
       "    </tr>\n",
       "    <tr>\n",
       "      <th>35</th>\n",
       "      <td>500 POTTING MIXES</td>\n",
       "      <td>76869003.63</td>\n",
       "      <td>8938231.0</td>\n",
       "      <td>1948306</td>\n",
       "      <td>0.478363</td>\n",
       "      <td>0.482144</td>\n",
       "      <td>0.438927</td>\n",
       "    </tr>\n",
       "    <tr>\n",
       "      <th>42</th>\n",
       "      <td>500 SMALL BAG POTTING MIX</td>\n",
       "      <td>7500754.56</td>\n",
       "      <td>895802.0</td>\n",
       "      <td>493880</td>\n",
       "      <td>0.046678</td>\n",
       "      <td>0.048321</td>\n",
       "      <td>0.111264</td>\n",
       "    </tr>\n",
       "  </tbody>\n",
       "</table>\n",
       "</div>"
      ],
      "text/plain": [
       "                   ITEM_CLASS_NAME  CLASS_SALES  CLASS_QUANTITY  \\\n",
       "0       500 COIR MULCH BLOCK HYDRO   1155603.63         60511.0   \n",
       "7       500 COIR POTTING MIX BLOCK    708514.12         84519.0   \n",
       "14  500 COMPOSTS SOIL CONDITIONERS  29642027.43       4166671.0   \n",
       "21                      500 MANURE   5803884.42       1101361.0   \n",
       "28                     500 MULCHES  39012025.94       3291401.0   \n",
       "35               500 POTTING MIXES  76869003.63       8938231.0   \n",
       "42       500 SMALL BAG POTTING MIX   7500754.56        895802.0   \n",
       "\n",
       "    CLASS_CUSTOMERS  CLASS_SALES_SHARE  CLASS_QUANTITY_SHARE  \\\n",
       "0             30355           0.007191              0.003264   \n",
       "7             49384           0.004409              0.004559   \n",
       "14           881094           0.184465              0.224758   \n",
       "21           293716           0.036118              0.059409   \n",
       "28           742062           0.242775              0.177544   \n",
       "35          1948306           0.478363              0.482144   \n",
       "42           493880           0.046678              0.048321   \n",
       "\n",
       "    CLASS_CUSTOMERS_SHARE  \n",
       "0                0.006839  \n",
       "7                0.011126  \n",
       "14               0.198498  \n",
       "21               0.066170  \n",
       "28               0.167176  \n",
       "35               0.438927  \n",
       "42               0.111264  "
      ]
     },
     "execution_count": 11,
     "metadata": {},
     "output_type": "execute_result"
    }
   ],
   "source": [
    "summary = (\n",
    "    GM_ds[[\"ITEM_CLASS_NAME\", \"TOTAL_SALES\", \"TOTAL_QUANTITY\", \"TOTAL_CUSTOMERS\"]]\n",
    "    .drop_duplicates(subset=\"ITEM_CLASS_NAME\")\n",
    "    .rename(columns={\n",
    "        \"TOTAL_SALES\": \"CLASS_SALES\",\n",
    "        \"TOTAL_QUANTITY\": \"CLASS_QUANTITY\",\n",
    "        \"TOTAL_CUSTOMERS\": \"CLASS_CUSTOMERS\"\n",
    "    })\n",
    ")\n",
    "\n",
    "# Compute and print total shares\n",
    "total_sales = summary[\"CLASS_SALES\"].sum()\n",
    "total_quantity = summary[\"CLASS_QUANTITY\"].sum()\n",
    "total_customers = summary[\"CLASS_CUSTOMERS\"].sum()\n",
    "\n",
    "# Add share columns\n",
    "summary[\"CLASS_SALES_SHARE\"] = summary[\"CLASS_SALES\"] / total_sales\n",
    "summary[\"CLASS_QUANTITY_SHARE\"] = summary[\"CLASS_QUANTITY\"] / total_quantity\n",
    "summary[\"CLASS_CUSTOMERS_SHARE\"] = summary[\"CLASS_CUSTOMERS\"] / total_customers\n",
    "\n",
    "summary"
   ]
  },
  {
   "cell_type": "code",
   "execution_count": 12,
   "metadata": {},
   "outputs": [
    {
     "name": "stdout",
     "output_type": "stream",
     "text": [
      "Total sales: $160,691,813.73\n",
      "Total quantity: 18,538,496\n",
      "Total customers: 4,438,797\n"
     ]
    }
   ],
   "source": [
    "print(f\"Total sales: ${summary['CLASS_SALES'].sum():,.2f}\")\n",
    "print(f\"Total quantity: {int(summary['CLASS_QUANTITY'].sum()):,}\")\n",
    "print(f\"Total customers: {int(summary['CLASS_CUSTOMERS'].sum()):,}\")"
   ]
  },
  {
   "cell_type": "code",
   "execution_count": 13,
   "metadata": {},
   "outputs": [
    {
     "data": {
      "text/html": [
       "<div>\n",
       "<style scoped>\n",
       "    .dataframe tbody tr th:only-of-type {\n",
       "        vertical-align: middle;\n",
       "    }\n",
       "\n",
       "    .dataframe tbody tr th {\n",
       "        vertical-align: top;\n",
       "    }\n",
       "\n",
       "    .dataframe thead th {\n",
       "        text-align: right;\n",
       "    }\n",
       "</style>\n",
       "<table border=\"1\" class=\"dataframe\">\n",
       "  <thead>\n",
       "    <tr style=\"text-align: right;\">\n",
       "      <th></th>\n",
       "      <th>ITEM_CLASS_NAME</th>\n",
       "      <th>DEMOGRAPHIC_SEGMENT</th>\n",
       "      <th>SEGMENT_SALES</th>\n",
       "      <th>SEGMENT_SALES_SHARE</th>\n",
       "      <th>SALES_INDEX</th>\n",
       "    </tr>\n",
       "  </thead>\n",
       "  <tbody>\n",
       "    <tr>\n",
       "      <th>0</th>\n",
       "      <td>500 COIR MULCH BLOCK HYDRO</td>\n",
       "      <td>Homeowner older kids</td>\n",
       "      <td>100865.04</td>\n",
       "      <td>0.087283</td>\n",
       "      <td>1.108040</td>\n",
       "    </tr>\n",
       "    <tr>\n",
       "      <th>1</th>\n",
       "      <td>500 COIR MULCH BLOCK HYDRO</td>\n",
       "      <td>Homeowner younger kids</td>\n",
       "      <td>180888.60</td>\n",
       "      <td>0.156532</td>\n",
       "      <td>1.161817</td>\n",
       "    </tr>\n",
       "    <tr>\n",
       "      <th>2</th>\n",
       "      <td>500 COIR MULCH BLOCK HYDRO</td>\n",
       "      <td>Older homeowner</td>\n",
       "      <td>543161.02</td>\n",
       "      <td>0.470024</td>\n",
       "      <td>0.860756</td>\n",
       "    </tr>\n",
       "    <tr>\n",
       "      <th>3</th>\n",
       "      <td>500 COIR MULCH BLOCK HYDRO</td>\n",
       "      <td>Renter no kids</td>\n",
       "      <td>84448.50</td>\n",
       "      <td>0.073077</td>\n",
       "      <td>1.277652</td>\n",
       "    </tr>\n",
       "    <tr>\n",
       "      <th>4</th>\n",
       "      <td>500 COIR MULCH BLOCK HYDRO</td>\n",
       "      <td>Renter with kids</td>\n",
       "      <td>42079.39</td>\n",
       "      <td>0.036413</td>\n",
       "      <td>1.153422</td>\n",
       "    </tr>\n",
       "    <tr>\n",
       "      <th>5</th>\n",
       "      <td>500 COIR MULCH BLOCK HYDRO</td>\n",
       "      <td>Unclassifiable</td>\n",
       "      <td>8000.41</td>\n",
       "      <td>0.006923</td>\n",
       "      <td>0.775459</td>\n",
       "    </tr>\n",
       "    <tr>\n",
       "      <th>6</th>\n",
       "      <td>500 COIR MULCH BLOCK HYDRO</td>\n",
       "      <td>Younger homeowner</td>\n",
       "      <td>196160.67</td>\n",
       "      <td>0.169747</td>\n",
       "      <td>1.189174</td>\n",
       "    </tr>\n",
       "    <tr>\n",
       "      <th>7</th>\n",
       "      <td>500 COIR POTTING MIX BLOCK</td>\n",
       "      <td>Homeowner older kids</td>\n",
       "      <td>55588.85</td>\n",
       "      <td>0.078458</td>\n",
       "      <td>0.996008</td>\n",
       "    </tr>\n",
       "    <tr>\n",
       "      <th>8</th>\n",
       "      <td>500 COIR POTTING MIX BLOCK</td>\n",
       "      <td>Homeowner younger kids</td>\n",
       "      <td>97895.37</td>\n",
       "      <td>0.138170</td>\n",
       "      <td>1.025531</td>\n",
       "    </tr>\n",
       "    <tr>\n",
       "      <th>9</th>\n",
       "      <td>500 COIR POTTING MIX BLOCK</td>\n",
       "      <td>Older homeowner</td>\n",
       "      <td>343730.03</td>\n",
       "      <td>0.485142</td>\n",
       "      <td>0.888443</td>\n",
       "    </tr>\n",
       "    <tr>\n",
       "      <th>10</th>\n",
       "      <td>500 COIR POTTING MIX BLOCK</td>\n",
       "      <td>Renter no kids</td>\n",
       "      <td>65795.18</td>\n",
       "      <td>0.092864</td>\n",
       "      <td>1.623585</td>\n",
       "    </tr>\n",
       "    <tr>\n",
       "      <th>11</th>\n",
       "      <td>500 COIR POTTING MIX BLOCK</td>\n",
       "      <td>Renter with kids</td>\n",
       "      <td>31732.18</td>\n",
       "      <td>0.044787</td>\n",
       "      <td>1.418663</td>\n",
       "    </tr>\n",
       "    <tr>\n",
       "      <th>12</th>\n",
       "      <td>500 COIR POTTING MIX BLOCK</td>\n",
       "      <td>Unclassifiable</td>\n",
       "      <td>6407.98</td>\n",
       "      <td>0.009044</td>\n",
       "      <td>1.013044</td>\n",
       "    </tr>\n",
       "    <tr>\n",
       "      <th>13</th>\n",
       "      <td>500 COIR POTTING MIX BLOCK</td>\n",
       "      <td>Younger homeowner</td>\n",
       "      <td>107364.53</td>\n",
       "      <td>0.151535</td>\n",
       "      <td>1.061585</td>\n",
       "    </tr>\n",
       "    <tr>\n",
       "      <th>14</th>\n",
       "      <td>500 COMPOSTS SOIL CONDITIONERS</td>\n",
       "      <td>Homeowner older kids</td>\n",
       "      <td>2470360.12</td>\n",
       "      <td>0.083340</td>\n",
       "      <td>1.057977</td>\n",
       "    </tr>\n",
       "    <tr>\n",
       "      <th>15</th>\n",
       "      <td>500 COMPOSTS SOIL CONDITIONERS</td>\n",
       "      <td>Homeowner younger kids</td>\n",
       "      <td>4868708.48</td>\n",
       "      <td>0.164250</td>\n",
       "      <td>1.219105</td>\n",
       "    </tr>\n",
       "    <tr>\n",
       "      <th>16</th>\n",
       "      <td>500 COMPOSTS SOIL CONDITIONERS</td>\n",
       "      <td>Older homeowner</td>\n",
       "      <td>15351041.61</td>\n",
       "      <td>0.517881</td>\n",
       "      <td>0.948398</td>\n",
       "    </tr>\n",
       "    <tr>\n",
       "      <th>17</th>\n",
       "      <td>500 COMPOSTS SOIL CONDITIONERS</td>\n",
       "      <td>Renter no kids</td>\n",
       "      <td>1473371.06</td>\n",
       "      <td>0.049705</td>\n",
       "      <td>0.869028</td>\n",
       "    </tr>\n",
       "    <tr>\n",
       "      <th>18</th>\n",
       "      <td>500 COMPOSTS SOIL CONDITIONERS</td>\n",
       "      <td>Renter with kids</td>\n",
       "      <td>912572.18</td>\n",
       "      <td>0.030786</td>\n",
       "      <td>0.975185</td>\n",
       "    </tr>\n",
       "    <tr>\n",
       "      <th>19</th>\n",
       "      <td>500 COMPOSTS SOIL CONDITIONERS</td>\n",
       "      <td>Unclassifiable</td>\n",
       "      <td>248578.28</td>\n",
       "      <td>0.008386</td>\n",
       "      <td>0.939314</td>\n",
       "    </tr>\n",
       "    <tr>\n",
       "      <th>20</th>\n",
       "      <td>500 COMPOSTS SOIL CONDITIONERS</td>\n",
       "      <td>Younger homeowner</td>\n",
       "      <td>4317395.70</td>\n",
       "      <td>0.145651</td>\n",
       "      <td>1.020367</td>\n",
       "    </tr>\n",
       "    <tr>\n",
       "      <th>21</th>\n",
       "      <td>500 MANURE</td>\n",
       "      <td>Homeowner older kids</td>\n",
       "      <td>464966.26</td>\n",
       "      <td>0.080113</td>\n",
       "      <td>1.017013</td>\n",
       "    </tr>\n",
       "    <tr>\n",
       "      <th>22</th>\n",
       "      <td>500 MANURE</td>\n",
       "      <td>Homeowner younger kids</td>\n",
       "      <td>781707.68</td>\n",
       "      <td>0.134687</td>\n",
       "      <td>0.999680</td>\n",
       "    </tr>\n",
       "    <tr>\n",
       "      <th>23</th>\n",
       "      <td>500 MANURE</td>\n",
       "      <td>Older homeowner</td>\n",
       "      <td>3337748.52</td>\n",
       "      <td>0.575089</td>\n",
       "      <td>1.053162</td>\n",
       "    </tr>\n",
       "    <tr>\n",
       "      <th>24</th>\n",
       "      <td>500 MANURE</td>\n",
       "      <td>Renter no kids</td>\n",
       "      <td>235484.95</td>\n",
       "      <td>0.040574</td>\n",
       "      <td>0.709372</td>\n",
       "    </tr>\n",
       "    <tr>\n",
       "      <th>25</th>\n",
       "      <td>500 MANURE</td>\n",
       "      <td>Renter with kids</td>\n",
       "      <td>151984.66</td>\n",
       "      <td>0.026187</td>\n",
       "      <td>0.829486</td>\n",
       "    </tr>\n",
       "    <tr>\n",
       "      <th>26</th>\n",
       "      <td>500 MANURE</td>\n",
       "      <td>Unclassifiable</td>\n",
       "      <td>69250.88</td>\n",
       "      <td>0.011932</td>\n",
       "      <td>1.336479</td>\n",
       "    </tr>\n",
       "    <tr>\n",
       "      <th>27</th>\n",
       "      <td>500 MANURE</td>\n",
       "      <td>Younger homeowner</td>\n",
       "      <td>762741.47</td>\n",
       "      <td>0.131419</td>\n",
       "      <td>0.920664</td>\n",
       "    </tr>\n",
       "    <tr>\n",
       "      <th>28</th>\n",
       "      <td>500 MULCHES</td>\n",
       "      <td>Homeowner older kids</td>\n",
       "      <td>3121804.65</td>\n",
       "      <td>0.080022</td>\n",
       "      <td>1.015853</td>\n",
       "    </tr>\n",
       "    <tr>\n",
       "      <th>29</th>\n",
       "      <td>500 MULCHES</td>\n",
       "      <td>Homeowner younger kids</td>\n",
       "      <td>5700358.04</td>\n",
       "      <td>0.146118</td>\n",
       "      <td>1.084523</td>\n",
       "    </tr>\n",
       "    <tr>\n",
       "      <th>30</th>\n",
       "      <td>500 MULCHES</td>\n",
       "      <td>Older homeowner</td>\n",
       "      <td>21790514.48</td>\n",
       "      <td>0.558559</td>\n",
       "      <td>1.022891</td>\n",
       "    </tr>\n",
       "    <tr>\n",
       "      <th>31</th>\n",
       "      <td>500 MULCHES</td>\n",
       "      <td>Renter no kids</td>\n",
       "      <td>1565591.77</td>\n",
       "      <td>0.040131</td>\n",
       "      <td>0.701632</td>\n",
       "    </tr>\n",
       "    <tr>\n",
       "      <th>32</th>\n",
       "      <td>500 MULCHES</td>\n",
       "      <td>Renter with kids</td>\n",
       "      <td>1028070.80</td>\n",
       "      <td>0.026353</td>\n",
       "      <td>0.834742</td>\n",
       "    </tr>\n",
       "    <tr>\n",
       "      <th>33</th>\n",
       "      <td>500 MULCHES</td>\n",
       "      <td>Unclassifiable</td>\n",
       "      <td>333194.22</td>\n",
       "      <td>0.008541</td>\n",
       "      <td>0.956653</td>\n",
       "    </tr>\n",
       "    <tr>\n",
       "      <th>34</th>\n",
       "      <td>500 MULCHES</td>\n",
       "      <td>Younger homeowner</td>\n",
       "      <td>5472491.98</td>\n",
       "      <td>0.140277</td>\n",
       "      <td>0.982718</td>\n",
       "    </tr>\n",
       "    <tr>\n",
       "      <th>35</th>\n",
       "      <td>500 POTTING MIXES</td>\n",
       "      <td>Homeowner older kids</td>\n",
       "      <td>5908747.97</td>\n",
       "      <td>0.076868</td>\n",
       "      <td>0.975816</td>\n",
       "    </tr>\n",
       "    <tr>\n",
       "      <th>36</th>\n",
       "      <td>500 POTTING MIXES</td>\n",
       "      <td>Homeowner younger kids</td>\n",
       "      <td>9178896.77</td>\n",
       "      <td>0.119410</td>\n",
       "      <td>0.886287</td>\n",
       "    </tr>\n",
       "    <tr>\n",
       "      <th>37</th>\n",
       "      <td>500 POTTING MIXES</td>\n",
       "      <td>Older homeowner</td>\n",
       "      <td>42865962.32</td>\n",
       "      <td>0.557650</td>\n",
       "      <td>1.021226</td>\n",
       "    </tr>\n",
       "    <tr>\n",
       "      <th>38</th>\n",
       "      <td>500 POTTING MIXES</td>\n",
       "      <td>Renter no kids</td>\n",
       "      <td>4727995.83</td>\n",
       "      <td>0.061507</td>\n",
       "      <td>1.075363</td>\n",
       "    </tr>\n",
       "    <tr>\n",
       "      <th>39</th>\n",
       "      <td>500 POTTING MIXES</td>\n",
       "      <td>Renter with kids</td>\n",
       "      <td>2532810.96</td>\n",
       "      <td>0.032950</td>\n",
       "      <td>1.043709</td>\n",
       "    </tr>\n",
       "    <tr>\n",
       "      <th>40</th>\n",
       "      <td>500 POTTING MIXES</td>\n",
       "      <td>Unclassifiable</td>\n",
       "      <td>704157.77</td>\n",
       "      <td>0.009160</td>\n",
       "      <td>1.026064</td>\n",
       "    </tr>\n",
       "    <tr>\n",
       "      <th>41</th>\n",
       "      <td>500 POTTING MIXES</td>\n",
       "      <td>Younger homeowner</td>\n",
       "      <td>10950432.01</td>\n",
       "      <td>0.142456</td>\n",
       "      <td>0.997981</td>\n",
       "    </tr>\n",
       "    <tr>\n",
       "      <th>42</th>\n",
       "      <td>500 SMALL BAG POTTING MIX</td>\n",
       "      <td>Homeowner older kids</td>\n",
       "      <td>535807.12</td>\n",
       "      <td>0.071434</td>\n",
       "      <td>0.906833</td>\n",
       "    </tr>\n",
       "    <tr>\n",
       "      <th>43</th>\n",
       "      <td>500 SMALL BAG POTTING MIX</td>\n",
       "      <td>Homeowner younger kids</td>\n",
       "      <td>841573.52</td>\n",
       "      <td>0.112199</td>\n",
       "      <td>0.832765</td>\n",
       "    </tr>\n",
       "    <tr>\n",
       "      <th>44</th>\n",
       "      <td>500 SMALL BAG POTTING MIX</td>\n",
       "      <td>Older homeowner</td>\n",
       "      <td>3515040.48</td>\n",
       "      <td>0.468625</td>\n",
       "      <td>0.858195</td>\n",
       "    </tr>\n",
       "    <tr>\n",
       "      <th>45</th>\n",
       "      <td>500 SMALL BAG POTTING MIX</td>\n",
       "      <td>Renter no kids</td>\n",
       "      <td>1038346.18</td>\n",
       "      <td>0.138432</td>\n",
       "      <td>2.420286</td>\n",
       "    </tr>\n",
       "    <tr>\n",
       "      <th>46</th>\n",
       "      <td>500 SMALL BAG POTTING MIX</td>\n",
       "      <td>Renter with kids</td>\n",
       "      <td>373761.98</td>\n",
       "      <td>0.049830</td>\n",
       "      <td>1.578403</td>\n",
       "    </tr>\n",
       "    <tr>\n",
       "      <th>47</th>\n",
       "      <td>500 SMALL BAG POTTING MIX</td>\n",
       "      <td>Unclassifiable</td>\n",
       "      <td>65034.81</td>\n",
       "      <td>0.008670</td>\n",
       "      <td>0.971173</td>\n",
       "    </tr>\n",
       "    <tr>\n",
       "      <th>48</th>\n",
       "      <td>500 SMALL BAG POTTING MIX</td>\n",
       "      <td>Younger homeowner</td>\n",
       "      <td>1131190.47</td>\n",
       "      <td>0.150810</td>\n",
       "      <td>1.056509</td>\n",
       "    </tr>\n",
       "  </tbody>\n",
       "</table>\n",
       "</div>"
      ],
      "text/plain": [
       "                   ITEM_CLASS_NAME     DEMOGRAPHIC_SEGMENT  SEGMENT_SALES  \\\n",
       "0       500 COIR MULCH BLOCK HYDRO    Homeowner older kids      100865.04   \n",
       "1       500 COIR MULCH BLOCK HYDRO  Homeowner younger kids      180888.60   \n",
       "2       500 COIR MULCH BLOCK HYDRO         Older homeowner      543161.02   \n",
       "3       500 COIR MULCH BLOCK HYDRO          Renter no kids       84448.50   \n",
       "4       500 COIR MULCH BLOCK HYDRO        Renter with kids       42079.39   \n",
       "5       500 COIR MULCH BLOCK HYDRO          Unclassifiable        8000.41   \n",
       "6       500 COIR MULCH BLOCK HYDRO       Younger homeowner      196160.67   \n",
       "7       500 COIR POTTING MIX BLOCK    Homeowner older kids       55588.85   \n",
       "8       500 COIR POTTING MIX BLOCK  Homeowner younger kids       97895.37   \n",
       "9       500 COIR POTTING MIX BLOCK         Older homeowner      343730.03   \n",
       "10      500 COIR POTTING MIX BLOCK          Renter no kids       65795.18   \n",
       "11      500 COIR POTTING MIX BLOCK        Renter with kids       31732.18   \n",
       "12      500 COIR POTTING MIX BLOCK          Unclassifiable        6407.98   \n",
       "13      500 COIR POTTING MIX BLOCK       Younger homeowner      107364.53   \n",
       "14  500 COMPOSTS SOIL CONDITIONERS    Homeowner older kids     2470360.12   \n",
       "15  500 COMPOSTS SOIL CONDITIONERS  Homeowner younger kids     4868708.48   \n",
       "16  500 COMPOSTS SOIL CONDITIONERS         Older homeowner    15351041.61   \n",
       "17  500 COMPOSTS SOIL CONDITIONERS          Renter no kids     1473371.06   \n",
       "18  500 COMPOSTS SOIL CONDITIONERS        Renter with kids      912572.18   \n",
       "19  500 COMPOSTS SOIL CONDITIONERS          Unclassifiable      248578.28   \n",
       "20  500 COMPOSTS SOIL CONDITIONERS       Younger homeowner     4317395.70   \n",
       "21                      500 MANURE    Homeowner older kids      464966.26   \n",
       "22                      500 MANURE  Homeowner younger kids      781707.68   \n",
       "23                      500 MANURE         Older homeowner     3337748.52   \n",
       "24                      500 MANURE          Renter no kids      235484.95   \n",
       "25                      500 MANURE        Renter with kids      151984.66   \n",
       "26                      500 MANURE          Unclassifiable       69250.88   \n",
       "27                      500 MANURE       Younger homeowner      762741.47   \n",
       "28                     500 MULCHES    Homeowner older kids     3121804.65   \n",
       "29                     500 MULCHES  Homeowner younger kids     5700358.04   \n",
       "30                     500 MULCHES         Older homeowner    21790514.48   \n",
       "31                     500 MULCHES          Renter no kids     1565591.77   \n",
       "32                     500 MULCHES        Renter with kids     1028070.80   \n",
       "33                     500 MULCHES          Unclassifiable      333194.22   \n",
       "34                     500 MULCHES       Younger homeowner     5472491.98   \n",
       "35               500 POTTING MIXES    Homeowner older kids     5908747.97   \n",
       "36               500 POTTING MIXES  Homeowner younger kids     9178896.77   \n",
       "37               500 POTTING MIXES         Older homeowner    42865962.32   \n",
       "38               500 POTTING MIXES          Renter no kids     4727995.83   \n",
       "39               500 POTTING MIXES        Renter with kids     2532810.96   \n",
       "40               500 POTTING MIXES          Unclassifiable      704157.77   \n",
       "41               500 POTTING MIXES       Younger homeowner    10950432.01   \n",
       "42       500 SMALL BAG POTTING MIX    Homeowner older kids      535807.12   \n",
       "43       500 SMALL BAG POTTING MIX  Homeowner younger kids      841573.52   \n",
       "44       500 SMALL BAG POTTING MIX         Older homeowner     3515040.48   \n",
       "45       500 SMALL BAG POTTING MIX          Renter no kids     1038346.18   \n",
       "46       500 SMALL BAG POTTING MIX        Renter with kids      373761.98   \n",
       "47       500 SMALL BAG POTTING MIX          Unclassifiable       65034.81   \n",
       "48       500 SMALL BAG POTTING MIX       Younger homeowner     1131190.47   \n",
       "\n",
       "    SEGMENT_SALES_SHARE  SALES_INDEX  \n",
       "0              0.087283     1.108040  \n",
       "1              0.156532     1.161817  \n",
       "2              0.470024     0.860756  \n",
       "3              0.073077     1.277652  \n",
       "4              0.036413     1.153422  \n",
       "5              0.006923     0.775459  \n",
       "6              0.169747     1.189174  \n",
       "7              0.078458     0.996008  \n",
       "8              0.138170     1.025531  \n",
       "9              0.485142     0.888443  \n",
       "10             0.092864     1.623585  \n",
       "11             0.044787     1.418663  \n",
       "12             0.009044     1.013044  \n",
       "13             0.151535     1.061585  \n",
       "14             0.083340     1.057977  \n",
       "15             0.164250     1.219105  \n",
       "16             0.517881     0.948398  \n",
       "17             0.049705     0.869028  \n",
       "18             0.030786     0.975185  \n",
       "19             0.008386     0.939314  \n",
       "20             0.145651     1.020367  \n",
       "21             0.080113     1.017013  \n",
       "22             0.134687     0.999680  \n",
       "23             0.575089     1.053162  \n",
       "24             0.040574     0.709372  \n",
       "25             0.026187     0.829486  \n",
       "26             0.011932     1.336479  \n",
       "27             0.131419     0.920664  \n",
       "28             0.080022     1.015853  \n",
       "29             0.146118     1.084523  \n",
       "30             0.558559     1.022891  \n",
       "31             0.040131     0.701632  \n",
       "32             0.026353     0.834742  \n",
       "33             0.008541     0.956653  \n",
       "34             0.140277     0.982718  \n",
       "35             0.076868     0.975816  \n",
       "36             0.119410     0.886287  \n",
       "37             0.557650     1.021226  \n",
       "38             0.061507     1.075363  \n",
       "39             0.032950     1.043709  \n",
       "40             0.009160     1.026064  \n",
       "41             0.142456     0.997981  \n",
       "42             0.071434     0.906833  \n",
       "43             0.112199     0.832765  \n",
       "44             0.468625     0.858195  \n",
       "45             0.138432     2.420286  \n",
       "46             0.049830     1.578403  \n",
       "47             0.008670     0.971173  \n",
       "48             0.150810     1.056509  "
      ]
     },
     "execution_count": 13,
     "metadata": {},
     "output_type": "execute_result"
    }
   ],
   "source": [
    "GM_ds[['ITEM_CLASS_NAME', 'DEMOGRAPHIC_SEGMENT', 'SEGMENT_SALES', 'SEGMENT_SALES_SHARE', 'SALES_INDEX']]"
   ]
  },
  {
   "cell_type": "markdown",
   "metadata": {},
   "source": [
    "48% sales comes from 500 POTTING MIXES, 24% from 500 MULCHES, 18% from 500 COMPOSTS SOIL CONDITIONERS, the rest 10% are minimal...\t\n",
    "- Renter no kids under indexed in 500 MANURE, 500 MULCHES\n",
    "- Renters over indexed in 500 COIR MULCH BLOCK HYDRO, 500 COIR POTTING MIX BLOCK, 500 SMALL BAG POTTING MIX\n",
    "- Homeowner younger kids over indexed in 500 COMPOSTS SOIL CONDITIONERS"
   ]
  },
  {
   "cell_type": "markdown",
   "metadata": {},
   "source": [
    "## Non-Commercial (NZ)"
   ]
  },
  {
   "cell_type": "markdown",
   "metadata": {},
   "source": [
    "### Class index"
   ]
  },
  {
   "cell_type": "code",
   "execution_count": 14,
   "metadata": {},
   "outputs": [],
   "source": [
    "non_commercial = con.read_sql_file_into_pandas(\n",
    "    file=\"sql/non-commercial-overall.sql\",\n",
    "    formatting={\n",
    "        'start_date': start_date,\n",
    "        'end_date': end_date,\n",
    "        'table_name': table_GM,\n",
    "        'level' : 'item_class_name',\n",
    "        'country' : 'NZ'\n",
    "    }\n",
    ")"
   ]
  },
  {
   "cell_type": "code",
   "execution_count": 15,
   "metadata": {},
   "outputs": [
    {
     "data": {
      "text/html": [
       "<div>\n",
       "<style scoped>\n",
       "    .dataframe tbody tr th:only-of-type {\n",
       "        vertical-align: middle;\n",
       "    }\n",
       "\n",
       "    .dataframe tbody tr th {\n",
       "        vertical-align: top;\n",
       "    }\n",
       "\n",
       "    .dataframe thead th {\n",
       "        text-align: right;\n",
       "    }\n",
       "</style>\n",
       "<table border=\"1\" class=\"dataframe\">\n",
       "  <thead>\n",
       "    <tr style=\"text-align: right;\">\n",
       "      <th></th>\n",
       "      <th>ITEM_CLASS_NAME</th>\n",
       "      <th>TOTAL_SALES</th>\n",
       "      <th>TOTAL_QUANTITY</th>\n",
       "      <th>SALES_SHARE</th>\n",
       "      <th>QUANTITY_SHARE</th>\n",
       "    </tr>\n",
       "  </thead>\n",
       "  <tbody>\n",
       "    <tr>\n",
       "      <th>0</th>\n",
       "      <td>500 COIR POTTING MIX BLOCK</td>\n",
       "      <td>144226.55</td>\n",
       "      <td>22615.0</td>\n",
       "      <td>0.007431</td>\n",
       "      <td>0.010363</td>\n",
       "    </tr>\n",
       "    <tr>\n",
       "      <th>1</th>\n",
       "      <td>500 COMPOSTS SOIL CONDITIONERS</td>\n",
       "      <td>5475485.76</td>\n",
       "      <td>754963.0</td>\n",
       "      <td>0.282110</td>\n",
       "      <td>0.345963</td>\n",
       "    </tr>\n",
       "    <tr>\n",
       "      <th>2</th>\n",
       "      <td>500 MULCHES</td>\n",
       "      <td>3082274.46</td>\n",
       "      <td>304398.0</td>\n",
       "      <td>0.158806</td>\n",
       "      <td>0.139491</td>\n",
       "    </tr>\n",
       "    <tr>\n",
       "      <th>3</th>\n",
       "      <td>500 POTTING MIXES</td>\n",
       "      <td>9281133.31</td>\n",
       "      <td>937747.0</td>\n",
       "      <td>0.478186</td>\n",
       "      <td>0.429725</td>\n",
       "    </tr>\n",
       "    <tr>\n",
       "      <th>4</th>\n",
       "      <td>500 SMALL BAG POTTING MIX</td>\n",
       "      <td>1425938.11</td>\n",
       "      <td>162482.0</td>\n",
       "      <td>0.073468</td>\n",
       "      <td>0.074458</td>\n",
       "    </tr>\n",
       "  </tbody>\n",
       "</table>\n",
       "</div>"
      ],
      "text/plain": [
       "                  ITEM_CLASS_NAME  TOTAL_SALES  TOTAL_QUANTITY  SALES_SHARE  \\\n",
       "0      500 COIR POTTING MIX BLOCK    144226.55         22615.0     0.007431   \n",
       "1  500 COMPOSTS SOIL CONDITIONERS   5475485.76        754963.0     0.282110   \n",
       "2                     500 MULCHES   3082274.46        304398.0     0.158806   \n",
       "3               500 POTTING MIXES   9281133.31        937747.0     0.478186   \n",
       "4       500 SMALL BAG POTTING MIX   1425938.11        162482.0     0.073468   \n",
       "\n",
       "   QUANTITY_SHARE  \n",
       "0        0.010363  \n",
       "1        0.345963  \n",
       "2        0.139491  \n",
       "3        0.429725  \n",
       "4        0.074458  "
      ]
     },
     "execution_count": 15,
     "metadata": {},
     "output_type": "execute_result"
    }
   ],
   "source": [
    "non_commercial"
   ]
  },
  {
   "cell_type": "code",
   "execution_count": 16,
   "metadata": {},
   "outputs": [
    {
     "name": "stdout",
     "output_type": "stream",
     "text": [
      "Total sales: $19,409,058.19\n",
      "Total quantity: 2,182,205\n"
     ]
    }
   ],
   "source": [
    "print(f\"Total sales: ${non_commercial['TOTAL_SALES'].sum():,.2f}\")\n",
    "print(f\"Total quantity: {int(non_commercial['TOTAL_QUANTITY'].sum()):,}\")"
   ]
  },
  {
   "cell_type": "markdown",
   "metadata": {},
   "source": [
    "## Commercial Industry Segment (NZ)"
   ]
  },
  {
   "cell_type": "markdown",
   "metadata": {},
   "source": [
    "### Overall index"
   ]
  },
  {
   "cell_type": "code",
   "execution_count": 17,
   "metadata": {},
   "outputs": [],
   "source": [
    "cis = con.read_sql_file_into_pandas(\n",
    "    file=\"sql/commercial-industry-segments-overall.sql\",\n",
    "    formatting={\n",
    "        'start_date': start_date,\n",
    "        'end_date': end_date,\n",
    "        'filter' : \"item_sub_department_name = '400 GROWING MEDIA'\",\n",
    "        'country' : 'NZ'\n",
    "    }\n",
    ")"
   ]
  },
  {
   "cell_type": "code",
   "execution_count": 18,
   "metadata": {},
   "outputs": [
    {
     "name": "stdout",
     "output_type": "stream",
     "text": [
      "Total sales: $4,075,711.62\n",
      "Total quantity: 474,806\n",
      "Total customers: 34,878\n"
     ]
    }
   ],
   "source": [
    "print(f\"Total sales: ${cis['RANGE_SALES'].sum():,.2f}\")\n",
    "print(f\"Total quantity: {int(cis['RANGE_QUANTITY'].sum()):,}\")\n",
    "print(f\"Total customers: {int(cis['RANGE_CUSTOMERS'].sum()):,}\")"
   ]
  },
  {
   "cell_type": "code",
   "execution_count": 19,
   "metadata": {},
   "outputs": [
    {
     "data": {
      "text/html": [
       "<div>\n",
       "<style scoped>\n",
       "    .dataframe tbody tr th:only-of-type {\n",
       "        vertical-align: middle;\n",
       "    }\n",
       "\n",
       "    .dataframe tbody tr th {\n",
       "        vertical-align: top;\n",
       "    }\n",
       "\n",
       "    .dataframe thead th {\n",
       "        text-align: right;\n",
       "    }\n",
       "</style>\n",
       "<table border=\"1\" class=\"dataframe\">\n",
       "  <thead>\n",
       "    <tr style=\"text-align: right;\">\n",
       "      <th></th>\n",
       "      <th>INDUSTRY_SEGMENT</th>\n",
       "      <th>RANGE_SALES</th>\n",
       "      <th>RANGE_SALES_SHARE</th>\n",
       "      <th>SALES_INDEX</th>\n",
       "    </tr>\n",
       "  </thead>\n",
       "  <tbody>\n",
       "    <tr>\n",
       "      <th>0</th>\n",
       "      <td>Professional Computer and Scientific Services</td>\n",
       "      <td>672372.09</td>\n",
       "      <td>0.164970</td>\n",
       "      <td>2.00</td>\n",
       "    </tr>\n",
       "    <tr>\n",
       "      <th>1</th>\n",
       "      <td>Personal and Other Services</td>\n",
       "      <td>574593.10</td>\n",
       "      <td>0.140980</td>\n",
       "      <td>2.33</td>\n",
       "    </tr>\n",
       "    <tr>\n",
       "      <th>2</th>\n",
       "      <td>Rental Hiring and Real Estate Services</td>\n",
       "      <td>329816.04</td>\n",
       "      <td>0.080922</td>\n",
       "      <td>0.93</td>\n",
       "    </tr>\n",
       "    <tr>\n",
       "      <th>3</th>\n",
       "      <td>Retail and Wholesale Trade</td>\n",
       "      <td>309192.48</td>\n",
       "      <td>0.075862</td>\n",
       "      <td>1.49</td>\n",
       "    </tr>\n",
       "    <tr>\n",
       "      <th>4</th>\n",
       "      <td>Residential Builder</td>\n",
       "      <td>308458.70</td>\n",
       "      <td>0.075682</td>\n",
       "      <td>0.30</td>\n",
       "    </tr>\n",
       "    <tr>\n",
       "      <th>5</th>\n",
       "      <td>Manufacturing</td>\n",
       "      <td>294825.51</td>\n",
       "      <td>0.072337</td>\n",
       "      <td>1.40</td>\n",
       "    </tr>\n",
       "    <tr>\n",
       "      <th>6</th>\n",
       "      <td>Site Preparation and Development</td>\n",
       "      <td>214062.55</td>\n",
       "      <td>0.052522</td>\n",
       "      <td>0.74</td>\n",
       "    </tr>\n",
       "    <tr>\n",
       "      <th>7</th>\n",
       "      <td>Landscaper and Gardening Services</td>\n",
       "      <td>204666.26</td>\n",
       "      <td>0.050216</td>\n",
       "      <td>1.49</td>\n",
       "    </tr>\n",
       "  </tbody>\n",
       "</table>\n",
       "</div>"
      ],
      "text/plain": [
       "                                INDUSTRY_SEGMENT  RANGE_SALES  \\\n",
       "0  Professional Computer and Scientific Services    672372.09   \n",
       "1                    Personal and Other Services    574593.10   \n",
       "2         Rental Hiring and Real Estate Services    329816.04   \n",
       "3                     Retail and Wholesale Trade    309192.48   \n",
       "4                            Residential Builder    308458.70   \n",
       "5                                  Manufacturing    294825.51   \n",
       "6               Site Preparation and Development    214062.55   \n",
       "7              Landscaper and Gardening Services    204666.26   \n",
       "\n",
       "   RANGE_SALES_SHARE  SALES_INDEX  \n",
       "0           0.164970         2.00  \n",
       "1           0.140980         2.33  \n",
       "2           0.080922         0.93  \n",
       "3           0.075862         1.49  \n",
       "4           0.075682         0.30  \n",
       "5           0.072337         1.40  \n",
       "6           0.052522         0.74  \n",
       "7           0.050216         1.49  "
      ]
     },
     "execution_count": 19,
     "metadata": {},
     "output_type": "execute_result"
    }
   ],
   "source": [
    "n = 8\n",
    "top_n = cis.nlargest(n, \"RANGE_SALES\").copy()\n",
    "top_n[[\"INDUSTRY_SEGMENT\", \"RANGE_SALES\", \"RANGE_SALES_SHARE\", \"SALES_INDEX\"]]"
   ]
  },
  {
   "cell_type": "code",
   "execution_count": 20,
   "metadata": {},
   "outputs": [
    {
     "name": "stdout",
     "output_type": "stream",
     "text": [
      "Top 8 segments - sales share: 71.35%\n",
      "Top 8 segments - quantity share: 71.31%\n",
      "Top 8 segments - customer share: 64.60%\n",
      "Top 8 segments - size share: 45.91%\n"
     ]
    }
   ],
   "source": [
    "print(f\"Top {n} segments - sales share: {top_n['RANGE_SALES_SHARE'].sum():.2%}\")\n",
    "print(f\"Top {n} segments - quantity share: {top_n['RANGE_QUANTITY_SHARE'].sum():.2%}\")\n",
    "print(f\"Top {n} segments - customer share: {top_n['RANGE_CUSTOMER_SHARE'].sum():.2%}\")\n",
    "print(f\"Top {n} segments - size share: {top_n['SEGMENT_SIZE_SHARE'].sum():.2%}\")"
   ]
  },
  {
   "cell_type": "markdown",
   "metadata": {},
   "source": [
    "### Class index"
   ]
  },
  {
   "cell_type": "code",
   "execution_count": 21,
   "metadata": {},
   "outputs": [],
   "source": [
    "# Get data\n",
    "GM_is = con.read_sql_file_into_pandas(\n",
    "    file=\"sql/2-commercial-industry-segment.sql\",\n",
    "    formatting={\n",
    "        'start_date': start_date,\n",
    "        'end_date': end_date,\n",
    "        'n_commercial_segments': n, \n",
    "        'table_name': table_GM,\n",
    "        'level' : 'item_class_name',\n",
    "        'country' : 'NZ' \n",
    "    }\n",
    ")"
   ]
  },
  {
   "cell_type": "code",
   "execution_count": 22,
   "metadata": {},
   "outputs": [
    {
     "data": {
      "text/html": [
       "<div>\n",
       "<style scoped>\n",
       "    .dataframe tbody tr th:only-of-type {\n",
       "        vertical-align: middle;\n",
       "    }\n",
       "\n",
       "    .dataframe tbody tr th {\n",
       "        vertical-align: top;\n",
       "    }\n",
       "\n",
       "    .dataframe thead th {\n",
       "        text-align: right;\n",
       "    }\n",
       "</style>\n",
       "<table border=\"1\" class=\"dataframe\">\n",
       "  <thead>\n",
       "    <tr style=\"text-align: right;\">\n",
       "      <th></th>\n",
       "      <th>ITEM_CLASS_NAME</th>\n",
       "      <th>CLASS_SALES</th>\n",
       "      <th>CLASS_QUANTITY</th>\n",
       "      <th>CLASS_CUSTOMERS</th>\n",
       "      <th>CLASS_SALES_SHARE</th>\n",
       "      <th>CLASS_QUANTITY_SHARE</th>\n",
       "      <th>CLASS_CUSTOMERS_SHARE</th>\n",
       "    </tr>\n",
       "  </thead>\n",
       "  <tbody>\n",
       "    <tr>\n",
       "      <th>0</th>\n",
       "      <td>500 COIR POTTING MIX BLOCK</td>\n",
       "      <td>13135.64</td>\n",
       "      <td>2191.0</td>\n",
       "      <td>400</td>\n",
       "      <td>0.004754</td>\n",
       "      <td>0.006801</td>\n",
       "      <td>0.011226</td>\n",
       "    </tr>\n",
       "    <tr>\n",
       "      <th>8</th>\n",
       "      <td>500 COMPOSTS SOIL CONDITIONERS</td>\n",
       "      <td>832162.15</td>\n",
       "      <td>118694.0</td>\n",
       "      <td>11139</td>\n",
       "      <td>0.301142</td>\n",
       "      <td>0.368409</td>\n",
       "      <td>0.312630</td>\n",
       "    </tr>\n",
       "    <tr>\n",
       "      <th>16</th>\n",
       "      <td>500 MULCHES</td>\n",
       "      <td>445372.80</td>\n",
       "      <td>47246.0</td>\n",
       "      <td>4491</td>\n",
       "      <td>0.161171</td>\n",
       "      <td>0.146645</td>\n",
       "      <td>0.126045</td>\n",
       "    </tr>\n",
       "    <tr>\n",
       "      <th>24</th>\n",
       "      <td>500 POTTING MIXES</td>\n",
       "      <td>1345234.29</td>\n",
       "      <td>140071.0</td>\n",
       "      <td>15316</td>\n",
       "      <td>0.486812</td>\n",
       "      <td>0.434760</td>\n",
       "      <td>0.429862</td>\n",
       "    </tr>\n",
       "    <tr>\n",
       "      <th>32</th>\n",
       "      <td>500 SMALL BAG POTTING MIX</td>\n",
       "      <td>127450.02</td>\n",
       "      <td>13978.0</td>\n",
       "      <td>4284</td>\n",
       "      <td>0.046121</td>\n",
       "      <td>0.043386</td>\n",
       "      <td>0.120236</td>\n",
       "    </tr>\n",
       "  </tbody>\n",
       "</table>\n",
       "</div>"
      ],
      "text/plain": [
       "                   ITEM_CLASS_NAME  CLASS_SALES  CLASS_QUANTITY  \\\n",
       "0       500 COIR POTTING MIX BLOCK     13135.64          2191.0   \n",
       "8   500 COMPOSTS SOIL CONDITIONERS    832162.15        118694.0   \n",
       "16                     500 MULCHES    445372.80         47246.0   \n",
       "24               500 POTTING MIXES   1345234.29        140071.0   \n",
       "32       500 SMALL BAG POTTING MIX    127450.02         13978.0   \n",
       "\n",
       "    CLASS_CUSTOMERS  CLASS_SALES_SHARE  CLASS_QUANTITY_SHARE  \\\n",
       "0               400           0.004754              0.006801   \n",
       "8             11139           0.301142              0.368409   \n",
       "16             4491           0.161171              0.146645   \n",
       "24            15316           0.486812              0.434760   \n",
       "32             4284           0.046121              0.043386   \n",
       "\n",
       "    CLASS_CUSTOMERS_SHARE  \n",
       "0                0.011226  \n",
       "8                0.312630  \n",
       "16               0.126045  \n",
       "24               0.429862  \n",
       "32               0.120236  "
      ]
     },
     "execution_count": 22,
     "metadata": {},
     "output_type": "execute_result"
    }
   ],
   "source": [
    "summary = (\n",
    "    GM_is[[\"ITEM_CLASS_NAME\", \"TOTAL_SALES\", \"TOTAL_QUANTITY\", \"TOTAL_CUSTOMERS\"]]\n",
    "    .drop_duplicates(subset=\"ITEM_CLASS_NAME\")\n",
    "    .rename(columns={\n",
    "        \"TOTAL_SALES\": \"CLASS_SALES\",\n",
    "        \"TOTAL_QUANTITY\": \"CLASS_QUANTITY\",\n",
    "        \"TOTAL_CUSTOMERS\": \"CLASS_CUSTOMERS\"\n",
    "    })\n",
    ")\n",
    "\n",
    "# Compute and print total shares\n",
    "total_sales = summary[\"CLASS_SALES\"].sum()\n",
    "total_quantity = summary[\"CLASS_QUANTITY\"].sum()\n",
    "total_customers = summary[\"CLASS_CUSTOMERS\"].sum()\n",
    "\n",
    "# Add share columns\n",
    "summary[\"CLASS_SALES_SHARE\"] = summary[\"CLASS_SALES\"] / total_sales\n",
    "summary[\"CLASS_QUANTITY_SHARE\"] = summary[\"CLASS_QUANTITY\"] / total_quantity\n",
    "summary[\"CLASS_CUSTOMERS_SHARE\"] = summary[\"CLASS_CUSTOMERS\"] / total_customers\n",
    "\n",
    "summary"
   ]
  },
  {
   "cell_type": "code",
   "execution_count": 23,
   "metadata": {},
   "outputs": [
    {
     "name": "stdout",
     "output_type": "stream",
     "text": [
      "Total sales: $2,763,354.90\n",
      "Total quantity: 322,180\n",
      "Total customers: 35,630\n"
     ]
    }
   ],
   "source": [
    "print(f\"Total sales: ${summary['CLASS_SALES'].sum():,.2f}\")\n",
    "print(f\"Total quantity: {int(summary['CLASS_QUANTITY'].sum()):,}\")\n",
    "print(f\"Total customers: {int(summary['CLASS_CUSTOMERS'].sum()):,}\")"
   ]
  },
  {
   "cell_type": "code",
   "execution_count": 24,
   "metadata": {},
   "outputs": [
    {
     "data": {
      "text/html": [
       "<div>\n",
       "<style scoped>\n",
       "    .dataframe tbody tr th:only-of-type {\n",
       "        vertical-align: middle;\n",
       "    }\n",
       "\n",
       "    .dataframe tbody tr th {\n",
       "        vertical-align: top;\n",
       "    }\n",
       "\n",
       "    .dataframe thead th {\n",
       "        text-align: right;\n",
       "    }\n",
       "</style>\n",
       "<table border=\"1\" class=\"dataframe\">\n",
       "  <thead>\n",
       "    <tr style=\"text-align: right;\">\n",
       "      <th></th>\n",
       "      <th>ITEM_CLASS_NAME</th>\n",
       "      <th>INDUSTRY_SEGMENT</th>\n",
       "      <th>SEGMENT_SALES</th>\n",
       "      <th>SEGMENT_SALES_SHARE</th>\n",
       "      <th>SALES_INDEX</th>\n",
       "    </tr>\n",
       "  </thead>\n",
       "  <tbody>\n",
       "    <tr>\n",
       "      <th>0</th>\n",
       "      <td>500 COIR POTTING MIX BLOCK</td>\n",
       "      <td>Commercial Builder</td>\n",
       "      <td>117.44</td>\n",
       "      <td>0.008941</td>\n",
       "      <td>0.411530</td>\n",
       "    </tr>\n",
       "    <tr>\n",
       "      <th>1</th>\n",
       "      <td>500 COIR POTTING MIX BLOCK</td>\n",
       "      <td>Manufacturing</td>\n",
       "      <td>1852.68</td>\n",
       "      <td>0.141042</td>\n",
       "      <td>1.321968</td>\n",
       "    </tr>\n",
       "    <tr>\n",
       "      <th>2</th>\n",
       "      <td>500 COIR POTTING MIX BLOCK</td>\n",
       "      <td>Personal and Other Services</td>\n",
       "      <td>2756.83</td>\n",
       "      <td>0.209874</td>\n",
       "      <td>1.009334</td>\n",
       "    </tr>\n",
       "    <tr>\n",
       "      <th>3</th>\n",
       "      <td>500 COIR POTTING MIX BLOCK</td>\n",
       "      <td>Professional Computer and Scientific Services</td>\n",
       "      <td>2996.74</td>\n",
       "      <td>0.228138</td>\n",
       "      <td>0.937616</td>\n",
       "    </tr>\n",
       "    <tr>\n",
       "      <th>4</th>\n",
       "      <td>500 COIR POTTING MIX BLOCK</td>\n",
       "      <td>Rental Hiring and Real Estate Services</td>\n",
       "      <td>1265.87</td>\n",
       "      <td>0.096369</td>\n",
       "      <td>0.807426</td>\n",
       "    </tr>\n",
       "    <tr>\n",
       "      <th>5</th>\n",
       "      <td>500 COIR POTTING MIX BLOCK</td>\n",
       "      <td>Residential Builder</td>\n",
       "      <td>1999.29</td>\n",
       "      <td>0.152203</td>\n",
       "      <td>1.363528</td>\n",
       "    </tr>\n",
       "    <tr>\n",
       "      <th>6</th>\n",
       "      <td>500 COIR POTTING MIX BLOCK</td>\n",
       "      <td>Retail and Wholesale Trade</td>\n",
       "      <td>1655.48</td>\n",
       "      <td>0.126030</td>\n",
       "      <td>1.126368</td>\n",
       "    </tr>\n",
       "    <tr>\n",
       "      <th>7</th>\n",
       "      <td>500 COIR POTTING MIX BLOCK</td>\n",
       "      <td>Site Preparation and Development</td>\n",
       "      <td>491.31</td>\n",
       "      <td>0.037403</td>\n",
       "      <td>0.482837</td>\n",
       "    </tr>\n",
       "    <tr>\n",
       "      <th>8</th>\n",
       "      <td>500 COMPOSTS SOIL CONDITIONERS</td>\n",
       "      <td>Commercial Builder</td>\n",
       "      <td>19449.50</td>\n",
       "      <td>0.023372</td>\n",
       "      <td>1.075813</td>\n",
       "    </tr>\n",
       "    <tr>\n",
       "      <th>9</th>\n",
       "      <td>500 COMPOSTS SOIL CONDITIONERS</td>\n",
       "      <td>Manufacturing</td>\n",
       "      <td>84287.44</td>\n",
       "      <td>0.101287</td>\n",
       "      <td>0.949350</td>\n",
       "    </tr>\n",
       "    <tr>\n",
       "      <th>10</th>\n",
       "      <td>500 COMPOSTS SOIL CONDITIONERS</td>\n",
       "      <td>Personal and Other Services</td>\n",
       "      <td>149858.35</td>\n",
       "      <td>0.180083</td>\n",
       "      <td>0.866063</td>\n",
       "    </tr>\n",
       "    <tr>\n",
       "      <th>11</th>\n",
       "      <td>500 COMPOSTS SOIL CONDITIONERS</td>\n",
       "      <td>Professional Computer and Scientific Services</td>\n",
       "      <td>198151.30</td>\n",
       "      <td>0.238116</td>\n",
       "      <td>0.978624</td>\n",
       "    </tr>\n",
       "    <tr>\n",
       "      <th>12</th>\n",
       "      <td>500 COMPOSTS SOIL CONDITIONERS</td>\n",
       "      <td>Rental Hiring and Real Estate Services</td>\n",
       "      <td>100979.03</td>\n",
       "      <td>0.121345</td>\n",
       "      <td>1.016689</td>\n",
       "    </tr>\n",
       "    <tr>\n",
       "      <th>13</th>\n",
       "      <td>500 COMPOSTS SOIL CONDITIONERS</td>\n",
       "      <td>Residential Builder</td>\n",
       "      <td>101030.72</td>\n",
       "      <td>0.121407</td>\n",
       "      <td>1.087640</td>\n",
       "    </tr>\n",
       "    <tr>\n",
       "      <th>14</th>\n",
       "      <td>500 COMPOSTS SOIL CONDITIONERS</td>\n",
       "      <td>Retail and Wholesale Trade</td>\n",
       "      <td>97172.55</td>\n",
       "      <td>0.116771</td>\n",
       "      <td>1.043622</td>\n",
       "    </tr>\n",
       "    <tr>\n",
       "      <th>15</th>\n",
       "      <td>500 COMPOSTS SOIL CONDITIONERS</td>\n",
       "      <td>Site Preparation and Development</td>\n",
       "      <td>81233.26</td>\n",
       "      <td>0.097617</td>\n",
       "      <td>1.260149</td>\n",
       "    </tr>\n",
       "    <tr>\n",
       "      <th>16</th>\n",
       "      <td>500 MULCHES</td>\n",
       "      <td>Commercial Builder</td>\n",
       "      <td>14089.75</td>\n",
       "      <td>0.031636</td>\n",
       "      <td>1.456183</td>\n",
       "    </tr>\n",
       "    <tr>\n",
       "      <th>17</th>\n",
       "      <td>500 MULCHES</td>\n",
       "      <td>Manufacturing</td>\n",
       "      <td>42153.23</td>\n",
       "      <td>0.094647</td>\n",
       "      <td>0.887113</td>\n",
       "    </tr>\n",
       "    <tr>\n",
       "      <th>18</th>\n",
       "      <td>500 MULCHES</td>\n",
       "      <td>Personal and Other Services</td>\n",
       "      <td>69086.66</td>\n",
       "      <td>0.155121</td>\n",
       "      <td>0.746014</td>\n",
       "    </tr>\n",
       "    <tr>\n",
       "      <th>19</th>\n",
       "      <td>500 MULCHES</td>\n",
       "      <td>Professional Computer and Scientific Services</td>\n",
       "      <td>116021.49</td>\n",
       "      <td>0.260504</td>\n",
       "      <td>1.070636</td>\n",
       "    </tr>\n",
       "    <tr>\n",
       "      <th>20</th>\n",
       "      <td>500 MULCHES</td>\n",
       "      <td>Rental Hiring and Real Estate Services</td>\n",
       "      <td>59822.00</td>\n",
       "      <td>0.134319</td>\n",
       "      <td>1.125388</td>\n",
       "    </tr>\n",
       "    <tr>\n",
       "      <th>21</th>\n",
       "      <td>500 MULCHES</td>\n",
       "      <td>Residential Builder</td>\n",
       "      <td>55976.08</td>\n",
       "      <td>0.125684</td>\n",
       "      <td>1.125948</td>\n",
       "    </tr>\n",
       "    <tr>\n",
       "      <th>22</th>\n",
       "      <td>500 MULCHES</td>\n",
       "      <td>Retail and Wholesale Trade</td>\n",
       "      <td>51834.15</td>\n",
       "      <td>0.116384</td>\n",
       "      <td>1.040160</td>\n",
       "    </tr>\n",
       "    <tr>\n",
       "      <th>23</th>\n",
       "      <td>500 MULCHES</td>\n",
       "      <td>Site Preparation and Development</td>\n",
       "      <td>36389.44</td>\n",
       "      <td>0.081706</td>\n",
       "      <td>1.054745</td>\n",
       "    </tr>\n",
       "    <tr>\n",
       "      <th>24</th>\n",
       "      <td>500 POTTING MIXES</td>\n",
       "      <td>Commercial Builder</td>\n",
       "      <td>24002.34</td>\n",
       "      <td>0.017842</td>\n",
       "      <td>0.821281</td>\n",
       "    </tr>\n",
       "    <tr>\n",
       "      <th>25</th>\n",
       "      <td>500 POTTING MIXES</td>\n",
       "      <td>Manufacturing</td>\n",
       "      <td>153205.38</td>\n",
       "      <td>0.113888</td>\n",
       "      <td>1.067450</td>\n",
       "    </tr>\n",
       "    <tr>\n",
       "      <th>26</th>\n",
       "      <td>500 POTTING MIXES</td>\n",
       "      <td>Personal and Other Services</td>\n",
       "      <td>321974.04</td>\n",
       "      <td>0.239344</td>\n",
       "      <td>1.151063</td>\n",
       "    </tr>\n",
       "    <tr>\n",
       "      <th>27</th>\n",
       "      <td>500 POTTING MIXES</td>\n",
       "      <td>Professional Computer and Scientific Services</td>\n",
       "      <td>321423.04</td>\n",
       "      <td>0.238935</td>\n",
       "      <td>0.981988</td>\n",
       "    </tr>\n",
       "    <tr>\n",
       "      <th>28</th>\n",
       "      <td>500 POTTING MIXES</td>\n",
       "      <td>Rental Hiring and Real Estate Services</td>\n",
       "      <td>154239.13</td>\n",
       "      <td>0.114656</td>\n",
       "      <td>0.960642</td>\n",
       "    </tr>\n",
       "    <tr>\n",
       "      <th>29</th>\n",
       "      <td>500 POTTING MIXES</td>\n",
       "      <td>Residential Builder</td>\n",
       "      <td>137016.34</td>\n",
       "      <td>0.101853</td>\n",
       "      <td>0.912461</td>\n",
       "    </tr>\n",
       "    <tr>\n",
       "      <th>30</th>\n",
       "      <td>500 POTTING MIXES</td>\n",
       "      <td>Retail and Wholesale Trade</td>\n",
       "      <td>144696.62</td>\n",
       "      <td>0.107562</td>\n",
       "      <td>0.961320</td>\n",
       "    </tr>\n",
       "    <tr>\n",
       "      <th>31</th>\n",
       "      <td>500 POTTING MIXES</td>\n",
       "      <td>Site Preparation and Development</td>\n",
       "      <td>88677.40</td>\n",
       "      <td>0.065920</td>\n",
       "      <td>0.850964</td>\n",
       "    </tr>\n",
       "    <tr>\n",
       "      <th>32</th>\n",
       "      <td>500 SMALL BAG POTTING MIX</td>\n",
       "      <td>Commercial Builder</td>\n",
       "      <td>2375.40</td>\n",
       "      <td>0.018638</td>\n",
       "      <td>0.857893</td>\n",
       "    </tr>\n",
       "    <tr>\n",
       "      <th>33</th>\n",
       "      <td>500 SMALL BAG POTTING MIX</td>\n",
       "      <td>Manufacturing</td>\n",
       "      <td>13326.78</td>\n",
       "      <td>0.104565</td>\n",
       "      <td>0.980070</td>\n",
       "    </tr>\n",
       "    <tr>\n",
       "      <th>34</th>\n",
       "      <td>500 SMALL BAG POTTING MIX</td>\n",
       "      <td>Personal and Other Services</td>\n",
       "      <td>30917.22</td>\n",
       "      <td>0.242583</td>\n",
       "      <td>1.166640</td>\n",
       "    </tr>\n",
       "    <tr>\n",
       "      <th>35</th>\n",
       "      <td>500 SMALL BAG POTTING MIX</td>\n",
       "      <td>Professional Computer and Scientific Services</td>\n",
       "      <td>33779.52</td>\n",
       "      <td>0.265041</td>\n",
       "      <td>1.089283</td>\n",
       "    </tr>\n",
       "    <tr>\n",
       "      <th>36</th>\n",
       "      <td>500 SMALL BAG POTTING MIX</td>\n",
       "      <td>Rental Hiring and Real Estate Services</td>\n",
       "      <td>13510.01</td>\n",
       "      <td>0.106002</td>\n",
       "      <td>0.888138</td>\n",
       "    </tr>\n",
       "    <tr>\n",
       "      <th>37</th>\n",
       "      <td>500 SMALL BAG POTTING MIX</td>\n",
       "      <td>Residential Builder</td>\n",
       "      <td>12436.27</td>\n",
       "      <td>0.097578</td>\n",
       "      <td>0.874158</td>\n",
       "    </tr>\n",
       "    <tr>\n",
       "      <th>38</th>\n",
       "      <td>500 SMALL BAG POTTING MIX</td>\n",
       "      <td>Retail and Wholesale Trade</td>\n",
       "      <td>13833.68</td>\n",
       "      <td>0.108542</td>\n",
       "      <td>0.970076</td>\n",
       "    </tr>\n",
       "    <tr>\n",
       "      <th>39</th>\n",
       "      <td>500 SMALL BAG POTTING MIX</td>\n",
       "      <td>Site Preparation and Development</td>\n",
       "      <td>7271.14</td>\n",
       "      <td>0.057051</td>\n",
       "      <td>0.736476</td>\n",
       "    </tr>\n",
       "  </tbody>\n",
       "</table>\n",
       "</div>"
      ],
      "text/plain": [
       "                   ITEM_CLASS_NAME  \\\n",
       "0       500 COIR POTTING MIX BLOCK   \n",
       "1       500 COIR POTTING MIX BLOCK   \n",
       "2       500 COIR POTTING MIX BLOCK   \n",
       "3       500 COIR POTTING MIX BLOCK   \n",
       "4       500 COIR POTTING MIX BLOCK   \n",
       "5       500 COIR POTTING MIX BLOCK   \n",
       "6       500 COIR POTTING MIX BLOCK   \n",
       "7       500 COIR POTTING MIX BLOCK   \n",
       "8   500 COMPOSTS SOIL CONDITIONERS   \n",
       "9   500 COMPOSTS SOIL CONDITIONERS   \n",
       "10  500 COMPOSTS SOIL CONDITIONERS   \n",
       "11  500 COMPOSTS SOIL CONDITIONERS   \n",
       "12  500 COMPOSTS SOIL CONDITIONERS   \n",
       "13  500 COMPOSTS SOIL CONDITIONERS   \n",
       "14  500 COMPOSTS SOIL CONDITIONERS   \n",
       "15  500 COMPOSTS SOIL CONDITIONERS   \n",
       "16                     500 MULCHES   \n",
       "17                     500 MULCHES   \n",
       "18                     500 MULCHES   \n",
       "19                     500 MULCHES   \n",
       "20                     500 MULCHES   \n",
       "21                     500 MULCHES   \n",
       "22                     500 MULCHES   \n",
       "23                     500 MULCHES   \n",
       "24               500 POTTING MIXES   \n",
       "25               500 POTTING MIXES   \n",
       "26               500 POTTING MIXES   \n",
       "27               500 POTTING MIXES   \n",
       "28               500 POTTING MIXES   \n",
       "29               500 POTTING MIXES   \n",
       "30               500 POTTING MIXES   \n",
       "31               500 POTTING MIXES   \n",
       "32       500 SMALL BAG POTTING MIX   \n",
       "33       500 SMALL BAG POTTING MIX   \n",
       "34       500 SMALL BAG POTTING MIX   \n",
       "35       500 SMALL BAG POTTING MIX   \n",
       "36       500 SMALL BAG POTTING MIX   \n",
       "37       500 SMALL BAG POTTING MIX   \n",
       "38       500 SMALL BAG POTTING MIX   \n",
       "39       500 SMALL BAG POTTING MIX   \n",
       "\n",
       "                                 INDUSTRY_SEGMENT  SEGMENT_SALES  \\\n",
       "0                              Commercial Builder         117.44   \n",
       "1                                   Manufacturing        1852.68   \n",
       "2                     Personal and Other Services        2756.83   \n",
       "3   Professional Computer and Scientific Services        2996.74   \n",
       "4          Rental Hiring and Real Estate Services        1265.87   \n",
       "5                             Residential Builder        1999.29   \n",
       "6                      Retail and Wholesale Trade        1655.48   \n",
       "7                Site Preparation and Development         491.31   \n",
       "8                              Commercial Builder       19449.50   \n",
       "9                                   Manufacturing       84287.44   \n",
       "10                    Personal and Other Services      149858.35   \n",
       "11  Professional Computer and Scientific Services      198151.30   \n",
       "12         Rental Hiring and Real Estate Services      100979.03   \n",
       "13                            Residential Builder      101030.72   \n",
       "14                     Retail and Wholesale Trade       97172.55   \n",
       "15               Site Preparation and Development       81233.26   \n",
       "16                             Commercial Builder       14089.75   \n",
       "17                                  Manufacturing       42153.23   \n",
       "18                    Personal and Other Services       69086.66   \n",
       "19  Professional Computer and Scientific Services      116021.49   \n",
       "20         Rental Hiring and Real Estate Services       59822.00   \n",
       "21                            Residential Builder       55976.08   \n",
       "22                     Retail and Wholesale Trade       51834.15   \n",
       "23               Site Preparation and Development       36389.44   \n",
       "24                             Commercial Builder       24002.34   \n",
       "25                                  Manufacturing      153205.38   \n",
       "26                    Personal and Other Services      321974.04   \n",
       "27  Professional Computer and Scientific Services      321423.04   \n",
       "28         Rental Hiring and Real Estate Services      154239.13   \n",
       "29                            Residential Builder      137016.34   \n",
       "30                     Retail and Wholesale Trade      144696.62   \n",
       "31               Site Preparation and Development       88677.40   \n",
       "32                             Commercial Builder        2375.40   \n",
       "33                                  Manufacturing       13326.78   \n",
       "34                    Personal and Other Services       30917.22   \n",
       "35  Professional Computer and Scientific Services       33779.52   \n",
       "36         Rental Hiring and Real Estate Services       13510.01   \n",
       "37                            Residential Builder       12436.27   \n",
       "38                     Retail and Wholesale Trade       13833.68   \n",
       "39               Site Preparation and Development        7271.14   \n",
       "\n",
       "    SEGMENT_SALES_SHARE  SALES_INDEX  \n",
       "0              0.008941     0.411530  \n",
       "1              0.141042     1.321968  \n",
       "2              0.209874     1.009334  \n",
       "3              0.228138     0.937616  \n",
       "4              0.096369     0.807426  \n",
       "5              0.152203     1.363528  \n",
       "6              0.126030     1.126368  \n",
       "7              0.037403     0.482837  \n",
       "8              0.023372     1.075813  \n",
       "9              0.101287     0.949350  \n",
       "10             0.180083     0.866063  \n",
       "11             0.238116     0.978624  \n",
       "12             0.121345     1.016689  \n",
       "13             0.121407     1.087640  \n",
       "14             0.116771     1.043622  \n",
       "15             0.097617     1.260149  \n",
       "16             0.031636     1.456183  \n",
       "17             0.094647     0.887113  \n",
       "18             0.155121     0.746014  \n",
       "19             0.260504     1.070636  \n",
       "20             0.134319     1.125388  \n",
       "21             0.125684     1.125948  \n",
       "22             0.116384     1.040160  \n",
       "23             0.081706     1.054745  \n",
       "24             0.017842     0.821281  \n",
       "25             0.113888     1.067450  \n",
       "26             0.239344     1.151063  \n",
       "27             0.238935     0.981988  \n",
       "28             0.114656     0.960642  \n",
       "29             0.101853     0.912461  \n",
       "30             0.107562     0.961320  \n",
       "31             0.065920     0.850964  \n",
       "32             0.018638     0.857893  \n",
       "33             0.104565     0.980070  \n",
       "34             0.242583     1.166640  \n",
       "35             0.265041     1.089283  \n",
       "36             0.106002     0.888138  \n",
       "37             0.097578     0.874158  \n",
       "38             0.108542     0.970076  \n",
       "39             0.057051     0.736476  "
      ]
     },
     "execution_count": 24,
     "metadata": {},
     "output_type": "execute_result"
    }
   ],
   "source": [
    "GM_is[['ITEM_CLASS_NAME', 'INDUSTRY_SEGMENT', 'SEGMENT_SALES', 'SEGMENT_SALES_SHARE', 'SALES_INDEX']]"
   ]
  },
  {
   "cell_type": "markdown",
   "metadata": {},
   "source": [
    "## Drop item range table"
   ]
  },
  {
   "cell_type": "code",
   "execution_count": 25,
   "metadata": {},
   "outputs": [],
   "source": [
    "# # Drop item range table\n",
    "# con.execute_statement_from_sql_string(\n",
    "#     statement='DROP TABLE bdwprd_de.ia_merch_de.{table_name};',\n",
    "#     formatting={'table_name': table_GM}\n",
    "#     )"
   ]
  },
  {
   "cell_type": "markdown",
   "metadata": {},
   "source": [
    "## Potting Mixes Volume"
   ]
  },
  {
   "cell_type": "markdown",
   "metadata": {},
   "source": [
    "### AU"
   ]
  },
  {
   "cell_type": "code",
   "execution_count": 67,
   "metadata": {},
   "outputs": [],
   "source": [
    "pm_au = con.read_sql_file_into_pandas(\n",
    "    file=\"sql/potting_mixes_volume.sql\",\n",
    "    formatting={\n",
    "        'start_date': start_date,\n",
    "        'end_date': end_date,\n",
    "        'country' : 'AU'\n",
    "    }\n",
    ")"
   ]
  },
  {
   "cell_type": "code",
   "execution_count": 68,
   "metadata": {},
   "outputs": [],
   "source": [
    "# Recalculate brand + package-level summary\n",
    "brand_pkg_summary = (\n",
    "    pm_au.groupby([\"BRAND_CODE\", \"PACKAGE_LITRE\"])\n",
    "    .agg(\n",
    "        total_sales=(\"TOTAL_SALES\", \"sum\"),\n",
    "        avg_volume_per_trx=(\"ESTIMATED_LITRES_PER_TRX\", \"mean\"),\n",
    "        avg_qty_per_trx=(\"AVG_QTY_PER_TRX\", \"mean\"),\n",
    "        total_transactions=(\"TOTAL_TRX\", \"sum\"),\n",
    "        avg_price_per_litre=(\"AVG_PRICE_PER_LITRE\", \"mean\")\n",
    "    )\n",
    "    .reset_index()\n",
    ")\n",
    "\n",
    "brand_pkg_summary = brand_pkg_summary[brand_pkg_summary[\"total_sales\"] > 0]"
   ]
  },
  {
   "cell_type": "code",
   "execution_count": 69,
   "metadata": {},
   "outputs": [
    {
     "data": {
      "application/vnd.plotly.v1+json": {
       "config": {
        "plotlyServerURL": "https://plot.ly"
       },
       "data": [
        {
         "customdata": [
          [
           5050236.79,
           9.979423176856,
           284107,
           1.78124791012,
           44.531197753
          ],
          [
           374813.43,
           10.682097298193,
           20980,
           1.67244995234,
           83.622497617
          ],
          [
           6152533.69,
           8.482708178528,
           431355,
           1.68145263182,
           50.4435789546
          ],
          [
           32217454.15,
           4.436482696276666,
           2999232,
           2.5183041187933335,
           62.95760296983334
          ],
          [
           456900.33,
           3.295825795279,
           44318,
           3.12807437159,
           78.20185928975
          ],
          [
           55937063.370000005,
           11.318735635886668,
           3355976,
           1.5858852728791666,
           39.647131821979166
          ],
          [
           37333028.21,
           16.822929208365,
           1471021,
           1.63527181408,
           81.76359070400001
          ],
          [
           5409.44,
           6.182217142841,
           463,
           1.8898488121,
           47.2462203025
          ],
          [
           2560.64,
           5.8488378378290005,
           162,
           1.864097363085,
           93.20486815425
          ],
          [
           658997.44,
           8.7620986571,
           43566,
           1.7263462333,
           43.1586558325
          ],
          [
           6844857.76,
           9.649682815612,
           412181,
           1.72093085319,
           43.02327132975
          ],
          [
           813682.81,
           11.421141632969501,
           46026,
           1.550706801115,
           38.767670027875
          ],
          [
           7841519.6,
           10.9425914107135,
           466806,
           1.624300876135,
           40.607521903375
          ],
          [
           537376.95,
           13.257436966478,
           26773,
           1.51398797296,
           45.4196391888
          ],
          [
           15675884.36,
           20.103344417922,
           521778,
           1.49443824768,
           97.1384860992
          ],
          [
           2669842.04,
           7.494209300087,
           212156,
           1.67920775279,
           41.98019381975
          ]
         ],
         "hovertemplate": "Total Sales ($) =%{customdata[0]:,.0f}<br>Avg $/L =%{customdata[1]:.2f}<br>Total Trx =%{customdata[2]:,}<br>Avg Units/Trx =%{customdata[3]:.2f}<br>Avg Volume/Trx (L) =%{marker.color:.2f}<extra></extra>",
         "legendgroup": "",
         "marker": {
          "color": [
           44.531197753,
           83.622497617,
           50.4435789546,
           62.95760296983334,
           78.20185928975,
           39.647131821979166,
           81.76359070400001,
           47.2462203025,
           93.20486815425,
           43.1586558325,
           43.02327132975,
           38.767670027875,
           40.607521903375,
           45.4196391888,
           97.1384860992,
           41.98019381975
          ],
          "coloraxis": "coloraxis",
          "size": [
           5050236.79,
           374813.43,
           6152533.69,
           32217454.15,
           456900.33,
           55937063.370000005,
           37333028.21,
           5409.44,
           2560.64,
           658997.44,
           6844857.76,
           813682.81,
           7841519.6,
           537376.95,
           15675884.36,
           2669842.04
          ],
          "sizemin": 5,
          "sizemode": "area",
          "sizeref": 15538.073158333335,
          "symbol": "circle"
         },
         "mode": "markers",
         "name": "",
         "orientation": "h",
         "showlegend": false,
         "type": "scatter",
         "x": [
          25,
          50,
          30,
          25,
          25,
          25,
          50,
          25,
          50,
          25,
          25,
          25,
          25,
          30,
          65,
          25
         ],
         "xaxis": "x",
         "y": [
          "BAILEYS",
          "BRUNNINGS",
          "Dyanmic Lifter",
          "GARDEN BASICS",
          "GIRU ORGANICS",
          "OSMOCOTE",
          "OSMOCOTE",
          "PERFORMANCE NATURALS",
          "PineGro",
          "RICHGRO",
          "Richgro",
          "SCOTTS",
          "SEARLES",
          "SEARLES",
          "SEARLES",
          "SEASOL"
         ],
         "yaxis": "y"
        }
       ],
       "layout": {
        "coloraxis": {
         "colorbar": {
          "tickfont": {
           "size": 12
          },
          "title": {
           "font": {
            "size": 14
           },
           "text": "Avg Volume/Trx (L)"
          }
         },
         "colorscale": [
          [
           0,
           "rgb(165,0,38)"
          ],
          [
           0.1,
           "rgb(215,48,39)"
          ],
          [
           0.2,
           "rgb(244,109,67)"
          ],
          [
           0.3,
           "rgb(253,174,97)"
          ],
          [
           0.4,
           "rgb(254,224,139)"
          ],
          [
           0.5,
           "rgb(255,255,191)"
          ],
          [
           0.6,
           "rgb(217,239,139)"
          ],
          [
           0.7,
           "rgb(166,217,106)"
          ],
          [
           0.8,
           "rgb(102,189,99)"
          ],
          [
           0.9,
           "rgb(26,152,80)"
          ],
          [
           1,
           "rgb(0,104,55)"
          ]
         ]
        },
        "font": {
         "color": "#333",
         "family": "Arial",
         "size": 14
        },
        "height": 800,
        "legend": {
         "itemsizing": "constant",
         "tracegroupgap": 0
        },
        "template": {
         "data": {
          "bar": [
           {
            "error_x": {
             "color": "#2a3f5f"
            },
            "error_y": {
             "color": "#2a3f5f"
            },
            "marker": {
             "line": {
              "color": "white",
              "width": 0.5
             },
             "pattern": {
              "fillmode": "overlay",
              "size": 10,
              "solidity": 0.2
             }
            },
            "type": "bar"
           }
          ],
          "barpolar": [
           {
            "marker": {
             "line": {
              "color": "white",
              "width": 0.5
             },
             "pattern": {
              "fillmode": "overlay",
              "size": 10,
              "solidity": 0.2
             }
            },
            "type": "barpolar"
           }
          ],
          "carpet": [
           {
            "aaxis": {
             "endlinecolor": "#2a3f5f",
             "gridcolor": "#C8D4E3",
             "linecolor": "#C8D4E3",
             "minorgridcolor": "#C8D4E3",
             "startlinecolor": "#2a3f5f"
            },
            "baxis": {
             "endlinecolor": "#2a3f5f",
             "gridcolor": "#C8D4E3",
             "linecolor": "#C8D4E3",
             "minorgridcolor": "#C8D4E3",
             "startlinecolor": "#2a3f5f"
            },
            "type": "carpet"
           }
          ],
          "choropleth": [
           {
            "colorbar": {
             "outlinewidth": 0,
             "ticks": ""
            },
            "type": "choropleth"
           }
          ],
          "contour": [
           {
            "colorbar": {
             "outlinewidth": 0,
             "ticks": ""
            },
            "colorscale": [
             [
              0,
              "#0d0887"
             ],
             [
              0.1111111111111111,
              "#46039f"
             ],
             [
              0.2222222222222222,
              "#7201a8"
             ],
             [
              0.3333333333333333,
              "#9c179e"
             ],
             [
              0.4444444444444444,
              "#bd3786"
             ],
             [
              0.5555555555555556,
              "#d8576b"
             ],
             [
              0.6666666666666666,
              "#ed7953"
             ],
             [
              0.7777777777777778,
              "#fb9f3a"
             ],
             [
              0.8888888888888888,
              "#fdca26"
             ],
             [
              1,
              "#f0f921"
             ]
            ],
            "type": "contour"
           }
          ],
          "contourcarpet": [
           {
            "colorbar": {
             "outlinewidth": 0,
             "ticks": ""
            },
            "type": "contourcarpet"
           }
          ],
          "heatmap": [
           {
            "colorbar": {
             "outlinewidth": 0,
             "ticks": ""
            },
            "colorscale": [
             [
              0,
              "#0d0887"
             ],
             [
              0.1111111111111111,
              "#46039f"
             ],
             [
              0.2222222222222222,
              "#7201a8"
             ],
             [
              0.3333333333333333,
              "#9c179e"
             ],
             [
              0.4444444444444444,
              "#bd3786"
             ],
             [
              0.5555555555555556,
              "#d8576b"
             ],
             [
              0.6666666666666666,
              "#ed7953"
             ],
             [
              0.7777777777777778,
              "#fb9f3a"
             ],
             [
              0.8888888888888888,
              "#fdca26"
             ],
             [
              1,
              "#f0f921"
             ]
            ],
            "type": "heatmap"
           }
          ],
          "heatmapgl": [
           {
            "colorbar": {
             "outlinewidth": 0,
             "ticks": ""
            },
            "colorscale": [
             [
              0,
              "#0d0887"
             ],
             [
              0.1111111111111111,
              "#46039f"
             ],
             [
              0.2222222222222222,
              "#7201a8"
             ],
             [
              0.3333333333333333,
              "#9c179e"
             ],
             [
              0.4444444444444444,
              "#bd3786"
             ],
             [
              0.5555555555555556,
              "#d8576b"
             ],
             [
              0.6666666666666666,
              "#ed7953"
             ],
             [
              0.7777777777777778,
              "#fb9f3a"
             ],
             [
              0.8888888888888888,
              "#fdca26"
             ],
             [
              1,
              "#f0f921"
             ]
            ],
            "type": "heatmapgl"
           }
          ],
          "histogram": [
           {
            "marker": {
             "pattern": {
              "fillmode": "overlay",
              "size": 10,
              "solidity": 0.2
             }
            },
            "type": "histogram"
           }
          ],
          "histogram2d": [
           {
            "colorbar": {
             "outlinewidth": 0,
             "ticks": ""
            },
            "colorscale": [
             [
              0,
              "#0d0887"
             ],
             [
              0.1111111111111111,
              "#46039f"
             ],
             [
              0.2222222222222222,
              "#7201a8"
             ],
             [
              0.3333333333333333,
              "#9c179e"
             ],
             [
              0.4444444444444444,
              "#bd3786"
             ],
             [
              0.5555555555555556,
              "#d8576b"
             ],
             [
              0.6666666666666666,
              "#ed7953"
             ],
             [
              0.7777777777777778,
              "#fb9f3a"
             ],
             [
              0.8888888888888888,
              "#fdca26"
             ],
             [
              1,
              "#f0f921"
             ]
            ],
            "type": "histogram2d"
           }
          ],
          "histogram2dcontour": [
           {
            "colorbar": {
             "outlinewidth": 0,
             "ticks": ""
            },
            "colorscale": [
             [
              0,
              "#0d0887"
             ],
             [
              0.1111111111111111,
              "#46039f"
             ],
             [
              0.2222222222222222,
              "#7201a8"
             ],
             [
              0.3333333333333333,
              "#9c179e"
             ],
             [
              0.4444444444444444,
              "#bd3786"
             ],
             [
              0.5555555555555556,
              "#d8576b"
             ],
             [
              0.6666666666666666,
              "#ed7953"
             ],
             [
              0.7777777777777778,
              "#fb9f3a"
             ],
             [
              0.8888888888888888,
              "#fdca26"
             ],
             [
              1,
              "#f0f921"
             ]
            ],
            "type": "histogram2dcontour"
           }
          ],
          "mesh3d": [
           {
            "colorbar": {
             "outlinewidth": 0,
             "ticks": ""
            },
            "type": "mesh3d"
           }
          ],
          "parcoords": [
           {
            "line": {
             "colorbar": {
              "outlinewidth": 0,
              "ticks": ""
             }
            },
            "type": "parcoords"
           }
          ],
          "pie": [
           {
            "automargin": true,
            "type": "pie"
           }
          ],
          "scatter": [
           {
            "fillpattern": {
             "fillmode": "overlay",
             "size": 10,
             "solidity": 0.2
            },
            "type": "scatter"
           }
          ],
          "scatter3d": [
           {
            "line": {
             "colorbar": {
              "outlinewidth": 0,
              "ticks": ""
             }
            },
            "marker": {
             "colorbar": {
              "outlinewidth": 0,
              "ticks": ""
             }
            },
            "type": "scatter3d"
           }
          ],
          "scattercarpet": [
           {
            "marker": {
             "colorbar": {
              "outlinewidth": 0,
              "ticks": ""
             }
            },
            "type": "scattercarpet"
           }
          ],
          "scattergeo": [
           {
            "marker": {
             "colorbar": {
              "outlinewidth": 0,
              "ticks": ""
             }
            },
            "type": "scattergeo"
           }
          ],
          "scattergl": [
           {
            "marker": {
             "colorbar": {
              "outlinewidth": 0,
              "ticks": ""
             }
            },
            "type": "scattergl"
           }
          ],
          "scattermapbox": [
           {
            "marker": {
             "colorbar": {
              "outlinewidth": 0,
              "ticks": ""
             }
            },
            "type": "scattermapbox"
           }
          ],
          "scatterpolar": [
           {
            "marker": {
             "colorbar": {
              "outlinewidth": 0,
              "ticks": ""
             }
            },
            "type": "scatterpolar"
           }
          ],
          "scatterpolargl": [
           {
            "marker": {
             "colorbar": {
              "outlinewidth": 0,
              "ticks": ""
             }
            },
            "type": "scatterpolargl"
           }
          ],
          "scatterternary": [
           {
            "marker": {
             "colorbar": {
              "outlinewidth": 0,
              "ticks": ""
             }
            },
            "type": "scatterternary"
           }
          ],
          "surface": [
           {
            "colorbar": {
             "outlinewidth": 0,
             "ticks": ""
            },
            "colorscale": [
             [
              0,
              "#0d0887"
             ],
             [
              0.1111111111111111,
              "#46039f"
             ],
             [
              0.2222222222222222,
              "#7201a8"
             ],
             [
              0.3333333333333333,
              "#9c179e"
             ],
             [
              0.4444444444444444,
              "#bd3786"
             ],
             [
              0.5555555555555556,
              "#d8576b"
             ],
             [
              0.6666666666666666,
              "#ed7953"
             ],
             [
              0.7777777777777778,
              "#fb9f3a"
             ],
             [
              0.8888888888888888,
              "#fdca26"
             ],
             [
              1,
              "#f0f921"
             ]
            ],
            "type": "surface"
           }
          ],
          "table": [
           {
            "cells": {
             "fill": {
              "color": "#EBF0F8"
             },
             "line": {
              "color": "white"
             }
            },
            "header": {
             "fill": {
              "color": "#C8D4E3"
             },
             "line": {
              "color": "white"
             }
            },
            "type": "table"
           }
          ]
         },
         "layout": {
          "annotationdefaults": {
           "arrowcolor": "#2a3f5f",
           "arrowhead": 0,
           "arrowwidth": 1
          },
          "autotypenumbers": "strict",
          "coloraxis": {
           "colorbar": {
            "outlinewidth": 0,
            "ticks": ""
           }
          },
          "colorscale": {
           "diverging": [
            [
             0,
             "#8e0152"
            ],
            [
             0.1,
             "#c51b7d"
            ],
            [
             0.2,
             "#de77ae"
            ],
            [
             0.3,
             "#f1b6da"
            ],
            [
             0.4,
             "#fde0ef"
            ],
            [
             0.5,
             "#f7f7f7"
            ],
            [
             0.6,
             "#e6f5d0"
            ],
            [
             0.7,
             "#b8e186"
            ],
            [
             0.8,
             "#7fbc41"
            ],
            [
             0.9,
             "#4d9221"
            ],
            [
             1,
             "#276419"
            ]
           ],
           "sequential": [
            [
             0,
             "#0d0887"
            ],
            [
             0.1111111111111111,
             "#46039f"
            ],
            [
             0.2222222222222222,
             "#7201a8"
            ],
            [
             0.3333333333333333,
             "#9c179e"
            ],
            [
             0.4444444444444444,
             "#bd3786"
            ],
            [
             0.5555555555555556,
             "#d8576b"
            ],
            [
             0.6666666666666666,
             "#ed7953"
            ],
            [
             0.7777777777777778,
             "#fb9f3a"
            ],
            [
             0.8888888888888888,
             "#fdca26"
            ],
            [
             1,
             "#f0f921"
            ]
           ],
           "sequentialminus": [
            [
             0,
             "#0d0887"
            ],
            [
             0.1111111111111111,
             "#46039f"
            ],
            [
             0.2222222222222222,
             "#7201a8"
            ],
            [
             0.3333333333333333,
             "#9c179e"
            ],
            [
             0.4444444444444444,
             "#bd3786"
            ],
            [
             0.5555555555555556,
             "#d8576b"
            ],
            [
             0.6666666666666666,
             "#ed7953"
            ],
            [
             0.7777777777777778,
             "#fb9f3a"
            ],
            [
             0.8888888888888888,
             "#fdca26"
            ],
            [
             1,
             "#f0f921"
            ]
           ]
          },
          "colorway": [
           "#636efa",
           "#EF553B",
           "#00cc96",
           "#ab63fa",
           "#FFA15A",
           "#19d3f3",
           "#FF6692",
           "#B6E880",
           "#FF97FF",
           "#FECB52"
          ],
          "font": {
           "color": "#2a3f5f"
          },
          "geo": {
           "bgcolor": "white",
           "lakecolor": "white",
           "landcolor": "white",
           "showlakes": true,
           "showland": true,
           "subunitcolor": "#C8D4E3"
          },
          "hoverlabel": {
           "align": "left"
          },
          "hovermode": "closest",
          "mapbox": {
           "style": "light"
          },
          "paper_bgcolor": "white",
          "plot_bgcolor": "white",
          "polar": {
           "angularaxis": {
            "gridcolor": "#EBF0F8",
            "linecolor": "#EBF0F8",
            "ticks": ""
           },
           "bgcolor": "white",
           "radialaxis": {
            "gridcolor": "#EBF0F8",
            "linecolor": "#EBF0F8",
            "ticks": ""
           }
          },
          "scene": {
           "xaxis": {
            "backgroundcolor": "white",
            "gridcolor": "#DFE8F3",
            "gridwidth": 2,
            "linecolor": "#EBF0F8",
            "showbackground": true,
            "ticks": "",
            "zerolinecolor": "#EBF0F8"
           },
           "yaxis": {
            "backgroundcolor": "white",
            "gridcolor": "#DFE8F3",
            "gridwidth": 2,
            "linecolor": "#EBF0F8",
            "showbackground": true,
            "ticks": "",
            "zerolinecolor": "#EBF0F8"
           },
           "zaxis": {
            "backgroundcolor": "white",
            "gridcolor": "#DFE8F3",
            "gridwidth": 2,
            "linecolor": "#EBF0F8",
            "showbackground": true,
            "ticks": "",
            "zerolinecolor": "#EBF0F8"
           }
          },
          "shapedefaults": {
           "line": {
            "color": "#2a3f5f"
           }
          },
          "ternary": {
           "aaxis": {
            "gridcolor": "#DFE8F3",
            "linecolor": "#A2B1C6",
            "ticks": ""
           },
           "baxis": {
            "gridcolor": "#DFE8F3",
            "linecolor": "#A2B1C6",
            "ticks": ""
           },
           "bgcolor": "white",
           "caxis": {
            "gridcolor": "#DFE8F3",
            "linecolor": "#A2B1C6",
            "ticks": ""
           }
          },
          "title": {
           "x": 0.05
          },
          "xaxis": {
           "automargin": true,
           "gridcolor": "#EBF0F8",
           "linecolor": "#EBF0F8",
           "ticks": "",
           "title": {
            "standoff": 15
           },
           "zerolinecolor": "#EBF0F8",
           "zerolinewidth": 2
          },
          "yaxis": {
           "automargin": true,
           "gridcolor": "#EBF0F8",
           "linecolor": "#EBF0F8",
           "ticks": "",
           "title": {
            "standoff": 15
           },
           "zerolinecolor": "#EBF0F8",
           "zerolinewidth": 2
          }
         }
        },
        "title": {
         "font": {
          "size": 20
         },
         "text": "AU Potting Mixes: Sales Volume by Brand & Package Size"
        },
        "width": 800,
        "xaxis": {
         "anchor": "y",
         "categoryarray": [
          25,
          30,
          50,
          65
         ],
         "categoryorder": "array",
         "domain": [
          0,
          1
         ],
         "tickfont": {
          "size": 13
         },
         "tickmode": "array",
         "ticktext": [
          "25L",
          "30L",
          "50L",
          "65L"
         ],
         "tickvals": [
          25,
          30,
          50,
          65
         ],
         "title": {
          "font": {
           "size": 16
          },
          "text": ""
         }
        },
        "yaxis": {
         "anchor": "x",
         "categoryarray": [
          "OSMOCOTE",
          "GARDEN BASICS",
          "SEARLES",
          "Richgro",
          "Dyanmic Lifter",
          "BAILEYS",
          "SEASOL",
          "SCOTTS",
          "RICHGRO",
          "GIRU ORGANICS",
          "BRUNNINGS",
          "PERFORMANCE NATURALS",
          "PineGro"
         ],
         "categoryorder": "array",
         "domain": [
          0,
          1
         ],
         "tickfont": {
          "size": 13
         },
         "title": {
          "font": {
           "size": 16
          },
          "text": ""
         }
        }
       }
      },
      "text/html": [
       "<div>                            <div id=\"51bb609e-3a5c-40e2-ba27-5c769f09e1c1\" class=\"plotly-graph-div\" style=\"height:800px; width:800px;\"></div>            <script type=\"text/javascript\">                require([\"plotly\"], function(Plotly) {                    window.PLOTLYENV=window.PLOTLYENV || {};                                    if (document.getElementById(\"51bb609e-3a5c-40e2-ba27-5c769f09e1c1\")) {                    Plotly.newPlot(                        \"51bb609e-3a5c-40e2-ba27-5c769f09e1c1\",                        [{\"customdata\":[[5050236.79,9.979423176856,284107.0,1.78124791012,44.531197753],[374813.43,10.682097298193,20980.0,1.67244995234,83.622497617],[6152533.69,8.482708178528,431355.0,1.68145263182,50.4435789546],[32217454.15,4.436482696276666,2999232.0,2.5183041187933335,62.95760296983334],[456900.33,3.295825795279,44318.0,3.12807437159,78.20185928975],[55937063.370000005,11.318735635886668,3355976.0,1.5858852728791666,39.647131821979166],[37333028.21,16.822929208365,1471021.0,1.63527181408,81.76359070400001],[5409.44,6.182217142841,463.0,1.8898488121,47.2462203025],[2560.64,5.8488378378290005,162.0,1.864097363085,93.20486815425],[658997.44,8.7620986571,43566.0,1.7263462333,43.1586558325],[6844857.76,9.649682815612,412181.0,1.72093085319,43.02327132975],[813682.81,11.421141632969501,46026.0,1.550706801115,38.767670027875],[7841519.6,10.9425914107135,466806.0,1.624300876135,40.607521903375],[537376.95,13.257436966478,26773.0,1.51398797296,45.4196391888],[15675884.36,20.103344417922,521778.0,1.49443824768,97.1384860992],[2669842.04,7.494209300087,212156.0,1.67920775279,41.98019381975]],\"hovertemplate\":\"Total Sales ($) =%{customdata[0]:,.0f}\\u003cbr\\u003eAvg $\\u002fL =%{customdata[1]:.2f}\\u003cbr\\u003eTotal Trx =%{customdata[2]:,}\\u003cbr\\u003eAvg Units\\u002fTrx =%{customdata[3]:.2f}\\u003cbr\\u003eAvg Volume\\u002fTrx (L) =%{marker.color:.2f}\\u003cextra\\u003e\\u003c\\u002fextra\\u003e\",\"legendgroup\":\"\",\"marker\":{\"color\":[44.531197753,83.622497617,50.4435789546,62.95760296983334,78.20185928975,39.647131821979166,81.76359070400001,47.2462203025,93.20486815425,43.1586558325,43.02327132975,38.767670027875,40.607521903375,45.4196391888,97.1384860992,41.98019381975],\"coloraxis\":\"coloraxis\",\"size\":[5050236.79,374813.43,6152533.69,32217454.15,456900.33,55937063.370000005,37333028.21,5409.44,2560.64,658997.44,6844857.76,813682.81,7841519.6,537376.95,15675884.36,2669842.04],\"sizemode\":\"area\",\"sizeref\":15538.073158333335,\"symbol\":\"circle\",\"sizemin\":5},\"mode\":\"markers\",\"name\":\"\",\"orientation\":\"h\",\"showlegend\":false,\"x\":[25,50,30,25,25,25,50,25,50,25,25,25,25,30,65,25],\"xaxis\":\"x\",\"y\":[\"BAILEYS\",\"BRUNNINGS\",\"Dyanmic Lifter\",\"GARDEN BASICS\",\"GIRU ORGANICS\",\"OSMOCOTE\",\"OSMOCOTE\",\"PERFORMANCE NATURALS\",\"PineGro\",\"RICHGRO\",\"Richgro\",\"SCOTTS\",\"SEARLES\",\"SEARLES\",\"SEARLES\",\"SEASOL\"],\"yaxis\":\"y\",\"type\":\"scatter\"}],                        {\"template\":{\"data\":{\"barpolar\":[{\"marker\":{\"line\":{\"color\":\"white\",\"width\":0.5},\"pattern\":{\"fillmode\":\"overlay\",\"size\":10,\"solidity\":0.2}},\"type\":\"barpolar\"}],\"bar\":[{\"error_x\":{\"color\":\"#2a3f5f\"},\"error_y\":{\"color\":\"#2a3f5f\"},\"marker\":{\"line\":{\"color\":\"white\",\"width\":0.5},\"pattern\":{\"fillmode\":\"overlay\",\"size\":10,\"solidity\":0.2}},\"type\":\"bar\"}],\"carpet\":[{\"aaxis\":{\"endlinecolor\":\"#2a3f5f\",\"gridcolor\":\"#C8D4E3\",\"linecolor\":\"#C8D4E3\",\"minorgridcolor\":\"#C8D4E3\",\"startlinecolor\":\"#2a3f5f\"},\"baxis\":{\"endlinecolor\":\"#2a3f5f\",\"gridcolor\":\"#C8D4E3\",\"linecolor\":\"#C8D4E3\",\"minorgridcolor\":\"#C8D4E3\",\"startlinecolor\":\"#2a3f5f\"},\"type\":\"carpet\"}],\"choropleth\":[{\"colorbar\":{\"outlinewidth\":0,\"ticks\":\"\"},\"type\":\"choropleth\"}],\"contourcarpet\":[{\"colorbar\":{\"outlinewidth\":0,\"ticks\":\"\"},\"type\":\"contourcarpet\"}],\"contour\":[{\"colorbar\":{\"outlinewidth\":0,\"ticks\":\"\"},\"colorscale\":[[0.0,\"#0d0887\"],[0.1111111111111111,\"#46039f\"],[0.2222222222222222,\"#7201a8\"],[0.3333333333333333,\"#9c179e\"],[0.4444444444444444,\"#bd3786\"],[0.5555555555555556,\"#d8576b\"],[0.6666666666666666,\"#ed7953\"],[0.7777777777777778,\"#fb9f3a\"],[0.8888888888888888,\"#fdca26\"],[1.0,\"#f0f921\"]],\"type\":\"contour\"}],\"heatmapgl\":[{\"colorbar\":{\"outlinewidth\":0,\"ticks\":\"\"},\"colorscale\":[[0.0,\"#0d0887\"],[0.1111111111111111,\"#46039f\"],[0.2222222222222222,\"#7201a8\"],[0.3333333333333333,\"#9c179e\"],[0.4444444444444444,\"#bd3786\"],[0.5555555555555556,\"#d8576b\"],[0.6666666666666666,\"#ed7953\"],[0.7777777777777778,\"#fb9f3a\"],[0.8888888888888888,\"#fdca26\"],[1.0,\"#f0f921\"]],\"type\":\"heatmapgl\"}],\"heatmap\":[{\"colorbar\":{\"outlinewidth\":0,\"ticks\":\"\"},\"colorscale\":[[0.0,\"#0d0887\"],[0.1111111111111111,\"#46039f\"],[0.2222222222222222,\"#7201a8\"],[0.3333333333333333,\"#9c179e\"],[0.4444444444444444,\"#bd3786\"],[0.5555555555555556,\"#d8576b\"],[0.6666666666666666,\"#ed7953\"],[0.7777777777777778,\"#fb9f3a\"],[0.8888888888888888,\"#fdca26\"],[1.0,\"#f0f921\"]],\"type\":\"heatmap\"}],\"histogram2dcontour\":[{\"colorbar\":{\"outlinewidth\":0,\"ticks\":\"\"},\"colorscale\":[[0.0,\"#0d0887\"],[0.1111111111111111,\"#46039f\"],[0.2222222222222222,\"#7201a8\"],[0.3333333333333333,\"#9c179e\"],[0.4444444444444444,\"#bd3786\"],[0.5555555555555556,\"#d8576b\"],[0.6666666666666666,\"#ed7953\"],[0.7777777777777778,\"#fb9f3a\"],[0.8888888888888888,\"#fdca26\"],[1.0,\"#f0f921\"]],\"type\":\"histogram2dcontour\"}],\"histogram2d\":[{\"colorbar\":{\"outlinewidth\":0,\"ticks\":\"\"},\"colorscale\":[[0.0,\"#0d0887\"],[0.1111111111111111,\"#46039f\"],[0.2222222222222222,\"#7201a8\"],[0.3333333333333333,\"#9c179e\"],[0.4444444444444444,\"#bd3786\"],[0.5555555555555556,\"#d8576b\"],[0.6666666666666666,\"#ed7953\"],[0.7777777777777778,\"#fb9f3a\"],[0.8888888888888888,\"#fdca26\"],[1.0,\"#f0f921\"]],\"type\":\"histogram2d\"}],\"histogram\":[{\"marker\":{\"pattern\":{\"fillmode\":\"overlay\",\"size\":10,\"solidity\":0.2}},\"type\":\"histogram\"}],\"mesh3d\":[{\"colorbar\":{\"outlinewidth\":0,\"ticks\":\"\"},\"type\":\"mesh3d\"}],\"parcoords\":[{\"line\":{\"colorbar\":{\"outlinewidth\":0,\"ticks\":\"\"}},\"type\":\"parcoords\"}],\"pie\":[{\"automargin\":true,\"type\":\"pie\"}],\"scatter3d\":[{\"line\":{\"colorbar\":{\"outlinewidth\":0,\"ticks\":\"\"}},\"marker\":{\"colorbar\":{\"outlinewidth\":0,\"ticks\":\"\"}},\"type\":\"scatter3d\"}],\"scattercarpet\":[{\"marker\":{\"colorbar\":{\"outlinewidth\":0,\"ticks\":\"\"}},\"type\":\"scattercarpet\"}],\"scattergeo\":[{\"marker\":{\"colorbar\":{\"outlinewidth\":0,\"ticks\":\"\"}},\"type\":\"scattergeo\"}],\"scattergl\":[{\"marker\":{\"colorbar\":{\"outlinewidth\":0,\"ticks\":\"\"}},\"type\":\"scattergl\"}],\"scattermapbox\":[{\"marker\":{\"colorbar\":{\"outlinewidth\":0,\"ticks\":\"\"}},\"type\":\"scattermapbox\"}],\"scatterpolargl\":[{\"marker\":{\"colorbar\":{\"outlinewidth\":0,\"ticks\":\"\"}},\"type\":\"scatterpolargl\"}],\"scatterpolar\":[{\"marker\":{\"colorbar\":{\"outlinewidth\":0,\"ticks\":\"\"}},\"type\":\"scatterpolar\"}],\"scatter\":[{\"fillpattern\":{\"fillmode\":\"overlay\",\"size\":10,\"solidity\":0.2},\"type\":\"scatter\"}],\"scatterternary\":[{\"marker\":{\"colorbar\":{\"outlinewidth\":0,\"ticks\":\"\"}},\"type\":\"scatterternary\"}],\"surface\":[{\"colorbar\":{\"outlinewidth\":0,\"ticks\":\"\"},\"colorscale\":[[0.0,\"#0d0887\"],[0.1111111111111111,\"#46039f\"],[0.2222222222222222,\"#7201a8\"],[0.3333333333333333,\"#9c179e\"],[0.4444444444444444,\"#bd3786\"],[0.5555555555555556,\"#d8576b\"],[0.6666666666666666,\"#ed7953\"],[0.7777777777777778,\"#fb9f3a\"],[0.8888888888888888,\"#fdca26\"],[1.0,\"#f0f921\"]],\"type\":\"surface\"}],\"table\":[{\"cells\":{\"fill\":{\"color\":\"#EBF0F8\"},\"line\":{\"color\":\"white\"}},\"header\":{\"fill\":{\"color\":\"#C8D4E3\"},\"line\":{\"color\":\"white\"}},\"type\":\"table\"}]},\"layout\":{\"annotationdefaults\":{\"arrowcolor\":\"#2a3f5f\",\"arrowhead\":0,\"arrowwidth\":1},\"autotypenumbers\":\"strict\",\"coloraxis\":{\"colorbar\":{\"outlinewidth\":0,\"ticks\":\"\"}},\"colorscale\":{\"diverging\":[[0,\"#8e0152\"],[0.1,\"#c51b7d\"],[0.2,\"#de77ae\"],[0.3,\"#f1b6da\"],[0.4,\"#fde0ef\"],[0.5,\"#f7f7f7\"],[0.6,\"#e6f5d0\"],[0.7,\"#b8e186\"],[0.8,\"#7fbc41\"],[0.9,\"#4d9221\"],[1,\"#276419\"]],\"sequential\":[[0.0,\"#0d0887\"],[0.1111111111111111,\"#46039f\"],[0.2222222222222222,\"#7201a8\"],[0.3333333333333333,\"#9c179e\"],[0.4444444444444444,\"#bd3786\"],[0.5555555555555556,\"#d8576b\"],[0.6666666666666666,\"#ed7953\"],[0.7777777777777778,\"#fb9f3a\"],[0.8888888888888888,\"#fdca26\"],[1.0,\"#f0f921\"]],\"sequentialminus\":[[0.0,\"#0d0887\"],[0.1111111111111111,\"#46039f\"],[0.2222222222222222,\"#7201a8\"],[0.3333333333333333,\"#9c179e\"],[0.4444444444444444,\"#bd3786\"],[0.5555555555555556,\"#d8576b\"],[0.6666666666666666,\"#ed7953\"],[0.7777777777777778,\"#fb9f3a\"],[0.8888888888888888,\"#fdca26\"],[1.0,\"#f0f921\"]]},\"colorway\":[\"#636efa\",\"#EF553B\",\"#00cc96\",\"#ab63fa\",\"#FFA15A\",\"#19d3f3\",\"#FF6692\",\"#B6E880\",\"#FF97FF\",\"#FECB52\"],\"font\":{\"color\":\"#2a3f5f\"},\"geo\":{\"bgcolor\":\"white\",\"lakecolor\":\"white\",\"landcolor\":\"white\",\"showlakes\":true,\"showland\":true,\"subunitcolor\":\"#C8D4E3\"},\"hoverlabel\":{\"align\":\"left\"},\"hovermode\":\"closest\",\"mapbox\":{\"style\":\"light\"},\"paper_bgcolor\":\"white\",\"plot_bgcolor\":\"white\",\"polar\":{\"angularaxis\":{\"gridcolor\":\"#EBF0F8\",\"linecolor\":\"#EBF0F8\",\"ticks\":\"\"},\"bgcolor\":\"white\",\"radialaxis\":{\"gridcolor\":\"#EBF0F8\",\"linecolor\":\"#EBF0F8\",\"ticks\":\"\"}},\"scene\":{\"xaxis\":{\"backgroundcolor\":\"white\",\"gridcolor\":\"#DFE8F3\",\"gridwidth\":2,\"linecolor\":\"#EBF0F8\",\"showbackground\":true,\"ticks\":\"\",\"zerolinecolor\":\"#EBF0F8\"},\"yaxis\":{\"backgroundcolor\":\"white\",\"gridcolor\":\"#DFE8F3\",\"gridwidth\":2,\"linecolor\":\"#EBF0F8\",\"showbackground\":true,\"ticks\":\"\",\"zerolinecolor\":\"#EBF0F8\"},\"zaxis\":{\"backgroundcolor\":\"white\",\"gridcolor\":\"#DFE8F3\",\"gridwidth\":2,\"linecolor\":\"#EBF0F8\",\"showbackground\":true,\"ticks\":\"\",\"zerolinecolor\":\"#EBF0F8\"}},\"shapedefaults\":{\"line\":{\"color\":\"#2a3f5f\"}},\"ternary\":{\"aaxis\":{\"gridcolor\":\"#DFE8F3\",\"linecolor\":\"#A2B1C6\",\"ticks\":\"\"},\"baxis\":{\"gridcolor\":\"#DFE8F3\",\"linecolor\":\"#A2B1C6\",\"ticks\":\"\"},\"bgcolor\":\"white\",\"caxis\":{\"gridcolor\":\"#DFE8F3\",\"linecolor\":\"#A2B1C6\",\"ticks\":\"\"}},\"title\":{\"x\":0.05},\"xaxis\":{\"automargin\":true,\"gridcolor\":\"#EBF0F8\",\"linecolor\":\"#EBF0F8\",\"ticks\":\"\",\"title\":{\"standoff\":15},\"zerolinecolor\":\"#EBF0F8\",\"zerolinewidth\":2},\"yaxis\":{\"automargin\":true,\"gridcolor\":\"#EBF0F8\",\"linecolor\":\"#EBF0F8\",\"ticks\":\"\",\"title\":{\"standoff\":15},\"zerolinecolor\":\"#EBF0F8\",\"zerolinewidth\":2}}},\"xaxis\":{\"anchor\":\"y\",\"domain\":[0.0,1.0],\"title\":{\"text\":\"\",\"font\":{\"size\":16}},\"categoryorder\":\"array\",\"categoryarray\":[25,30,50,65],\"tickfont\":{\"size\":13},\"tickmode\":\"array\",\"tickvals\":[25,30,50,65],\"ticktext\":[\"25L\",\"30L\",\"50L\",\"65L\"]},\"yaxis\":{\"anchor\":\"x\",\"domain\":[0.0,1.0],\"title\":{\"text\":\"\",\"font\":{\"size\":16}},\"categoryorder\":\"array\",\"categoryarray\":[\"OSMOCOTE\",\"GARDEN BASICS\",\"SEARLES\",\"Richgro\",\"Dyanmic Lifter\",\"BAILEYS\",\"SEASOL\",\"SCOTTS\",\"RICHGRO\",\"GIRU ORGANICS\",\"BRUNNINGS\",\"PERFORMANCE NATURALS\",\"PineGro\"],\"tickfont\":{\"size\":13}},\"coloraxis\":{\"colorbar\":{\"title\":{\"text\":\"Avg Volume\\u002fTrx (L)\",\"font\":{\"size\":14}},\"tickfont\":{\"size\":12}},\"colorscale\":[[0.0,\"rgb(165,0,38)\"],[0.1,\"rgb(215,48,39)\"],[0.2,\"rgb(244,109,67)\"],[0.3,\"rgb(253,174,97)\"],[0.4,\"rgb(254,224,139)\"],[0.5,\"rgb(255,255,191)\"],[0.6,\"rgb(217,239,139)\"],[0.7,\"rgb(166,217,106)\"],[0.8,\"rgb(102,189,99)\"],[0.9,\"rgb(26,152,80)\"],[1.0,\"rgb(0,104,55)\"]]},\"legend\":{\"tracegroupgap\":0,\"itemsizing\":\"constant\"},\"title\":{\"text\":\"AU Potting Mixes: Sales Volume by Brand & Package Size\",\"font\":{\"size\":20}},\"font\":{\"family\":\"Arial\",\"size\":14,\"color\":\"#333\"},\"width\":800,\"height\":800},                        {\"responsive\": true}                    ).then(function(){\n",
       "                            \n",
       "var gd = document.getElementById('51bb609e-3a5c-40e2-ba27-5c769f09e1c1');\n",
       "var x = new MutationObserver(function (mutations, observer) {{\n",
       "        var display = window.getComputedStyle(gd).display;\n",
       "        if (!display || display === 'none') {{\n",
       "            console.log([gd, 'removed!']);\n",
       "            Plotly.purge(gd);\n",
       "            observer.disconnect();\n",
       "        }}\n",
       "}});\n",
       "\n",
       "// Listen for the removal of the full notebook cells\n",
       "var notebookContainer = gd.closest('#notebook-container');\n",
       "if (notebookContainer) {{\n",
       "    x.observe(notebookContainer, {childList: true});\n",
       "}}\n",
       "\n",
       "// Listen for the clearing of the current output cell\n",
       "var outputEl = gd.closest('.output');\n",
       "if (outputEl) {{\n",
       "    x.observe(outputEl, {childList: true});\n",
       "}}\n",
       "\n",
       "                        })                };                });            </script>        </div>"
      ]
     },
     "metadata": {},
     "output_type": "display_data"
    }
   ],
   "source": [
    "package_order = sorted(brand_pkg_summary[\"PACKAGE_LITRE\"].unique())\n",
    "\n",
    "brand_order = (\n",
    "    brand_pkg_summary.groupby(\"BRAND_CODE\")[\"total_sales\"]\n",
    "    .sum()\n",
    "    .sort_values(ascending=False)\n",
    "    .index.tolist()\n",
    ")\n",
    "\n",
    "fig = px.scatter(\n",
    "    brand_pkg_summary,\n",
    "    x=\"PACKAGE_LITRE\",\n",
    "    y=\"BRAND_CODE\",\n",
    "    size=\"total_sales\",\n",
    "    color=\"avg_volume_per_trx\",\n",
    "    color_continuous_scale=\"RdYlGn\",\n",
    "    category_orders={\n",
    "        \"PACKAGE_LITRE\": package_order,\n",
    "        \"BRAND_CODE\": brand_order\n",
    "    },\n",
    "    hover_data={\n",
    "        \"total_sales\": \":,.0f\",\n",
    "        \"avg_price_per_litre\": \":.2f\",\n",
    "        \"total_transactions\": \":,\",\n",
    "        \"avg_qty_per_trx\": \":.2f\",\n",
    "        \"avg_volume_per_trx\": \":.2f\",\n",
    "        \"PACKAGE_LITRE\": False,\n",
    "        \"BRAND_CODE\": False\n",
    "    },\n",
    "        labels={\n",
    "        \"total_sales\": \"Total Sales ($) \",\n",
    "        \"avg_price_per_litre\": \"Avg $/L \",\n",
    "        \"total_transactions\": \"Total Trx \",\n",
    "        \"avg_qty_per_trx\": \"Avg Units/Trx \",\n",
    "        \"avg_volume_per_trx\": \"Avg Volume/Trx (L) \"\n",
    "    },\n",
    "    title=\"AU Potting Mixes: Sales Volume by Brand & Package Size\"\n",
    ")\n",
    "\n",
    "fig.update_layout(\n",
    "    width=800,\n",
    "    height=800,\n",
    "    template=\"plotly_white\",\n",
    "    font=dict(family=\"Arial\", size=14, color=\"#333\"),\n",
    "    title_font=dict(size=20),\n",
    "    xaxis=dict(\n",
    "        tickmode=\"array\",\n",
    "        tickvals=package_order,\n",
    "        ticktext=[f\"{x}L\" for x in package_order],\n",
    "        title=\"\",\n",
    "        tickfont=dict(size=13),\n",
    "        titlefont=dict(size=16)\n",
    "    ),\n",
    "    yaxis=dict(\n",
    "        title=\"\",\n",
    "        categoryorder=\"array\",\n",
    "        categoryarray=brand_order,\n",
    "        tickfont=dict(size=13),\n",
    "        titlefont=dict(size=16)\n",
    "    ),\n",
    "    coloraxis_colorbar=dict(\n",
    "        title=\"Avg Volume/Trx (L)\",\n",
    "        titlefont=dict(size=14),\n",
    "        tickfont=dict(size=12)\n",
    "    )\n",
    ")\n",
    "\n",
    "# Optional: double bubble size (by halving sizeref)\n",
    "max_sales = brand_pkg_summary[\"total_sales\"].max()\n",
    "desired_size_max = 30  # same unit as original size_max\n",
    "\n",
    "fig.update_traces(\n",
    "    marker=dict(\n",
    "        sizemode=\"area\",\n",
    "        sizeref=0.25 * max_sales / desired_size_max**2,\n",
    "        sizemin=5\n",
    "    )\n",
    ")\n",
    "\n",
    "fig.show()"
   ]
  },
  {
   "cell_type": "code",
   "execution_count": 70,
   "metadata": {},
   "outputs": [],
   "source": [
    "fig.write_html(\"potting_mix_volume_by_brand_AU.html\")"
   ]
  },
  {
   "cell_type": "markdown",
   "metadata": {},
   "source": [
    "### NZ"
   ]
  },
  {
   "cell_type": "code",
   "execution_count": 71,
   "metadata": {},
   "outputs": [],
   "source": [
    "pm_nz = con.read_sql_file_into_pandas(\n",
    "    file=\"sql/potting_mixes_volume.sql\",\n",
    "    formatting={\n",
    "        'start_date': start_date,\n",
    "        'end_date': end_date,\n",
    "        'country' : 'NZ'\n",
    "    }\n",
    ")"
   ]
  },
  {
   "cell_type": "code",
   "execution_count": 72,
   "metadata": {},
   "outputs": [],
   "source": [
    "# Recalculate brand + package-level summary\n",
    "brand_pkg_summary = (\n",
    "    pm_nz.groupby([\"BRAND_CODE\", \"PACKAGE_LITRE\"])\n",
    "    .agg(\n",
    "        total_sales=(\"TOTAL_SALES\", \"sum\"),\n",
    "        avg_volume_per_trx=(\"ESTIMATED_LITRES_PER_TRX\", \"mean\"),\n",
    "        avg_qty_per_trx=(\"AVG_QTY_PER_TRX\", \"mean\"),\n",
    "        total_transactions=(\"TOTAL_TRX\", \"sum\"),\n",
    "        avg_price_per_litre=(\"AVG_PRICE_PER_LITRE\", \"mean\")\n",
    "    )\n",
    "    .reset_index()\n",
    ")\n",
    "\n",
    "brand_pkg_summary = brand_pkg_summary[brand_pkg_summary[\"total_sales\"] > 0]"
   ]
  },
  {
   "cell_type": "code",
   "execution_count": 73,
   "metadata": {},
   "outputs": [
    {
     "data": {
      "application/vnd.plotly.v1+json": {
       "config": {
        "plotlyServerURL": "https://plot.ly"
       },
       "data": [
        {
         "customdata": [
          [
           3430572.74,
           7.59461855036,
           216380,
           2.08758203161,
           83.5032812644
          ],
          [
           12.74,
           12.74,
           1,
           1,
           30
          ],
          [
           246333.12,
           12.853733669532,
           12254,
           1.9168330993350002,
           57.504992980050005
          ],
          [
           30433.62,
           9.481758320248499,
           2166,
           1.4824951774300001,
           37.06237943575
          ],
          [
           651104.66,
           11.825795706363,
           35418,
           1.55452030041,
           46.6356090123
          ],
          [
           8662.51,
           14.461619365606,
           305,
           1.96393442623,
           58.9180327869
          ],
          [
           550638.8200000001,
           13.999357317524499,
           24948,
           1.6400633596,
           49.201900788
          ],
          [
           8146.31,
           6.271216320251,
           695,
           1.8690647482,
           56.071942446
          ],
          [
           288368.71,
           11.155031140005,
           15845,
           1.63149258441,
           48.9447775323
          ],
          [
           1139644.6,
           10.4425394477045,
           63076,
           1.6970000589375,
           50.910001768125
          ],
          [
           2970088.71,
           11.5513912139465,
           162423,
           1.784717552225,
           71.38870208899999
          ],
          [
           210850.3,
           9.500756995438,
           12835,
           1.72910011687,
           69.1640046748
          ],
          [
           224244.09999999998,
           14.410431236411501,
           9847,
           1.54149104074,
           46.2447312222
          ],
          [
           446954.03,
           11.0200179303195,
           28699,
           1.4582397857225,
           36.4559946430625
          ],
          [
           511915.13,
           12.845728589019,
           25960,
           1.53509244992,
           61.4036979968
          ],
          [
           145154,
           13.14456145436,
           8245,
           1.3416642405850001,
           33.541606014625
          ],
          [
           57400.71,
           15.534698240858,
           2547,
           1.45072634472,
           43.5217903416
          ],
          [
           235665.87,
           14.508765006467,
           9934,
           1.63509160459,
           65.4036641836
          ]
         ],
         "hovertemplate": "Total Sales ($) =%{customdata[0]:,.0f}<br>Avg $/L =%{customdata[1]:.2f}<br>Total Trx =%{customdata[2]:,}<br>Avg Units/Trx =%{customdata[3]:.2f}<br>Avg Volume/Trx (L) =%{marker.color:.2f}<extra></extra>",
         "legendgroup": "",
         "marker": {
          "color": [
           83.5032812644,
           30,
           57.504992980050005,
           37.06237943575,
           46.6356090123,
           58.9180327869,
           49.201900788,
           56.071942446,
           48.9447775323,
           50.910001768125,
           71.38870208899999,
           69.1640046748,
           46.2447312222,
           36.4559946430625,
           61.4036979968,
           33.541606014625,
           43.5217903416,
           65.4036641836
          ],
          "coloraxis": "coloraxis",
          "size": [
           3430572.74,
           12.74,
           246333.12,
           30433.62,
           651104.66,
           8662.51,
           550638.8200000001,
           8146.31,
           288368.71,
           1139644.6,
           2970088.71,
           210850.3,
           224244.09999999998,
           446954.03,
           511915.13,
           145154,
           57400.71,
           235665.87
          ],
          "sizemin": 5,
          "sizemode": "area",
          "sizeref": 952.9368722222223,
          "symbol": "circle"
         },
         "mode": "markers",
         "name": "",
         "orientation": "h",
         "showlegend": false,
         "type": "scatter",
         "x": [
          40,
          30,
          30,
          25,
          30,
          30,
          30,
          30,
          30,
          30,
          40,
          40,
          30,
          25,
          40,
          25,
          30,
          40
         ],
         "xaxis": "x",
         "y": [
          "BIG VALUE MEDIA",
          "Beut",
          "DALTONS",
          "DALTONS MEDIA",
          "DALTONS MEDIA",
          "DALTONS ORGANIC",
          "DALTONS PREMIUM",
          "Daltons Premium",
          "GARDEN BASICS",
          "GARDEN TIME MEDIA",
          "GARDEN TIME MEDIA",
          "Garden Time",
          "NATURES WAY",
          "OSMOCOTE",
          "OSMOCOTE",
          "SCOTTS",
          "SCOTTS",
          "SCOTTS"
         ],
         "yaxis": "y"
        }
       ],
       "layout": {
        "coloraxis": {
         "colorbar": {
          "tickfont": {
           "size": 12
          },
          "title": {
           "font": {
            "size": 14
           },
           "text": "Avg Volume/Trx (L)"
          }
         },
         "colorscale": [
          [
           0,
           "rgb(165,0,38)"
          ],
          [
           0.1,
           "rgb(215,48,39)"
          ],
          [
           0.2,
           "rgb(244,109,67)"
          ],
          [
           0.3,
           "rgb(253,174,97)"
          ],
          [
           0.4,
           "rgb(254,224,139)"
          ],
          [
           0.5,
           "rgb(255,255,191)"
          ],
          [
           0.6,
           "rgb(217,239,139)"
          ],
          [
           0.7,
           "rgb(166,217,106)"
          ],
          [
           0.8,
           "rgb(102,189,99)"
          ],
          [
           0.9,
           "rgb(26,152,80)"
          ],
          [
           1,
           "rgb(0,104,55)"
          ]
         ]
        },
        "font": {
         "color": "#333",
         "family": "Arial",
         "size": 14
        },
        "height": 800,
        "legend": {
         "itemsizing": "constant",
         "tracegroupgap": 0
        },
        "template": {
         "data": {
          "bar": [
           {
            "error_x": {
             "color": "#2a3f5f"
            },
            "error_y": {
             "color": "#2a3f5f"
            },
            "marker": {
             "line": {
              "color": "white",
              "width": 0.5
             },
             "pattern": {
              "fillmode": "overlay",
              "size": 10,
              "solidity": 0.2
             }
            },
            "type": "bar"
           }
          ],
          "barpolar": [
           {
            "marker": {
             "line": {
              "color": "white",
              "width": 0.5
             },
             "pattern": {
              "fillmode": "overlay",
              "size": 10,
              "solidity": 0.2
             }
            },
            "type": "barpolar"
           }
          ],
          "carpet": [
           {
            "aaxis": {
             "endlinecolor": "#2a3f5f",
             "gridcolor": "#C8D4E3",
             "linecolor": "#C8D4E3",
             "minorgridcolor": "#C8D4E3",
             "startlinecolor": "#2a3f5f"
            },
            "baxis": {
             "endlinecolor": "#2a3f5f",
             "gridcolor": "#C8D4E3",
             "linecolor": "#C8D4E3",
             "minorgridcolor": "#C8D4E3",
             "startlinecolor": "#2a3f5f"
            },
            "type": "carpet"
           }
          ],
          "choropleth": [
           {
            "colorbar": {
             "outlinewidth": 0,
             "ticks": ""
            },
            "type": "choropleth"
           }
          ],
          "contour": [
           {
            "colorbar": {
             "outlinewidth": 0,
             "ticks": ""
            },
            "colorscale": [
             [
              0,
              "#0d0887"
             ],
             [
              0.1111111111111111,
              "#46039f"
             ],
             [
              0.2222222222222222,
              "#7201a8"
             ],
             [
              0.3333333333333333,
              "#9c179e"
             ],
             [
              0.4444444444444444,
              "#bd3786"
             ],
             [
              0.5555555555555556,
              "#d8576b"
             ],
             [
              0.6666666666666666,
              "#ed7953"
             ],
             [
              0.7777777777777778,
              "#fb9f3a"
             ],
             [
              0.8888888888888888,
              "#fdca26"
             ],
             [
              1,
              "#f0f921"
             ]
            ],
            "type": "contour"
           }
          ],
          "contourcarpet": [
           {
            "colorbar": {
             "outlinewidth": 0,
             "ticks": ""
            },
            "type": "contourcarpet"
           }
          ],
          "heatmap": [
           {
            "colorbar": {
             "outlinewidth": 0,
             "ticks": ""
            },
            "colorscale": [
             [
              0,
              "#0d0887"
             ],
             [
              0.1111111111111111,
              "#46039f"
             ],
             [
              0.2222222222222222,
              "#7201a8"
             ],
             [
              0.3333333333333333,
              "#9c179e"
             ],
             [
              0.4444444444444444,
              "#bd3786"
             ],
             [
              0.5555555555555556,
              "#d8576b"
             ],
             [
              0.6666666666666666,
              "#ed7953"
             ],
             [
              0.7777777777777778,
              "#fb9f3a"
             ],
             [
              0.8888888888888888,
              "#fdca26"
             ],
             [
              1,
              "#f0f921"
             ]
            ],
            "type": "heatmap"
           }
          ],
          "heatmapgl": [
           {
            "colorbar": {
             "outlinewidth": 0,
             "ticks": ""
            },
            "colorscale": [
             [
              0,
              "#0d0887"
             ],
             [
              0.1111111111111111,
              "#46039f"
             ],
             [
              0.2222222222222222,
              "#7201a8"
             ],
             [
              0.3333333333333333,
              "#9c179e"
             ],
             [
              0.4444444444444444,
              "#bd3786"
             ],
             [
              0.5555555555555556,
              "#d8576b"
             ],
             [
              0.6666666666666666,
              "#ed7953"
             ],
             [
              0.7777777777777778,
              "#fb9f3a"
             ],
             [
              0.8888888888888888,
              "#fdca26"
             ],
             [
              1,
              "#f0f921"
             ]
            ],
            "type": "heatmapgl"
           }
          ],
          "histogram": [
           {
            "marker": {
             "pattern": {
              "fillmode": "overlay",
              "size": 10,
              "solidity": 0.2
             }
            },
            "type": "histogram"
           }
          ],
          "histogram2d": [
           {
            "colorbar": {
             "outlinewidth": 0,
             "ticks": ""
            },
            "colorscale": [
             [
              0,
              "#0d0887"
             ],
             [
              0.1111111111111111,
              "#46039f"
             ],
             [
              0.2222222222222222,
              "#7201a8"
             ],
             [
              0.3333333333333333,
              "#9c179e"
             ],
             [
              0.4444444444444444,
              "#bd3786"
             ],
             [
              0.5555555555555556,
              "#d8576b"
             ],
             [
              0.6666666666666666,
              "#ed7953"
             ],
             [
              0.7777777777777778,
              "#fb9f3a"
             ],
             [
              0.8888888888888888,
              "#fdca26"
             ],
             [
              1,
              "#f0f921"
             ]
            ],
            "type": "histogram2d"
           }
          ],
          "histogram2dcontour": [
           {
            "colorbar": {
             "outlinewidth": 0,
             "ticks": ""
            },
            "colorscale": [
             [
              0,
              "#0d0887"
             ],
             [
              0.1111111111111111,
              "#46039f"
             ],
             [
              0.2222222222222222,
              "#7201a8"
             ],
             [
              0.3333333333333333,
              "#9c179e"
             ],
             [
              0.4444444444444444,
              "#bd3786"
             ],
             [
              0.5555555555555556,
              "#d8576b"
             ],
             [
              0.6666666666666666,
              "#ed7953"
             ],
             [
              0.7777777777777778,
              "#fb9f3a"
             ],
             [
              0.8888888888888888,
              "#fdca26"
             ],
             [
              1,
              "#f0f921"
             ]
            ],
            "type": "histogram2dcontour"
           }
          ],
          "mesh3d": [
           {
            "colorbar": {
             "outlinewidth": 0,
             "ticks": ""
            },
            "type": "mesh3d"
           }
          ],
          "parcoords": [
           {
            "line": {
             "colorbar": {
              "outlinewidth": 0,
              "ticks": ""
             }
            },
            "type": "parcoords"
           }
          ],
          "pie": [
           {
            "automargin": true,
            "type": "pie"
           }
          ],
          "scatter": [
           {
            "fillpattern": {
             "fillmode": "overlay",
             "size": 10,
             "solidity": 0.2
            },
            "type": "scatter"
           }
          ],
          "scatter3d": [
           {
            "line": {
             "colorbar": {
              "outlinewidth": 0,
              "ticks": ""
             }
            },
            "marker": {
             "colorbar": {
              "outlinewidth": 0,
              "ticks": ""
             }
            },
            "type": "scatter3d"
           }
          ],
          "scattercarpet": [
           {
            "marker": {
             "colorbar": {
              "outlinewidth": 0,
              "ticks": ""
             }
            },
            "type": "scattercarpet"
           }
          ],
          "scattergeo": [
           {
            "marker": {
             "colorbar": {
              "outlinewidth": 0,
              "ticks": ""
             }
            },
            "type": "scattergeo"
           }
          ],
          "scattergl": [
           {
            "marker": {
             "colorbar": {
              "outlinewidth": 0,
              "ticks": ""
             }
            },
            "type": "scattergl"
           }
          ],
          "scattermapbox": [
           {
            "marker": {
             "colorbar": {
              "outlinewidth": 0,
              "ticks": ""
             }
            },
            "type": "scattermapbox"
           }
          ],
          "scatterpolar": [
           {
            "marker": {
             "colorbar": {
              "outlinewidth": 0,
              "ticks": ""
             }
            },
            "type": "scatterpolar"
           }
          ],
          "scatterpolargl": [
           {
            "marker": {
             "colorbar": {
              "outlinewidth": 0,
              "ticks": ""
             }
            },
            "type": "scatterpolargl"
           }
          ],
          "scatterternary": [
           {
            "marker": {
             "colorbar": {
              "outlinewidth": 0,
              "ticks": ""
             }
            },
            "type": "scatterternary"
           }
          ],
          "surface": [
           {
            "colorbar": {
             "outlinewidth": 0,
             "ticks": ""
            },
            "colorscale": [
             [
              0,
              "#0d0887"
             ],
             [
              0.1111111111111111,
              "#46039f"
             ],
             [
              0.2222222222222222,
              "#7201a8"
             ],
             [
              0.3333333333333333,
              "#9c179e"
             ],
             [
              0.4444444444444444,
              "#bd3786"
             ],
             [
              0.5555555555555556,
              "#d8576b"
             ],
             [
              0.6666666666666666,
              "#ed7953"
             ],
             [
              0.7777777777777778,
              "#fb9f3a"
             ],
             [
              0.8888888888888888,
              "#fdca26"
             ],
             [
              1,
              "#f0f921"
             ]
            ],
            "type": "surface"
           }
          ],
          "table": [
           {
            "cells": {
             "fill": {
              "color": "#EBF0F8"
             },
             "line": {
              "color": "white"
             }
            },
            "header": {
             "fill": {
              "color": "#C8D4E3"
             },
             "line": {
              "color": "white"
             }
            },
            "type": "table"
           }
          ]
         },
         "layout": {
          "annotationdefaults": {
           "arrowcolor": "#2a3f5f",
           "arrowhead": 0,
           "arrowwidth": 1
          },
          "autotypenumbers": "strict",
          "coloraxis": {
           "colorbar": {
            "outlinewidth": 0,
            "ticks": ""
           }
          },
          "colorscale": {
           "diverging": [
            [
             0,
             "#8e0152"
            ],
            [
             0.1,
             "#c51b7d"
            ],
            [
             0.2,
             "#de77ae"
            ],
            [
             0.3,
             "#f1b6da"
            ],
            [
             0.4,
             "#fde0ef"
            ],
            [
             0.5,
             "#f7f7f7"
            ],
            [
             0.6,
             "#e6f5d0"
            ],
            [
             0.7,
             "#b8e186"
            ],
            [
             0.8,
             "#7fbc41"
            ],
            [
             0.9,
             "#4d9221"
            ],
            [
             1,
             "#276419"
            ]
           ],
           "sequential": [
            [
             0,
             "#0d0887"
            ],
            [
             0.1111111111111111,
             "#46039f"
            ],
            [
             0.2222222222222222,
             "#7201a8"
            ],
            [
             0.3333333333333333,
             "#9c179e"
            ],
            [
             0.4444444444444444,
             "#bd3786"
            ],
            [
             0.5555555555555556,
             "#d8576b"
            ],
            [
             0.6666666666666666,
             "#ed7953"
            ],
            [
             0.7777777777777778,
             "#fb9f3a"
            ],
            [
             0.8888888888888888,
             "#fdca26"
            ],
            [
             1,
             "#f0f921"
            ]
           ],
           "sequentialminus": [
            [
             0,
             "#0d0887"
            ],
            [
             0.1111111111111111,
             "#46039f"
            ],
            [
             0.2222222222222222,
             "#7201a8"
            ],
            [
             0.3333333333333333,
             "#9c179e"
            ],
            [
             0.4444444444444444,
             "#bd3786"
            ],
            [
             0.5555555555555556,
             "#d8576b"
            ],
            [
             0.6666666666666666,
             "#ed7953"
            ],
            [
             0.7777777777777778,
             "#fb9f3a"
            ],
            [
             0.8888888888888888,
             "#fdca26"
            ],
            [
             1,
             "#f0f921"
            ]
           ]
          },
          "colorway": [
           "#636efa",
           "#EF553B",
           "#00cc96",
           "#ab63fa",
           "#FFA15A",
           "#19d3f3",
           "#FF6692",
           "#B6E880",
           "#FF97FF",
           "#FECB52"
          ],
          "font": {
           "color": "#2a3f5f"
          },
          "geo": {
           "bgcolor": "white",
           "lakecolor": "white",
           "landcolor": "white",
           "showlakes": true,
           "showland": true,
           "subunitcolor": "#C8D4E3"
          },
          "hoverlabel": {
           "align": "left"
          },
          "hovermode": "closest",
          "mapbox": {
           "style": "light"
          },
          "paper_bgcolor": "white",
          "plot_bgcolor": "white",
          "polar": {
           "angularaxis": {
            "gridcolor": "#EBF0F8",
            "linecolor": "#EBF0F8",
            "ticks": ""
           },
           "bgcolor": "white",
           "radialaxis": {
            "gridcolor": "#EBF0F8",
            "linecolor": "#EBF0F8",
            "ticks": ""
           }
          },
          "scene": {
           "xaxis": {
            "backgroundcolor": "white",
            "gridcolor": "#DFE8F3",
            "gridwidth": 2,
            "linecolor": "#EBF0F8",
            "showbackground": true,
            "ticks": "",
            "zerolinecolor": "#EBF0F8"
           },
           "yaxis": {
            "backgroundcolor": "white",
            "gridcolor": "#DFE8F3",
            "gridwidth": 2,
            "linecolor": "#EBF0F8",
            "showbackground": true,
            "ticks": "",
            "zerolinecolor": "#EBF0F8"
           },
           "zaxis": {
            "backgroundcolor": "white",
            "gridcolor": "#DFE8F3",
            "gridwidth": 2,
            "linecolor": "#EBF0F8",
            "showbackground": true,
            "ticks": "",
            "zerolinecolor": "#EBF0F8"
           }
          },
          "shapedefaults": {
           "line": {
            "color": "#2a3f5f"
           }
          },
          "ternary": {
           "aaxis": {
            "gridcolor": "#DFE8F3",
            "linecolor": "#A2B1C6",
            "ticks": ""
           },
           "baxis": {
            "gridcolor": "#DFE8F3",
            "linecolor": "#A2B1C6",
            "ticks": ""
           },
           "bgcolor": "white",
           "caxis": {
            "gridcolor": "#DFE8F3",
            "linecolor": "#A2B1C6",
            "ticks": ""
           }
          },
          "title": {
           "x": 0.05
          },
          "xaxis": {
           "automargin": true,
           "gridcolor": "#EBF0F8",
           "linecolor": "#EBF0F8",
           "ticks": "",
           "title": {
            "standoff": 15
           },
           "zerolinecolor": "#EBF0F8",
           "zerolinewidth": 2
          },
          "yaxis": {
           "automargin": true,
           "gridcolor": "#EBF0F8",
           "linecolor": "#EBF0F8",
           "ticks": "",
           "title": {
            "standoff": 15
           },
           "zerolinecolor": "#EBF0F8",
           "zerolinewidth": 2
          }
         }
        },
        "title": {
         "font": {
          "size": 20
         },
         "text": "NZ Potting Mixes: Sales Volume by Brand & Package Size"
        },
        "width": 800,
        "xaxis": {
         "anchor": "y",
         "categoryarray": [
          25,
          30,
          40
         ],
         "categoryorder": "array",
         "domain": [
          0,
          1
         ],
         "tickfont": {
          "size": 13
         },
         "tickmode": "array",
         "ticktext": [
          "25.0L",
          "30.0L",
          "40.0L"
         ],
         "tickvals": [
          25,
          30,
          40
         ],
         "title": {
          "font": {
           "size": 16
          },
          "text": ""
         }
        },
        "yaxis": {
         "anchor": "x",
         "categoryarray": [
          "GARDEN TIME MEDIA",
          "BIG VALUE MEDIA",
          "OSMOCOTE",
          "DALTONS MEDIA",
          "DALTONS PREMIUM",
          "SCOTTS",
          "GARDEN BASICS",
          "DALTONS",
          "NATURES WAY",
          "Garden Time",
          "DALTONS ORGANIC",
          "Daltons Premium",
          "Beut"
         ],
         "categoryorder": "array",
         "domain": [
          0,
          1
         ],
         "tickfont": {
          "size": 13
         },
         "title": {
          "font": {
           "size": 16
          },
          "text": ""
         }
        }
       }
      },
      "text/html": [
       "<div>                            <div id=\"504ef52d-52e9-4898-b08a-46abda839ce3\" class=\"plotly-graph-div\" style=\"height:800px; width:800px;\"></div>            <script type=\"text/javascript\">                require([\"plotly\"], function(Plotly) {                    window.PLOTLYENV=window.PLOTLYENV || {};                                    if (document.getElementById(\"504ef52d-52e9-4898-b08a-46abda839ce3\")) {                    Plotly.newPlot(                        \"504ef52d-52e9-4898-b08a-46abda839ce3\",                        [{\"customdata\":[[3430572.74,7.59461855036,216380.0,2.08758203161,83.5032812644],[12.74,12.74,1.0,1.0,30.0],[246333.12,12.853733669532,12254.0,1.9168330993350002,57.504992980050005],[30433.62,9.481758320248499,2166.0,1.4824951774300001,37.06237943575],[651104.66,11.825795706363,35418.0,1.55452030041,46.6356090123],[8662.51,14.461619365606,305.0,1.96393442623,58.9180327869],[550638.8200000001,13.999357317524499,24948.0,1.6400633596,49.201900788],[8146.31,6.271216320251,695.0,1.8690647482,56.071942446],[288368.71,11.155031140005,15845.0,1.63149258441,48.9447775323],[1139644.6,10.4425394477045,63076.0,1.6970000589375,50.910001768125],[2970088.71,11.5513912139465,162423.0,1.784717552225,71.38870208899999],[210850.3,9.500756995438,12835.0,1.72910011687,69.1640046748],[224244.09999999998,14.410431236411501,9847.0,1.54149104074,46.2447312222],[446954.03,11.0200179303195,28699.0,1.4582397857225,36.4559946430625],[511915.13,12.845728589019,25960.0,1.53509244992,61.4036979968],[145154.0,13.14456145436,8245.0,1.3416642405850001,33.541606014625],[57400.71,15.534698240858,2547.0,1.45072634472,43.5217903416],[235665.87,14.508765006467,9934.0,1.63509160459,65.4036641836]],\"hovertemplate\":\"Total Sales ($) =%{customdata[0]:,.0f}\\u003cbr\\u003eAvg $\\u002fL =%{customdata[1]:.2f}\\u003cbr\\u003eTotal Trx =%{customdata[2]:,}\\u003cbr\\u003eAvg Units\\u002fTrx =%{customdata[3]:.2f}\\u003cbr\\u003eAvg Volume\\u002fTrx (L) =%{marker.color:.2f}\\u003cextra\\u003e\\u003c\\u002fextra\\u003e\",\"legendgroup\":\"\",\"marker\":{\"color\":[83.5032812644,30.0,57.504992980050005,37.06237943575,46.6356090123,58.9180327869,49.201900788,56.071942446,48.9447775323,50.910001768125,71.38870208899999,69.1640046748,46.2447312222,36.4559946430625,61.4036979968,33.541606014625,43.5217903416,65.4036641836],\"coloraxis\":\"coloraxis\",\"size\":[3430572.74,12.74,246333.12,30433.62,651104.66,8662.51,550638.8200000001,8146.31,288368.71,1139644.6,2970088.71,210850.3,224244.09999999998,446954.03,511915.13,145154.0,57400.71,235665.87],\"sizemode\":\"area\",\"sizeref\":952.9368722222223,\"symbol\":\"circle\",\"sizemin\":5},\"mode\":\"markers\",\"name\":\"\",\"orientation\":\"h\",\"showlegend\":false,\"x\":[40.0,30.0,30.0,25.0,30.0,30.0,30.0,30.0,30.0,30.0,40.0,40.0,30.0,25.0,40.0,25.0,30.0,40.0],\"xaxis\":\"x\",\"y\":[\"BIG VALUE MEDIA\",\"Beut\",\"DALTONS\",\"DALTONS MEDIA\",\"DALTONS MEDIA\",\"DALTONS ORGANIC\",\"DALTONS PREMIUM\",\"Daltons Premium\",\"GARDEN BASICS\",\"GARDEN TIME MEDIA\",\"GARDEN TIME MEDIA\",\"Garden Time\",\"NATURES WAY\",\"OSMOCOTE\",\"OSMOCOTE\",\"SCOTTS\",\"SCOTTS\",\"SCOTTS\"],\"yaxis\":\"y\",\"type\":\"scatter\"}],                        {\"template\":{\"data\":{\"barpolar\":[{\"marker\":{\"line\":{\"color\":\"white\",\"width\":0.5},\"pattern\":{\"fillmode\":\"overlay\",\"size\":10,\"solidity\":0.2}},\"type\":\"barpolar\"}],\"bar\":[{\"error_x\":{\"color\":\"#2a3f5f\"},\"error_y\":{\"color\":\"#2a3f5f\"},\"marker\":{\"line\":{\"color\":\"white\",\"width\":0.5},\"pattern\":{\"fillmode\":\"overlay\",\"size\":10,\"solidity\":0.2}},\"type\":\"bar\"}],\"carpet\":[{\"aaxis\":{\"endlinecolor\":\"#2a3f5f\",\"gridcolor\":\"#C8D4E3\",\"linecolor\":\"#C8D4E3\",\"minorgridcolor\":\"#C8D4E3\",\"startlinecolor\":\"#2a3f5f\"},\"baxis\":{\"endlinecolor\":\"#2a3f5f\",\"gridcolor\":\"#C8D4E3\",\"linecolor\":\"#C8D4E3\",\"minorgridcolor\":\"#C8D4E3\",\"startlinecolor\":\"#2a3f5f\"},\"type\":\"carpet\"}],\"choropleth\":[{\"colorbar\":{\"outlinewidth\":0,\"ticks\":\"\"},\"type\":\"choropleth\"}],\"contourcarpet\":[{\"colorbar\":{\"outlinewidth\":0,\"ticks\":\"\"},\"type\":\"contourcarpet\"}],\"contour\":[{\"colorbar\":{\"outlinewidth\":0,\"ticks\":\"\"},\"colorscale\":[[0.0,\"#0d0887\"],[0.1111111111111111,\"#46039f\"],[0.2222222222222222,\"#7201a8\"],[0.3333333333333333,\"#9c179e\"],[0.4444444444444444,\"#bd3786\"],[0.5555555555555556,\"#d8576b\"],[0.6666666666666666,\"#ed7953\"],[0.7777777777777778,\"#fb9f3a\"],[0.8888888888888888,\"#fdca26\"],[1.0,\"#f0f921\"]],\"type\":\"contour\"}],\"heatmapgl\":[{\"colorbar\":{\"outlinewidth\":0,\"ticks\":\"\"},\"colorscale\":[[0.0,\"#0d0887\"],[0.1111111111111111,\"#46039f\"],[0.2222222222222222,\"#7201a8\"],[0.3333333333333333,\"#9c179e\"],[0.4444444444444444,\"#bd3786\"],[0.5555555555555556,\"#d8576b\"],[0.6666666666666666,\"#ed7953\"],[0.7777777777777778,\"#fb9f3a\"],[0.8888888888888888,\"#fdca26\"],[1.0,\"#f0f921\"]],\"type\":\"heatmapgl\"}],\"heatmap\":[{\"colorbar\":{\"outlinewidth\":0,\"ticks\":\"\"},\"colorscale\":[[0.0,\"#0d0887\"],[0.1111111111111111,\"#46039f\"],[0.2222222222222222,\"#7201a8\"],[0.3333333333333333,\"#9c179e\"],[0.4444444444444444,\"#bd3786\"],[0.5555555555555556,\"#d8576b\"],[0.6666666666666666,\"#ed7953\"],[0.7777777777777778,\"#fb9f3a\"],[0.8888888888888888,\"#fdca26\"],[1.0,\"#f0f921\"]],\"type\":\"heatmap\"}],\"histogram2dcontour\":[{\"colorbar\":{\"outlinewidth\":0,\"ticks\":\"\"},\"colorscale\":[[0.0,\"#0d0887\"],[0.1111111111111111,\"#46039f\"],[0.2222222222222222,\"#7201a8\"],[0.3333333333333333,\"#9c179e\"],[0.4444444444444444,\"#bd3786\"],[0.5555555555555556,\"#d8576b\"],[0.6666666666666666,\"#ed7953\"],[0.7777777777777778,\"#fb9f3a\"],[0.8888888888888888,\"#fdca26\"],[1.0,\"#f0f921\"]],\"type\":\"histogram2dcontour\"}],\"histogram2d\":[{\"colorbar\":{\"outlinewidth\":0,\"ticks\":\"\"},\"colorscale\":[[0.0,\"#0d0887\"],[0.1111111111111111,\"#46039f\"],[0.2222222222222222,\"#7201a8\"],[0.3333333333333333,\"#9c179e\"],[0.4444444444444444,\"#bd3786\"],[0.5555555555555556,\"#d8576b\"],[0.6666666666666666,\"#ed7953\"],[0.7777777777777778,\"#fb9f3a\"],[0.8888888888888888,\"#fdca26\"],[1.0,\"#f0f921\"]],\"type\":\"histogram2d\"}],\"histogram\":[{\"marker\":{\"pattern\":{\"fillmode\":\"overlay\",\"size\":10,\"solidity\":0.2}},\"type\":\"histogram\"}],\"mesh3d\":[{\"colorbar\":{\"outlinewidth\":0,\"ticks\":\"\"},\"type\":\"mesh3d\"}],\"parcoords\":[{\"line\":{\"colorbar\":{\"outlinewidth\":0,\"ticks\":\"\"}},\"type\":\"parcoords\"}],\"pie\":[{\"automargin\":true,\"type\":\"pie\"}],\"scatter3d\":[{\"line\":{\"colorbar\":{\"outlinewidth\":0,\"ticks\":\"\"}},\"marker\":{\"colorbar\":{\"outlinewidth\":0,\"ticks\":\"\"}},\"type\":\"scatter3d\"}],\"scattercarpet\":[{\"marker\":{\"colorbar\":{\"outlinewidth\":0,\"ticks\":\"\"}},\"type\":\"scattercarpet\"}],\"scattergeo\":[{\"marker\":{\"colorbar\":{\"outlinewidth\":0,\"ticks\":\"\"}},\"type\":\"scattergeo\"}],\"scattergl\":[{\"marker\":{\"colorbar\":{\"outlinewidth\":0,\"ticks\":\"\"}},\"type\":\"scattergl\"}],\"scattermapbox\":[{\"marker\":{\"colorbar\":{\"outlinewidth\":0,\"ticks\":\"\"}},\"type\":\"scattermapbox\"}],\"scatterpolargl\":[{\"marker\":{\"colorbar\":{\"outlinewidth\":0,\"ticks\":\"\"}},\"type\":\"scatterpolargl\"}],\"scatterpolar\":[{\"marker\":{\"colorbar\":{\"outlinewidth\":0,\"ticks\":\"\"}},\"type\":\"scatterpolar\"}],\"scatter\":[{\"fillpattern\":{\"fillmode\":\"overlay\",\"size\":10,\"solidity\":0.2},\"type\":\"scatter\"}],\"scatterternary\":[{\"marker\":{\"colorbar\":{\"outlinewidth\":0,\"ticks\":\"\"}},\"type\":\"scatterternary\"}],\"surface\":[{\"colorbar\":{\"outlinewidth\":0,\"ticks\":\"\"},\"colorscale\":[[0.0,\"#0d0887\"],[0.1111111111111111,\"#46039f\"],[0.2222222222222222,\"#7201a8\"],[0.3333333333333333,\"#9c179e\"],[0.4444444444444444,\"#bd3786\"],[0.5555555555555556,\"#d8576b\"],[0.6666666666666666,\"#ed7953\"],[0.7777777777777778,\"#fb9f3a\"],[0.8888888888888888,\"#fdca26\"],[1.0,\"#f0f921\"]],\"type\":\"surface\"}],\"table\":[{\"cells\":{\"fill\":{\"color\":\"#EBF0F8\"},\"line\":{\"color\":\"white\"}},\"header\":{\"fill\":{\"color\":\"#C8D4E3\"},\"line\":{\"color\":\"white\"}},\"type\":\"table\"}]},\"layout\":{\"annotationdefaults\":{\"arrowcolor\":\"#2a3f5f\",\"arrowhead\":0,\"arrowwidth\":1},\"autotypenumbers\":\"strict\",\"coloraxis\":{\"colorbar\":{\"outlinewidth\":0,\"ticks\":\"\"}},\"colorscale\":{\"diverging\":[[0,\"#8e0152\"],[0.1,\"#c51b7d\"],[0.2,\"#de77ae\"],[0.3,\"#f1b6da\"],[0.4,\"#fde0ef\"],[0.5,\"#f7f7f7\"],[0.6,\"#e6f5d0\"],[0.7,\"#b8e186\"],[0.8,\"#7fbc41\"],[0.9,\"#4d9221\"],[1,\"#276419\"]],\"sequential\":[[0.0,\"#0d0887\"],[0.1111111111111111,\"#46039f\"],[0.2222222222222222,\"#7201a8\"],[0.3333333333333333,\"#9c179e\"],[0.4444444444444444,\"#bd3786\"],[0.5555555555555556,\"#d8576b\"],[0.6666666666666666,\"#ed7953\"],[0.7777777777777778,\"#fb9f3a\"],[0.8888888888888888,\"#fdca26\"],[1.0,\"#f0f921\"]],\"sequentialminus\":[[0.0,\"#0d0887\"],[0.1111111111111111,\"#46039f\"],[0.2222222222222222,\"#7201a8\"],[0.3333333333333333,\"#9c179e\"],[0.4444444444444444,\"#bd3786\"],[0.5555555555555556,\"#d8576b\"],[0.6666666666666666,\"#ed7953\"],[0.7777777777777778,\"#fb9f3a\"],[0.8888888888888888,\"#fdca26\"],[1.0,\"#f0f921\"]]},\"colorway\":[\"#636efa\",\"#EF553B\",\"#00cc96\",\"#ab63fa\",\"#FFA15A\",\"#19d3f3\",\"#FF6692\",\"#B6E880\",\"#FF97FF\",\"#FECB52\"],\"font\":{\"color\":\"#2a3f5f\"},\"geo\":{\"bgcolor\":\"white\",\"lakecolor\":\"white\",\"landcolor\":\"white\",\"showlakes\":true,\"showland\":true,\"subunitcolor\":\"#C8D4E3\"},\"hoverlabel\":{\"align\":\"left\"},\"hovermode\":\"closest\",\"mapbox\":{\"style\":\"light\"},\"paper_bgcolor\":\"white\",\"plot_bgcolor\":\"white\",\"polar\":{\"angularaxis\":{\"gridcolor\":\"#EBF0F8\",\"linecolor\":\"#EBF0F8\",\"ticks\":\"\"},\"bgcolor\":\"white\",\"radialaxis\":{\"gridcolor\":\"#EBF0F8\",\"linecolor\":\"#EBF0F8\",\"ticks\":\"\"}},\"scene\":{\"xaxis\":{\"backgroundcolor\":\"white\",\"gridcolor\":\"#DFE8F3\",\"gridwidth\":2,\"linecolor\":\"#EBF0F8\",\"showbackground\":true,\"ticks\":\"\",\"zerolinecolor\":\"#EBF0F8\"},\"yaxis\":{\"backgroundcolor\":\"white\",\"gridcolor\":\"#DFE8F3\",\"gridwidth\":2,\"linecolor\":\"#EBF0F8\",\"showbackground\":true,\"ticks\":\"\",\"zerolinecolor\":\"#EBF0F8\"},\"zaxis\":{\"backgroundcolor\":\"white\",\"gridcolor\":\"#DFE8F3\",\"gridwidth\":2,\"linecolor\":\"#EBF0F8\",\"showbackground\":true,\"ticks\":\"\",\"zerolinecolor\":\"#EBF0F8\"}},\"shapedefaults\":{\"line\":{\"color\":\"#2a3f5f\"}},\"ternary\":{\"aaxis\":{\"gridcolor\":\"#DFE8F3\",\"linecolor\":\"#A2B1C6\",\"ticks\":\"\"},\"baxis\":{\"gridcolor\":\"#DFE8F3\",\"linecolor\":\"#A2B1C6\",\"ticks\":\"\"},\"bgcolor\":\"white\",\"caxis\":{\"gridcolor\":\"#DFE8F3\",\"linecolor\":\"#A2B1C6\",\"ticks\":\"\"}},\"title\":{\"x\":0.05},\"xaxis\":{\"automargin\":true,\"gridcolor\":\"#EBF0F8\",\"linecolor\":\"#EBF0F8\",\"ticks\":\"\",\"title\":{\"standoff\":15},\"zerolinecolor\":\"#EBF0F8\",\"zerolinewidth\":2},\"yaxis\":{\"automargin\":true,\"gridcolor\":\"#EBF0F8\",\"linecolor\":\"#EBF0F8\",\"ticks\":\"\",\"title\":{\"standoff\":15},\"zerolinecolor\":\"#EBF0F8\",\"zerolinewidth\":2}}},\"xaxis\":{\"anchor\":\"y\",\"domain\":[0.0,1.0],\"title\":{\"text\":\"\",\"font\":{\"size\":16}},\"categoryorder\":\"array\",\"categoryarray\":[25.0,30.0,40.0],\"tickfont\":{\"size\":13},\"tickmode\":\"array\",\"tickvals\":[25.0,30.0,40.0],\"ticktext\":[\"25.0L\",\"30.0L\",\"40.0L\"]},\"yaxis\":{\"anchor\":\"x\",\"domain\":[0.0,1.0],\"title\":{\"text\":\"\",\"font\":{\"size\":16}},\"categoryorder\":\"array\",\"categoryarray\":[\"GARDEN TIME MEDIA\",\"BIG VALUE MEDIA\",\"OSMOCOTE\",\"DALTONS MEDIA\",\"DALTONS PREMIUM\",\"SCOTTS\",\"GARDEN BASICS\",\"DALTONS\",\"NATURES WAY\",\"Garden Time\",\"DALTONS ORGANIC\",\"Daltons Premium\",\"Beut\"],\"tickfont\":{\"size\":13}},\"coloraxis\":{\"colorbar\":{\"title\":{\"text\":\"Avg Volume\\u002fTrx (L)\",\"font\":{\"size\":14}},\"tickfont\":{\"size\":12}},\"colorscale\":[[0.0,\"rgb(165,0,38)\"],[0.1,\"rgb(215,48,39)\"],[0.2,\"rgb(244,109,67)\"],[0.3,\"rgb(253,174,97)\"],[0.4,\"rgb(254,224,139)\"],[0.5,\"rgb(255,255,191)\"],[0.6,\"rgb(217,239,139)\"],[0.7,\"rgb(166,217,106)\"],[0.8,\"rgb(102,189,99)\"],[0.9,\"rgb(26,152,80)\"],[1.0,\"rgb(0,104,55)\"]]},\"legend\":{\"tracegroupgap\":0,\"itemsizing\":\"constant\"},\"title\":{\"text\":\"NZ Potting Mixes: Sales Volume by Brand & Package Size\",\"font\":{\"size\":20}},\"font\":{\"family\":\"Arial\",\"size\":14,\"color\":\"#333\"},\"width\":800,\"height\":800},                        {\"responsive\": true}                    ).then(function(){\n",
       "                            \n",
       "var gd = document.getElementById('504ef52d-52e9-4898-b08a-46abda839ce3');\n",
       "var x = new MutationObserver(function (mutations, observer) {{\n",
       "        var display = window.getComputedStyle(gd).display;\n",
       "        if (!display || display === 'none') {{\n",
       "            console.log([gd, 'removed!']);\n",
       "            Plotly.purge(gd);\n",
       "            observer.disconnect();\n",
       "        }}\n",
       "}});\n",
       "\n",
       "// Listen for the removal of the full notebook cells\n",
       "var notebookContainer = gd.closest('#notebook-container');\n",
       "if (notebookContainer) {{\n",
       "    x.observe(notebookContainer, {childList: true});\n",
       "}}\n",
       "\n",
       "// Listen for the clearing of the current output cell\n",
       "var outputEl = gd.closest('.output');\n",
       "if (outputEl) {{\n",
       "    x.observe(outputEl, {childList: true});\n",
       "}}\n",
       "\n",
       "                        })                };                });            </script>        </div>"
      ]
     },
     "metadata": {},
     "output_type": "display_data"
    }
   ],
   "source": [
    "package_order = sorted(brand_pkg_summary[\"PACKAGE_LITRE\"].unique())\n",
    "\n",
    "brand_order = (\n",
    "    brand_pkg_summary.groupby(\"BRAND_CODE\")[\"total_sales\"]\n",
    "    .sum()\n",
    "    .sort_values(ascending=False)\n",
    "    .index.tolist()\n",
    ")\n",
    "\n",
    "fig = px.scatter(\n",
    "    brand_pkg_summary,\n",
    "    x=\"PACKAGE_LITRE\",\n",
    "    y=\"BRAND_CODE\",\n",
    "    size=\"total_sales\",\n",
    "    color=\"avg_volume_per_trx\",\n",
    "    color_continuous_scale=\"RdYlGn\",\n",
    "    category_orders={\n",
    "        \"PACKAGE_LITRE\": package_order,\n",
    "        \"BRAND_CODE\": brand_order\n",
    "    },\n",
    "    hover_data={\n",
    "        \"total_sales\": \":,.0f\",\n",
    "        \"avg_price_per_litre\": \":.2f\",\n",
    "        \"total_transactions\": \":,\",\n",
    "        \"avg_qty_per_trx\": \":.2f\",\n",
    "        \"avg_volume_per_trx\": \":.2f\",\n",
    "        \"PACKAGE_LITRE\": False,\n",
    "        \"BRAND_CODE\": False\n",
    "    },\n",
    "        labels={\n",
    "        \"total_sales\": \"Total Sales ($) \",\n",
    "        \"avg_price_per_litre\": \"Avg $/L \",\n",
    "        \"total_transactions\": \"Total Trx \",\n",
    "        \"avg_qty_per_trx\": \"Avg Units/Trx \",\n",
    "        \"avg_volume_per_trx\": \"Avg Volume/Trx (L) \"\n",
    "    },\n",
    "    title=\"NZ Potting Mixes: Sales Volume by Brand & Package Size\"\n",
    ")\n",
    "\n",
    "fig.update_layout(\n",
    "    width=800,\n",
    "    height=800,\n",
    "    template=\"plotly_white\",\n",
    "    font=dict(family=\"Arial\", size=14, color=\"#333\"),\n",
    "    title_font=dict(size=20),\n",
    "    xaxis=dict(\n",
    "        tickmode=\"array\",\n",
    "        tickvals=package_order,\n",
    "        ticktext=[f\"{x}L\" for x in package_order],\n",
    "        title=\"\",\n",
    "        tickfont=dict(size=13),\n",
    "        titlefont=dict(size=16)\n",
    "    ),\n",
    "    yaxis=dict(\n",
    "        title=\"\",\n",
    "        categoryorder=\"array\",\n",
    "        categoryarray=brand_order,\n",
    "        tickfont=dict(size=13),\n",
    "        titlefont=dict(size=16)\n",
    "    ),\n",
    "    coloraxis_colorbar=dict(\n",
    "        title=\"Avg Volume/Trx (L)\",\n",
    "        titlefont=dict(size=14),\n",
    "        tickfont=dict(size=12)\n",
    "    )\n",
    ")\n",
    "\n",
    "# Optional: double bubble size (by halving sizeref)\n",
    "max_sales = brand_pkg_summary[\"total_sales\"].max()\n",
    "desired_size_max = 30  # same unit as original size_max\n",
    "\n",
    "fig.update_traces(\n",
    "    marker=dict(\n",
    "        sizemode=\"area\",\n",
    "        sizeref=0.25 * max_sales / desired_size_max**2,\n",
    "        sizemin=5\n",
    "    )\n",
    ")\n",
    "\n",
    "fig.show()"
   ]
  },
  {
   "cell_type": "code",
   "execution_count": 74,
   "metadata": {},
   "outputs": [],
   "source": [
    "fig.write_html(\"potting_mix_volume_by_brand_NZ.html\")"
   ]
  },
  {
   "cell_type": "code",
   "execution_count": 76,
   "metadata": {},
   "outputs": [
    {
     "data": {
      "text/html": [
       "<div>\n",
       "<style scoped>\n",
       "    .dataframe tbody tr th:only-of-type {\n",
       "        vertical-align: middle;\n",
       "    }\n",
       "\n",
       "    .dataframe tbody tr th {\n",
       "        vertical-align: top;\n",
       "    }\n",
       "\n",
       "    .dataframe thead th {\n",
       "        text-align: right;\n",
       "    }\n",
       "</style>\n",
       "<table border=\"1\" class=\"dataframe\">\n",
       "  <thead>\n",
       "    <tr style=\"text-align: right;\">\n",
       "      <th></th>\n",
       "      <th>PACKAGE_LITRE</th>\n",
       "      <th>total_sales</th>\n",
       "      <th>total_transactions</th>\n",
       "      <th>avg_units_per_trx</th>\n",
       "      <th>avg_volume_per_trx</th>\n",
       "      <th>avg_price_per_litre</th>\n",
       "      <th>num_items</th>\n",
       "    </tr>\n",
       "  </thead>\n",
       "  <tbody>\n",
       "    <tr>\n",
       "      <th>2</th>\n",
       "      <td>40.0</td>\n",
       "      <td>7359092.75</td>\n",
       "      <td>427532</td>\n",
       "      <td>1.759384</td>\n",
       "      <td>70.375342</td>\n",
       "      <td>11.258775</td>\n",
       "      <td>6</td>\n",
       "    </tr>\n",
       "    <tr>\n",
       "      <th>1</th>\n",
       "      <td>30.0</td>\n",
       "      <td>3174556.28</td>\n",
       "      <td>164936</td>\n",
       "      <td>1.653407</td>\n",
       "      <td>49.602213</td>\n",
       "      <td>12.267848</td>\n",
       "      <td>16</td>\n",
       "    </tr>\n",
       "    <tr>\n",
       "      <th>0</th>\n",
       "      <td>25.0</td>\n",
       "      <td>622541.65</td>\n",
       "      <td>39110</td>\n",
       "      <td>1.435160</td>\n",
       "      <td>35.878994</td>\n",
       "      <td>11.166589</td>\n",
       "      <td>8</td>\n",
       "    </tr>\n",
       "  </tbody>\n",
       "</table>\n",
       "</div>"
      ],
      "text/plain": [
       "   PACKAGE_LITRE  total_sales  total_transactions  avg_units_per_trx  \\\n",
       "2           40.0   7359092.75              427532           1.759384   \n",
       "1           30.0   3174556.28              164936           1.653407   \n",
       "0           25.0    622541.65               39110           1.435160   \n",
       "\n",
       "   avg_volume_per_trx  avg_price_per_litre  num_items  \n",
       "2           70.375342            11.258775          6  \n",
       "1           49.602213            12.267848         16  \n",
       "0           35.878994            11.166589          8  "
      ]
     },
     "execution_count": 76,
     "metadata": {},
     "output_type": "execute_result"
    }
   ],
   "source": [
    "summary_by_package_full = (\n",
    "    pm_nz.groupby('PACKAGE_LITRE')\n",
    "    .agg(\n",
    "        total_sales=('TOTAL_SALES', 'sum'),\n",
    "        total_transactions=('TOTAL_TRX', 'sum'),\n",
    "        avg_units_per_trx=('AVG_QTY_PER_TRX', 'mean'),\n",
    "        avg_volume_per_trx=('ESTIMATED_LITRES_PER_TRX', 'mean'),\n",
    "        avg_price_per_litre=('AVG_PRICE_PER_LITRE', 'mean'),\n",
    "        num_items=('ITEM_NUMBER', 'nunique')\n",
    "    )\n",
    "    .reset_index()\n",
    "    .sort_values(by='total_transactions', ascending=False)\n",
    ")\n",
    "\n",
    "summary_by_package_full"
   ]
  },
  {
   "cell_type": "code",
   "execution_count": 77,
   "metadata": {},
   "outputs": [
    {
     "data": {
      "text/html": [
       "<div>\n",
       "<style scoped>\n",
       "    .dataframe tbody tr th:only-of-type {\n",
       "        vertical-align: middle;\n",
       "    }\n",
       "\n",
       "    .dataframe tbody tr th {\n",
       "        vertical-align: top;\n",
       "    }\n",
       "\n",
       "    .dataframe thead th {\n",
       "        text-align: right;\n",
       "    }\n",
       "</style>\n",
       "<table border=\"1\" class=\"dataframe\">\n",
       "  <thead>\n",
       "    <tr style=\"text-align: right;\">\n",
       "      <th></th>\n",
       "      <th>BRAND_CODE</th>\n",
       "      <th>PACKAGE_LITRE</th>\n",
       "      <th>avg_qty</th>\n",
       "      <th>total_trx</th>\n",
       "      <th>avg_volume_per_trx</th>\n",
       "      <th>unique_items</th>\n",
       "    </tr>\n",
       "  </thead>\n",
       "  <tbody>\n",
       "    <tr>\n",
       "      <th>1</th>\n",
       "      <td>Beut</td>\n",
       "      <td>30.0</td>\n",
       "      <td>1.000000</td>\n",
       "      <td>1</td>\n",
       "      <td>30.000000</td>\n",
       "      <td>1</td>\n",
       "    </tr>\n",
       "    <tr>\n",
       "      <th>15</th>\n",
       "      <td>SCOTTS</td>\n",
       "      <td>25.0</td>\n",
       "      <td>1.341664</td>\n",
       "      <td>8245</td>\n",
       "      <td>33.541606</td>\n",
       "      <td>2</td>\n",
       "    </tr>\n",
       "    <tr>\n",
       "      <th>13</th>\n",
       "      <td>OSMOCOTE</td>\n",
       "      <td>25.0</td>\n",
       "      <td>1.458240</td>\n",
       "      <td>28699</td>\n",
       "      <td>36.455995</td>\n",
       "      <td>4</td>\n",
       "    </tr>\n",
       "    <tr>\n",
       "      <th>3</th>\n",
       "      <td>DALTONS MEDIA</td>\n",
       "      <td>25.0</td>\n",
       "      <td>1.482495</td>\n",
       "      <td>2166</td>\n",
       "      <td>37.062379</td>\n",
       "      <td>2</td>\n",
       "    </tr>\n",
       "    <tr>\n",
       "      <th>16</th>\n",
       "      <td>SCOTTS</td>\n",
       "      <td>30.0</td>\n",
       "      <td>1.450726</td>\n",
       "      <td>2547</td>\n",
       "      <td>43.521790</td>\n",
       "      <td>1</td>\n",
       "    </tr>\n",
       "    <tr>\n",
       "      <th>12</th>\n",
       "      <td>NATURES WAY</td>\n",
       "      <td>30.0</td>\n",
       "      <td>1.541491</td>\n",
       "      <td>9847</td>\n",
       "      <td>46.244731</td>\n",
       "      <td>2</td>\n",
       "    </tr>\n",
       "    <tr>\n",
       "      <th>4</th>\n",
       "      <td>DALTONS MEDIA</td>\n",
       "      <td>30.0</td>\n",
       "      <td>1.554520</td>\n",
       "      <td>35418</td>\n",
       "      <td>46.635609</td>\n",
       "      <td>1</td>\n",
       "    </tr>\n",
       "    <tr>\n",
       "      <th>8</th>\n",
       "      <td>GARDEN BASICS</td>\n",
       "      <td>30.0</td>\n",
       "      <td>1.631493</td>\n",
       "      <td>15845</td>\n",
       "      <td>48.944778</td>\n",
       "      <td>1</td>\n",
       "    </tr>\n",
       "    <tr>\n",
       "      <th>6</th>\n",
       "      <td>DALTONS PREMIUM</td>\n",
       "      <td>30.0</td>\n",
       "      <td>1.640063</td>\n",
       "      <td>24948</td>\n",
       "      <td>49.201901</td>\n",
       "      <td>2</td>\n",
       "    </tr>\n",
       "    <tr>\n",
       "      <th>9</th>\n",
       "      <td>GARDEN TIME MEDIA</td>\n",
       "      <td>30.0</td>\n",
       "      <td>1.697000</td>\n",
       "      <td>63076</td>\n",
       "      <td>50.910002</td>\n",
       "      <td>4</td>\n",
       "    </tr>\n",
       "    <tr>\n",
       "      <th>7</th>\n",
       "      <td>Daltons Premium</td>\n",
       "      <td>30.0</td>\n",
       "      <td>1.869065</td>\n",
       "      <td>695</td>\n",
       "      <td>56.071942</td>\n",
       "      <td>1</td>\n",
       "    </tr>\n",
       "    <tr>\n",
       "      <th>2</th>\n",
       "      <td>DALTONS</td>\n",
       "      <td>30.0</td>\n",
       "      <td>1.916833</td>\n",
       "      <td>12254</td>\n",
       "      <td>57.504993</td>\n",
       "      <td>2</td>\n",
       "    </tr>\n",
       "    <tr>\n",
       "      <th>5</th>\n",
       "      <td>DALTONS ORGANIC</td>\n",
       "      <td>30.0</td>\n",
       "      <td>1.963934</td>\n",
       "      <td>305</td>\n",
       "      <td>58.918033</td>\n",
       "      <td>1</td>\n",
       "    </tr>\n",
       "    <tr>\n",
       "      <th>14</th>\n",
       "      <td>OSMOCOTE</td>\n",
       "      <td>40.0</td>\n",
       "      <td>1.535092</td>\n",
       "      <td>25960</td>\n",
       "      <td>61.403698</td>\n",
       "      <td>1</td>\n",
       "    </tr>\n",
       "    <tr>\n",
       "      <th>17</th>\n",
       "      <td>SCOTTS</td>\n",
       "      <td>40.0</td>\n",
       "      <td>1.635092</td>\n",
       "      <td>9934</td>\n",
       "      <td>65.403664</td>\n",
       "      <td>1</td>\n",
       "    </tr>\n",
       "    <tr>\n",
       "      <th>11</th>\n",
       "      <td>Garden Time</td>\n",
       "      <td>40.0</td>\n",
       "      <td>1.729100</td>\n",
       "      <td>12835</td>\n",
       "      <td>69.164005</td>\n",
       "      <td>1</td>\n",
       "    </tr>\n",
       "    <tr>\n",
       "      <th>10</th>\n",
       "      <td>GARDEN TIME MEDIA</td>\n",
       "      <td>40.0</td>\n",
       "      <td>1.784718</td>\n",
       "      <td>162423</td>\n",
       "      <td>71.388702</td>\n",
       "      <td>2</td>\n",
       "    </tr>\n",
       "    <tr>\n",
       "      <th>0</th>\n",
       "      <td>BIG VALUE MEDIA</td>\n",
       "      <td>40.0</td>\n",
       "      <td>2.087582</td>\n",
       "      <td>216380</td>\n",
       "      <td>83.503281</td>\n",
       "      <td>1</td>\n",
       "    </tr>\n",
       "  </tbody>\n",
       "</table>\n",
       "</div>"
      ],
      "text/plain": [
       "           BRAND_CODE  PACKAGE_LITRE   avg_qty  total_trx  avg_volume_per_trx  \\\n",
       "1                Beut           30.0  1.000000          1           30.000000   \n",
       "15             SCOTTS           25.0  1.341664       8245           33.541606   \n",
       "13           OSMOCOTE           25.0  1.458240      28699           36.455995   \n",
       "3       DALTONS MEDIA           25.0  1.482495       2166           37.062379   \n",
       "16             SCOTTS           30.0  1.450726       2547           43.521790   \n",
       "12        NATURES WAY           30.0  1.541491       9847           46.244731   \n",
       "4       DALTONS MEDIA           30.0  1.554520      35418           46.635609   \n",
       "8       GARDEN BASICS           30.0  1.631493      15845           48.944778   \n",
       "6     DALTONS PREMIUM           30.0  1.640063      24948           49.201901   \n",
       "9   GARDEN TIME MEDIA           30.0  1.697000      63076           50.910002   \n",
       "7     Daltons Premium           30.0  1.869065        695           56.071942   \n",
       "2             DALTONS           30.0  1.916833      12254           57.504993   \n",
       "5     DALTONS ORGANIC           30.0  1.963934        305           58.918033   \n",
       "14           OSMOCOTE           40.0  1.535092      25960           61.403698   \n",
       "17             SCOTTS           40.0  1.635092       9934           65.403664   \n",
       "11        Garden Time           40.0  1.729100      12835           69.164005   \n",
       "10  GARDEN TIME MEDIA           40.0  1.784718     162423           71.388702   \n",
       "0     BIG VALUE MEDIA           40.0  2.087582     216380           83.503281   \n",
       "\n",
       "    unique_items  \n",
       "1              1  \n",
       "15             2  \n",
       "13             4  \n",
       "3              2  \n",
       "16             1  \n",
       "12             2  \n",
       "4              1  \n",
       "8              1  \n",
       "6              2  \n",
       "9              4  \n",
       "7              1  \n",
       "2              2  \n",
       "5              1  \n",
       "14             1  \n",
       "17             1  \n",
       "11             1  \n",
       "10             2  \n",
       "0              1  "
      ]
     },
     "execution_count": 77,
     "metadata": {},
     "output_type": "execute_result"
    }
   ],
   "source": [
    "# Summarise volume trend by brand\n",
    "volume_summary = (\n",
    "    pm_nz.groupby(['BRAND_CODE', 'PACKAGE_LITRE'])\n",
    "    .agg(\n",
    "        avg_qty=('AVG_QTY_PER_TRX', 'mean'),\n",
    "        total_trx=('TOTAL_TRX', 'sum'),\n",
    "        avg_volume_per_trx=('ESTIMATED_LITRES_PER_TRX', 'mean'),\n",
    "        unique_items=('ITEM_NUMBER', 'nunique')\n",
    "    )\n",
    "    .reset_index()\n",
    "    .sort_values(['avg_volume_per_trx', 'BRAND_CODE'])\n",
    ")\n",
    "volume_summary"
   ]
  }
 ],
 "metadata": {
  "kernelspec": {
   "display_name": "poetry-merch-bau-3.10",
   "language": "python",
   "name": "python3"
  },
  "language_info": {
   "codemirror_mode": {
    "name": "ipython",
    "version": 3
   },
   "file_extension": ".py",
   "mimetype": "text/x-python",
   "name": "python",
   "nbconvert_exporter": "python",
   "pygments_lexer": "ipython3",
   "version": "3.10.18"
  }
 },
 "nbformat": 4,
 "nbformat_minor": 2
}
