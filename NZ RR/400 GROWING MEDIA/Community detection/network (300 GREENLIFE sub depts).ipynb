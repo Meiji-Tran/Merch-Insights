{
 "cells": [
  {
   "cell_type": "markdown",
   "metadata": {},
   "source": [
    "## Prep"
   ]
  },
  {
   "cell_type": "code",
   "execution_count": 1,
   "metadata": {},
   "outputs": [],
   "source": [
    "# Import packages\n",
    "import pandas as pd\n",
    "import plotly.graph_objects as go\n",
    "import networkx as nx\n",
    "from ds_common_utils.aux.io.snowflake_tools import SnowflakeTools\n",
    "from math import log\n",
    "from networkx.algorithms.community import greedy_modularity_communities\n",
    "import matplotlib.pyplot as plt\n",
    "import community.community_louvain as community_louvain\n",
    "import numpy as np"
   ]
  },
  {
   "cell_type": "code",
   "execution_count": 2,
   "metadata": {},
   "outputs": [
    {
     "name": "stderr",
     "output_type": "stream",
     "text": [
      "snowflake_tools - 2025-06-25 17:45:00.152587+10:00 - Generating new token with 'INSIGHT_ANALYST_MERCH_DE_GENERAL_PRD' role and 'SESSION:ROLE-ANY' scope...\n",
      "snowflake_tools - 2025-06-25 17:45:06.215388+10:00 - Saved token with '2025-06-25 21:45:06+10:00' expiry...\n"
     ]
    }
   ],
   "source": [
    "# Get connection\n",
    "con = SnowflakeTools().get_snowflake_ctx(\n",
    "     method = 'token',\n",
    "    user = '250807',\n",
    "    role = 'INSIGHT_ANALYST_MERCH_DE_GENERAL_PRD',\n",
    "    warehouse = 'INSIGHT_ANALYST_WH'\n",
    ")\n",
    "with open('sql/item_association.sql', 'r') as query:\n",
    "        df = pd.read_sql_query(query.read(), con)\n",
    "with open('sql/300-greenlife-sub-depts.sql', 'r') as query:\n",
    "        target_item_sub_dept = pd.read_sql_query(query.read(), con)"
   ]
  },
  {
   "cell_type": "markdown",
   "metadata": {},
   "source": [
    "## Parameter Tuning"
   ]
  },
  {
   "cell_type": "code",
   "execution_count": 327,
   "metadata": {},
   "outputs": [],
   "source": [
    "TRX_THRESHOLD = 10 # Min N frequent pairs\n",
    "QUANTILE = 0.95 # Nth percentile of metric similarity\n",
    "TOP_N = 5 # top-N associated item classes per primary class\n",
    "RESO = 1 # >1.0 → more, smaller communities\n",
    "METRIC = 'LIFT' # LIFT or JACCARD"
   ]
  },
  {
   "cell_type": "markdown",
   "metadata": {},
   "source": [
    "## Working"
   ]
  },
  {
   "cell_type": "code",
   "execution_count": 328,
   "metadata": {},
   "outputs": [],
   "source": [
    "filtered_df = df[df['PRIMARY_ID'].isin(target_item_sub_dept['ITEM_SUB_DEPARTMENT_NAME']) & df['SECONDARY_ID'].isin(target_item_sub_dept['ITEM_SUB_DEPARTMENT_NAME'])]\n",
    "\n",
    "filtered_df = filtered_df[filtered_df['PAIR_TRANSACTIONS'] >= TRX_THRESHOLD]\n",
    "threshold = filtered_df[METRIC].quantile(QUANTILE)\n",
    "filtered_df = filtered_df[filtered_df[METRIC] >= threshold]\n",
    "top_edges = filtered_df.sort_values(METRIC, ascending=False).groupby('PRIMARY_ID').head(TOP_N)"
   ]
  },
  {
   "cell_type": "code",
   "execution_count": 329,
   "metadata": {},
   "outputs": [
    {
     "data": {
      "text/html": [
       "<div>\n",
       "<style scoped>\n",
       "    .dataframe tbody tr th:only-of-type {\n",
       "        vertical-align: middle;\n",
       "    }\n",
       "\n",
       "    .dataframe tbody tr th {\n",
       "        vertical-align: top;\n",
       "    }\n",
       "\n",
       "    .dataframe thead th {\n",
       "        text-align: right;\n",
       "    }\n",
       "</style>\n",
       "<table border=\"1\" class=\"dataframe\">\n",
       "  <thead>\n",
       "    <tr style=\"text-align: right;\">\n",
       "      <th></th>\n",
       "      <th>PRIMARY_ID</th>\n",
       "      <th>SECONDARY_ID</th>\n",
       "      <th>PRIMARY_TRANSACTIONS</th>\n",
       "      <th>SECONDARY_TRANSACTIONS</th>\n",
       "      <th>TRX_START_MONTH</th>\n",
       "      <th>TRX_END_MONTH</th>\n",
       "      <th>PAIR_TRANSACTIONS</th>\n",
       "      <th>LIFT</th>\n",
       "      <th>JACCARD</th>\n",
       "    </tr>\n",
       "  </thead>\n",
       "  <tbody>\n",
       "    <tr>\n",
       "      <th>4104</th>\n",
       "      <td>400 BORDERS HEDGING SCREENING</td>\n",
       "      <td>400 TROPICAL</td>\n",
       "      <td>3971</td>\n",
       "      <td>1366</td>\n",
       "      <td>2024-06-01</td>\n",
       "      <td>2025-05-01</td>\n",
       "      <td>15</td>\n",
       "      <td>3.087670</td>\n",
       "      <td>0.002818</td>\n",
       "    </tr>\n",
       "    <tr>\n",
       "      <th>7128</th>\n",
       "      <td>400 CACTI AND SUCCULENTS</td>\n",
       "      <td>400 PLANTS OFF RANGE</td>\n",
       "      <td>13191</td>\n",
       "      <td>526</td>\n",
       "      <td>2024-06-01</td>\n",
       "      <td>2025-05-01</td>\n",
       "      <td>15</td>\n",
       "      <td>2.413893</td>\n",
       "      <td>0.001095</td>\n",
       "    </tr>\n",
       "    <tr>\n",
       "      <th>43527</th>\n",
       "      <td>400 PLANTS OFF RANGE</td>\n",
       "      <td>400 CACTI AND SUCCULENTS</td>\n",
       "      <td>554</td>\n",
       "      <td>13191</td>\n",
       "      <td>2024-06-01</td>\n",
       "      <td>2025-05-01</td>\n",
       "      <td>15</td>\n",
       "      <td>2.291891</td>\n",
       "      <td>0.001092</td>\n",
       "    </tr>\n",
       "    <tr>\n",
       "      <th>55539</th>\n",
       "      <td>400 TROPICAL</td>\n",
       "      <td>400 BORDERS HEDGING SCREENING</td>\n",
       "      <td>1366</td>\n",
       "      <td>3971</td>\n",
       "      <td>2024-06-01</td>\n",
       "      <td>2025-05-01</td>\n",
       "      <td>15</td>\n",
       "      <td>3.087670</td>\n",
       "      <td>0.002818</td>\n",
       "    </tr>\n",
       "    <tr>\n",
       "      <th>23709</th>\n",
       "      <td>400 GROUNDCOVER PLANT</td>\n",
       "      <td>400 TROPICAL</td>\n",
       "      <td>4709</td>\n",
       "      <td>1366</td>\n",
       "      <td>2024-06-01</td>\n",
       "      <td>2025-05-01</td>\n",
       "      <td>14</td>\n",
       "      <td>2.430182</td>\n",
       "      <td>0.002310</td>\n",
       "    </tr>\n",
       "    <tr>\n",
       "      <th>55590</th>\n",
       "      <td>400 TROPICAL</td>\n",
       "      <td>400 GROUNDCOVER PLANT</td>\n",
       "      <td>1366</td>\n",
       "      <td>4709</td>\n",
       "      <td>2024-06-01</td>\n",
       "      <td>2025-05-01</td>\n",
       "      <td>14</td>\n",
       "      <td>2.430182</td>\n",
       "      <td>0.002310</td>\n",
       "    </tr>\n",
       "    <tr>\n",
       "      <th>6732</th>\n",
       "      <td>400 BULBS</td>\n",
       "      <td>400 PLANTS OFF RANGE</td>\n",
       "      <td>13364</td>\n",
       "      <td>526</td>\n",
       "      <td>2024-06-01</td>\n",
       "      <td>2025-03-01</td>\n",
       "      <td>13</td>\n",
       "      <td>2.064959</td>\n",
       "      <td>0.000937</td>\n",
       "    </tr>\n",
       "    <tr>\n",
       "      <th>43526</th>\n",
       "      <td>400 PLANTS OFF RANGE</td>\n",
       "      <td>400 BULBS</td>\n",
       "      <td>554</td>\n",
       "      <td>13364</td>\n",
       "      <td>2024-06-01</td>\n",
       "      <td>2025-03-01</td>\n",
       "      <td>13</td>\n",
       "      <td>1.960593</td>\n",
       "      <td>0.000935</td>\n",
       "    </tr>\n",
       "    <tr>\n",
       "      <th>4059</th>\n",
       "      <td>400 BORDERS HEDGING SCREENING</td>\n",
       "      <td>400 PALMS</td>\n",
       "      <td>3971</td>\n",
       "      <td>1481</td>\n",
       "      <td>2024-07-01</td>\n",
       "      <td>2025-03-01</td>\n",
       "      <td>12</td>\n",
       "      <td>2.278330</td>\n",
       "      <td>0.002206</td>\n",
       "    </tr>\n",
       "    <tr>\n",
       "      <th>23664</th>\n",
       "      <td>400 GROUNDCOVER PLANT</td>\n",
       "      <td>400 PALMS</td>\n",
       "      <td>4709</td>\n",
       "      <td>1481</td>\n",
       "      <td>2024-06-01</td>\n",
       "      <td>2025-05-01</td>\n",
       "      <td>12</td>\n",
       "      <td>1.921267</td>\n",
       "      <td>0.001942</td>\n",
       "    </tr>\n",
       "    <tr>\n",
       "      <th>40507</th>\n",
       "      <td>400 PALMS</td>\n",
       "      <td>400 BORDERS HEDGING SCREENING</td>\n",
       "      <td>1481</td>\n",
       "      <td>3971</td>\n",
       "      <td>2024-07-01</td>\n",
       "      <td>2025-03-01</td>\n",
       "      <td>12</td>\n",
       "      <td>2.278330</td>\n",
       "      <td>0.002206</td>\n",
       "    </tr>\n",
       "    <tr>\n",
       "      <th>40559</th>\n",
       "      <td>400 PALMS</td>\n",
       "      <td>400 GROUNDCOVER PLANT</td>\n",
       "      <td>1481</td>\n",
       "      <td>4709</td>\n",
       "      <td>2024-06-01</td>\n",
       "      <td>2025-05-01</td>\n",
       "      <td>12</td>\n",
       "      <td>1.921267</td>\n",
       "      <td>0.001942</td>\n",
       "    </tr>\n",
       "    <tr>\n",
       "      <th>40645</th>\n",
       "      <td>400 PALMS</td>\n",
       "      <td>400 TROPICAL</td>\n",
       "      <td>1481</td>\n",
       "      <td>1366</td>\n",
       "      <td>2024-06-01</td>\n",
       "      <td>2025-04-01</td>\n",
       "      <td>11</td>\n",
       "      <td>6.071237</td>\n",
       "      <td>0.003879</td>\n",
       "    </tr>\n",
       "    <tr>\n",
       "      <th>55632</th>\n",
       "      <td>400 TROPICAL</td>\n",
       "      <td>400 PALMS</td>\n",
       "      <td>1366</td>\n",
       "      <td>1481</td>\n",
       "      <td>2024-06-01</td>\n",
       "      <td>2025-04-01</td>\n",
       "      <td>11</td>\n",
       "      <td>6.071237</td>\n",
       "      <td>0.003879</td>\n",
       "    </tr>\n",
       "    <tr>\n",
       "      <th>9361</th>\n",
       "      <td>400 CLIMBING PLANT</td>\n",
       "      <td>400 PLANTS OFF RANGE</td>\n",
       "      <td>5153</td>\n",
       "      <td>526</td>\n",
       "      <td>2024-06-01</td>\n",
       "      <td>2025-05-01</td>\n",
       "      <td>10</td>\n",
       "      <td>4.119498</td>\n",
       "      <td>0.001764</td>\n",
       "    </tr>\n",
       "    <tr>\n",
       "      <th>43532</th>\n",
       "      <td>400 PLANTS OFF RANGE</td>\n",
       "      <td>400 CLIMBING PLANT</td>\n",
       "      <td>554</td>\n",
       "      <td>5153</td>\n",
       "      <td>2024-06-01</td>\n",
       "      <td>2025-05-01</td>\n",
       "      <td>10</td>\n",
       "      <td>3.911293</td>\n",
       "      <td>0.001755</td>\n",
       "    </tr>\n",
       "  </tbody>\n",
       "</table>\n",
       "</div>"
      ],
      "text/plain": [
       "                          PRIMARY_ID                   SECONDARY_ID  \\\n",
       "4104   400 BORDERS HEDGING SCREENING                   400 TROPICAL   \n",
       "7128        400 CACTI AND SUCCULENTS           400 PLANTS OFF RANGE   \n",
       "43527           400 PLANTS OFF RANGE       400 CACTI AND SUCCULENTS   \n",
       "55539                   400 TROPICAL  400 BORDERS HEDGING SCREENING   \n",
       "23709          400 GROUNDCOVER PLANT                   400 TROPICAL   \n",
       "55590                   400 TROPICAL          400 GROUNDCOVER PLANT   \n",
       "6732                       400 BULBS           400 PLANTS OFF RANGE   \n",
       "43526           400 PLANTS OFF RANGE                      400 BULBS   \n",
       "4059   400 BORDERS HEDGING SCREENING                      400 PALMS   \n",
       "23664          400 GROUNDCOVER PLANT                      400 PALMS   \n",
       "40507                      400 PALMS  400 BORDERS HEDGING SCREENING   \n",
       "40559                      400 PALMS          400 GROUNDCOVER PLANT   \n",
       "40645                      400 PALMS                   400 TROPICAL   \n",
       "55632                   400 TROPICAL                      400 PALMS   \n",
       "9361              400 CLIMBING PLANT           400 PLANTS OFF RANGE   \n",
       "43532           400 PLANTS OFF RANGE             400 CLIMBING PLANT   \n",
       "\n",
       "       PRIMARY_TRANSACTIONS  SECONDARY_TRANSACTIONS TRX_START_MONTH  \\\n",
       "4104                   3971                    1366      2024-06-01   \n",
       "7128                  13191                     526      2024-06-01   \n",
       "43527                   554                   13191      2024-06-01   \n",
       "55539                  1366                    3971      2024-06-01   \n",
       "23709                  4709                    1366      2024-06-01   \n",
       "55590                  1366                    4709      2024-06-01   \n",
       "6732                  13364                     526      2024-06-01   \n",
       "43526                   554                   13364      2024-06-01   \n",
       "4059                   3971                    1481      2024-07-01   \n",
       "23664                  4709                    1481      2024-06-01   \n",
       "40507                  1481                    3971      2024-07-01   \n",
       "40559                  1481                    4709      2024-06-01   \n",
       "40645                  1481                    1366      2024-06-01   \n",
       "55632                  1366                    1481      2024-06-01   \n",
       "9361                   5153                     526      2024-06-01   \n",
       "43532                   554                    5153      2024-06-01   \n",
       "\n",
       "      TRX_END_MONTH  PAIR_TRANSACTIONS      LIFT   JACCARD  \n",
       "4104     2025-05-01                 15  3.087670  0.002818  \n",
       "7128     2025-05-01                 15  2.413893  0.001095  \n",
       "43527    2025-05-01                 15  2.291891  0.001092  \n",
       "55539    2025-05-01                 15  3.087670  0.002818  \n",
       "23709    2025-05-01                 14  2.430182  0.002310  \n",
       "55590    2025-05-01                 14  2.430182  0.002310  \n",
       "6732     2025-03-01                 13  2.064959  0.000937  \n",
       "43526    2025-03-01                 13  1.960593  0.000935  \n",
       "4059     2025-03-01                 12  2.278330  0.002206  \n",
       "23664    2025-05-01                 12  1.921267  0.001942  \n",
       "40507    2025-03-01                 12  2.278330  0.002206  \n",
       "40559    2025-05-01                 12  1.921267  0.001942  \n",
       "40645    2025-04-01                 11  6.071237  0.003879  \n",
       "55632    2025-04-01                 11  6.071237  0.003879  \n",
       "9361     2025-05-01                 10  4.119498  0.001764  \n",
       "43532    2025-05-01                 10  3.911293  0.001755  "
      ]
     },
     "execution_count": 329,
     "metadata": {},
     "output_type": "execute_result"
    }
   ],
   "source": [
    "filtered_df.sort_values(by='PAIR_TRANSACTIONS', ascending=False)"
   ]
  },
  {
   "cell_type": "code",
   "execution_count": 330,
   "metadata": {},
   "outputs": [
    {
     "data": {
      "image/png": "[encoded data removed]",
      "text/plain": [
       "<Figure size 1000x1000 with 6 Axes>"
      ]
     },
     "metadata": {},
     "output_type": "display_data"
    }
   ],
   "source": [
    "# Plot histograms of numerical columns\n",
    "numeric_cols = filtered_df.select_dtypes(include='number').columns\n",
    "filtered_df[numeric_cols].hist(bins=100, figsize=(10, 10), layout=(3, 2))\n",
    "plt.tight_layout()\n",
    "plt.show()"
   ]
  },
  {
   "cell_type": "code",
   "execution_count": 331,
   "metadata": {},
   "outputs": [],
   "source": [
    "mode='lines',\n",
    "line_shape='spline'\n",
    "    \n",
    "# Build node size map from your DataFrame\n",
    "node_size_map = dict(zip(top_edges['PRIMARY_ID'], top_edges['PRIMARY_TRANSACTIONS']))\n",
    "\n",
    "# Convert values to NumPy array\n",
    "sizes = np.array(list(node_size_map.values()))\n",
    "\n",
    "# Use np.ptp instead of .ptp()\n",
    "norm_sizes = (sizes - sizes.min()) / np.ptp(sizes)  # scale to 0–1\n",
    "scaled_sizes = 10 + norm_sizes * 30                 # scale to 10–40\n",
    "\n",
    "# Final size map: Product ID → Scaled Size\n",
    "scaled_size_map = dict(zip(node_size_map.keys(), scaled_sizes))\n",
    "\n",
    "# Step 1: Build the full graph\n",
    "G = nx.Graph()\n",
    "for _, row in top_edges.iterrows():\n",
    "    G.add_edge(row['PRIMARY_ID'], row['SECONDARY_ID'], weight=row[METRIC])\n",
    "\n",
    "# Step 2: Louvain community detection\n",
    "partition = community_louvain.best_partition(G, weight=METRIC, resolution=RESO)\n",
    "\n",
    "# Step 3: Layout\n",
    "pos = nx.spring_layout(G, weight='weight', seed=42\n",
    "                      )\n",
    "\n",
    "# Step 4: Edge trace (no filter on weight)\n",
    "edge_x, edge_y = [], []\n",
    "for u, v in G.edges():\n",
    "    x0, y0 = pos[u]\n",
    "    x1, y1 = pos[v]\n",
    "    edge_x += [x0, x1, None]\n",
    "    edge_y += [y0, y1, None]\n",
    "\n",
    "edge_trace = go.Scatter(\n",
    "    x=edge_x,\n",
    "    y=edge_y,\n",
    "    line=dict(width=1, color='gray'),\n",
    "    hoverinfo='none',\n",
    "    mode='lines'\n",
    ")\n",
    "\n",
    "# Step 5: Node trace with Louvain cluster coloring\n",
    "color_list = ['#1f77b4', '#ff7f0e', '#2ca02c', '#d62728',\n",
    "              '#9467bd', '#8c564b', '#e377c2', '#7f7f7f',\n",
    "              '#bcbd22', '#17becf']  # Extend if you expect >10 clusters\n",
    "\n",
    "node_x, node_y, node_color, node_size, hover_text = [], [], [], [], []\n",
    "\n",
    "for node in G.nodes():\n",
    "    x, y = pos[node]\n",
    "    cluster = partition[node]\n",
    "    size = scaled_size_map.get(node, 10)  # default to small if missing\n",
    "\n",
    "    node_x.append(x)\n",
    "    node_y.append(y)\n",
    "    node_color.append(color_list[cluster % len(color_list)])\n",
    "    node_size.append(size)\n",
    "    hover_text.append(f\"Product ID: {node}<br>Cluster: {cluster}<br>Transactions: {int(size)}\")\n",
    "\n",
    "node_trace = go.Scatter(\n",
    "    x=node_x,\n",
    "    y=node_y,\n",
    "    mode='markers+text',\n",
    "    hoverinfo='text',\n",
    "    text=[str(node) for node in G.nodes()],\n",
    "    textposition='top center',\n",
    "    marker=dict(\n",
    "        color=node_color,\n",
    "        size=node_size,  # <--- size now dynamic!\n",
    "        line=dict(width=2, color='black')\n",
    "    ),\n",
    "    textfont=dict(\n",
    "    size=16,          # increase for visibility\n",
    "    color='black',\n",
    "    family='Arial'\n",
    ")\n",
    ")\n",
    "# Step 6: Plot\n",
    "fig = go.Figure(\n",
    "    data=[edge_trace, node_trace],\n",
    "    layout=go.Layout(\n",
    "        width=1200,          # increase width\n",
    "    height=800, \n",
    "        title=dict(text='Louvain Product Clustering (All Edges)', x=0.5, font=dict(size=16)),\n",
    "        showlegend=False,\n",
    "        hovermode='closest',\n",
    "        margin=dict(b=20, l=20, r=20, t=40),\n",
    "        xaxis=dict(showgrid=False, zeroline=False, showticklabels=False),\n",
    "        yaxis=dict(showgrid=False, zeroline=False, showticklabels=False)\n",
    "    )\n",
    ")"
   ]
  },
  {
   "cell_type": "markdown",
   "metadata": {},
   "source": [
    "## Results"
   ]
  },
  {
   "cell_type": "code",
   "execution_count": 332,
   "metadata": {},
   "outputs": [
    {
     "data": {
      "application/vnd.plotly.v1+json": {
       "config": {
        "plotlyServerURL": "https://plot.ly"
       },
       "data": [
        {
         "hoverinfo": "none",
         "line": {
          "color": "gray",
          "width": 1
         },
         "mode": "lines",
         "type": "scatter",
         "x": [
          0.4794023076686085,
          0.4265939665674385,
          null,
          0.4794023076686085,
          0.5831940253283838,
          null,
          0.4794023076686085,
          0.29635327343552914,
          null,
          0.4265939665674385,
          0.5831940253283838,
          null,
          0.4265939665674385,
          0.29635327343552914,
          null,
          -0.5301196750728403,
          -0.44161797609479586,
          null,
          -0.44161797609479586,
          -0.24265511579068488,
          null,
          -0.44161797609479586,
          -0.5711508060416391,
          null
         ],
         "y": [
          0.8875692781356694,
          0.7874436473922711,
          null,
          0.8875692781356694,
          0.7486503576665919,
          null,
          0.8875692781356694,
          0.9060494457911016,
          null,
          0.7874436473922711,
          0.7486503576665919,
          null,
          0.7874436473922711,
          0.9060494457911016,
          null,
          -0.6687008226079831,
          -0.806869197579289,
          null,
          -0.806869197579289,
          -0.8541427087983621,
          null,
          -0.806869197579289,
          -0.9999999999999999,
          null
         ]
        },
        {
         "hoverinfo": "text",
         "marker": {
          "color": [
           "#ff7f0e",
           "#ff7f0e",
           "#1f77b4",
           "#1f77b4",
           "#ff7f0e",
           "#ff7f0e",
           "#1f77b4",
           "#1f77b4"
          ],
          "line": {
           "color": "black",
           "width": 2
          },
          "size": [
           12.17096018735363,
           11.901639344262295,
           20.770491803278688,
           10,
           18.002341920374704,
           19.730679156908664,
           39.594847775175644,
           40
          ]
         },
         "mode": "markers+text",
         "text": [
          "400 PALMS",
          "400 TROPICAL",
          "400 CLIMBING PLANT",
          "400 PLANTS OFF RANGE",
          "400 BORDERS HEDGING SCREENING",
          "400 GROUNDCOVER PLANT",
          "400 CACTI AND SUCCULENTS",
          "400 BULBS"
         ],
         "textfont": {
          "color": "black",
          "family": "Arial",
          "size": 16
         },
         "textposition": "top center",
         "type": "scatter",
         "x": [
          0.4794023076686085,
          0.4265939665674385,
          -0.5301196750728403,
          -0.44161797609479586,
          0.5831940253283838,
          0.29635327343552914,
          -0.24265511579068488,
          -0.5711508060416391
         ],
         "y": [
          0.8875692781356694,
          0.7874436473922711,
          -0.6687008226079831,
          -0.806869197579289,
          0.7486503576665919,
          0.9060494457911016,
          -0.8541427087983621,
          -0.9999999999999999
         ]
        }
       ],
       "layout": {
        "height": 800,
        "hovermode": "closest",
        "margin": {
         "b": 20,
         "l": 20,
         "r": 20,
         "t": 40
        },
        "showlegend": false,
        "template": {
         "data": {
          "bar": [
           {
            "error_x": {
             "color": "#2a3f5f"
            },
            "error_y": {
             "color": "#2a3f5f"
            },
            "marker": {
             "line": {
              "color": "#E5ECF6",
              "width": 0.5
             },
             "pattern": {
              "fillmode": "overlay",
              "size": 10,
              "solidity": 0.2
             }
            },
            "type": "bar"
           }
          ],
          "barpolar": [
           {
            "marker": {
             "line": {
              "color": "#E5ECF6",
              "width": 0.5
             },
             "pattern": {
              "fillmode": "overlay",
              "size": 10,
              "solidity": 0.2
             }
            },
            "type": "barpolar"
           }
          ],
          "carpet": [
           {
            "aaxis": {
             "endlinecolor": "#2a3f5f",
             "gridcolor": "white",
             "linecolor": "white",
             "minorgridcolor": "white",
             "startlinecolor": "#2a3f5f"
            },
            "baxis": {
             "endlinecolor": "#2a3f5f",
             "gridcolor": "white",
             "linecolor": "white",
             "minorgridcolor": "white",
             "startlinecolor": "#2a3f5f"
            },
            "type": "carpet"
           }
          ],
          "choropleth": [
           {
            "colorbar": {
             "outlinewidth": 0,
             "ticks": ""
            },
            "type": "choropleth"
           }
          ],
          "contour": [
           {
            "colorbar": {
             "outlinewidth": 0,
             "ticks": ""
            },
            "colorscale": [
             [
              0,
              "#0d0887"
             ],
             [
              0.1111111111111111,
              "#46039f"
             ],
             [
              0.2222222222222222,
              "#7201a8"
             ],
             [
              0.3333333333333333,
              "#9c179e"
             ],
             [
              0.4444444444444444,
              "#bd3786"
             ],
             [
              0.5555555555555556,
              "#d8576b"
             ],
             [
              0.6666666666666666,
              "#ed7953"
             ],
             [
              0.7777777777777778,
              "#fb9f3a"
             ],
             [
              0.8888888888888888,
              "#fdca26"
             ],
             [
              1,
              "#f0f921"
             ]
            ],
            "type": "contour"
           }
          ],
          "contourcarpet": [
           {
            "colorbar": {
             "outlinewidth": 0,
             "ticks": ""
            },
            "type": "contourcarpet"
           }
          ],
          "heatmap": [
           {
            "colorbar": {
             "outlinewidth": 0,
             "ticks": ""
            },
            "colorscale": [
             [
              0,
              "#0d0887"
             ],
             [
              0.1111111111111111,
              "#46039f"
             ],
             [
              0.2222222222222222,
              "#7201a8"
             ],
             [
              0.3333333333333333,
              "#9c179e"
             ],
             [
              0.4444444444444444,
              "#bd3786"
             ],
             [
              0.5555555555555556,
              "#d8576b"
             ],
             [
              0.6666666666666666,
              "#ed7953"
             ],
             [
              0.7777777777777778,
              "#fb9f3a"
             ],
             [
              0.8888888888888888,
              "#fdca26"
             ],
             [
              1,
              "#f0f921"
             ]
            ],
            "type": "heatmap"
           }
          ],
          "heatmapgl": [
           {
            "colorbar": {
             "outlinewidth": 0,
             "ticks": ""
            },
            "colorscale": [
             [
              0,
              "#0d0887"
             ],
             [
              0.1111111111111111,
              "#46039f"
             ],
             [
              0.2222222222222222,
              "#7201a8"
             ],
             [
              0.3333333333333333,
              "#9c179e"
             ],
             [
              0.4444444444444444,
              "#bd3786"
             ],
             [
              0.5555555555555556,
              "#d8576b"
             ],
             [
              0.6666666666666666,
              "#ed7953"
             ],
             [
              0.7777777777777778,
              "#fb9f3a"
             ],
             [
              0.8888888888888888,
              "#fdca26"
             ],
             [
              1,
              "#f0f921"
             ]
            ],
            "type": "heatmapgl"
           }
          ],
          "histogram": [
           {
            "marker": {
             "pattern": {
              "fillmode": "overlay",
              "size": 10,
              "solidity": 0.2
             }
            },
            "type": "histogram"
           }
          ],
          "histogram2d": [
           {
            "colorbar": {
             "outlinewidth": 0,
             "ticks": ""
            },
            "colorscale": [
             [
              0,
              "#0d0887"
             ],
             [
              0.1111111111111111,
              "#46039f"
             ],
             [
              0.2222222222222222,
              "#7201a8"
             ],
             [
              0.3333333333333333,
              "#9c179e"
             ],
             [
              0.4444444444444444,
              "#bd3786"
             ],
             [
              0.5555555555555556,
              "#d8576b"
             ],
             [
              0.6666666666666666,
              "#ed7953"
             ],
             [
              0.7777777777777778,
              "#fb9f3a"
             ],
             [
              0.8888888888888888,
              "#fdca26"
             ],
             [
              1,
              "#f0f921"
             ]
            ],
            "type": "histogram2d"
           }
          ],
          "histogram2dcontour": [
           {
            "colorbar": {
             "outlinewidth": 0,
             "ticks": ""
            },
            "colorscale": [
             [
              0,
              "#0d0887"
             ],
             [
              0.1111111111111111,
              "#46039f"
             ],
             [
              0.2222222222222222,
              "#7201a8"
             ],
             [
              0.3333333333333333,
              "#9c179e"
             ],
             [
              0.4444444444444444,
              "#bd3786"
             ],
             [
              0.5555555555555556,
              "#d8576b"
             ],
             [
              0.6666666666666666,
              "#ed7953"
             ],
             [
              0.7777777777777778,
              "#fb9f3a"
             ],
             [
              0.8888888888888888,
              "#fdca26"
             ],
             [
              1,
              "#f0f921"
             ]
            ],
            "type": "histogram2dcontour"
           }
          ],
          "mesh3d": [
           {
            "colorbar": {
             "outlinewidth": 0,
             "ticks": ""
            },
            "type": "mesh3d"
           }
          ],
          "parcoords": [
           {
            "line": {
             "colorbar": {
              "outlinewidth": 0,
              "ticks": ""
             }
            },
            "type": "parcoords"
           }
          ],
          "pie": [
           {
            "automargin": true,
            "type": "pie"
           }
          ],
          "scatter": [
           {
            "fillpattern": {
             "fillmode": "overlay",
             "size": 10,
             "solidity": 0.2
            },
            "type": "scatter"
           }
          ],
          "scatter3d": [
           {
            "line": {
             "colorbar": {
              "outlinewidth": 0,
              "ticks": ""
             }
            },
            "marker": {
             "colorbar": {
              "outlinewidth": 0,
              "ticks": ""
             }
            },
            "type": "scatter3d"
           }
          ],
          "scattercarpet": [
           {
            "marker": {
             "colorbar": {
              "outlinewidth": 0,
              "ticks": ""
             }
            },
            "type": "scattercarpet"
           }
          ],
          "scattergeo": [
           {
            "marker": {
             "colorbar": {
              "outlinewidth": 0,
              "ticks": ""
             }
            },
            "type": "scattergeo"
           }
          ],
          "scattergl": [
           {
            "marker": {
             "colorbar": {
              "outlinewidth": 0,
              "ticks": ""
             }
            },
            "type": "scattergl"
           }
          ],
          "scattermapbox": [
           {
            "marker": {
             "colorbar": {
              "outlinewidth": 0,
              "ticks": ""
             }
            },
            "type": "scattermapbox"
           }
          ],
          "scatterpolar": [
           {
            "marker": {
             "colorbar": {
              "outlinewidth": 0,
              "ticks": ""
             }
            },
            "type": "scatterpolar"
           }
          ],
          "scatterpolargl": [
           {
            "marker": {
             "colorbar": {
              "outlinewidth": 0,
              "ticks": ""
             }
            },
            "type": "scatterpolargl"
           }
          ],
          "scatterternary": [
           {
            "marker": {
             "colorbar": {
              "outlinewidth": 0,
              "ticks": ""
             }
            },
            "type": "scatterternary"
           }
          ],
          "surface": [
           {
            "colorbar": {
             "outlinewidth": 0,
             "ticks": ""
            },
            "colorscale": [
             [
              0,
              "#0d0887"
             ],
             [
              0.1111111111111111,
              "#46039f"
             ],
             [
              0.2222222222222222,
              "#7201a8"
             ],
             [
              0.3333333333333333,
              "#9c179e"
             ],
             [
              0.4444444444444444,
              "#bd3786"
             ],
             [
              0.5555555555555556,
              "#d8576b"
             ],
             [
              0.6666666666666666,
              "#ed7953"
             ],
             [
              0.7777777777777778,
              "#fb9f3a"
             ],
             [
              0.8888888888888888,
              "#fdca26"
             ],
             [
              1,
              "#f0f921"
             ]
            ],
            "type": "surface"
           }
          ],
          "table": [
           {
            "cells": {
             "fill": {
              "color": "#EBF0F8"
             },
             "line": {
              "color": "white"
             }
            },
            "header": {
             "fill": {
              "color": "#C8D4E3"
             },
             "line": {
              "color": "white"
             }
            },
            "type": "table"
           }
          ]
         },
         "layout": {
          "annotationdefaults": {
           "arrowcolor": "#2a3f5f",
           "arrowhead": 0,
           "arrowwidth": 1
          },
          "autotypenumbers": "strict",
          "coloraxis": {
           "colorbar": {
            "outlinewidth": 0,
            "ticks": ""
           }
          },
          "colorscale": {
           "diverging": [
            [
             0,
             "#8e0152"
            ],
            [
             0.1,
             "#c51b7d"
            ],
            [
             0.2,
             "#de77ae"
            ],
            [
             0.3,
             "#f1b6da"
            ],
            [
             0.4,
             "#fde0ef"
            ],
            [
             0.5,
             "#f7f7f7"
            ],
            [
             0.6,
             "#e6f5d0"
            ],
            [
             0.7,
             "#b8e186"
            ],
            [
             0.8,
             "#7fbc41"
            ],
            [
             0.9,
             "#4d9221"
            ],
            [
             1,
             "#276419"
            ]
           ],
           "sequential": [
            [
             0,
             "#0d0887"
            ],
            [
             0.1111111111111111,
             "#46039f"
            ],
            [
             0.2222222222222222,
             "#7201a8"
            ],
            [
             0.3333333333333333,
             "#9c179e"
            ],
            [
             0.4444444444444444,
             "#bd3786"
            ],
            [
             0.5555555555555556,
             "#d8576b"
            ],
            [
             0.6666666666666666,
             "#ed7953"
            ],
            [
             0.7777777777777778,
             "#fb9f3a"
            ],
            [
             0.8888888888888888,
             "#fdca26"
            ],
            [
             1,
             "#f0f921"
            ]
           ],
           "sequentialminus": [
            [
             0,
             "#0d0887"
            ],
            [
             0.1111111111111111,
             "#46039f"
            ],
            [
             0.2222222222222222,
             "#7201a8"
            ],
            [
             0.3333333333333333,
             "#9c179e"
            ],
            [
             0.4444444444444444,
             "#bd3786"
            ],
            [
             0.5555555555555556,
             "#d8576b"
            ],
            [
             0.6666666666666666,
             "#ed7953"
            ],
            [
             0.7777777777777778,
             "#fb9f3a"
            ],
            [
             0.8888888888888888,
             "#fdca26"
            ],
            [
             1,
             "#f0f921"
            ]
           ]
          },
          "colorway": [
           "#636efa",
           "#EF553B",
           "#00cc96",
           "#ab63fa",
           "#FFA15A",
           "#19d3f3",
           "#FF6692",
           "#B6E880",
           "#FF97FF",
           "#FECB52"
          ],
          "font": {
           "color": "#2a3f5f"
          },
          "geo": {
           "bgcolor": "white",
           "lakecolor": "white",
           "landcolor": "#E5ECF6",
           "showlakes": true,
           "showland": true,
           "subunitcolor": "white"
          },
          "hoverlabel": {
           "align": "left"
          },
          "hovermode": "closest",
          "mapbox": {
           "style": "light"
          },
          "paper_bgcolor": "white",
          "plot_bgcolor": "#E5ECF6",
          "polar": {
           "angularaxis": {
            "gridcolor": "white",
            "linecolor": "white",
            "ticks": ""
           },
           "bgcolor": "#E5ECF6",
           "radialaxis": {
            "gridcolor": "white",
            "linecolor": "white",
            "ticks": ""
           }
          },
          "scene": {
           "xaxis": {
            "backgroundcolor": "#E5ECF6",
            "gridcolor": "white",
            "gridwidth": 2,
            "linecolor": "white",
            "showbackground": true,
            "ticks": "",
            "zerolinecolor": "white"
           },
           "yaxis": {
            "backgroundcolor": "#E5ECF6",
            "gridcolor": "white",
            "gridwidth": 2,
            "linecolor": "white",
            "showbackground": true,
            "ticks": "",
            "zerolinecolor": "white"
           },
           "zaxis": {
            "backgroundcolor": "#E5ECF6",
            "gridcolor": "white",
            "gridwidth": 2,
            "linecolor": "white",
            "showbackground": true,
            "ticks": "",
            "zerolinecolor": "white"
           }
          },
          "shapedefaults": {
           "line": {
            "color": "#2a3f5f"
           }
          },
          "ternary": {
           "aaxis": {
            "gridcolor": "white",
            "linecolor": "white",
            "ticks": ""
           },
           "baxis": {
            "gridcolor": "white",
            "linecolor": "white",
            "ticks": ""
           },
           "bgcolor": "#E5ECF6",
           "caxis": {
            "gridcolor": "white",
            "linecolor": "white",
            "ticks": ""
           }
          },
          "title": {
           "x": 0.05
          },
          "xaxis": {
           "automargin": true,
           "gridcolor": "white",
           "linecolor": "white",
           "ticks": "",
           "title": {
            "standoff": 15
           },
           "zerolinecolor": "white",
           "zerolinewidth": 2
          },
          "yaxis": {
           "automargin": true,
           "gridcolor": "white",
           "linecolor": "white",
           "ticks": "",
           "title": {
            "standoff": 15
           },
           "zerolinecolor": "white",
           "zerolinewidth": 2
          }
         }
        },
        "title": {
         "font": {
          "size": 16
         },
         "text": "Louvain Product Clustering (All Edges)",
         "x": 0.5
        },
        "width": 1200,
        "xaxis": {
         "showgrid": false,
         "showticklabels": false,
         "zeroline": false
        },
        "yaxis": {
         "showgrid": false,
         "showticklabels": false,
         "zeroline": false
        }
       }
      },
      "text/html": [
       "<div>                            <div id=\"3574559c-a205-49ba-b67a-0b61294f2a0d\" class=\"plotly-graph-div\" style=\"height:800px; width:1200px;\"></div>            <script type=\"text/javascript\">                require([\"plotly\"], function(Plotly) {                    window.PLOTLYENV=window.PLOTLYENV || {};                                    if (document.getElementById(\"3574559c-a205-49ba-b67a-0b61294f2a0d\")) {                    Plotly.newPlot(                        \"3574559c-a205-49ba-b67a-0b61294f2a0d\",                        [{\"hoverinfo\":\"none\",\"line\":{\"color\":\"gray\",\"width\":1},\"mode\":\"lines\",\"x\":[0.4794023076686085,0.4265939665674385,null,0.4794023076686085,0.5831940253283838,null,0.4794023076686085,0.29635327343552914,null,0.4265939665674385,0.5831940253283838,null,0.4265939665674385,0.29635327343552914,null,-0.5301196750728403,-0.44161797609479586,null,-0.44161797609479586,-0.24265511579068488,null,-0.44161797609479586,-0.5711508060416391,null],\"y\":[0.8875692781356694,0.7874436473922711,null,0.8875692781356694,0.7486503576665919,null,0.8875692781356694,0.9060494457911016,null,0.7874436473922711,0.7486503576665919,null,0.7874436473922711,0.9060494457911016,null,-0.6687008226079831,-0.806869197579289,null,-0.806869197579289,-0.8541427087983621,null,-0.806869197579289,-0.9999999999999999,null],\"type\":\"scatter\"},{\"hoverinfo\":\"text\",\"marker\":{\"color\":[\"#ff7f0e\",\"#ff7f0e\",\"#1f77b4\",\"#1f77b4\",\"#ff7f0e\",\"#ff7f0e\",\"#1f77b4\",\"#1f77b4\"],\"line\":{\"color\":\"black\",\"width\":2},\"size\":[12.17096018735363,11.901639344262295,20.770491803278688,10.0,18.002341920374704,19.730679156908664,39.594847775175644,40.0]},\"mode\":\"markers+text\",\"text\":[\"400 PALMS\",\"400 TROPICAL\",\"400 CLIMBING PLANT\",\"400 PLANTS OFF RANGE\",\"400 BORDERS HEDGING SCREENING\",\"400 GROUNDCOVER PLANT\",\"400 CACTI AND SUCCULENTS\",\"400 BULBS\"],\"textfont\":{\"color\":\"black\",\"family\":\"Arial\",\"size\":16},\"textposition\":\"top center\",\"x\":[0.4794023076686085,0.4265939665674385,-0.5301196750728403,-0.44161797609479586,0.5831940253283838,0.29635327343552914,-0.24265511579068488,-0.5711508060416391],\"y\":[0.8875692781356694,0.7874436473922711,-0.6687008226079831,-0.806869197579289,0.7486503576665919,0.9060494457911016,-0.8541427087983621,-0.9999999999999999],\"type\":\"scatter\"}],                        {\"height\":800,\"hovermode\":\"closest\",\"margin\":{\"b\":20,\"l\":20,\"r\":20,\"t\":40},\"showlegend\":false,\"title\":{\"font\":{\"size\":16},\"text\":\"Louvain Product Clustering (All Edges)\",\"x\":0.5},\"width\":1200,\"xaxis\":{\"showgrid\":false,\"showticklabels\":false,\"zeroline\":false},\"yaxis\":{\"showgrid\":false,\"showticklabels\":false,\"zeroline\":false},\"template\":{\"data\":{\"histogram2dcontour\":[{\"type\":\"histogram2dcontour\",\"colorbar\":{\"outlinewidth\":0,\"ticks\":\"\"},\"colorscale\":[[0.0,\"#0d0887\"],[0.1111111111111111,\"#46039f\"],[0.2222222222222222,\"#7201a8\"],[0.3333333333333333,\"#9c179e\"],[0.4444444444444444,\"#bd3786\"],[0.5555555555555556,\"#d8576b\"],[0.6666666666666666,\"#ed7953\"],[0.7777777777777778,\"#fb9f3a\"],[0.8888888888888888,\"#fdca26\"],[1.0,\"#f0f921\"]]}],\"choropleth\":[{\"type\":\"choropleth\",\"colorbar\":{\"outlinewidth\":0,\"ticks\":\"\"}}],\"histogram2d\":[{\"type\":\"histogram2d\",\"colorbar\":{\"outlinewidth\":0,\"ticks\":\"\"},\"colorscale\":[[0.0,\"#0d0887\"],[0.1111111111111111,\"#46039f\"],[0.2222222222222222,\"#7201a8\"],[0.3333333333333333,\"#9c179e\"],[0.4444444444444444,\"#bd3786\"],[0.5555555555555556,\"#d8576b\"],[0.6666666666666666,\"#ed7953\"],[0.7777777777777778,\"#fb9f3a\"],[0.8888888888888888,\"#fdca26\"],[1.0,\"#f0f921\"]]}],\"heatmap\":[{\"type\":\"heatmap\",\"colorbar\":{\"outlinewidth\":0,\"ticks\":\"\"},\"colorscale\":[[0.0,\"#0d0887\"],[0.1111111111111111,\"#46039f\"],[0.2222222222222222,\"#7201a8\"],[0.3333333333333333,\"#9c179e\"],[0.4444444444444444,\"#bd3786\"],[0.5555555555555556,\"#d8576b\"],[0.6666666666666666,\"#ed7953\"],[0.7777777777777778,\"#fb9f3a\"],[0.8888888888888888,\"#fdca26\"],[1.0,\"#f0f921\"]]}],\"heatmapgl\":[{\"type\":\"heatmapgl\",\"colorbar\":{\"outlinewidth\":0,\"ticks\":\"\"},\"colorscale\":[[0.0,\"#0d0887\"],[0.1111111111111111,\"#46039f\"],[0.2222222222222222,\"#7201a8\"],[0.3333333333333333,\"#9c179e\"],[0.4444444444444444,\"#bd3786\"],[0.5555555555555556,\"#d8576b\"],[0.6666666666666666,\"#ed7953\"],[0.7777777777777778,\"#fb9f3a\"],[0.8888888888888888,\"#fdca26\"],[1.0,\"#f0f921\"]]}],\"contourcarpet\":[{\"type\":\"contourcarpet\",\"colorbar\":{\"outlinewidth\":0,\"ticks\":\"\"}}],\"contour\":[{\"type\":\"contour\",\"colorbar\":{\"outlinewidth\":0,\"ticks\":\"\"},\"colorscale\":[[0.0,\"#0d0887\"],[0.1111111111111111,\"#46039f\"],[0.2222222222222222,\"#7201a8\"],[0.3333333333333333,\"#9c179e\"],[0.4444444444444444,\"#bd3786\"],[0.5555555555555556,\"#d8576b\"],[0.6666666666666666,\"#ed7953\"],[0.7777777777777778,\"#fb9f3a\"],[0.8888888888888888,\"#fdca26\"],[1.0,\"#f0f921\"]]}],\"surface\":[{\"type\":\"surface\",\"colorbar\":{\"outlinewidth\":0,\"ticks\":\"\"},\"colorscale\":[[0.0,\"#0d0887\"],[0.1111111111111111,\"#46039f\"],[0.2222222222222222,\"#7201a8\"],[0.3333333333333333,\"#9c179e\"],[0.4444444444444444,\"#bd3786\"],[0.5555555555555556,\"#d8576b\"],[0.6666666666666666,\"#ed7953\"],[0.7777777777777778,\"#fb9f3a\"],[0.8888888888888888,\"#fdca26\"],[1.0,\"#f0f921\"]]}],\"mesh3d\":[{\"type\":\"mesh3d\",\"colorbar\":{\"outlinewidth\":0,\"ticks\":\"\"}}],\"scatter\":[{\"fillpattern\":{\"fillmode\":\"overlay\",\"size\":10,\"solidity\":0.2},\"type\":\"scatter\"}],\"parcoords\":[{\"type\":\"parcoords\",\"line\":{\"colorbar\":{\"outlinewidth\":0,\"ticks\":\"\"}}}],\"scatterpolargl\":[{\"type\":\"scatterpolargl\",\"marker\":{\"colorbar\":{\"outlinewidth\":0,\"ticks\":\"\"}}}],\"bar\":[{\"error_x\":{\"color\":\"#2a3f5f\"},\"error_y\":{\"color\":\"#2a3f5f\"},\"marker\":{\"line\":{\"color\":\"#E5ECF6\",\"width\":0.5},\"pattern\":{\"fillmode\":\"overlay\",\"size\":10,\"solidity\":0.2}},\"type\":\"bar\"}],\"scattergeo\":[{\"type\":\"scattergeo\",\"marker\":{\"colorbar\":{\"outlinewidth\":0,\"ticks\":\"\"}}}],\"scatterpolar\":[{\"type\":\"scatterpolar\",\"marker\":{\"colorbar\":{\"outlinewidth\":0,\"ticks\":\"\"}}}],\"histogram\":[{\"marker\":{\"pattern\":{\"fillmode\":\"overlay\",\"size\":10,\"solidity\":0.2}},\"type\":\"histogram\"}],\"scattergl\":[{\"type\":\"scattergl\",\"marker\":{\"colorbar\":{\"outlinewidth\":0,\"ticks\":\"\"}}}],\"scatter3d\":[{\"type\":\"scatter3d\",\"line\":{\"colorbar\":{\"outlinewidth\":0,\"ticks\":\"\"}},\"marker\":{\"colorbar\":{\"outlinewidth\":0,\"ticks\":\"\"}}}],\"scattermapbox\":[{\"type\":\"scattermapbox\",\"marker\":{\"colorbar\":{\"outlinewidth\":0,\"ticks\":\"\"}}}],\"scatterternary\":[{\"type\":\"scatterternary\",\"marker\":{\"colorbar\":{\"outlinewidth\":0,\"ticks\":\"\"}}}],\"scattercarpet\":[{\"type\":\"scattercarpet\",\"marker\":{\"colorbar\":{\"outlinewidth\":0,\"ticks\":\"\"}}}],\"carpet\":[{\"aaxis\":{\"endlinecolor\":\"#2a3f5f\",\"gridcolor\":\"white\",\"linecolor\":\"white\",\"minorgridcolor\":\"white\",\"startlinecolor\":\"#2a3f5f\"},\"baxis\":{\"endlinecolor\":\"#2a3f5f\",\"gridcolor\":\"white\",\"linecolor\":\"white\",\"minorgridcolor\":\"white\",\"startlinecolor\":\"#2a3f5f\"},\"type\":\"carpet\"}],\"table\":[{\"cells\":{\"fill\":{\"color\":\"#EBF0F8\"},\"line\":{\"color\":\"white\"}},\"header\":{\"fill\":{\"color\":\"#C8D4E3\"},\"line\":{\"color\":\"white\"}},\"type\":\"table\"}],\"barpolar\":[{\"marker\":{\"line\":{\"color\":\"#E5ECF6\",\"width\":0.5},\"pattern\":{\"fillmode\":\"overlay\",\"size\":10,\"solidity\":0.2}},\"type\":\"barpolar\"}],\"pie\":[{\"automargin\":true,\"type\":\"pie\"}]},\"layout\":{\"autotypenumbers\":\"strict\",\"colorway\":[\"#636efa\",\"#EF553B\",\"#00cc96\",\"#ab63fa\",\"#FFA15A\",\"#19d3f3\",\"#FF6692\",\"#B6E880\",\"#FF97FF\",\"#FECB52\"],\"font\":{\"color\":\"#2a3f5f\"},\"hovermode\":\"closest\",\"hoverlabel\":{\"align\":\"left\"},\"paper_bgcolor\":\"white\",\"plot_bgcolor\":\"#E5ECF6\",\"polar\":{\"bgcolor\":\"#E5ECF6\",\"angularaxis\":{\"gridcolor\":\"white\",\"linecolor\":\"white\",\"ticks\":\"\"},\"radialaxis\":{\"gridcolor\":\"white\",\"linecolor\":\"white\",\"ticks\":\"\"}},\"ternary\":{\"bgcolor\":\"#E5ECF6\",\"aaxis\":{\"gridcolor\":\"white\",\"linecolor\":\"white\",\"ticks\":\"\"},\"baxis\":{\"gridcolor\":\"white\",\"linecolor\":\"white\",\"ticks\":\"\"},\"caxis\":{\"gridcolor\":\"white\",\"linecolor\":\"white\",\"ticks\":\"\"}},\"coloraxis\":{\"colorbar\":{\"outlinewidth\":0,\"ticks\":\"\"}},\"colorscale\":{\"sequential\":[[0.0,\"#0d0887\"],[0.1111111111111111,\"#46039f\"],[0.2222222222222222,\"#7201a8\"],[0.3333333333333333,\"#9c179e\"],[0.4444444444444444,\"#bd3786\"],[0.5555555555555556,\"#d8576b\"],[0.6666666666666666,\"#ed7953\"],[0.7777777777777778,\"#fb9f3a\"],[0.8888888888888888,\"#fdca26\"],[1.0,\"#f0f921\"]],\"sequentialminus\":[[0.0,\"#0d0887\"],[0.1111111111111111,\"#46039f\"],[0.2222222222222222,\"#7201a8\"],[0.3333333333333333,\"#9c179e\"],[0.4444444444444444,\"#bd3786\"],[0.5555555555555556,\"#d8576b\"],[0.6666666666666666,\"#ed7953\"],[0.7777777777777778,\"#fb9f3a\"],[0.8888888888888888,\"#fdca26\"],[1.0,\"#f0f921\"]],\"diverging\":[[0,\"#8e0152\"],[0.1,\"#c51b7d\"],[0.2,\"#de77ae\"],[0.3,\"#f1b6da\"],[0.4,\"#fde0ef\"],[0.5,\"#f7f7f7\"],[0.6,\"#e6f5d0\"],[0.7,\"#b8e186\"],[0.8,\"#7fbc41\"],[0.9,\"#4d9221\"],[1,\"#276419\"]]},\"xaxis\":{\"gridcolor\":\"white\",\"linecolor\":\"white\",\"ticks\":\"\",\"title\":{\"standoff\":15},\"zerolinecolor\":\"white\",\"automargin\":true,\"zerolinewidth\":2},\"yaxis\":{\"gridcolor\":\"white\",\"linecolor\":\"white\",\"ticks\":\"\",\"title\":{\"standoff\":15},\"zerolinecolor\":\"white\",\"automargin\":true,\"zerolinewidth\":2},\"scene\":{\"xaxis\":{\"backgroundcolor\":\"#E5ECF6\",\"gridcolor\":\"white\",\"linecolor\":\"white\",\"showbackground\":true,\"ticks\":\"\",\"zerolinecolor\":\"white\",\"gridwidth\":2},\"yaxis\":{\"backgroundcolor\":\"#E5ECF6\",\"gridcolor\":\"white\",\"linecolor\":\"white\",\"showbackground\":true,\"ticks\":\"\",\"zerolinecolor\":\"white\",\"gridwidth\":2},\"zaxis\":{\"backgroundcolor\":\"#E5ECF6\",\"gridcolor\":\"white\",\"linecolor\":\"white\",\"showbackground\":true,\"ticks\":\"\",\"zerolinecolor\":\"white\",\"gridwidth\":2}},\"shapedefaults\":{\"line\":{\"color\":\"#2a3f5f\"}},\"annotationdefaults\":{\"arrowcolor\":\"#2a3f5f\",\"arrowhead\":0,\"arrowwidth\":1},\"geo\":{\"bgcolor\":\"white\",\"landcolor\":\"#E5ECF6\",\"subunitcolor\":\"white\",\"showland\":true,\"showlakes\":true,\"lakecolor\":\"white\"},\"title\":{\"x\":0.05},\"mapbox\":{\"style\":\"light\"}}}},                        {\"responsive\": true}                    ).then(function(){\n",
       "                            \n",
       "var gd = document.getElementById('3574559c-a205-49ba-b67a-0b61294f2a0d');\n",
       "var x = new MutationObserver(function (mutations, observer) {{\n",
       "        var display = window.getComputedStyle(gd).display;\n",
       "        if (!display || display === 'none') {{\n",
       "            console.log([gd, 'removed!']);\n",
       "            Plotly.purge(gd);\n",
       "            observer.disconnect();\n",
       "        }}\n",
       "}});\n",
       "\n",
       "// Listen for the removal of the full notebook cells\n",
       "var notebookContainer = gd.closest('#notebook-container');\n",
       "if (notebookContainer) {{\n",
       "    x.observe(notebookContainer, {childList: true});\n",
       "}}\n",
       "\n",
       "// Listen for the clearing of the current output cell\n",
       "var outputEl = gd.closest('.output');\n",
       "if (outputEl) {{\n",
       "    x.observe(outputEl, {childList: true});\n",
       "}}\n",
       "\n",
       "                        })                };                });            </script>        </div>"
      ]
     },
     "metadata": {},
     "output_type": "display_data"
    }
   ],
   "source": [
    "fig.show()"
   ]
  },
  {
   "cell_type": "code",
   "execution_count": 333,
   "metadata": {},
   "outputs": [],
   "source": [
    "# Merge community partition info with filtered edges\n",
    "partition_df = pd.DataFrame.from_dict(partition, orient='index', columns=['segment']).reset_index()\n",
    "partition_df.rename(columns={'index': 'PRIMARY_ID'}, inplace=True)\n",
    "\n",
    "# Merge and deduplicate\n",
    "labelled_df = filtered_df.merge(partition_df, on='PRIMARY_ID', how='left')\n",
    "labelled_df = labelled_df[['PRIMARY_ID', 'SECONDARY_ID', 'PRIMARY_TRANSACTIONS', 'SECONDARY_TRANSACTIONS', 'PAIR_TRANSACTIONS', METRIC, 'segment']].drop_duplicates()\n",
    "labelled_df = labelled_df.sort_values(by=['segment', METRIC]).reset_index(drop=True)\n",
    "\n",
    "# Expand display limits\n",
    "pd.set_option('display.max_rows', None)\n",
    "pd.set_option('display.max_columns', None)\n",
    "pd.set_option('display.width', None)"
   ]
  },
  {
   "cell_type": "code",
   "execution_count": 334,
   "metadata": {},
   "outputs": [
    {
     "data": {
      "text/html": [
       "<div>\n",
       "<style scoped>\n",
       "    .dataframe tbody tr th:only-of-type {\n",
       "        vertical-align: middle;\n",
       "    }\n",
       "\n",
       "    .dataframe tbody tr th {\n",
       "        vertical-align: top;\n",
       "    }\n",
       "\n",
       "    .dataframe thead th {\n",
       "        text-align: right;\n",
       "    }\n",
       "</style>\n",
       "<table border=\"1\" class=\"dataframe\">\n",
       "  <thead>\n",
       "    <tr style=\"text-align: right;\">\n",
       "      <th></th>\n",
       "      <th>PRIMARY_ID</th>\n",
       "      <th>SECONDARY_ID</th>\n",
       "      <th>PRIMARY_TRANSACTIONS</th>\n",
       "      <th>SECONDARY_TRANSACTIONS</th>\n",
       "      <th>PAIR_TRANSACTIONS</th>\n",
       "      <th>LIFT</th>\n",
       "      <th>segment</th>\n",
       "    </tr>\n",
       "  </thead>\n",
       "  <tbody>\n",
       "    <tr>\n",
       "      <th>0</th>\n",
       "      <td>400 PLANTS OFF RANGE</td>\n",
       "      <td>400 BULBS</td>\n",
       "      <td>554</td>\n",
       "      <td>13364</td>\n",
       "      <td>13</td>\n",
       "      <td>1.960593</td>\n",
       "      <td>0</td>\n",
       "    </tr>\n",
       "    <tr>\n",
       "      <th>1</th>\n",
       "      <td>400 BULBS</td>\n",
       "      <td>400 PLANTS OFF RANGE</td>\n",
       "      <td>13364</td>\n",
       "      <td>526</td>\n",
       "      <td>13</td>\n",
       "      <td>2.064959</td>\n",
       "      <td>0</td>\n",
       "    </tr>\n",
       "    <tr>\n",
       "      <th>2</th>\n",
       "      <td>400 PLANTS OFF RANGE</td>\n",
       "      <td>400 CACTI AND SUCCULENTS</td>\n",
       "      <td>554</td>\n",
       "      <td>13191</td>\n",
       "      <td>15</td>\n",
       "      <td>2.291891</td>\n",
       "      <td>0</td>\n",
       "    </tr>\n",
       "    <tr>\n",
       "      <th>3</th>\n",
       "      <td>400 CACTI AND SUCCULENTS</td>\n",
       "      <td>400 PLANTS OFF RANGE</td>\n",
       "      <td>13191</td>\n",
       "      <td>526</td>\n",
       "      <td>15</td>\n",
       "      <td>2.413893</td>\n",
       "      <td>0</td>\n",
       "    </tr>\n",
       "    <tr>\n",
       "      <th>4</th>\n",
       "      <td>400 PLANTS OFF RANGE</td>\n",
       "      <td>400 CLIMBING PLANT</td>\n",
       "      <td>554</td>\n",
       "      <td>5153</td>\n",
       "      <td>10</td>\n",
       "      <td>3.911293</td>\n",
       "      <td>0</td>\n",
       "    </tr>\n",
       "    <tr>\n",
       "      <th>5</th>\n",
       "      <td>400 CLIMBING PLANT</td>\n",
       "      <td>400 PLANTS OFF RANGE</td>\n",
       "      <td>5153</td>\n",
       "      <td>526</td>\n",
       "      <td>10</td>\n",
       "      <td>4.119498</td>\n",
       "      <td>0</td>\n",
       "    </tr>\n",
       "    <tr>\n",
       "      <th>6</th>\n",
       "      <td>400 GROUNDCOVER PLANT</td>\n",
       "      <td>400 PALMS</td>\n",
       "      <td>4709</td>\n",
       "      <td>1481</td>\n",
       "      <td>12</td>\n",
       "      <td>1.921267</td>\n",
       "      <td>1</td>\n",
       "    </tr>\n",
       "    <tr>\n",
       "      <th>7</th>\n",
       "      <td>400 PALMS</td>\n",
       "      <td>400 GROUNDCOVER PLANT</td>\n",
       "      <td>1481</td>\n",
       "      <td>4709</td>\n",
       "      <td>12</td>\n",
       "      <td>1.921267</td>\n",
       "      <td>1</td>\n",
       "    </tr>\n",
       "    <tr>\n",
       "      <th>8</th>\n",
       "      <td>400 BORDERS HEDGING SCREENING</td>\n",
       "      <td>400 PALMS</td>\n",
       "      <td>3971</td>\n",
       "      <td>1481</td>\n",
       "      <td>12</td>\n",
       "      <td>2.278330</td>\n",
       "      <td>1</td>\n",
       "    </tr>\n",
       "    <tr>\n",
       "      <th>9</th>\n",
       "      <td>400 PALMS</td>\n",
       "      <td>400 BORDERS HEDGING SCREENING</td>\n",
       "      <td>1481</td>\n",
       "      <td>3971</td>\n",
       "      <td>12</td>\n",
       "      <td>2.278330</td>\n",
       "      <td>1</td>\n",
       "    </tr>\n",
       "    <tr>\n",
       "      <th>10</th>\n",
       "      <td>400 GROUNDCOVER PLANT</td>\n",
       "      <td>400 TROPICAL</td>\n",
       "      <td>4709</td>\n",
       "      <td>1366</td>\n",
       "      <td>14</td>\n",
       "      <td>2.430182</td>\n",
       "      <td>1</td>\n",
       "    </tr>\n",
       "    <tr>\n",
       "      <th>11</th>\n",
       "      <td>400 TROPICAL</td>\n",
       "      <td>400 GROUNDCOVER PLANT</td>\n",
       "      <td>1366</td>\n",
       "      <td>4709</td>\n",
       "      <td>14</td>\n",
       "      <td>2.430182</td>\n",
       "      <td>1</td>\n",
       "    </tr>\n",
       "    <tr>\n",
       "      <th>12</th>\n",
       "      <td>400 BORDERS HEDGING SCREENING</td>\n",
       "      <td>400 TROPICAL</td>\n",
       "      <td>3971</td>\n",
       "      <td>1366</td>\n",
       "      <td>15</td>\n",
       "      <td>3.087670</td>\n",
       "      <td>1</td>\n",
       "    </tr>\n",
       "    <tr>\n",
       "      <th>13</th>\n",
       "      <td>400 TROPICAL</td>\n",
       "      <td>400 BORDERS HEDGING SCREENING</td>\n",
       "      <td>1366</td>\n",
       "      <td>3971</td>\n",
       "      <td>15</td>\n",
       "      <td>3.087670</td>\n",
       "      <td>1</td>\n",
       "    </tr>\n",
       "    <tr>\n",
       "      <th>14</th>\n",
       "      <td>400 PALMS</td>\n",
       "      <td>400 TROPICAL</td>\n",
       "      <td>1481</td>\n",
       "      <td>1366</td>\n",
       "      <td>11</td>\n",
       "      <td>6.071237</td>\n",
       "      <td>1</td>\n",
       "    </tr>\n",
       "    <tr>\n",
       "      <th>15</th>\n",
       "      <td>400 TROPICAL</td>\n",
       "      <td>400 PALMS</td>\n",
       "      <td>1366</td>\n",
       "      <td>1481</td>\n",
       "      <td>11</td>\n",
       "      <td>6.071237</td>\n",
       "      <td>1</td>\n",
       "    </tr>\n",
       "  </tbody>\n",
       "</table>\n",
       "</div>"
      ],
      "text/plain": [
       "                       PRIMARY_ID                   SECONDARY_ID  \\\n",
       "0            400 PLANTS OFF RANGE                      400 BULBS   \n",
       "1                       400 BULBS           400 PLANTS OFF RANGE   \n",
       "2            400 PLANTS OFF RANGE       400 CACTI AND SUCCULENTS   \n",
       "3        400 CACTI AND SUCCULENTS           400 PLANTS OFF RANGE   \n",
       "4            400 PLANTS OFF RANGE             400 CLIMBING PLANT   \n",
       "5              400 CLIMBING PLANT           400 PLANTS OFF RANGE   \n",
       "6           400 GROUNDCOVER PLANT                      400 PALMS   \n",
       "7                       400 PALMS          400 GROUNDCOVER PLANT   \n",
       "8   400 BORDERS HEDGING SCREENING                      400 PALMS   \n",
       "9                       400 PALMS  400 BORDERS HEDGING SCREENING   \n",
       "10          400 GROUNDCOVER PLANT                   400 TROPICAL   \n",
       "11                   400 TROPICAL          400 GROUNDCOVER PLANT   \n",
       "12  400 BORDERS HEDGING SCREENING                   400 TROPICAL   \n",
       "13                   400 TROPICAL  400 BORDERS HEDGING SCREENING   \n",
       "14                      400 PALMS                   400 TROPICAL   \n",
       "15                   400 TROPICAL                      400 PALMS   \n",
       "\n",
       "    PRIMARY_TRANSACTIONS  SECONDARY_TRANSACTIONS  PAIR_TRANSACTIONS      LIFT  \\\n",
       "0                    554                   13364                 13  1.960593   \n",
       "1                  13364                     526                 13  2.064959   \n",
       "2                    554                   13191                 15  2.291891   \n",
       "3                  13191                     526                 15  2.413893   \n",
       "4                    554                    5153                 10  3.911293   \n",
       "5                   5153                     526                 10  4.119498   \n",
       "6                   4709                    1481                 12  1.921267   \n",
       "7                   1481                    4709                 12  1.921267   \n",
       "8                   3971                    1481                 12  2.278330   \n",
       "9                   1481                    3971                 12  2.278330   \n",
       "10                  4709                    1366                 14  2.430182   \n",
       "11                  1366                    4709                 14  2.430182   \n",
       "12                  3971                    1366                 15  3.087670   \n",
       "13                  1366                    3971                 15  3.087670   \n",
       "14                  1481                    1366                 11  6.071237   \n",
       "15                  1366                    1481                 11  6.071237   \n",
       "\n",
       "    segment  \n",
       "0         0  \n",
       "1         0  \n",
       "2         0  \n",
       "3         0  \n",
       "4         0  \n",
       "5         0  \n",
       "6         1  \n",
       "7         1  \n",
       "8         1  \n",
       "9         1  \n",
       "10        1  \n",
       "11        1  \n",
       "12        1  \n",
       "13        1  \n",
       "14        1  \n",
       "15        1  "
      ]
     },
     "metadata": {},
     "output_type": "display_data"
    }
   ],
   "source": [
    "display(labelled_df)"
   ]
  },
  {
   "cell_type": "code",
   "execution_count": 337,
   "metadata": {},
   "outputs": [],
   "source": [
    "naming = {\n",
    "    0:  'Feature & Accent Specimens',\n",
    "    1:  'Mass Landscape Establishment'\n",
    "}\n",
    "\n",
    "# Relabel and aggregate\n",
    "labelled_df['segment'] = labelled_df['segment'].map(naming)"
   ]
  },
  {
   "cell_type": "code",
   "execution_count": 338,
   "metadata": {},
   "outputs": [
    {
     "data": {
      "text/html": [
       "<div>\n",
       "<style scoped>\n",
       "    .dataframe tbody tr th:only-of-type {\n",
       "        vertical-align: middle;\n",
       "    }\n",
       "\n",
       "    .dataframe tbody tr th {\n",
       "        vertical-align: top;\n",
       "    }\n",
       "\n",
       "    .dataframe thead th {\n",
       "        text-align: right;\n",
       "    }\n",
       "</style>\n",
       "<table border=\"1\" class=\"dataframe\">\n",
       "  <thead>\n",
       "    <tr style=\"text-align: right;\">\n",
       "      <th></th>\n",
       "      <th>segment</th>\n",
       "      <th>total_PRIMARY_TRANSACTIONS</th>\n",
       "    </tr>\n",
       "  </thead>\n",
       "  <tbody>\n",
       "    <tr>\n",
       "      <th>1</th>\n",
       "      <td>Mass Landscape Establishment</td>\n",
       "      <td>25901</td>\n",
       "    </tr>\n",
       "    <tr>\n",
       "      <th>0</th>\n",
       "      <td>Feature &amp; Accent Specimens</td>\n",
       "      <td>33370</td>\n",
       "    </tr>\n",
       "  </tbody>\n",
       "</table>\n",
       "</div>"
      ],
      "text/plain": [
       "                        segment  total_PRIMARY_TRANSACTIONS\n",
       "1  Mass Landscape Establishment                       25901\n",
       "0    Feature & Accent Specimens                       33370"
      ]
     },
     "execution_count": 338,
     "metadata": {},
     "output_type": "execute_result"
    }
   ],
   "source": [
    "labelled_df.groupby(['segment'], as_index=False).agg(total_PRIMARY_TRANSACTIONS=('PRIMARY_TRANSACTIONS', 'sum')).sort_values('total_PRIMARY_TRANSACTIONS')"
   ]
  },
  {
   "cell_type": "code",
   "execution_count": 339,
   "metadata": {},
   "outputs": [
    {
     "data": {
      "text/html": [
       "<div>\n",
       "<style scoped>\n",
       "    .dataframe tbody tr th:only-of-type {\n",
       "        vertical-align: middle;\n",
       "    }\n",
       "\n",
       "    .dataframe tbody tr th {\n",
       "        vertical-align: top;\n",
       "    }\n",
       "\n",
       "    .dataframe thead th {\n",
       "        text-align: right;\n",
       "    }\n",
       "</style>\n",
       "<table border=\"1\" class=\"dataframe\">\n",
       "  <thead>\n",
       "    <tr style=\"text-align: right;\">\n",
       "      <th></th>\n",
       "      <th>segment</th>\n",
       "      <th>PRIMARY_ID</th>\n",
       "      <th>total_PRIMARY_TRANSACTIONS</th>\n",
       "    </tr>\n",
       "  </thead>\n",
       "  <tbody>\n",
       "    <tr>\n",
       "      <th>3</th>\n",
       "      <td>Feature &amp; Accent Specimens</td>\n",
       "      <td>400 PLANTS OFF RANGE</td>\n",
       "      <td>1662</td>\n",
       "    </tr>\n",
       "    <tr>\n",
       "      <th>2</th>\n",
       "      <td>Feature &amp; Accent Specimens</td>\n",
       "      <td>400 CLIMBING PLANT</td>\n",
       "      <td>5153</td>\n",
       "    </tr>\n",
       "    <tr>\n",
       "      <th>1</th>\n",
       "      <td>Feature &amp; Accent Specimens</td>\n",
       "      <td>400 CACTI AND SUCCULENTS</td>\n",
       "      <td>13191</td>\n",
       "    </tr>\n",
       "    <tr>\n",
       "      <th>0</th>\n",
       "      <td>Feature &amp; Accent Specimens</td>\n",
       "      <td>400 BULBS</td>\n",
       "      <td>13364</td>\n",
       "    </tr>\n",
       "    <tr>\n",
       "      <th>7</th>\n",
       "      <td>Mass Landscape Establishment</td>\n",
       "      <td>400 TROPICAL</td>\n",
       "      <td>4098</td>\n",
       "    </tr>\n",
       "    <tr>\n",
       "      <th>6</th>\n",
       "      <td>Mass Landscape Establishment</td>\n",
       "      <td>400 PALMS</td>\n",
       "      <td>4443</td>\n",
       "    </tr>\n",
       "    <tr>\n",
       "      <th>4</th>\n",
       "      <td>Mass Landscape Establishment</td>\n",
       "      <td>400 BORDERS HEDGING SCREENING</td>\n",
       "      <td>7942</td>\n",
       "    </tr>\n",
       "    <tr>\n",
       "      <th>5</th>\n",
       "      <td>Mass Landscape Establishment</td>\n",
       "      <td>400 GROUNDCOVER PLANT</td>\n",
       "      <td>9418</td>\n",
       "    </tr>\n",
       "  </tbody>\n",
       "</table>\n",
       "</div>"
      ],
      "text/plain": [
       "                        segment                     PRIMARY_ID  \\\n",
       "3    Feature & Accent Specimens           400 PLANTS OFF RANGE   \n",
       "2    Feature & Accent Specimens             400 CLIMBING PLANT   \n",
       "1    Feature & Accent Specimens       400 CACTI AND SUCCULENTS   \n",
       "0    Feature & Accent Specimens                      400 BULBS   \n",
       "7  Mass Landscape Establishment                   400 TROPICAL   \n",
       "6  Mass Landscape Establishment                      400 PALMS   \n",
       "4  Mass Landscape Establishment  400 BORDERS HEDGING SCREENING   \n",
       "5  Mass Landscape Establishment          400 GROUNDCOVER PLANT   \n",
       "\n",
       "   total_PRIMARY_TRANSACTIONS  \n",
       "3                        1662  \n",
       "2                        5153  \n",
       "1                       13191  \n",
       "0                       13364  \n",
       "7                        4098  \n",
       "6                        4443  \n",
       "4                        7942  \n",
       "5                        9418  "
      ]
     },
     "execution_count": 339,
     "metadata": {},
     "output_type": "execute_result"
    }
   ],
   "source": [
    "labelled_df.groupby(['segment', 'PRIMARY_ID'], as_index=False).agg(total_PRIMARY_TRANSACTIONS=('PRIMARY_TRANSACTIONS', 'sum')).sort_values(['segment', 'total_PRIMARY_TRANSACTIONS'])"
   ]
  },
  {
   "cell_type": "markdown",
   "metadata": {},
   "source": [
    "**Feature & Accent Specimens** (Seg 0) \n",
    "\n",
    "signals low-volume, high-value orders of off-range, bulbs, succulents and climbers as focal accents.\n",
    "\n",
    "**Mass Landscape Establishment** (Seg 1) \n",
    "\n",
    "highlights large-scale runs of groundcovers, palms, hedging and tropicals used for foundational beds and shade-garden massing."
   ]
  },
  {
   "cell_type": "markdown",
   "metadata": {},
   "source": [
    "#"
   ]
  }
 ],
 "metadata": {
  "kernelspec": {
   "display_name": "Python 3 (ipykernel)",
   "language": "python",
   "name": "python3"
  },
  "language_info": {
   "codemirror_mode": {
    "name": "ipython",
    "version": 3
   },
   "file_extension": ".py",
   "mimetype": "text/x-python",
   "name": "python",
   "nbconvert_exporter": "python",
   "pygments_lexer": "ipython3",
   "version": "3.10.18"
  }
 },
 "nbformat": 4,
 "nbformat_minor": 4
}
