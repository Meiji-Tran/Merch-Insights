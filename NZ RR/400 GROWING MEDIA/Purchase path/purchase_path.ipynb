{
 "cells": [
  {
   "attachments": {},
   "cell_type": "markdown",
   "metadata": {},
   "source": [
    "# Setup"
   ]
  },
  {
   "cell_type": "code",
   "execution_count": 1,
   "metadata": {},
   "outputs": [],
   "source": [
    "# Import packages\n",
    "import setup\n",
    "import pandas as pd\n",
    "from ds_common_utils.aux.io.snowflake_tools import SnowflakeTools"
   ]
  },
  {
   "cell_type": "code",
   "execution_count": 2,
   "metadata": {},
   "outputs": [
    {
     "name": "stderr",
     "output_type": "stream",
     "text": [
      "snowflake_tools - 2025-07-13 00:33:32.417673+10:00 - Generating new token with 'INSIGHT_ANALYST_MERCH_DE_GENERAL_PRD' role and 'SESSION:ROLE-ANY' scope...\n",
      "snowflake_tools - 2025-07-13 00:33:38.535273+10:00 - Saved token with '2025-07-13 04:33:38+10:00' expiry...\n"
     ]
    },
    {
     "data": {
      "text/html": [
       "<div>\n",
       "<style scoped>\n",
       "    .dataframe tbody tr th:only-of-type {\n",
       "        vertical-align: middle;\n",
       "    }\n",
       "\n",
       "    .dataframe tbody tr th {\n",
       "        vertical-align: top;\n",
       "    }\n",
       "\n",
       "    .dataframe thead th {\n",
       "        text-align: right;\n",
       "    }\n",
       "</style>\n",
       "<table border=\"1\" class=\"dataframe\">\n",
       "  <thead>\n",
       "    <tr style=\"text-align: right;\">\n",
       "      <th></th>\n",
       "      <th>START_DATE</th>\n",
       "      <th>END_DATE</th>\n",
       "      <th>PP_START_DATE</th>\n",
       "    </tr>\n",
       "  </thead>\n",
       "  <tbody>\n",
       "    <tr>\n",
       "      <th>0</th>\n",
       "      <td>2024-07-01</td>\n",
       "      <td>2025-06-30</td>\n",
       "      <td>2022-10-01</td>\n",
       "    </tr>\n",
       "  </tbody>\n",
       "</table>\n",
       "</div>"
      ],
      "text/plain": [
       "   START_DATE    END_DATE PP_START_DATE\n",
       "0  2024-07-01  2025-06-30    2022-10-01"
      ]
     },
     "metadata": {},
     "output_type": "display_data"
    }
   ],
   "source": [
    "# Setup analysis and get connection\n",
    "con = SnowflakeTools().get_snowflake_ctx(\n",
    "     method = 'token',\n",
    "    user = '250807',\n",
    "    role = 'INSIGHT_ANALYST_MERCH_DE_GENERAL_PRD',\n",
    "    warehouse = 'INSIGHT_ANALYST_WH'\n",
    ")\n",
    "setup.set_dates(con, setup.dates)"
   ]
  },
  {
   "cell_type": "code",
   "execution_count": 3,
   "metadata": {},
   "outputs": [],
   "source": [
    "# Possible granularities for purchase paths\n",
    "granularity = {\n",
    "    'dept': {'sub_dept': '-- ', 'class': '-- ', 'sub_class': '-- '}, \n",
    "    'sub_dept': {'sub_dept': '', 'class': '-- ', 'sub_class': '-- '}, \n",
    "    'class': {'sub_dept': '', 'class': '', 'sub_class': '-- '}, \n",
    "    'sub_class': {'sub_dept': '', 'class': '', 'sub_class': ''}\n",
    "    }"
   ]
  },
  {
   "cell_type": "markdown",
   "metadata": {},
   "source": [
    "# Get data"
   ]
  },
  {
   "cell_type": "code",
   "execution_count": 4,
   "metadata": {},
   "outputs": [],
   "source": [
    "# Get data at different granularities\n",
    "consumer_data = {}\n",
    "\n",
    "for pft_level in granularity:\n",
    "    # Set parquet path\n",
    "    parquet_path = 'parquets/df_purchase_path_consumer_AU_growing_media_' + pft_level + '_20_limit.parquet'\n",
    "    # Get data\n",
    "    try:\n",
    "        consumer_data[pft_level] = pd.read_parquet(parquet_path)\n",
    "    except:\n",
    "        # Comment out necessary lines in query depending on granularity\n",
    "        with open('sql/project-path-consumer.sql', 'r') as query:\n",
    "            pp_query = query.read().format(pp_sub_dept=granularity[pft_level]['sub_dept'], pp_class=granularity[pft_level]['class'], pp_sub_class=granularity[pft_level]['sub_class'])\n",
    "            df = pd.read_sql_query(pp_query, con)\n",
    "        consumer_data[pft_level] = df\n",
    "        df.to_parquet(parquet_path)"
   ]
  },
  {
   "cell_type": "code",
   "execution_count": 5,
   "metadata": {},
   "outputs": [],
   "source": [
    "# Get data at different granularities\n",
    "commercial_data = {}\n",
    "\n",
    "for pft_level in granularity:\n",
    "    # Set parquet path\n",
    "    parquet_path = 'parquets/df_purchase_path_commercial_NZ_growing_media_' + pft_level + '_20_limit.parquet'\n",
    "    # Get data\n",
    "    try:\n",
    "        commercial_data[pft_level] = pd.read_parquet(parquet_path)\n",
    "    except:\n",
    "        # Comment out necessary lines in query depending on granularity\n",
    "        with open('sql/project-path-commercial.sql', 'r') as query:\n",
    "            pp_query = query.read().format(pp_sub_dept=granularity[pft_level]['sub_dept'], pp_class=granularity[pft_level]['class'], pp_sub_class=granularity[pft_level]['sub_class'])\n",
    "            df = pd.read_sql_query(pp_query, con)\n",
    "        commercial_data[pft_level] = df\n",
    "        df.to_parquet(parquet_path)"
   ]
  },
  {
   "cell_type": "markdown",
   "metadata": {},
   "source": [
    "# Result"
   ]
  },
  {
   "cell_type": "code",
   "execution_count": 6,
   "metadata": {},
   "outputs": [],
   "source": [
    "with pd.ExcelWriter(\"data/consumer_purchase_path_raw_data.xlsx\") as writer:\n",
    "    for df in consumer_data:\n",
    "        consumer_data[df].to_excel(writer, sheet_name=df)"
   ]
  },
  {
   "cell_type": "code",
   "execution_count": null,
   "metadata": {},
   "outputs": [],
   "source": [
    "with pd.ExcelWriter(\"data/commercial_purchase_path_raw_data.xlsx\") as writer:\n",
    "    for df in commercial_data:\n",
    "        commercial_data[df].to_excel(writer, sheet_name=df)"
   ]
  },
  {
   "cell_type": "code",
   "execution_count": null,
   "metadata": {},
   "outputs": [],
   "source": [
    "# Pivot results\n",
    "df_consumer_results = {}\n",
    "family_tree_levels = ['ITEM_CATEGORY_NAME', 'ITEM_DEPARTMENT_NAME', 'ITEM_SUB_DEPARTMENT_NAME', 'ITEM_CLASS_NAME', 'ITEM_SUB_CLASS_NAME']\n",
    "\n",
    "for i, pft_level in enumerate(granularity):\n",
    "    df = consumer_data[pft_level]\n",
    "    df = df.loc[df['SALES_RANK'] <= 10, :]\n",
    "    df = df.pivot_table(index=family_tree_levels[:i + 2], columns='WEEKS_SINCE_PURCHASE', values='SALES_RANK')\n",
    "    df = df.astype('Int64')\n",
    "    df = df.style.background_gradient(subset=pd.IndexSlice[:, df.columns], cmap='Greens_r')\n",
    "    df_consumer_results[pft_level] = df"
   ]
  },
  {
   "cell_type": "code",
   "execution_count": null,
   "metadata": {},
   "outputs": [],
   "source": [
    "# Pivot results\n",
    "df_commercial_results = {}\n",
    "family_tree_levels = ['ITEM_CATEGORY_NAME', 'ITEM_DEPARTMENT_NAME', 'ITEM_SUB_DEPARTMENT_NAME', 'ITEM_CLASS_NAME', 'ITEM_SUB_CLASS_NAME']\n",
    "\n",
    "for i, pft_level in enumerate(granularity):\n",
    "    df = commercial_data[pft_level]\n",
    "    df = df.loc[df['SALES_RANK'] <= 10, :]\n",
    "    df = df.pivot_table(index=family_tree_levels[:i + 2], columns='WEEKS_SINCE_PURCHASE', values='SALES_RANK')\n",
    "    df = df.astype('Int64')\n",
    "    df = df.style.background_gradient(subset=pd.IndexSlice[:, df.columns], cmap='Greens_r')\n",
    "    df_commercial_results[pft_level] = df"
   ]
  },
  {
   "cell_type": "code",
   "execution_count": null,
   "metadata": {},
   "outputs": [],
   "source": [
    "# Write results to excel\n",
    "with pd.ExcelWriter(\"data/purchase_path_consumer_growing_media.xlsx\") as writer:\n",
    "    for df in df_consumer_results:\n",
    "        df_consumer_results[df].to_excel(writer, sheet_name=df)"
   ]
  },
  {
   "cell_type": "code",
   "execution_count": null,
   "metadata": {},
   "outputs": [],
   "source": [
    "# Write results to excel\n",
    "with pd.ExcelWriter(\"data/purchase_path_commercial_growing_media.xlsx\") as writer:\n",
    "    for df in df_commercial_results:\n",
    "        df_commercial_results[df].to_excel(writer, sheet_name=df)"
   ]
  }
 ],
 "metadata": {
  "kernelspec": {
   "display_name": "Python 3 (ipykernel)",
   "language": "python",
   "name": "python3"
  },
  "language_info": {
   "codemirror_mode": {
    "name": "ipython",
    "version": 3
   },
   "file_extension": ".py",
   "mimetype": "text/x-python",
   "name": "python",
   "nbconvert_exporter": "python",
   "pygments_lexer": "ipython3",
   "version": "3.10.18"
  }
 },
 "nbformat": 4,
 "nbformat_minor": 4
}
