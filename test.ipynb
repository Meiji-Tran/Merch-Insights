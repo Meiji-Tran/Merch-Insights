{
 "cells": [
  {
   "cell_type": "code",
   "execution_count": 13,
   "metadata": {},
   "outputs": [],
   "source": [
    "from ds_common_utils.aux.io.snowflake_tools import SnowflakeTools"
   ]
  },
  {
   "cell_type": "code",
   "execution_count": 21,
   "metadata": {},
   "outputs": [],
   "source": [
    "# Setup connection\n",
    "con = SnowflakeTools(\n",
    "    user=\"250807\",\n",
    "    role=\"INSIGHT_ANALYST_MERCH_DE_GENERAL_PRD\",\n",
    "    warehouse=\"INSIGHT_ANALYST_WH\",\n",
    "    database=\"BDWPRD_DE\",\n",
    "    schema=\"IA_MERCH_DE\"\n",
    ")"
   ]
  },
  {
   "cell_type": "code",
   "execution_count": 22,
   "metadata": {},
   "outputs": [],
   "source": [
    "# Set item range table name\n",
    "table_name = 'ev_item_range'"
   ]
  },
  {
   "cell_type": "code",
   "execution_count": 23,
   "metadata": {},
   "outputs": [
    {
     "name": "stderr",
     "output_type": "stream",
     "text": [
      "snowflake_tools - 2025-06-04 13:54:06.696535+10:00 - Generating new token with 'INSIGHT_ANALYST_MERCH_DE_GENERAL_PRD' role and 'SESSION:ROLE-ANY' scope...\n"
     ]
    },
    {
     "name": "stderr",
     "output_type": "stream",
     "text": [
      "snowflake_tools - 2025-06-04 13:54:13.602241+10:00 - Saved token with '2025-06-04 17:54:13+10:00' expiry...\n"
     ]
    },
    {
     "ename": "ProgrammingError",
     "evalue": "002002 (42710): SQL compilation error:\nObject 'BDWPRD_DE.IA_MERCH_DE.EV_ITEM_RANGE' already exists.",
     "output_type": "error",
     "traceback": [
      "\u001b[0;31m---------------------------------------------------------------------------\u001b[0m",
      "\u001b[0;31mProgrammingError\u001b[0m                          Traceback (most recent call last)",
      "\u001b[1;32m/home/250807/Merch-Insights/test.ipynb Cell 4\u001b[0m line \u001b[0;36m2\n\u001b[1;32m      <a href='vscode-notebook-cell://rstudio.dna.bunnings.com.au/home/250807/Merch-Insights/test.ipynb#W4sdnNjb2RlLXJlbW90ZQ%3D%3D?line=0'>1</a>\u001b[0m \u001b[39m# Create temp item table\u001b[39;00m\n\u001b[0;32m----> <a href='vscode-notebook-cell://rstudio.dna.bunnings.com.au/home/250807/Merch-Insights/test.ipynb#W4sdnNjb2RlLXJlbW90ZQ%3D%3D?line=1'>2</a>\u001b[0m con\u001b[39m.\u001b[39;49mexecute_statement_from_sql_file(\n\u001b[1;32m      <a href='vscode-notebook-cell://rstudio.dna.bunnings.com.au/home/250807/Merch-Insights/test.ipynb#W4sdnNjb2RlLXJlbW90ZQ%3D%3D?line=2'>3</a>\u001b[0m     file\u001b[39m=\u001b[39;49m\u001b[39m'\u001b[39;49m\u001b[39msql/item-range.sql\u001b[39;49m\u001b[39m'\u001b[39;49m,\n\u001b[1;32m      <a href='vscode-notebook-cell://rstudio.dna.bunnings.com.au/home/250807/Merch-Insights/test.ipynb#W4sdnNjb2RlLXJlbW90ZQ%3D%3D?line=3'>4</a>\u001b[0m     formatting\u001b[39m=\u001b[39;49m{\u001b[39m'\u001b[39;49m\u001b[39mtable_name\u001b[39;49m\u001b[39m'\u001b[39;49m: table_name})\n",
      "File \u001b[0;32m~/.conda/envs/meiji/lib/python3.9/site-packages/ds_common_utils/aux/io/snowflake_tools.py:589\u001b[0m, in \u001b[0;36mSnowflakeTools.execute_statement_from_sql_file\u001b[0;34m(self, file, formatting, **kwargs)\u001b[0m\n\u001b[1;32m    587\u001b[0m formatting \u001b[39m=\u001b[39m {} \u001b[39mif\u001b[39;00m formatting \u001b[39mis\u001b[39;00m \u001b[39mNone\u001b[39;00m \u001b[39melse\u001b[39;00m formatting\n\u001b[1;32m    588\u001b[0m \u001b[39mfor\u001b[39;00m statement \u001b[39min\u001b[39;00m statements:\n\u001b[0;32m--> 589\u001b[0m     \u001b[39mself\u001b[39;49m\u001b[39m.\u001b[39;49mexecute_statement_from_sql_string(\n\u001b[1;32m    590\u001b[0m         statement\u001b[39m=\u001b[39;49mstatement,\n\u001b[1;32m    591\u001b[0m         formatting\u001b[39m=\u001b[39;49mformatting,\n\u001b[1;32m    592\u001b[0m         \u001b[39m*\u001b[39;49m\u001b[39m*\u001b[39;49mkwargs\n\u001b[1;32m    593\u001b[0m     )\n",
      "File \u001b[0;32m~/.conda/envs/meiji/lib/python3.9/site-packages/ds_common_utils/aux/io/snowflake_tools.py:566\u001b[0m, in \u001b[0;36mSnowflakeTools.execute_statement_from_sql_string\u001b[0;34m(self, statement, formatting, method, auto_close, **kwargs)\u001b[0m\n\u001b[1;32m    560\u001b[0m ctx \u001b[39m=\u001b[39m \u001b[39mself\u001b[39m\u001b[39m.\u001b[39mget_snowflake_ctx(\n\u001b[1;32m    561\u001b[0m     method\u001b[39m=\u001b[39mmethod,\n\u001b[1;32m    562\u001b[0m     auto_close\u001b[39m=\u001b[39mauto_close,\n\u001b[1;32m    563\u001b[0m     \u001b[39m*\u001b[39m\u001b[39m*\u001b[39mkwargs\n\u001b[1;32m    564\u001b[0m )\n\u001b[1;32m    565\u001b[0m formatting \u001b[39m=\u001b[39m {} \u001b[39mif\u001b[39;00m formatting \u001b[39mis\u001b[39;00m \u001b[39mNone\u001b[39;00m \u001b[39melse\u001b[39;00m formatting\n\u001b[0;32m--> 566\u001b[0m ctx\u001b[39m.\u001b[39;49mcursor()\u001b[39m.\u001b[39;49mexecute(statement\u001b[39m.\u001b[39;49mformat(\u001b[39m*\u001b[39;49m\u001b[39m*\u001b[39;49mformatting))\n\u001b[1;32m    567\u001b[0m \u001b[39mif\u001b[39;00m auto_close:\n\u001b[1;32m    568\u001b[0m     ctx\u001b[39m.\u001b[39mclose()\n",
      "File \u001b[0;32m~/.conda/envs/meiji/lib/python3.9/site-packages/snowflake/connector/cursor.py:1134\u001b[0m, in \u001b[0;36mSnowflakeCursor.execute\u001b[0;34m(self, command, params, _bind_stage, timeout, _exec_async, _no_retry, _do_reset, _put_callback, _put_azure_callback, _put_callback_output_stream, _get_callback, _get_azure_callback, _get_callback_output_stream, _show_progress_bar, _statement_params, _is_internal, _describe_only, _no_results, _is_put_get, _raise_put_get_error, _force_put_overwrite, _skip_upload_on_content_match, file_stream, num_statements, _force_qmark_paramstyle, _dataframe_ast)\u001b[0m\n\u001b[1;32m   1130\u001b[0m     is_integrity_error \u001b[39m=\u001b[39m (\n\u001b[1;32m   1131\u001b[0m         code \u001b[39m==\u001b[39m \u001b[39m\"\u001b[39m\u001b[39m100072\u001b[39m\u001b[39m\"\u001b[39m\n\u001b[1;32m   1132\u001b[0m     )  \u001b[39m# NULL result in a non-nullable column\u001b[39;00m\n\u001b[1;32m   1133\u001b[0m     error_class \u001b[39m=\u001b[39m IntegrityError \u001b[39mif\u001b[39;00m is_integrity_error \u001b[39melse\u001b[39;00m ProgrammingError\n\u001b[0;32m-> 1134\u001b[0m     Error\u001b[39m.\u001b[39;49merrorhandler_wrapper(\u001b[39mself\u001b[39;49m\u001b[39m.\u001b[39;49mconnection, \u001b[39mself\u001b[39;49m, error_class, errvalue)\n\u001b[1;32m   1135\u001b[0m \u001b[39mreturn\u001b[39;00m \u001b[39mself\u001b[39m\n",
      "File \u001b[0;32m~/.conda/envs/meiji/lib/python3.9/site-packages/snowflake/connector/errors.py:279\u001b[0m, in \u001b[0;36mError.errorhandler_wrapper\u001b[0;34m(connection, cursor, error_class, error_value)\u001b[0m\n\u001b[1;32m    256\u001b[0m \u001b[39m@staticmethod\u001b[39m\n\u001b[1;32m    257\u001b[0m \u001b[39mdef\u001b[39;00m\u001b[39m \u001b[39m\u001b[39merrorhandler_wrapper\u001b[39m(\n\u001b[1;32m    258\u001b[0m     connection: SnowflakeConnection \u001b[39m|\u001b[39m \u001b[39mNone\u001b[39;00m,\n\u001b[0;32m   (...)\u001b[0m\n\u001b[1;32m    261\u001b[0m     error_value: \u001b[39mdict\u001b[39m[\u001b[39mstr\u001b[39m, Any],\n\u001b[1;32m    262\u001b[0m ) \u001b[39m-\u001b[39m\u001b[39m>\u001b[39m \u001b[39mNone\u001b[39;00m:\n\u001b[1;32m    263\u001b[0m \u001b[39m    \u001b[39m\u001b[39m\"\"\"Error handler wrapper that calls the errorhandler method.\u001b[39;00m\n\u001b[1;32m    264\u001b[0m \n\u001b[1;32m    265\u001b[0m \u001b[39m    Args:\u001b[39;00m\n\u001b[0;32m   (...)\u001b[0m\n\u001b[1;32m    276\u001b[0m \u001b[39m        exception to the first handler in that order.\u001b[39;00m\n\u001b[1;32m    277\u001b[0m \u001b[39m    \"\"\"\u001b[39;00m\n\u001b[0;32m--> 279\u001b[0m     handed_over \u001b[39m=\u001b[39m Error\u001b[39m.\u001b[39;49mhand_to_other_handler(\n\u001b[1;32m    280\u001b[0m         connection,\n\u001b[1;32m    281\u001b[0m         cursor,\n\u001b[1;32m    282\u001b[0m         error_class,\n\u001b[1;32m    283\u001b[0m         error_value,\n\u001b[1;32m    284\u001b[0m     )\n\u001b[1;32m    285\u001b[0m     \u001b[39mif\u001b[39;00m \u001b[39mnot\u001b[39;00m handed_over:\n\u001b[1;32m    286\u001b[0m         \u001b[39mraise\u001b[39;00m Error\u001b[39m.\u001b[39merrorhandler_make_exception(\n\u001b[1;32m    287\u001b[0m             error_class,\n\u001b[1;32m    288\u001b[0m             error_value,\n\u001b[1;32m    289\u001b[0m         )\n",
      "File \u001b[0;32m~/.conda/envs/meiji/lib/python3.9/site-packages/snowflake/connector/errors.py:334\u001b[0m, in \u001b[0;36mError.hand_to_other_handler\u001b[0;34m(connection, cursor, error_class, error_value)\u001b[0m\n\u001b[1;32m    332\u001b[0m \u001b[39mif\u001b[39;00m cursor \u001b[39mis\u001b[39;00m \u001b[39mnot\u001b[39;00m \u001b[39mNone\u001b[39;00m:\n\u001b[1;32m    333\u001b[0m     cursor\u001b[39m.\u001b[39mmessages\u001b[39m.\u001b[39mappend((error_class, error_value))\n\u001b[0;32m--> 334\u001b[0m     cursor\u001b[39m.\u001b[39;49merrorhandler(connection, cursor, error_class, error_value)\n\u001b[1;32m    335\u001b[0m     \u001b[39mreturn\u001b[39;00m \u001b[39mTrue\u001b[39;00m\n\u001b[1;32m    336\u001b[0m \u001b[39melif\u001b[39;00m connection \u001b[39mis\u001b[39;00m \u001b[39mnot\u001b[39;00m \u001b[39mNone\u001b[39;00m:\n",
      "File \u001b[0;32m~/.conda/envs/meiji/lib/python3.9/site-packages/snowflake/connector/errors.py:210\u001b[0m, in \u001b[0;36mError.default_errorhandler\u001b[0;34m(connection, cursor, error_class, error_value)\u001b[0m\n\u001b[1;32m    208\u001b[0m errno \u001b[39m=\u001b[39m error_value\u001b[39m.\u001b[39mget(\u001b[39m\"\u001b[39m\u001b[39merrno\u001b[39m\u001b[39m\"\u001b[39m)\n\u001b[1;32m    209\u001b[0m done_format_msg \u001b[39m=\u001b[39m error_value\u001b[39m.\u001b[39mget(\u001b[39m\"\u001b[39m\u001b[39mdone_format_msg\u001b[39m\u001b[39m\"\u001b[39m)\n\u001b[0;32m--> 210\u001b[0m \u001b[39mraise\u001b[39;00m error_class(\n\u001b[1;32m    211\u001b[0m     msg\u001b[39m=\u001b[39merror_value\u001b[39m.\u001b[39mget(\u001b[39m\"\u001b[39m\u001b[39mmsg\u001b[39m\u001b[39m\"\u001b[39m),\n\u001b[1;32m    212\u001b[0m     errno\u001b[39m=\u001b[39m\u001b[39mNone\u001b[39;00m \u001b[39mif\u001b[39;00m errno \u001b[39mis\u001b[39;00m \u001b[39mNone\u001b[39;00m \u001b[39melse\u001b[39;00m \u001b[39mint\u001b[39m(errno),\n\u001b[1;32m    213\u001b[0m     sqlstate\u001b[39m=\u001b[39merror_value\u001b[39m.\u001b[39mget(\u001b[39m\"\u001b[39m\u001b[39msqlstate\u001b[39m\u001b[39m\"\u001b[39m),\n\u001b[1;32m    214\u001b[0m     sfqid\u001b[39m=\u001b[39merror_value\u001b[39m.\u001b[39mget(\u001b[39m\"\u001b[39m\u001b[39msfqid\u001b[39m\u001b[39m\"\u001b[39m),\n\u001b[1;32m    215\u001b[0m     query\u001b[39m=\u001b[39merror_value\u001b[39m.\u001b[39mget(\u001b[39m\"\u001b[39m\u001b[39mquery\u001b[39m\u001b[39m\"\u001b[39m),\n\u001b[1;32m    216\u001b[0m     done_format_msg\u001b[39m=\u001b[39m(\n\u001b[1;32m    217\u001b[0m         \u001b[39mNone\u001b[39;00m \u001b[39mif\u001b[39;00m done_format_msg \u001b[39mis\u001b[39;00m \u001b[39mNone\u001b[39;00m \u001b[39melse\u001b[39;00m \u001b[39mbool\u001b[39m(done_format_msg)\n\u001b[1;32m    218\u001b[0m     ),\n\u001b[1;32m    219\u001b[0m     connection\u001b[39m=\u001b[39mconnection,\n\u001b[1;32m    220\u001b[0m     cursor\u001b[39m=\u001b[39mcursor,\n\u001b[1;32m    221\u001b[0m )\n",
      "\u001b[0;31mProgrammingError\u001b[0m: 002002 (42710): SQL compilation error:\nObject 'BDWPRD_DE.IA_MERCH_DE.EV_ITEM_RANGE' already exists."
     ]
    }
   ],
   "source": [
    "# Create temp item table\n",
    "con.execute_statement_from_sql_file(\n",
    "    file='sql/item-range.sql',\n",
    "    formatting={'table_name': table_name})"
   ]
  },
  {
   "cell_type": "code",
   "execution_count": 26,
   "metadata": {},
   "outputs": [
    {
     "ename": "SyntaxError",
     "evalue": "invalid syntax (1833373263.py, line 8)",
     "output_type": "error",
     "traceback": [
      "\u001b[0;36m  Cell \u001b[0;32mIn[26], line 8\u001b[0;36m\u001b[0m\n\u001b[0;31m    )formatting = {'COUNTRY_CODE': 'AU'}\u001b[0m\n\u001b[0m     ^\u001b[0m\n\u001b[0;31mSyntaxError\u001b[0m\u001b[0;31m:\u001b[0m invalid syntax\n"
     ]
    }
   ],
   "source": [
    "df_ds = con.read_sql_string_into_dataframe(\n",
    "        query = '''\n",
    "            SELECT COUNT(*)\n",
    "            FROM BDWPRD_CDS.LOCATION.LOCATION_DIM\n",
    "            WHERE COUNTRY_CODE = '{COUNTRY_CODE}'\n",
    "        ''',\n",
    "        formatting = {'COUNTRY_CODE': 'AU'}\n",
    "    )formatting = {'COUNTRY_CODE': 'AU'}\n",
    "    )"
   ]
  }
 ],
 "metadata": {
  "kernelspec": {
   "display_name": "meiji",
   "language": "python",
   "name": "python3"
  },
  "language_info": {
   "codemirror_mode": {
    "name": "ipython",
    "version": 3
   },
   "file_extension": ".py",
   "mimetype": "text/x-python",
   "name": "python",
   "nbconvert_exporter": "python",
   "pygments_lexer": "ipython3",
   "version": "3.9.21"
  }
 },
 "nbformat": 4,
 "nbformat_minor": 2
}
