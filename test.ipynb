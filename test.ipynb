{
 "cells": [
  {
   "cell_type": "code",
   "execution_count": null,
   "metadata": {},
   "outputs": [],
   "source": [
    "from ds_common_utils.aux.io.snowflake_tools import SnowflakeTools\n",
    "ST = SnowflakeTools()\n",
    "\n",
    "query = \"SELECT COUNT(*) FROM BDWPRD_CDS.LOCATION.LOCATION_DIM WHERE COUNTRY_CODE = '{COUNTRY_CODE}'\"\n",
    "\n",
    "ST.read_sql_string_into_pandas(\n",
    "  query=query, \n",
    "  formatting={'COUNTRY_CODE': 'AU'}\n",
    ")"
   ]
  }
 ],
 "metadata": {
  "kernelspec": {
   "display_name": "meiji",
   "language": "python",
   "name": "python3"
  },
  "language_info": {
   "codemirror_mode": {
    "name": "ipython",
    "version": 3
   },
   "file_extension": ".py",
   "mimetype": "text/x-python",
   "name": "python",
   "nbconvert_exporter": "python",
   "pygments_lexer": "ipython3",
   "version": "3.9.21"
  }
 },
 "nbformat": 4,
 "nbformat_minor": 2
}
