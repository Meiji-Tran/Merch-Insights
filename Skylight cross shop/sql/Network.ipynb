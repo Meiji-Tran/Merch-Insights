{
 "cells": [
  {
   "cell_type": "markdown",
   "metadata": {},
   "source": [
    "# Prep"
   ]
  },
  {
   "cell_type": "code",
   "execution_count": 75,
   "metadata": {},
   "outputs": [],
   "source": [
    "# Import packages\n",
    "import pandas as pd\n",
    "import plotly.graph_objects as go\n",
    "import networkx as nx\n",
    "from ds_common_utils.aux.io.snowflake_tools import SnowflakeTools\n",
    "from math import log\n",
    "from networkx.algorithms.community import greedy_modularity_communities\n",
    "import matplotlib.pyplot as plt\n",
    "import community.community_louvain as community_louvain\n",
    "import numpy as np"
   ]
  },
  {
   "cell_type": "code",
   "execution_count": 542,
   "metadata": {},
   "outputs": [],
   "source": [
    "# Get connection\n",
    "con = SnowflakeTools().get_snowflake_ctx(\n",
    "     method = 'token',\n",
    "    user = '250807',\n",
    "    role = 'INSIGHT_ANALYST_MERCH_DE_GENERAL_PRD',\n",
    "    warehouse = 'INSIGHT_ANALYST_WH'\n",
    ")\n",
    "with open('sql/item_association.sql', 'r') as query:\n",
    "        df = pd.read_sql_query(query.read(), con)\n",
    "with open('sql/excluded_class_list.sql', 'r') as query:\n",
    "        target_item_class = pd.read_sql_query(query.read(), con)"
   ]
  },
  {
   "cell_type": "markdown",
   "metadata": {},
   "source": [
    "# Parameter tuning"
   ]
  },
  {
   "cell_type": "code",
   "execution_count": 632,
   "metadata": {},
   "outputs": [],
   "source": [
    "TRX_THRESHOLD = 10 # Min N frequent pairs\n",
    "QUANTILE = 0.92 # Nth percentile of Jaccard similarity\n",
    "TOP_N = 5 # top-N associated item classes per primary class\n",
    "RESO = 1 # >1.0 → more, smaller communities"
   ]
  },
  {
   "cell_type": "markdown",
   "metadata": {},
   "source": [
    "# Working"
   ]
  },
  {
   "cell_type": "code",
   "execution_count": 633,
   "metadata": {},
   "outputs": [],
   "source": [
    "# filtered_df = df[\n",
    "#     ~(\n",
    "#         df['PRIMARY_ID'].isin(target_item_class['ITEM_CLASS_NAME']) |\n",
    "#         df['SECONDARY_ID'].isin(target_item_class['ITEM_CLASS_NAME'])\n",
    "#     )\n",
    "# ]\n",
    "\n",
    "filtered_df = df[(df['PRIMARY_TRANSACTIONS'] > 1 ) & ( df['SECONDARY_TRANSACTIONS'] > 1)]\n",
    "\n",
    "filtered_df = filtered_df[filtered_df['PAIR_TRANSACTIONS'] >= TRX_THRESHOLD]\n",
    "threshold = filtered_df['JACCARD'].quantile(QUANTILE)\n",
    "filtered_df = filtered_df[filtered_df['JACCARD'] >= threshold]\n",
    "top_edges = filtered_df.sort_values('JACCARD', ascending=False).groupby('PRIMARY_ID').head(TOP_N)"
   ]
  },
  {
   "cell_type": "code",
   "execution_count": 634,
   "metadata": {},
   "outputs": [
    {
     "data": {
      "text/html": [
       "<div>\n",
       "<style scoped>\n",
       "    .dataframe tbody tr th:only-of-type {\n",
       "        vertical-align: middle;\n",
       "    }\n",
       "\n",
       "    .dataframe tbody tr th {\n",
       "        vertical-align: top;\n",
       "    }\n",
       "\n",
       "    .dataframe thead th {\n",
       "        text-align: right;\n",
       "    }\n",
       "</style>\n",
       "<table border=\"1\" class=\"dataframe\">\n",
       "  <thead>\n",
       "    <tr style=\"text-align: right;\">\n",
       "      <th></th>\n",
       "      <th>PRIMARY_ID</th>\n",
       "      <th>SECONDARY_ID</th>\n",
       "      <th>PRIMARY_TRANSACTIONS</th>\n",
       "      <th>SECONDARY_TRANSACTIONS</th>\n",
       "      <th>TRX_START_MONTH</th>\n",
       "      <th>TRX_END_MONTH</th>\n",
       "      <th>PAIR_TRANSACTIONS</th>\n",
       "      <th>LIFT</th>\n",
       "      <th>JACCARD</th>\n",
       "    </tr>\n",
       "  </thead>\n",
       "  <tbody>\n",
       "    <tr>\n",
       "      <th>863</th>\n",
       "      <td>500 ROOF WINDOWS</td>\n",
       "      <td>500 STRUCT FRAMG H1 2 KD LINKD</td>\n",
       "      <td>413</td>\n",
       "      <td>12</td>\n",
       "      <td>2024-08-01</td>\n",
       "      <td>2025-05-01</td>\n",
       "      <td>120</td>\n",
       "      <td>13.704600</td>\n",
       "      <td>3.934426e-01</td>\n",
       "    </tr>\n",
       "    <tr>\n",
       "      <th>992</th>\n",
       "      <td>500 STRUCT FRAMG H1 2 KD LINKD</td>\n",
       "      <td>500 ROOF WINDOWS</td>\n",
       "      <td>12</td>\n",
       "      <td>413</td>\n",
       "      <td>2024-08-01</td>\n",
       "      <td>2025-05-01</td>\n",
       "      <td>120</td>\n",
       "      <td>9.418886</td>\n",
       "      <td>3.934426e-01</td>\n",
       "    </tr>\n",
       "    <tr>\n",
       "      <th>240</th>\n",
       "      <td>500 CONNECTORS</td>\n",
       "      <td>500 ROOF WINDOWS</td>\n",
       "      <td>7</td>\n",
       "      <td>413</td>\n",
       "      <td>2024-10-01</td>\n",
       "      <td>2025-05-01</td>\n",
       "      <td>84</td>\n",
       "      <td>7.234867</td>\n",
       "      <td>2.500000e-01</td>\n",
       "    </tr>\n",
       "    <tr>\n",
       "      <th>939</th>\n",
       "      <td>500 SKYLIGHT ACCESSORIES</td>\n",
       "      <td>500 STRUCT FRAMG H1 2 KD LINKD</td>\n",
       "      <td>269</td>\n",
       "      <td>12</td>\n",
       "      <td>2024-07-01</td>\n",
       "      <td>2025-05-01</td>\n",
       "      <td>84</td>\n",
       "      <td>14.728625</td>\n",
       "      <td>4.263959e-01</td>\n",
       "    </tr>\n",
       "    <tr>\n",
       "      <th>826</th>\n",
       "      <td>500 ROOF WINDOWS</td>\n",
       "      <td>500 CONNECTORS</td>\n",
       "      <td>413</td>\n",
       "      <td>7</td>\n",
       "      <td>2024-10-01</td>\n",
       "      <td>2025-05-01</td>\n",
       "      <td>84</td>\n",
       "      <td>16.445521</td>\n",
       "      <td>2.500000e-01</td>\n",
       "    </tr>\n",
       "    <tr>\n",
       "      <th>994</th>\n",
       "      <td>500 STRUCT FRAMG H1 2 KD LINKD</td>\n",
       "      <td>500 SKYLIGHT ACCESSORIES</td>\n",
       "      <td>12</td>\n",
       "      <td>269</td>\n",
       "      <td>2024-07-01</td>\n",
       "      <td>2025-05-01</td>\n",
       "      <td>84</td>\n",
       "      <td>10.122677</td>\n",
       "      <td>4.263959e-01</td>\n",
       "    </tr>\n",
       "    <tr>\n",
       "      <th>381</th>\n",
       "      <td>500 FIBRE CEMENT SHEETING ACC</td>\n",
       "      <td>500 ROOF WINDOWS</td>\n",
       "      <td>7</td>\n",
       "      <td>413</td>\n",
       "      <td>2024-08-01</td>\n",
       "      <td>2025-05-01</td>\n",
       "      <td>72</td>\n",
       "      <td>7.297129</td>\n",
       "      <td>2.068966e-01</td>\n",
       "    </tr>\n",
       "    <tr>\n",
       "      <th>836</th>\n",
       "      <td>500 ROOF WINDOWS</td>\n",
       "      <td>500 FIBRE CEMENT SHEETING ACC</td>\n",
       "      <td>413</td>\n",
       "      <td>7</td>\n",
       "      <td>2024-08-01</td>\n",
       "      <td>2025-05-01</td>\n",
       "      <td>72</td>\n",
       "      <td>14.096160</td>\n",
       "      <td>2.068966e-01</td>\n",
       "    </tr>\n",
       "    <tr>\n",
       "      <th>905</th>\n",
       "      <td>500 SKYLIGHT ACCESSORIES</td>\n",
       "      <td>500 BUILDING SUPPLIES OFFRANGE</td>\n",
       "      <td>269</td>\n",
       "      <td>8</td>\n",
       "      <td>2024-07-01</td>\n",
       "      <td>2025-05-01</td>\n",
       "      <td>60</td>\n",
       "      <td>15.780669</td>\n",
       "      <td>2.764977e-01</td>\n",
       "    </tr>\n",
       "    <tr>\n",
       "      <th>242</th>\n",
       "      <td>500 CONNECTORS</td>\n",
       "      <td>500 SKYLIGHT ACCESSORIES</td>\n",
       "      <td>7</td>\n",
       "      <td>269</td>\n",
       "      <td>2024-10-01</td>\n",
       "      <td>2025-05-01</td>\n",
       "      <td>60</td>\n",
       "      <td>7.934148</td>\n",
       "      <td>2.777778e-01</td>\n",
       "    </tr>\n",
       "    <tr>\n",
       "      <th>909</th>\n",
       "      <td>500 SKYLIGHT ACCESSORIES</td>\n",
       "      <td>500 CONNECTORS</td>\n",
       "      <td>269</td>\n",
       "      <td>7</td>\n",
       "      <td>2024-10-01</td>\n",
       "      <td>2025-05-01</td>\n",
       "      <td>60</td>\n",
       "      <td>18.035050</td>\n",
       "      <td>2.777778e-01</td>\n",
       "    </tr>\n",
       "    <tr>\n",
       "      <th>102</th>\n",
       "      <td>500 BUILDING SUPPLIES OFFRANGE</td>\n",
       "      <td>500 SKYLIGHT ACCESSORIES</td>\n",
       "      <td>8</td>\n",
       "      <td>269</td>\n",
       "      <td>2024-07-01</td>\n",
       "      <td>2025-05-01</td>\n",
       "      <td>60</td>\n",
       "      <td>7.611524</td>\n",
       "      <td>2.764977e-01</td>\n",
       "    </tr>\n",
       "    <tr>\n",
       "      <th>383</th>\n",
       "      <td>500 FIBRE CEMENT SHEETING ACC</td>\n",
       "      <td>500 SKYLIGHT ACCESSORIES</td>\n",
       "      <td>7</td>\n",
       "      <td>269</td>\n",
       "      <td>2024-07-01</td>\n",
       "      <td>2025-05-01</td>\n",
       "      <td>48</td>\n",
       "      <td>7.468933</td>\n",
       "      <td>2.105263e-01</td>\n",
       "    </tr>\n",
       "    <tr>\n",
       "      <th>917</th>\n",
       "      <td>500 SKYLIGHT ACCESSORIES</td>\n",
       "      <td>500 FIBRE CEMENT SHEETING ACC</td>\n",
       "      <td>269</td>\n",
       "      <td>7</td>\n",
       "      <td>2024-07-01</td>\n",
       "      <td>2025-05-01</td>\n",
       "      <td>48</td>\n",
       "      <td>14.428040</td>\n",
       "      <td>2.105263e-01</td>\n",
       "    </tr>\n",
       "    <tr>\n",
       "      <th>136</th>\n",
       "      <td>500 BUILDING WRAP</td>\n",
       "      <td>500 SKYLIGHT ACCESSORIES</td>\n",
       "      <td>5</td>\n",
       "      <td>269</td>\n",
       "      <td>2025-02-01</td>\n",
       "      <td>2025-05-01</td>\n",
       "      <td>48</td>\n",
       "      <td>5.103346</td>\n",
       "      <td>2.123894e-01</td>\n",
       "    </tr>\n",
       "    <tr>\n",
       "      <th>906</th>\n",
       "      <td>500 SKYLIGHT ACCESSORIES</td>\n",
       "      <td>500 BUILDING WRAP</td>\n",
       "      <td>269</td>\n",
       "      <td>5</td>\n",
       "      <td>2025-02-01</td>\n",
       "      <td>2025-05-01</td>\n",
       "      <td>48</td>\n",
       "      <td>20.199257</td>\n",
       "      <td>2.123894e-01</td>\n",
       "    </tr>\n",
       "    <tr>\n",
       "      <th>808</th>\n",
       "      <td>500 PLYWOOD SHEETS</td>\n",
       "      <td>500 SKYLIGHT ACCESSORIES</td>\n",
       "      <td>5</td>\n",
       "      <td>269</td>\n",
       "      <td>2024-06-01</td>\n",
       "      <td>2025-05-01</td>\n",
       "      <td>44</td>\n",
       "      <td>7.426022</td>\n",
       "      <td>1.913043e-01</td>\n",
       "    </tr>\n",
       "    <tr>\n",
       "      <th>936</th>\n",
       "      <td>500 SKYLIGHT ACCESSORIES</td>\n",
       "      <td>500 PLYWOOD SHEETS</td>\n",
       "      <td>269</td>\n",
       "      <td>5</td>\n",
       "      <td>2024-06-01</td>\n",
       "      <td>2025-05-01</td>\n",
       "      <td>44</td>\n",
       "      <td>18.515985</td>\n",
       "      <td>1.913043e-01</td>\n",
       "    </tr>\n",
       "    <tr>\n",
       "      <th>1109</th>\n",
       "      <td>500 WEATHERBOARDS</td>\n",
       "      <td>500 STRUCT FRAMG H1 2 KD LINKD</td>\n",
       "      <td>3</td>\n",
       "      <td>12</td>\n",
       "      <td>2025-03-01</td>\n",
       "      <td>2025-03-01</td>\n",
       "      <td>12</td>\n",
       "      <td>49.333333</td>\n",
       "      <td>4.000000e+00</td>\n",
       "    </tr>\n",
       "    <tr>\n",
       "      <th>1001</th>\n",
       "      <td>500 STRUCT FRAMG H1 2 KD LINKD</td>\n",
       "      <td>500 WEDGES AND SPACERS</td>\n",
       "      <td>12</td>\n",
       "      <td>2</td>\n",
       "      <td>2025-02-01</td>\n",
       "      <td>2025-02-01</td>\n",
       "      <td>12</td>\n",
       "      <td>194.500000</td>\n",
       "      <td>6.000000e+00</td>\n",
       "    </tr>\n",
       "    <tr>\n",
       "      <th>976</th>\n",
       "      <td>500 STRUCT FRAMG H1 2 KD LINKD</td>\n",
       "      <td>500 LAMINATED TIMBER</td>\n",
       "      <td>12</td>\n",
       "      <td>3</td>\n",
       "      <td>2024-11-01</td>\n",
       "      <td>2024-11-01</td>\n",
       "      <td>12</td>\n",
       "      <td>129.666667</td>\n",
       "      <td>4.000000e+00</td>\n",
       "    </tr>\n",
       "    <tr>\n",
       "      <th>1072</th>\n",
       "      <td>500 TIMBER WEATHERBOARDS LINKD</td>\n",
       "      <td>500 STRUCT FRAMG H1 2 KD LINKD</td>\n",
       "      <td>2</td>\n",
       "      <td>12</td>\n",
       "      <td>2024-07-01</td>\n",
       "      <td>2024-07-01</td>\n",
       "      <td>12</td>\n",
       "      <td>45.000000</td>\n",
       "      <td>6.000000e+00</td>\n",
       "    </tr>\n",
       "    <tr>\n",
       "      <th>978</th>\n",
       "      <td>500 STRUCT FRAMG H1 2 KD LINKD</td>\n",
       "      <td>500 NON STRUCT TRTD PINE GAUGE</td>\n",
       "      <td>12</td>\n",
       "      <td>3</td>\n",
       "      <td>2025-03-01</td>\n",
       "      <td>2025-03-01</td>\n",
       "      <td>12</td>\n",
       "      <td>129.666667</td>\n",
       "      <td>4.000000e+00</td>\n",
       "    </tr>\n",
       "    <tr>\n",
       "      <th>963</th>\n",
       "      <td>500 STRUCT FRAMG H1 2 KD LINKD</td>\n",
       "      <td>500 COLLATED SCREWS</td>\n",
       "      <td>12</td>\n",
       "      <td>2</td>\n",
       "      <td>2024-10-01</td>\n",
       "      <td>2024-10-01</td>\n",
       "      <td>12</td>\n",
       "      <td>194.500000</td>\n",
       "      <td>6.000000e+00</td>\n",
       "    </tr>\n",
       "    <tr>\n",
       "      <th>998</th>\n",
       "      <td>500 STRUCT FRAMG H1 2 KD LINKD</td>\n",
       "      <td>500 TIMBER WEATHERBOARDS LINKD</td>\n",
       "      <td>12</td>\n",
       "      <td>2</td>\n",
       "      <td>2024-07-01</td>\n",
       "      <td>2024-07-01</td>\n",
       "      <td>12</td>\n",
       "      <td>194.500000</td>\n",
       "      <td>6.000000e+00</td>\n",
       "    </tr>\n",
       "    <tr>\n",
       "      <th>1000</th>\n",
       "      <td>500 STRUCT FRAMG H1 2 KD LINKD</td>\n",
       "      <td>500 WEATHERBOARDS</td>\n",
       "      <td>12</td>\n",
       "      <td>3</td>\n",
       "      <td>2025-03-01</td>\n",
       "      <td>2025-03-01</td>\n",
       "      <td>12</td>\n",
       "      <td>129.666667</td>\n",
       "      <td>4.000000e+00</td>\n",
       "    </tr>\n",
       "    <tr>\n",
       "      <th>973</th>\n",
       "      <td>500 STRUCT FRAMG H1 2 KD LINKD</td>\n",
       "      <td>500 GLASSWOOL INSULATION BATTS</td>\n",
       "      <td>12</td>\n",
       "      <td>2</td>\n",
       "      <td>2025-05-01</td>\n",
       "      <td>2025-05-01</td>\n",
       "      <td>12</td>\n",
       "      <td>194.500000</td>\n",
       "      <td>6.000000e+00</td>\n",
       "    </tr>\n",
       "    <tr>\n",
       "      <th>76</th>\n",
       "      <td>500 BUILDING BRACKETS</td>\n",
       "      <td>500 STRUCT FRAMG H1 2 KD LINKD</td>\n",
       "      <td>3</td>\n",
       "      <td>12</td>\n",
       "      <td>2025-05-01</td>\n",
       "      <td>2025-05-01</td>\n",
       "      <td>12</td>\n",
       "      <td>46.333333</td>\n",
       "      <td>4.000000e+00</td>\n",
       "    </tr>\n",
       "    <tr>\n",
       "      <th>959</th>\n",
       "      <td>500 STRUCT FRAMG H1 2 KD LINKD</td>\n",
       "      <td>500 BUILDING BRACKETS</td>\n",
       "      <td>12</td>\n",
       "      <td>3</td>\n",
       "      <td>2025-05-01</td>\n",
       "      <td>2025-05-01</td>\n",
       "      <td>12</td>\n",
       "      <td>129.666667</td>\n",
       "      <td>4.000000e+00</td>\n",
       "    </tr>\n",
       "    <tr>\n",
       "      <th>83</th>\n",
       "      <td>500 BUILDING SUPPLIES OFFRANGE</td>\n",
       "      <td>500 COLLATED NAILS</td>\n",
       "      <td>8</td>\n",
       "      <td>5</td>\n",
       "      <td>2025-05-01</td>\n",
       "      <td>2025-05-01</td>\n",
       "      <td>12</td>\n",
       "      <td>81.900000</td>\n",
       "      <td>1.200000e+01</td>\n",
       "    </tr>\n",
       "    <tr>\n",
       "      <th>789</th>\n",
       "      <td>500 PLYWOOD SHEETS</td>\n",
       "      <td>500 BUILDING SUPPLIES OFFRANGE</td>\n",
       "      <td>5</td>\n",
       "      <td>8</td>\n",
       "      <td>2025-05-01</td>\n",
       "      <td>2025-05-01</td>\n",
       "      <td>12</td>\n",
       "      <td>68.100000</td>\n",
       "      <td>1.200000e+01</td>\n",
       "    </tr>\n",
       "    <tr>\n",
       "      <th>615</th>\n",
       "      <td>500 PAINT ADHESIVES</td>\n",
       "      <td>500 BUILDING SUPPLIES OFFRANGE</td>\n",
       "      <td>4</td>\n",
       "      <td>8</td>\n",
       "      <td>2025-03-01</td>\n",
       "      <td>2025-03-01</td>\n",
       "      <td>12</td>\n",
       "      <td>59.625000</td>\n",
       "      <td>5.438309e+15</td>\n",
       "    </tr>\n",
       "    <tr>\n",
       "      <th>550</th>\n",
       "      <td>500 NON STRUCT TRTD PINE GAUGE</td>\n",
       "      <td>500 STRUCT FRAMG H1 2 KD LINKD</td>\n",
       "      <td>3</td>\n",
       "      <td>12</td>\n",
       "      <td>2025-03-01</td>\n",
       "      <td>2025-03-01</td>\n",
       "      <td>12</td>\n",
       "      <td>45.000000</td>\n",
       "      <td>4.000000e+00</td>\n",
       "    </tr>\n",
       "    <tr>\n",
       "      <th>510</th>\n",
       "      <td>500 LAMINATED TIMBER</td>\n",
       "      <td>500 STRUCT FRAMG H1 2 KD LINKD</td>\n",
       "      <td>3</td>\n",
       "      <td>12</td>\n",
       "      <td>2024-11-01</td>\n",
       "      <td>2024-11-01</td>\n",
       "      <td>12</td>\n",
       "      <td>47.333333</td>\n",
       "      <td>4.000000e+00</td>\n",
       "    </tr>\n",
       "    <tr>\n",
       "      <th>458</th>\n",
       "      <td>500 GLASSWOOL INSULATION BATTS</td>\n",
       "      <td>500 STRUCT FRAMG H1 2 KD LINKD</td>\n",
       "      <td>2</td>\n",
       "      <td>12</td>\n",
       "      <td>2025-05-01</td>\n",
       "      <td>2025-05-01</td>\n",
       "      <td>12</td>\n",
       "      <td>54.000000</td>\n",
       "      <td>6.000000e+00</td>\n",
       "    </tr>\n",
       "    <tr>\n",
       "      <th>208</th>\n",
       "      <td>500 COLLATED SCREWS</td>\n",
       "      <td>500 STRUCT FRAMG H1 2 KD LINKD</td>\n",
       "      <td>2</td>\n",
       "      <td>12</td>\n",
       "      <td>2024-10-01</td>\n",
       "      <td>2024-10-01</td>\n",
       "      <td>12</td>\n",
       "      <td>53.000000</td>\n",
       "      <td>6.000000e+00</td>\n",
       "    </tr>\n",
       "    <tr>\n",
       "      <th>158</th>\n",
       "      <td>500 COLLATED NAILS</td>\n",
       "      <td>500 BUILDING SUPPLIES OFFRANGE</td>\n",
       "      <td>5</td>\n",
       "      <td>8</td>\n",
       "      <td>2025-05-01</td>\n",
       "      <td>2025-05-01</td>\n",
       "      <td>12</td>\n",
       "      <td>73.500000</td>\n",
       "      <td>1.200000e+01</td>\n",
       "    </tr>\n",
       "    <tr>\n",
       "      <th>99</th>\n",
       "      <td>500 BUILDING SUPPLIES OFFRANGE</td>\n",
       "      <td>500 PLYWOOD SHEETS</td>\n",
       "      <td>8</td>\n",
       "      <td>5</td>\n",
       "      <td>2025-05-01</td>\n",
       "      <td>2025-05-01</td>\n",
       "      <td>12</td>\n",
       "      <td>81.900000</td>\n",
       "      <td>1.200000e+01</td>\n",
       "    </tr>\n",
       "    <tr>\n",
       "      <th>1126</th>\n",
       "      <td>500 WEDGES AND SPACERS</td>\n",
       "      <td>500 STRUCT FRAMG H1 2 KD LINKD</td>\n",
       "      <td>2</td>\n",
       "      <td>12</td>\n",
       "      <td>2025-02-01</td>\n",
       "      <td>2025-02-01</td>\n",
       "      <td>12</td>\n",
       "      <td>46.000000</td>\n",
       "      <td>6.000000e+00</td>\n",
       "    </tr>\n",
       "  </tbody>\n",
       "</table>\n",
       "</div>"
      ],
      "text/plain": [
       "                          PRIMARY_ID                    SECONDARY_ID  \\\n",
       "863                 500 ROOF WINDOWS  500 STRUCT FRAMG H1 2 KD LINKD   \n",
       "992   500 STRUCT FRAMG H1 2 KD LINKD                500 ROOF WINDOWS   \n",
       "240                   500 CONNECTORS                500 ROOF WINDOWS   \n",
       "939         500 SKYLIGHT ACCESSORIES  500 STRUCT FRAMG H1 2 KD LINKD   \n",
       "826                 500 ROOF WINDOWS                  500 CONNECTORS   \n",
       "994   500 STRUCT FRAMG H1 2 KD LINKD        500 SKYLIGHT ACCESSORIES   \n",
       "381    500 FIBRE CEMENT SHEETING ACC                500 ROOF WINDOWS   \n",
       "836                 500 ROOF WINDOWS   500 FIBRE CEMENT SHEETING ACC   \n",
       "905         500 SKYLIGHT ACCESSORIES  500 BUILDING SUPPLIES OFFRANGE   \n",
       "242                   500 CONNECTORS        500 SKYLIGHT ACCESSORIES   \n",
       "909         500 SKYLIGHT ACCESSORIES                  500 CONNECTORS   \n",
       "102   500 BUILDING SUPPLIES OFFRANGE        500 SKYLIGHT ACCESSORIES   \n",
       "383    500 FIBRE CEMENT SHEETING ACC        500 SKYLIGHT ACCESSORIES   \n",
       "917         500 SKYLIGHT ACCESSORIES   500 FIBRE CEMENT SHEETING ACC   \n",
       "136                500 BUILDING WRAP        500 SKYLIGHT ACCESSORIES   \n",
       "906         500 SKYLIGHT ACCESSORIES               500 BUILDING WRAP   \n",
       "808               500 PLYWOOD SHEETS        500 SKYLIGHT ACCESSORIES   \n",
       "936         500 SKYLIGHT ACCESSORIES              500 PLYWOOD SHEETS   \n",
       "1109               500 WEATHERBOARDS  500 STRUCT FRAMG H1 2 KD LINKD   \n",
       "1001  500 STRUCT FRAMG H1 2 KD LINKD          500 WEDGES AND SPACERS   \n",
       "976   500 STRUCT FRAMG H1 2 KD LINKD            500 LAMINATED TIMBER   \n",
       "1072  500 TIMBER WEATHERBOARDS LINKD  500 STRUCT FRAMG H1 2 KD LINKD   \n",
       "978   500 STRUCT FRAMG H1 2 KD LINKD  500 NON STRUCT TRTD PINE GAUGE   \n",
       "963   500 STRUCT FRAMG H1 2 KD LINKD             500 COLLATED SCREWS   \n",
       "998   500 STRUCT FRAMG H1 2 KD LINKD  500 TIMBER WEATHERBOARDS LINKD   \n",
       "1000  500 STRUCT FRAMG H1 2 KD LINKD               500 WEATHERBOARDS   \n",
       "973   500 STRUCT FRAMG H1 2 KD LINKD  500 GLASSWOOL INSULATION BATTS   \n",
       "76             500 BUILDING BRACKETS  500 STRUCT FRAMG H1 2 KD LINKD   \n",
       "959   500 STRUCT FRAMG H1 2 KD LINKD           500 BUILDING BRACKETS   \n",
       "83    500 BUILDING SUPPLIES OFFRANGE              500 COLLATED NAILS   \n",
       "789               500 PLYWOOD SHEETS  500 BUILDING SUPPLIES OFFRANGE   \n",
       "615              500 PAINT ADHESIVES  500 BUILDING SUPPLIES OFFRANGE   \n",
       "550   500 NON STRUCT TRTD PINE GAUGE  500 STRUCT FRAMG H1 2 KD LINKD   \n",
       "510             500 LAMINATED TIMBER  500 STRUCT FRAMG H1 2 KD LINKD   \n",
       "458   500 GLASSWOOL INSULATION BATTS  500 STRUCT FRAMG H1 2 KD LINKD   \n",
       "208              500 COLLATED SCREWS  500 STRUCT FRAMG H1 2 KD LINKD   \n",
       "158               500 COLLATED NAILS  500 BUILDING SUPPLIES OFFRANGE   \n",
       "99    500 BUILDING SUPPLIES OFFRANGE              500 PLYWOOD SHEETS   \n",
       "1126          500 WEDGES AND SPACERS  500 STRUCT FRAMG H1 2 KD LINKD   \n",
       "\n",
       "      PRIMARY_TRANSACTIONS  SECONDARY_TRANSACTIONS TRX_START_MONTH  \\\n",
       "863                    413                      12      2024-08-01   \n",
       "992                     12                     413      2024-08-01   \n",
       "240                      7                     413      2024-10-01   \n",
       "939                    269                      12      2024-07-01   \n",
       "826                    413                       7      2024-10-01   \n",
       "994                     12                     269      2024-07-01   \n",
       "381                      7                     413      2024-08-01   \n",
       "836                    413                       7      2024-08-01   \n",
       "905                    269                       8      2024-07-01   \n",
       "242                      7                     269      2024-10-01   \n",
       "909                    269                       7      2024-10-01   \n",
       "102                      8                     269      2024-07-01   \n",
       "383                      7                     269      2024-07-01   \n",
       "917                    269                       7      2024-07-01   \n",
       "136                      5                     269      2025-02-01   \n",
       "906                    269                       5      2025-02-01   \n",
       "808                      5                     269      2024-06-01   \n",
       "936                    269                       5      2024-06-01   \n",
       "1109                     3                      12      2025-03-01   \n",
       "1001                    12                       2      2025-02-01   \n",
       "976                     12                       3      2024-11-01   \n",
       "1072                     2                      12      2024-07-01   \n",
       "978                     12                       3      2025-03-01   \n",
       "963                     12                       2      2024-10-01   \n",
       "998                     12                       2      2024-07-01   \n",
       "1000                    12                       3      2025-03-01   \n",
       "973                     12                       2      2025-05-01   \n",
       "76                       3                      12      2025-05-01   \n",
       "959                     12                       3      2025-05-01   \n",
       "83                       8                       5      2025-05-01   \n",
       "789                      5                       8      2025-05-01   \n",
       "615                      4                       8      2025-03-01   \n",
       "550                      3                      12      2025-03-01   \n",
       "510                      3                      12      2024-11-01   \n",
       "458                      2                      12      2025-05-01   \n",
       "208                      2                      12      2024-10-01   \n",
       "158                      5                       8      2025-05-01   \n",
       "99                       8                       5      2025-05-01   \n",
       "1126                     2                      12      2025-02-01   \n",
       "\n",
       "     TRX_END_MONTH  PAIR_TRANSACTIONS        LIFT       JACCARD  \n",
       "863     2025-05-01                120   13.704600  3.934426e-01  \n",
       "992     2025-05-01                120    9.418886  3.934426e-01  \n",
       "240     2025-05-01                 84    7.234867  2.500000e-01  \n",
       "939     2025-05-01                 84   14.728625  4.263959e-01  \n",
       "826     2025-05-01                 84   16.445521  2.500000e-01  \n",
       "994     2025-05-01                 84   10.122677  4.263959e-01  \n",
       "381     2025-05-01                 72    7.297129  2.068966e-01  \n",
       "836     2025-05-01                 72   14.096160  2.068966e-01  \n",
       "905     2025-05-01                 60   15.780669  2.764977e-01  \n",
       "242     2025-05-01                 60    7.934148  2.777778e-01  \n",
       "909     2025-05-01                 60   18.035050  2.777778e-01  \n",
       "102     2025-05-01                 60    7.611524  2.764977e-01  \n",
       "383     2025-05-01                 48    7.468933  2.105263e-01  \n",
       "917     2025-05-01                 48   14.428040  2.105263e-01  \n",
       "136     2025-05-01                 48    5.103346  2.123894e-01  \n",
       "906     2025-05-01                 48   20.199257  2.123894e-01  \n",
       "808     2025-05-01                 44    7.426022  1.913043e-01  \n",
       "936     2025-05-01                 44   18.515985  1.913043e-01  \n",
       "1109    2025-03-01                 12   49.333333  4.000000e+00  \n",
       "1001    2025-02-01                 12  194.500000  6.000000e+00  \n",
       "976     2024-11-01                 12  129.666667  4.000000e+00  \n",
       "1072    2024-07-01                 12   45.000000  6.000000e+00  \n",
       "978     2025-03-01                 12  129.666667  4.000000e+00  \n",
       "963     2024-10-01                 12  194.500000  6.000000e+00  \n",
       "998     2024-07-01                 12  194.500000  6.000000e+00  \n",
       "1000    2025-03-01                 12  129.666667  4.000000e+00  \n",
       "973     2025-05-01                 12  194.500000  6.000000e+00  \n",
       "76      2025-05-01                 12   46.333333  4.000000e+00  \n",
       "959     2025-05-01                 12  129.666667  4.000000e+00  \n",
       "83      2025-05-01                 12   81.900000  1.200000e+01  \n",
       "789     2025-05-01                 12   68.100000  1.200000e+01  \n",
       "615     2025-03-01                 12   59.625000  5.438309e+15  \n",
       "550     2025-03-01                 12   45.000000  4.000000e+00  \n",
       "510     2024-11-01                 12   47.333333  4.000000e+00  \n",
       "458     2025-05-01                 12   54.000000  6.000000e+00  \n",
       "208     2024-10-01                 12   53.000000  6.000000e+00  \n",
       "158     2025-05-01                 12   73.500000  1.200000e+01  \n",
       "99      2025-05-01                 12   81.900000  1.200000e+01  \n",
       "1126    2025-02-01                 12   46.000000  6.000000e+00  "
      ]
     },
     "execution_count": 634,
     "metadata": {},
     "output_type": "execute_result"
    }
   ],
   "source": [
    "filtered_df.sort_values(by='PAIR_TRANSACTIONS', ascending=False)"
   ]
  },
  {
   "cell_type": "code",
   "execution_count": 670,
   "metadata": {},
   "outputs": [],
   "source": [
    "mode='lines',\n",
    "line_shape='spline'\n",
    "    \n",
    "# Build node size map from your DataFrame\n",
    "node_size_map = dict(zip(top_edges['PRIMARY_ID'], top_edges['PRIMARY_TRANSACTIONS']))\n",
    "\n",
    "# Convert values to NumPy array\n",
    "sizes = np.array(list(node_size_map.values()))\n",
    "\n",
    "# Use np.ptp instead of .ptp()\n",
    "norm_sizes = (sizes - sizes.min()) / np.ptp(sizes)  # scale to 0–1\n",
    "scaled_sizes = 10 + norm_sizes * 30                 # scale to 10–40\n",
    "\n",
    "# Final size map: Product ID → Scaled Size\n",
    "scaled_size_map = dict(zip(node_size_map.keys(), scaled_sizes))\n",
    "\n",
    "# Step 1: Build the full graph\n",
    "G = nx.Graph()\n",
    "for _, row in top_edges.iterrows():\n",
    "    G.add_edge(row['PRIMARY_ID'], row['SECONDARY_ID'], weight=row['JACCARD'])\n",
    "\n",
    "# Step 2: Louvain community detection\n",
    "partition = community_louvain.best_partition(G, weight='JACCARD', resolution=RESO)\n",
    "\n",
    "# Step 3: Layout\n",
    "pos = nx.spring_layout(G, weight='weight', seed=42\n",
    "                      )\n",
    "\n",
    "# Step 4: Edge trace (no filter on weight)\n",
    "edge_x, edge_y = [], []\n",
    "for u, v in G.edges():\n",
    "    x0, y0 = pos[u]\n",
    "    x1, y1 = pos[v]\n",
    "    edge_x += [x0, x1, None]\n",
    "    edge_y += [y0, y1, None]\n",
    "\n",
    "edge_trace = go.Scatter(\n",
    "    x=edge_x,\n",
    "    y=edge_y,\n",
    "    line=dict(width=1, color='gray'),\n",
    "    hoverinfo='none',\n",
    "    mode='lines'\n",
    ")\n",
    "\n",
    "# Step 5: Node trace with Louvain cluster coloring\n",
    "color_list = ['#1f77b4', '#ff7f0e', '#2ca02c', '#d62728',\n",
    "              '#9467bd', '#8c564b', '#e377c2', '#7f7f7f',\n",
    "              '#bcbd22', '#17becf']  # Extend if you expect >10 clusters\n",
    "\n",
    "node_x, node_y, node_color, node_size, hover_text = [], [], [], [], []\n",
    "\n",
    "for node in G.nodes():\n",
    "    x, y = pos[node]\n",
    "    cluster = partition[node]\n",
    "    size = scaled_size_map.get(node, 10)  # default to small if missing\n",
    "\n",
    "    node_x.append(x)\n",
    "    node_y.append(y)\n",
    "    node_color.append(color_list[cluster % len(color_list)])\n",
    "    node_size.append(size)\n",
    "    hover_text.append(f\"Product ID: {node}<br>Cluster: {cluster}<br>Transactions: {int(size)}\")\n",
    "\n",
    "node_trace = go.Scatter(\n",
    "    x=node_x,\n",
    "    y=node_y,\n",
    "    mode='markers+text',\n",
    "    hoverinfo='text',\n",
    "    text=[str(node) for node in G.nodes()],\n",
    "    textposition='top center',\n",
    "    marker=dict(\n",
    "        color=node_color,\n",
    "        size=node_size,  # <--- size now dynamic!\n",
    "        line=dict(width=2, color='black')\n",
    "    ),\n",
    "    textfont=dict(\n",
    "    size=16,          # increase for visibility\n",
    "    color='black',\n",
    "    family='Arial'\n",
    ")\n",
    ")\n",
    "# Step 6: Plot\n",
    "fig = go.Figure(\n",
    "    data=[edge_trace, node_trace],\n",
    "    layout=go.Layout(\n",
    "        width=1200,          # increase width\n",
    "    height=800, \n",
    "        title=dict(text='Louvain Product Clustering (All Edges)', x=0.5, font=dict(size=16)),\n",
    "        showlegend=False,\n",
    "        hovermode='closest',\n",
    "        margin=dict(b=20, l=20, r=20, t=40),\n",
    "        xaxis=dict(showgrid=False, zeroline=False, showticklabels=False),\n",
    "        yaxis=dict(showgrid=False, zeroline=False, showticklabels=False)\n",
    "    )\n",
    ")"
   ]
  },
  {
   "cell_type": "markdown",
   "metadata": {},
   "source": [
    "# Results"
   ]
  },
  {
   "cell_type": "markdown",
   "metadata": {},
   "source": [
    "### PRE-INSTALLATION (Segment 2: Roof Framing & Structural Integration)\n",
    "**Item Classes:**\n",
    "- 500 BUILDING BRACKETS  \n",
    "- 500 TIMBER WEATHERBOARDS LINKD  \n",
    "- 500 STRUCT FRAMG H1 2 KD LINKD  \n",
    "- 500 LAMINATED TIMBER  \n",
    "- 500 WEATHERBOARDS  \n",
    "- 500 GLASSWOOL INSULATION BATTS  \n",
    "- 500 COLLATED SCREWS  \n",
    "- 500 NON STRUCT TRTD PINE GAUGE  \n",
    "- 500 WEDGES AND SPACERS\n",
    "\n",
    "**Interpretation:**  \n",
    "Materials for reinforcing roof structure, re-cladding, and thermally insulating the skylight area. These support compliance, durability, and weather-tightness.\n",
    "\n",
    "### INSTALLATION (Segment 0: Skylight Core + Install Essentials)\n",
    "**Item Classes:**\n",
    "- 500 BUILDING WRAP  \n",
    "- 500 CONNECTORS  \n",
    "- 500 FIBRE CEMENT SHEETING ACC  \n",
    "- 500 SKYLIGHT ACCESSORIES  \n",
    "- 500 ROOF WINDOWS\n",
    "\n",
    "**Interpretation:**  \n",
    "This segment includes the central components required for skylight installation: the roof window unit itself, accessory kits, moisture wrap, and structural fixings.\n",
    "\n",
    "Noted: Supplier VELUX NEW ZEALAND LTD sells products in ROOF WINDOWS and SKYLIGHT ACCESSORIES\n",
    "\n",
    "### POST-INSTALLATION (Segment 1: Shaft Build & Interior Finishing)\n",
    "**Item Classes:**\n",
    "- 500 BUILDING SUPPLIES OFFRANGE  ???\n",
    "- 500 COLLATED NAILS  \n",
    "- 500 PAINT ADHESIVES  \n",
    "- 500 PLYWOOD SHEETS\n",
    "\n",
    "**Interpretation:**  \n",
    "General building materials used to line the skylight shaft or interior roof space allowing fast installation and clean finishes."
   ]
  },
  {
   "cell_type": "code",
   "execution_count": 671,
   "metadata": {},
   "outputs": [
    {
     "data": {
      "application/vnd.plotly.v1+json": {
       "config": {
        "plotlyServerURL": "https://plot.ly"
       },
       "data": [
        {
         "hoverinfo": "none",
         "line": {
          "color": "gray",
          "width": 1
         },
         "mode": "lines",
         "type": "scatter",
         "x": [
          0.6318453687908622,
          0.6273830436546347,
          null,
          0.6273830436546347,
          0.7404644354182822,
          null,
          0.6273830436546347,
          0.7468253410499868,
          null,
          0.6273830436546347,
          0.25363643883405834,
          null,
          0.7404644354182822,
          0.25363643883405834,
          null,
          -0.23019848951885435,
          -0.33980509696305494,
          null,
          -0.33980509696305494,
          -0.15168858678277497,
          null,
          -0.33980509696305494,
          -0.5403737962514935,
          null,
          -0.33980509696305494,
          -0.47345520155300996,
          null,
          -0.33980509696305494,
          -0.4659867282456817,
          null,
          -0.33980509696305494,
          -0.23037785495796842,
          null,
          -0.33980509696305494,
          -0.6335461223589228,
          null,
          -0.33980509696305494,
          -0.3896467078603615,
          null,
          -0.33980509696305494,
          0.25363643883405834,
          null,
          -0.33980509696305494,
          0.04996295613067245,
          null,
          0.25363643883405834,
          0.2899806640589209,
          null,
          0.25363643883405834,
          -0.5431257818998614,
          null,
          0.25363643883405834,
          0.6581061184545663,
          null,
          0.04996295613067245,
          0.2899806640589209,
          null,
          0.04996295613067245,
          0.6581061184545663,
          null
         ],
         "y": [
          0.4147464249432617,
          0.41914136337696284,
          null,
          0.41914136337696284,
          0.3044653458811573,
          null,
          0.41914136337696284,
          0.5414306886002989,
          null,
          0.41914136337696284,
          -0.2917239109975406,
          null,
          0.3044653458811573,
          -0.2917239109975406,
          null,
          0.3598422676433225,
          0.17176661739013863,
          null,
          0.17176661739013863,
          0.1941341905610568,
          null,
          0.17176661739013863,
          0.1038036205133538,
          null,
          0.17176661739013863,
          0.3275904324184197,
          null,
          0.17176661739013863,
          -0.059503783339817,
          null,
          0.17176661739013863,
          -0.03275825819352413,
          null,
          0.17176661739013863,
          0.26134456193046884,
          null,
          0.17176661739013863,
          0.4731720974737951,
          null,
          0.17176661739013863,
          -0.2917239109975406,
          null,
          0.17176661739013863,
          -0.5871425648882652,
          null,
          -0.2917239109975406,
          -1,
          null,
          -0.2917239109975406,
          -0.7295532368187926,
          null,
          -0.2917239109975406,
          -0.8707558564942982,
          null,
          -0.5871425648882652,
          -1,
          null,
          -0.5871425648882652,
          -0.8707558564942982,
          null
         ]
        },
        {
         "hoverinfo": "text",
         "marker": {
          "color": [
           "#ff7f0e",
           "#ff7f0e",
           "#ff7f0e",
           "#ff7f0e",
           "#1f77b4",
           "#1f77b4",
           "#1f77b4",
           "#1f77b4",
           "#1f77b4",
           "#1f77b4",
           "#1f77b4",
           "#1f77b4",
           "#1f77b4",
           "#2ca02c",
           "#2ca02c",
           "#2ca02c",
           "#2ca02c",
           "#2ca02c"
          ],
          "line": {
           "color": "black",
           "width": 2
          },
          "size": [
           10.145985401459853,
           10.437956204379562,
           10.218978102189782,
           10.218978102189782,
           10,
           10.72992700729927,
           10,
           10,
           10,
           10.072992700729927,
           10.072992700729927,
           10.072992700729927,
           10.072992700729927,
           29.48905109489051,
           40,
           10.364963503649635,
           10.218978102189782,
           10.364963503649635
          ]
         },
         "mode": "markers+text",
         "text": [
          "500 PAINT ADHESIVES",
          "500 BUILDING SUPPLIES OFFRANGE",
          "500 PLYWOOD SHEETS",
          "500 COLLATED NAILS",
          "500 COLLATED SCREWS",
          "500 STRUCT FRAMG H1 2 KD LINKD",
          "500 GLASSWOOL INSULATION BATTS",
          "500 TIMBER WEATHERBOARDS LINKD",
          "500 WEDGES AND SPACERS",
          "500 LAMINATED TIMBER",
          "500 WEATHERBOARDS",
          "500 BUILDING BRACKETS",
          "500 NON STRUCT TRTD PINE GAUGE",
          "500 SKYLIGHT ACCESSORIES",
          "500 ROOF WINDOWS",
          "500 CONNECTORS",
          "500 BUILDING WRAP",
          "500 FIBRE CEMENT SHEETING ACC"
         ],
         "textfont": {
          "color": "black",
          "family": "Arial",
          "size": 16
         },
         "textposition": "top center",
         "type": "scatter",
         "x": [
          0.6318453687908622,
          0.6273830436546347,
          0.7404644354182822,
          0.7468253410499868,
          -0.23019848951885435,
          -0.33980509696305494,
          -0.15168858678277497,
          -0.5403737962514935,
          -0.47345520155300996,
          -0.4659867282456817,
          -0.23037785495796842,
          -0.6335461223589228,
          -0.3896467078603615,
          0.25363643883405834,
          0.04996295613067245,
          0.2899806640589209,
          -0.5431257818998614,
          0.6581061184545663
         ],
         "y": [
          0.4147464249432617,
          0.41914136337696284,
          0.3044653458811573,
          0.5414306886002989,
          0.3598422676433225,
          0.17176661739013863,
          0.1941341905610568,
          0.1038036205133538,
          0.3275904324184197,
          -0.059503783339817,
          -0.03275825819352413,
          0.26134456193046884,
          0.4731720974737951,
          -0.2917239109975406,
          -0.5871425648882652,
          -1,
          -0.7295532368187926,
          -0.8707558564942982
         ]
        }
       ],
       "layout": {
        "height": 800,
        "hovermode": "closest",
        "margin": {
         "b": 20,
         "l": 20,
         "r": 20,
         "t": 40
        },
        "showlegend": false,
        "template": {
         "data": {
          "bar": [
           {
            "error_x": {
             "color": "#2a3f5f"
            },
            "error_y": {
             "color": "#2a3f5f"
            },
            "marker": {
             "line": {
              "color": "#E5ECF6",
              "width": 0.5
             },
             "pattern": {
              "fillmode": "overlay",
              "size": 10,
              "solidity": 0.2
             }
            },
            "type": "bar"
           }
          ],
          "barpolar": [
           {
            "marker": {
             "line": {
              "color": "#E5ECF6",
              "width": 0.5
             },
             "pattern": {
              "fillmode": "overlay",
              "size": 10,
              "solidity": 0.2
             }
            },
            "type": "barpolar"
           }
          ],
          "carpet": [
           {
            "aaxis": {
             "endlinecolor": "#2a3f5f",
             "gridcolor": "white",
             "linecolor": "white",
             "minorgridcolor": "white",
             "startlinecolor": "#2a3f5f"
            },
            "baxis": {
             "endlinecolor": "#2a3f5f",
             "gridcolor": "white",
             "linecolor": "white",
             "minorgridcolor": "white",
             "startlinecolor": "#2a3f5f"
            },
            "type": "carpet"
           }
          ],
          "choropleth": [
           {
            "colorbar": {
             "outlinewidth": 0,
             "ticks": ""
            },
            "type": "choropleth"
           }
          ],
          "contour": [
           {
            "colorbar": {
             "outlinewidth": 0,
             "ticks": ""
            },
            "colorscale": [
             [
              0,
              "#0d0887"
             ],
             [
              0.1111111111111111,
              "#46039f"
             ],
             [
              0.2222222222222222,
              "#7201a8"
             ],
             [
              0.3333333333333333,
              "#9c179e"
             ],
             [
              0.4444444444444444,
              "#bd3786"
             ],
             [
              0.5555555555555556,
              "#d8576b"
             ],
             [
              0.6666666666666666,
              "#ed7953"
             ],
             [
              0.7777777777777778,
              "#fb9f3a"
             ],
             [
              0.8888888888888888,
              "#fdca26"
             ],
             [
              1,
              "#f0f921"
             ]
            ],
            "type": "contour"
           }
          ],
          "contourcarpet": [
           {
            "colorbar": {
             "outlinewidth": 0,
             "ticks": ""
            },
            "type": "contourcarpet"
           }
          ],
          "heatmap": [
           {
            "colorbar": {
             "outlinewidth": 0,
             "ticks": ""
            },
            "colorscale": [
             [
              0,
              "#0d0887"
             ],
             [
              0.1111111111111111,
              "#46039f"
             ],
             [
              0.2222222222222222,
              "#7201a8"
             ],
             [
              0.3333333333333333,
              "#9c179e"
             ],
             [
              0.4444444444444444,
              "#bd3786"
             ],
             [
              0.5555555555555556,
              "#d8576b"
             ],
             [
              0.6666666666666666,
              "#ed7953"
             ],
             [
              0.7777777777777778,
              "#fb9f3a"
             ],
             [
              0.8888888888888888,
              "#fdca26"
             ],
             [
              1,
              "#f0f921"
             ]
            ],
            "type": "heatmap"
           }
          ],
          "heatmapgl": [
           {
            "colorbar": {
             "outlinewidth": 0,
             "ticks": ""
            },
            "colorscale": [
             [
              0,
              "#0d0887"
             ],
             [
              0.1111111111111111,
              "#46039f"
             ],
             [
              0.2222222222222222,
              "#7201a8"
             ],
             [
              0.3333333333333333,
              "#9c179e"
             ],
             [
              0.4444444444444444,
              "#bd3786"
             ],
             [
              0.5555555555555556,
              "#d8576b"
             ],
             [
              0.6666666666666666,
              "#ed7953"
             ],
             [
              0.7777777777777778,
              "#fb9f3a"
             ],
             [
              0.8888888888888888,
              "#fdca26"
             ],
             [
              1,
              "#f0f921"
             ]
            ],
            "type": "heatmapgl"
           }
          ],
          "histogram": [
           {
            "marker": {
             "pattern": {
              "fillmode": "overlay",
              "size": 10,
              "solidity": 0.2
             }
            },
            "type": "histogram"
           }
          ],
          "histogram2d": [
           {
            "colorbar": {
             "outlinewidth": 0,
             "ticks": ""
            },
            "colorscale": [
             [
              0,
              "#0d0887"
             ],
             [
              0.1111111111111111,
              "#46039f"
             ],
             [
              0.2222222222222222,
              "#7201a8"
             ],
             [
              0.3333333333333333,
              "#9c179e"
             ],
             [
              0.4444444444444444,
              "#bd3786"
             ],
             [
              0.5555555555555556,
              "#d8576b"
             ],
             [
              0.6666666666666666,
              "#ed7953"
             ],
             [
              0.7777777777777778,
              "#fb9f3a"
             ],
             [
              0.8888888888888888,
              "#fdca26"
             ],
             [
              1,
              "#f0f921"
             ]
            ],
            "type": "histogram2d"
           }
          ],
          "histogram2dcontour": [
           {
            "colorbar": {
             "outlinewidth": 0,
             "ticks": ""
            },
            "colorscale": [
             [
              0,
              "#0d0887"
             ],
             [
              0.1111111111111111,
              "#46039f"
             ],
             [
              0.2222222222222222,
              "#7201a8"
             ],
             [
              0.3333333333333333,
              "#9c179e"
             ],
             [
              0.4444444444444444,
              "#bd3786"
             ],
             [
              0.5555555555555556,
              "#d8576b"
             ],
             [
              0.6666666666666666,
              "#ed7953"
             ],
             [
              0.7777777777777778,
              "#fb9f3a"
             ],
             [
              0.8888888888888888,
              "#fdca26"
             ],
             [
              1,
              "#f0f921"
             ]
            ],
            "type": "histogram2dcontour"
           }
          ],
          "mesh3d": [
           {
            "colorbar": {
             "outlinewidth": 0,
             "ticks": ""
            },
            "type": "mesh3d"
           }
          ],
          "parcoords": [
           {
            "line": {
             "colorbar": {
              "outlinewidth": 0,
              "ticks": ""
             }
            },
            "type": "parcoords"
           }
          ],
          "pie": [
           {
            "automargin": true,
            "type": "pie"
           }
          ],
          "scatter": [
           {
            "fillpattern": {
             "fillmode": "overlay",
             "size": 10,
             "solidity": 0.2
            },
            "type": "scatter"
           }
          ],
          "scatter3d": [
           {
            "line": {
             "colorbar": {
              "outlinewidth": 0,
              "ticks": ""
             }
            },
            "marker": {
             "colorbar": {
              "outlinewidth": 0,
              "ticks": ""
             }
            },
            "type": "scatter3d"
           }
          ],
          "scattercarpet": [
           {
            "marker": {
             "colorbar": {
              "outlinewidth": 0,
              "ticks": ""
             }
            },
            "type": "scattercarpet"
           }
          ],
          "scattergeo": [
           {
            "marker": {
             "colorbar": {
              "outlinewidth": 0,
              "ticks": ""
             }
            },
            "type": "scattergeo"
           }
          ],
          "scattergl": [
           {
            "marker": {
             "colorbar": {
              "outlinewidth": 0,
              "ticks": ""
             }
            },
            "type": "scattergl"
           }
          ],
          "scattermapbox": [
           {
            "marker": {
             "colorbar": {
              "outlinewidth": 0,
              "ticks": ""
             }
            },
            "type": "scattermapbox"
           }
          ],
          "scatterpolar": [
           {
            "marker": {
             "colorbar": {
              "outlinewidth": 0,
              "ticks": ""
             }
            },
            "type": "scatterpolar"
           }
          ],
          "scatterpolargl": [
           {
            "marker": {
             "colorbar": {
              "outlinewidth": 0,
              "ticks": ""
             }
            },
            "type": "scatterpolargl"
           }
          ],
          "scatterternary": [
           {
            "marker": {
             "colorbar": {
              "outlinewidth": 0,
              "ticks": ""
             }
            },
            "type": "scatterternary"
           }
          ],
          "surface": [
           {
            "colorbar": {
             "outlinewidth": 0,
             "ticks": ""
            },
            "colorscale": [
             [
              0,
              "#0d0887"
             ],
             [
              0.1111111111111111,
              "#46039f"
             ],
             [
              0.2222222222222222,
              "#7201a8"
             ],
             [
              0.3333333333333333,
              "#9c179e"
             ],
             [
              0.4444444444444444,
              "#bd3786"
             ],
             [
              0.5555555555555556,
              "#d8576b"
             ],
             [
              0.6666666666666666,
              "#ed7953"
             ],
             [
              0.7777777777777778,
              "#fb9f3a"
             ],
             [
              0.8888888888888888,
              "#fdca26"
             ],
             [
              1,
              "#f0f921"
             ]
            ],
            "type": "surface"
           }
          ],
          "table": [
           {
            "cells": {
             "fill": {
              "color": "#EBF0F8"
             },
             "line": {
              "color": "white"
             }
            },
            "header": {
             "fill": {
              "color": "#C8D4E3"
             },
             "line": {
              "color": "white"
             }
            },
            "type": "table"
           }
          ]
         },
         "layout": {
          "annotationdefaults": {
           "arrowcolor": "#2a3f5f",
           "arrowhead": 0,
           "arrowwidth": 1
          },
          "autotypenumbers": "strict",
          "coloraxis": {
           "colorbar": {
            "outlinewidth": 0,
            "ticks": ""
           }
          },
          "colorscale": {
           "diverging": [
            [
             0,
             "#8e0152"
            ],
            [
             0.1,
             "#c51b7d"
            ],
            [
             0.2,
             "#de77ae"
            ],
            [
             0.3,
             "#f1b6da"
            ],
            [
             0.4,
             "#fde0ef"
            ],
            [
             0.5,
             "#f7f7f7"
            ],
            [
             0.6,
             "#e6f5d0"
            ],
            [
             0.7,
             "#b8e186"
            ],
            [
             0.8,
             "#7fbc41"
            ],
            [
             0.9,
             "#4d9221"
            ],
            [
             1,
             "#276419"
            ]
           ],
           "sequential": [
            [
             0,
             "#0d0887"
            ],
            [
             0.1111111111111111,
             "#46039f"
            ],
            [
             0.2222222222222222,
             "#7201a8"
            ],
            [
             0.3333333333333333,
             "#9c179e"
            ],
            [
             0.4444444444444444,
             "#bd3786"
            ],
            [
             0.5555555555555556,
             "#d8576b"
            ],
            [
             0.6666666666666666,
             "#ed7953"
            ],
            [
             0.7777777777777778,
             "#fb9f3a"
            ],
            [
             0.8888888888888888,
             "#fdca26"
            ],
            [
             1,
             "#f0f921"
            ]
           ],
           "sequentialminus": [
            [
             0,
             "#0d0887"
            ],
            [
             0.1111111111111111,
             "#46039f"
            ],
            [
             0.2222222222222222,
             "#7201a8"
            ],
            [
             0.3333333333333333,
             "#9c179e"
            ],
            [
             0.4444444444444444,
             "#bd3786"
            ],
            [
             0.5555555555555556,
             "#d8576b"
            ],
            [
             0.6666666666666666,
             "#ed7953"
            ],
            [
             0.7777777777777778,
             "#fb9f3a"
            ],
            [
             0.8888888888888888,
             "#fdca26"
            ],
            [
             1,
             "#f0f921"
            ]
           ]
          },
          "colorway": [
           "#636efa",
           "#EF553B",
           "#00cc96",
           "#ab63fa",
           "#FFA15A",
           "#19d3f3",
           "#FF6692",
           "#B6E880",
           "#FF97FF",
           "#FECB52"
          ],
          "font": {
           "color": "#2a3f5f"
          },
          "geo": {
           "bgcolor": "white",
           "lakecolor": "white",
           "landcolor": "#E5ECF6",
           "showlakes": true,
           "showland": true,
           "subunitcolor": "white"
          },
          "hoverlabel": {
           "align": "left"
          },
          "hovermode": "closest",
          "mapbox": {
           "style": "light"
          },
          "paper_bgcolor": "white",
          "plot_bgcolor": "#E5ECF6",
          "polar": {
           "angularaxis": {
            "gridcolor": "white",
            "linecolor": "white",
            "ticks": ""
           },
           "bgcolor": "#E5ECF6",
           "radialaxis": {
            "gridcolor": "white",
            "linecolor": "white",
            "ticks": ""
           }
          },
          "scene": {
           "xaxis": {
            "backgroundcolor": "#E5ECF6",
            "gridcolor": "white",
            "gridwidth": 2,
            "linecolor": "white",
            "showbackground": true,
            "ticks": "",
            "zerolinecolor": "white"
           },
           "yaxis": {
            "backgroundcolor": "#E5ECF6",
            "gridcolor": "white",
            "gridwidth": 2,
            "linecolor": "white",
            "showbackground": true,
            "ticks": "",
            "zerolinecolor": "white"
           },
           "zaxis": {
            "backgroundcolor": "#E5ECF6",
            "gridcolor": "white",
            "gridwidth": 2,
            "linecolor": "white",
            "showbackground": true,
            "ticks": "",
            "zerolinecolor": "white"
           }
          },
          "shapedefaults": {
           "line": {
            "color": "#2a3f5f"
           }
          },
          "ternary": {
           "aaxis": {
            "gridcolor": "white",
            "linecolor": "white",
            "ticks": ""
           },
           "baxis": {
            "gridcolor": "white",
            "linecolor": "white",
            "ticks": ""
           },
           "bgcolor": "#E5ECF6",
           "caxis": {
            "gridcolor": "white",
            "linecolor": "white",
            "ticks": ""
           }
          },
          "title": {
           "x": 0.05
          },
          "xaxis": {
           "automargin": true,
           "gridcolor": "white",
           "linecolor": "white",
           "ticks": "",
           "title": {
            "standoff": 15
           },
           "zerolinecolor": "white",
           "zerolinewidth": 2
          },
          "yaxis": {
           "automargin": true,
           "gridcolor": "white",
           "linecolor": "white",
           "ticks": "",
           "title": {
            "standoff": 15
           },
           "zerolinecolor": "white",
           "zerolinewidth": 2
          }
         }
        },
        "title": {
         "font": {
          "size": 16
         },
         "text": "Louvain Product Clustering (All Edges)",
         "x": 0.5
        },
        "width": 1200,
        "xaxis": {
         "showgrid": false,
         "showticklabels": false,
         "zeroline": false
        },
        "yaxis": {
         "showgrid": false,
         "showticklabels": false,
         "zeroline": false
        }
       }
      },
      "text/html": [
       "<div>                            <div id=\"3f2661ab-b7a8-4bae-972a-34e26b955db7\" class=\"plotly-graph-div\" style=\"height:800px; width:1200px;\"></div>            <script type=\"text/javascript\">                require([\"plotly\"], function(Plotly) {                    window.PLOTLYENV=window.PLOTLYENV || {};                                    if (document.getElementById(\"3f2661ab-b7a8-4bae-972a-34e26b955db7\")) {                    Plotly.newPlot(                        \"3f2661ab-b7a8-4bae-972a-34e26b955db7\",                        [{\"hoverinfo\":\"none\",\"line\":{\"color\":\"gray\",\"width\":1},\"mode\":\"lines\",\"x\":[0.6318453687908622,0.6273830436546347,null,0.6273830436546347,0.7404644354182822,null,0.6273830436546347,0.7468253410499868,null,0.6273830436546347,0.25363643883405834,null,0.7404644354182822,0.25363643883405834,null,-0.23019848951885435,-0.33980509696305494,null,-0.33980509696305494,-0.15168858678277497,null,-0.33980509696305494,-0.5403737962514935,null,-0.33980509696305494,-0.47345520155300996,null,-0.33980509696305494,-0.4659867282456817,null,-0.33980509696305494,-0.23037785495796842,null,-0.33980509696305494,-0.6335461223589228,null,-0.33980509696305494,-0.3896467078603615,null,-0.33980509696305494,0.25363643883405834,null,-0.33980509696305494,0.04996295613067245,null,0.25363643883405834,0.2899806640589209,null,0.25363643883405834,-0.5431257818998614,null,0.25363643883405834,0.6581061184545663,null,0.04996295613067245,0.2899806640589209,null,0.04996295613067245,0.6581061184545663,null],\"y\":[0.4147464249432617,0.41914136337696284,null,0.41914136337696284,0.3044653458811573,null,0.41914136337696284,0.5414306886002989,null,0.41914136337696284,-0.2917239109975406,null,0.3044653458811573,-0.2917239109975406,null,0.3598422676433225,0.17176661739013863,null,0.17176661739013863,0.1941341905610568,null,0.17176661739013863,0.1038036205133538,null,0.17176661739013863,0.3275904324184197,null,0.17176661739013863,-0.059503783339817,null,0.17176661739013863,-0.03275825819352413,null,0.17176661739013863,0.26134456193046884,null,0.17176661739013863,0.4731720974737951,null,0.17176661739013863,-0.2917239109975406,null,0.17176661739013863,-0.5871425648882652,null,-0.2917239109975406,-1.0,null,-0.2917239109975406,-0.7295532368187926,null,-0.2917239109975406,-0.8707558564942982,null,-0.5871425648882652,-1.0,null,-0.5871425648882652,-0.8707558564942982,null],\"type\":\"scatter\"},{\"hoverinfo\":\"text\",\"marker\":{\"color\":[\"#ff7f0e\",\"#ff7f0e\",\"#ff7f0e\",\"#ff7f0e\",\"#1f77b4\",\"#1f77b4\",\"#1f77b4\",\"#1f77b4\",\"#1f77b4\",\"#1f77b4\",\"#1f77b4\",\"#1f77b4\",\"#1f77b4\",\"#2ca02c\",\"#2ca02c\",\"#2ca02c\",\"#2ca02c\",\"#2ca02c\"],\"line\":{\"color\":\"black\",\"width\":2},\"size\":[10.145985401459853,10.437956204379562,10.218978102189782,10.218978102189782,10.0,10.72992700729927,10.0,10.0,10.0,10.072992700729927,10.072992700729927,10.072992700729927,10.072992700729927,29.48905109489051,40.0,10.364963503649635,10.218978102189782,10.364963503649635]},\"mode\":\"markers+text\",\"text\":[\"500 PAINT ADHESIVES\",\"500 BUILDING SUPPLIES OFFRANGE\",\"500 PLYWOOD SHEETS\",\"500 COLLATED NAILS\",\"500 COLLATED SCREWS\",\"500 STRUCT FRAMG H1 2 KD LINKD\",\"500 GLASSWOOL INSULATION BATTS\",\"500 TIMBER WEATHERBOARDS LINKD\",\"500 WEDGES AND SPACERS\",\"500 LAMINATED TIMBER\",\"500 WEATHERBOARDS\",\"500 BUILDING BRACKETS\",\"500 NON STRUCT TRTD PINE GAUGE\",\"500 SKYLIGHT ACCESSORIES\",\"500 ROOF WINDOWS\",\"500 CONNECTORS\",\"500 BUILDING WRAP\",\"500 FIBRE CEMENT SHEETING ACC\"],\"textfont\":{\"color\":\"black\",\"family\":\"Arial\",\"size\":16},\"textposition\":\"top center\",\"x\":[0.6318453687908622,0.6273830436546347,0.7404644354182822,0.7468253410499868,-0.23019848951885435,-0.33980509696305494,-0.15168858678277497,-0.5403737962514935,-0.47345520155300996,-0.4659867282456817,-0.23037785495796842,-0.6335461223589228,-0.3896467078603615,0.25363643883405834,0.04996295613067245,0.2899806640589209,-0.5431257818998614,0.6581061184545663],\"y\":[0.4147464249432617,0.41914136337696284,0.3044653458811573,0.5414306886002989,0.3598422676433225,0.17176661739013863,0.1941341905610568,0.1038036205133538,0.3275904324184197,-0.059503783339817,-0.03275825819352413,0.26134456193046884,0.4731720974737951,-0.2917239109975406,-0.5871425648882652,-1.0,-0.7295532368187926,-0.8707558564942982],\"type\":\"scatter\"}],                        {\"height\":800,\"hovermode\":\"closest\",\"margin\":{\"b\":20,\"l\":20,\"r\":20,\"t\":40},\"showlegend\":false,\"title\":{\"font\":{\"size\":16},\"text\":\"Louvain Product Clustering (All Edges)\",\"x\":0.5},\"width\":1200,\"xaxis\":{\"showgrid\":false,\"showticklabels\":false,\"zeroline\":false},\"yaxis\":{\"showgrid\":false,\"showticklabels\":false,\"zeroline\":false},\"template\":{\"data\":{\"histogram2dcontour\":[{\"type\":\"histogram2dcontour\",\"colorbar\":{\"outlinewidth\":0,\"ticks\":\"\"},\"colorscale\":[[0.0,\"#0d0887\"],[0.1111111111111111,\"#46039f\"],[0.2222222222222222,\"#7201a8\"],[0.3333333333333333,\"#9c179e\"],[0.4444444444444444,\"#bd3786\"],[0.5555555555555556,\"#d8576b\"],[0.6666666666666666,\"#ed7953\"],[0.7777777777777778,\"#fb9f3a\"],[0.8888888888888888,\"#fdca26\"],[1.0,\"#f0f921\"]]}],\"choropleth\":[{\"type\":\"choropleth\",\"colorbar\":{\"outlinewidth\":0,\"ticks\":\"\"}}],\"histogram2d\":[{\"type\":\"histogram2d\",\"colorbar\":{\"outlinewidth\":0,\"ticks\":\"\"},\"colorscale\":[[0.0,\"#0d0887\"],[0.1111111111111111,\"#46039f\"],[0.2222222222222222,\"#7201a8\"],[0.3333333333333333,\"#9c179e\"],[0.4444444444444444,\"#bd3786\"],[0.5555555555555556,\"#d8576b\"],[0.6666666666666666,\"#ed7953\"],[0.7777777777777778,\"#fb9f3a\"],[0.8888888888888888,\"#fdca26\"],[1.0,\"#f0f921\"]]}],\"heatmap\":[{\"type\":\"heatmap\",\"colorbar\":{\"outlinewidth\":0,\"ticks\":\"\"},\"colorscale\":[[0.0,\"#0d0887\"],[0.1111111111111111,\"#46039f\"],[0.2222222222222222,\"#7201a8\"],[0.3333333333333333,\"#9c179e\"],[0.4444444444444444,\"#bd3786\"],[0.5555555555555556,\"#d8576b\"],[0.6666666666666666,\"#ed7953\"],[0.7777777777777778,\"#fb9f3a\"],[0.8888888888888888,\"#fdca26\"],[1.0,\"#f0f921\"]]}],\"heatmapgl\":[{\"type\":\"heatmapgl\",\"colorbar\":{\"outlinewidth\":0,\"ticks\":\"\"},\"colorscale\":[[0.0,\"#0d0887\"],[0.1111111111111111,\"#46039f\"],[0.2222222222222222,\"#7201a8\"],[0.3333333333333333,\"#9c179e\"],[0.4444444444444444,\"#bd3786\"],[0.5555555555555556,\"#d8576b\"],[0.6666666666666666,\"#ed7953\"],[0.7777777777777778,\"#fb9f3a\"],[0.8888888888888888,\"#fdca26\"],[1.0,\"#f0f921\"]]}],\"contourcarpet\":[{\"type\":\"contourcarpet\",\"colorbar\":{\"outlinewidth\":0,\"ticks\":\"\"}}],\"contour\":[{\"type\":\"contour\",\"colorbar\":{\"outlinewidth\":0,\"ticks\":\"\"},\"colorscale\":[[0.0,\"#0d0887\"],[0.1111111111111111,\"#46039f\"],[0.2222222222222222,\"#7201a8\"],[0.3333333333333333,\"#9c179e\"],[0.4444444444444444,\"#bd3786\"],[0.5555555555555556,\"#d8576b\"],[0.6666666666666666,\"#ed7953\"],[0.7777777777777778,\"#fb9f3a\"],[0.8888888888888888,\"#fdca26\"],[1.0,\"#f0f921\"]]}],\"surface\":[{\"type\":\"surface\",\"colorbar\":{\"outlinewidth\":0,\"ticks\":\"\"},\"colorscale\":[[0.0,\"#0d0887\"],[0.1111111111111111,\"#46039f\"],[0.2222222222222222,\"#7201a8\"],[0.3333333333333333,\"#9c179e\"],[0.4444444444444444,\"#bd3786\"],[0.5555555555555556,\"#d8576b\"],[0.6666666666666666,\"#ed7953\"],[0.7777777777777778,\"#fb9f3a\"],[0.8888888888888888,\"#fdca26\"],[1.0,\"#f0f921\"]]}],\"mesh3d\":[{\"type\":\"mesh3d\",\"colorbar\":{\"outlinewidth\":0,\"ticks\":\"\"}}],\"scatter\":[{\"fillpattern\":{\"fillmode\":\"overlay\",\"size\":10,\"solidity\":0.2},\"type\":\"scatter\"}],\"parcoords\":[{\"type\":\"parcoords\",\"line\":{\"colorbar\":{\"outlinewidth\":0,\"ticks\":\"\"}}}],\"scatterpolargl\":[{\"type\":\"scatterpolargl\",\"marker\":{\"colorbar\":{\"outlinewidth\":0,\"ticks\":\"\"}}}],\"bar\":[{\"error_x\":{\"color\":\"#2a3f5f\"},\"error_y\":{\"color\":\"#2a3f5f\"},\"marker\":{\"line\":{\"color\":\"#E5ECF6\",\"width\":0.5},\"pattern\":{\"fillmode\":\"overlay\",\"size\":10,\"solidity\":0.2}},\"type\":\"bar\"}],\"scattergeo\":[{\"type\":\"scattergeo\",\"marker\":{\"colorbar\":{\"outlinewidth\":0,\"ticks\":\"\"}}}],\"scatterpolar\":[{\"type\":\"scatterpolar\",\"marker\":{\"colorbar\":{\"outlinewidth\":0,\"ticks\":\"\"}}}],\"histogram\":[{\"marker\":{\"pattern\":{\"fillmode\":\"overlay\",\"size\":10,\"solidity\":0.2}},\"type\":\"histogram\"}],\"scattergl\":[{\"type\":\"scattergl\",\"marker\":{\"colorbar\":{\"outlinewidth\":0,\"ticks\":\"\"}}}],\"scatter3d\":[{\"type\":\"scatter3d\",\"line\":{\"colorbar\":{\"outlinewidth\":0,\"ticks\":\"\"}},\"marker\":{\"colorbar\":{\"outlinewidth\":0,\"ticks\":\"\"}}}],\"scattermapbox\":[{\"type\":\"scattermapbox\",\"marker\":{\"colorbar\":{\"outlinewidth\":0,\"ticks\":\"\"}}}],\"scatterternary\":[{\"type\":\"scatterternary\",\"marker\":{\"colorbar\":{\"outlinewidth\":0,\"ticks\":\"\"}}}],\"scattercarpet\":[{\"type\":\"scattercarpet\",\"marker\":{\"colorbar\":{\"outlinewidth\":0,\"ticks\":\"\"}}}],\"carpet\":[{\"aaxis\":{\"endlinecolor\":\"#2a3f5f\",\"gridcolor\":\"white\",\"linecolor\":\"white\",\"minorgridcolor\":\"white\",\"startlinecolor\":\"#2a3f5f\"},\"baxis\":{\"endlinecolor\":\"#2a3f5f\",\"gridcolor\":\"white\",\"linecolor\":\"white\",\"minorgridcolor\":\"white\",\"startlinecolor\":\"#2a3f5f\"},\"type\":\"carpet\"}],\"table\":[{\"cells\":{\"fill\":{\"color\":\"#EBF0F8\"},\"line\":{\"color\":\"white\"}},\"header\":{\"fill\":{\"color\":\"#C8D4E3\"},\"line\":{\"color\":\"white\"}},\"type\":\"table\"}],\"barpolar\":[{\"marker\":{\"line\":{\"color\":\"#E5ECF6\",\"width\":0.5},\"pattern\":{\"fillmode\":\"overlay\",\"size\":10,\"solidity\":0.2}},\"type\":\"barpolar\"}],\"pie\":[{\"automargin\":true,\"type\":\"pie\"}]},\"layout\":{\"autotypenumbers\":\"strict\",\"colorway\":[\"#636efa\",\"#EF553B\",\"#00cc96\",\"#ab63fa\",\"#FFA15A\",\"#19d3f3\",\"#FF6692\",\"#B6E880\",\"#FF97FF\",\"#FECB52\"],\"font\":{\"color\":\"#2a3f5f\"},\"hovermode\":\"closest\",\"hoverlabel\":{\"align\":\"left\"},\"paper_bgcolor\":\"white\",\"plot_bgcolor\":\"#E5ECF6\",\"polar\":{\"bgcolor\":\"#E5ECF6\",\"angularaxis\":{\"gridcolor\":\"white\",\"linecolor\":\"white\",\"ticks\":\"\"},\"radialaxis\":{\"gridcolor\":\"white\",\"linecolor\":\"white\",\"ticks\":\"\"}},\"ternary\":{\"bgcolor\":\"#E5ECF6\",\"aaxis\":{\"gridcolor\":\"white\",\"linecolor\":\"white\",\"ticks\":\"\"},\"baxis\":{\"gridcolor\":\"white\",\"linecolor\":\"white\",\"ticks\":\"\"},\"caxis\":{\"gridcolor\":\"white\",\"linecolor\":\"white\",\"ticks\":\"\"}},\"coloraxis\":{\"colorbar\":{\"outlinewidth\":0,\"ticks\":\"\"}},\"colorscale\":{\"sequential\":[[0.0,\"#0d0887\"],[0.1111111111111111,\"#46039f\"],[0.2222222222222222,\"#7201a8\"],[0.3333333333333333,\"#9c179e\"],[0.4444444444444444,\"#bd3786\"],[0.5555555555555556,\"#d8576b\"],[0.6666666666666666,\"#ed7953\"],[0.7777777777777778,\"#fb9f3a\"],[0.8888888888888888,\"#fdca26\"],[1.0,\"#f0f921\"]],\"sequentialminus\":[[0.0,\"#0d0887\"],[0.1111111111111111,\"#46039f\"],[0.2222222222222222,\"#7201a8\"],[0.3333333333333333,\"#9c179e\"],[0.4444444444444444,\"#bd3786\"],[0.5555555555555556,\"#d8576b\"],[0.6666666666666666,\"#ed7953\"],[0.7777777777777778,\"#fb9f3a\"],[0.8888888888888888,\"#fdca26\"],[1.0,\"#f0f921\"]],\"diverging\":[[0,\"#8e0152\"],[0.1,\"#c51b7d\"],[0.2,\"#de77ae\"],[0.3,\"#f1b6da\"],[0.4,\"#fde0ef\"],[0.5,\"#f7f7f7\"],[0.6,\"#e6f5d0\"],[0.7,\"#b8e186\"],[0.8,\"#7fbc41\"],[0.9,\"#4d9221\"],[1,\"#276419\"]]},\"xaxis\":{\"gridcolor\":\"white\",\"linecolor\":\"white\",\"ticks\":\"\",\"title\":{\"standoff\":15},\"zerolinecolor\":\"white\",\"automargin\":true,\"zerolinewidth\":2},\"yaxis\":{\"gridcolor\":\"white\",\"linecolor\":\"white\",\"ticks\":\"\",\"title\":{\"standoff\":15},\"zerolinecolor\":\"white\",\"automargin\":true,\"zerolinewidth\":2},\"scene\":{\"xaxis\":{\"backgroundcolor\":\"#E5ECF6\",\"gridcolor\":\"white\",\"linecolor\":\"white\",\"showbackground\":true,\"ticks\":\"\",\"zerolinecolor\":\"white\",\"gridwidth\":2},\"yaxis\":{\"backgroundcolor\":\"#E5ECF6\",\"gridcolor\":\"white\",\"linecolor\":\"white\",\"showbackground\":true,\"ticks\":\"\",\"zerolinecolor\":\"white\",\"gridwidth\":2},\"zaxis\":{\"backgroundcolor\":\"#E5ECF6\",\"gridcolor\":\"white\",\"linecolor\":\"white\",\"showbackground\":true,\"ticks\":\"\",\"zerolinecolor\":\"white\",\"gridwidth\":2}},\"shapedefaults\":{\"line\":{\"color\":\"#2a3f5f\"}},\"annotationdefaults\":{\"arrowcolor\":\"#2a3f5f\",\"arrowhead\":0,\"arrowwidth\":1},\"geo\":{\"bgcolor\":\"white\",\"landcolor\":\"#E5ECF6\",\"subunitcolor\":\"white\",\"showland\":true,\"showlakes\":true,\"lakecolor\":\"white\"},\"title\":{\"x\":0.05},\"mapbox\":{\"style\":\"light\"}}}},                        {\"responsive\": true}                    ).then(function(){\n",
       "                            \n",
       "var gd = document.getElementById('3f2661ab-b7a8-4bae-972a-34e26b955db7');\n",
       "var x = new MutationObserver(function (mutations, observer) {{\n",
       "        var display = window.getComputedStyle(gd).display;\n",
       "        if (!display || display === 'none') {{\n",
       "            console.log([gd, 'removed!']);\n",
       "            Plotly.purge(gd);\n",
       "            observer.disconnect();\n",
       "        }}\n",
       "}});\n",
       "\n",
       "// Listen for the removal of the full notebook cells\n",
       "var notebookContainer = gd.closest('#notebook-container');\n",
       "if (notebookContainer) {{\n",
       "    x.observe(notebookContainer, {childList: true});\n",
       "}}\n",
       "\n",
       "// Listen for the clearing of the current output cell\n",
       "var outputEl = gd.closest('.output');\n",
       "if (outputEl) {{\n",
       "    x.observe(outputEl, {childList: true});\n",
       "}}\n",
       "\n",
       "                        })                };                });            </script>        </div>"
      ]
     },
     "metadata": {},
     "output_type": "display_data"
    }
   ],
   "source": [
    "fig.show()"
   ]
  },
  {
   "cell_type": "code",
   "execution_count": 672,
   "metadata": {},
   "outputs": [
    {
     "data": {
      "text/html": [
       "<div>\n",
       "<style scoped>\n",
       "    .dataframe tbody tr th:only-of-type {\n",
       "        vertical-align: middle;\n",
       "    }\n",
       "\n",
       "    .dataframe tbody tr th {\n",
       "        vertical-align: top;\n",
       "    }\n",
       "\n",
       "    .dataframe thead th {\n",
       "        text-align: right;\n",
       "    }\n",
       "</style>\n",
       "<table border=\"1\" class=\"dataframe\">\n",
       "  <thead>\n",
       "    <tr style=\"text-align: right;\">\n",
       "      <th></th>\n",
       "      <th>PRIMARY_ID</th>\n",
       "      <th>PRIMARY_TRANSACTIONS</th>\n",
       "      <th>segment</th>\n",
       "    </tr>\n",
       "  </thead>\n",
       "  <tbody>\n",
       "    <tr>\n",
       "      <th>0</th>\n",
       "      <td>500 BUILDING BRACKETS</td>\n",
       "      <td>3</td>\n",
       "      <td>0</td>\n",
       "    </tr>\n",
       "    <tr>\n",
       "      <th>36</th>\n",
       "      <td>500 TIMBER WEATHERBOARDS LINKD</td>\n",
       "      <td>2</td>\n",
       "      <td>0</td>\n",
       "    </tr>\n",
       "    <tr>\n",
       "      <th>26</th>\n",
       "      <td>500 STRUCT FRAMG H1 2 KD LINKD</td>\n",
       "      <td>12</td>\n",
       "      <td>0</td>\n",
       "    </tr>\n",
       "    <tr>\n",
       "      <th>13</th>\n",
       "      <td>500 NON STRUCT TRTD PINE GAUGE</td>\n",
       "      <td>3</td>\n",
       "      <td>0</td>\n",
       "    </tr>\n",
       "    <tr>\n",
       "      <th>37</th>\n",
       "      <td>500 WEATHERBOARDS</td>\n",
       "      <td>3</td>\n",
       "      <td>0</td>\n",
       "    </tr>\n",
       "    <tr>\n",
       "      <th>11</th>\n",
       "      <td>500 GLASSWOOL INSULATION BATTS</td>\n",
       "      <td>2</td>\n",
       "      <td>0</td>\n",
       "    </tr>\n",
       "    <tr>\n",
       "      <th>12</th>\n",
       "      <td>500 LAMINATED TIMBER</td>\n",
       "      <td>3</td>\n",
       "      <td>0</td>\n",
       "    </tr>\n",
       "    <tr>\n",
       "      <th>6</th>\n",
       "      <td>500 COLLATED SCREWS</td>\n",
       "      <td>2</td>\n",
       "      <td>0</td>\n",
       "    </tr>\n",
       "    <tr>\n",
       "      <th>38</th>\n",
       "      <td>500 WEDGES AND SPACERS</td>\n",
       "      <td>2</td>\n",
       "      <td>0</td>\n",
       "    </tr>\n",
       "    <tr>\n",
       "      <th>5</th>\n",
       "      <td>500 COLLATED NAILS</td>\n",
       "      <td>5</td>\n",
       "      <td>1</td>\n",
       "    </tr>\n",
       "    <tr>\n",
       "      <th>14</th>\n",
       "      <td>500 PAINT ADHESIVES</td>\n",
       "      <td>4</td>\n",
       "      <td>1</td>\n",
       "    </tr>\n",
       "    <tr>\n",
       "      <th>15</th>\n",
       "      <td>500 PLYWOOD SHEETS</td>\n",
       "      <td>5</td>\n",
       "      <td>1</td>\n",
       "    </tr>\n",
       "    <tr>\n",
       "      <th>1</th>\n",
       "      <td>500 BUILDING SUPPLIES OFFRANGE</td>\n",
       "      <td>8</td>\n",
       "      <td>1</td>\n",
       "    </tr>\n",
       "    <tr>\n",
       "      <th>7</th>\n",
       "      <td>500 CONNECTORS</td>\n",
       "      <td>7</td>\n",
       "      <td>2</td>\n",
       "    </tr>\n",
       "    <tr>\n",
       "      <th>17</th>\n",
       "      <td>500 ROOF WINDOWS</td>\n",
       "      <td>413</td>\n",
       "      <td>2</td>\n",
       "    </tr>\n",
       "    <tr>\n",
       "      <th>20</th>\n",
       "      <td>500 SKYLIGHT ACCESSORIES</td>\n",
       "      <td>269</td>\n",
       "      <td>2</td>\n",
       "    </tr>\n",
       "    <tr>\n",
       "      <th>4</th>\n",
       "      <td>500 BUILDING WRAP</td>\n",
       "      <td>5</td>\n",
       "      <td>2</td>\n",
       "    </tr>\n",
       "    <tr>\n",
       "      <th>9</th>\n",
       "      <td>500 FIBRE CEMENT SHEETING ACC</td>\n",
       "      <td>7</td>\n",
       "      <td>2</td>\n",
       "    </tr>\n",
       "  </tbody>\n",
       "</table>\n",
       "</div>"
      ],
      "text/plain": [
       "                        PRIMARY_ID  PRIMARY_TRANSACTIONS  segment\n",
       "0            500 BUILDING BRACKETS                     3        0\n",
       "36  500 TIMBER WEATHERBOARDS LINKD                     2        0\n",
       "26  500 STRUCT FRAMG H1 2 KD LINKD                    12        0\n",
       "13  500 NON STRUCT TRTD PINE GAUGE                     3        0\n",
       "37               500 WEATHERBOARDS                     3        0\n",
       "11  500 GLASSWOOL INSULATION BATTS                     2        0\n",
       "12            500 LAMINATED TIMBER                     3        0\n",
       "6              500 COLLATED SCREWS                     2        0\n",
       "38          500 WEDGES AND SPACERS                     2        0\n",
       "5               500 COLLATED NAILS                     5        1\n",
       "14             500 PAINT ADHESIVES                     4        1\n",
       "15              500 PLYWOOD SHEETS                     5        1\n",
       "1   500 BUILDING SUPPLIES OFFRANGE                     8        1\n",
       "7                   500 CONNECTORS                     7        2\n",
       "17                500 ROOF WINDOWS                   413        2\n",
       "20        500 SKYLIGHT ACCESSORIES                   269        2\n",
       "4                500 BUILDING WRAP                     5        2\n",
       "9    500 FIBRE CEMENT SHEETING ACC                     7        2"
      ]
     },
     "execution_count": 672,
     "metadata": {},
     "output_type": "execute_result"
    }
   ],
   "source": [
    "partition_df = pd.DataFrame.from_dict(partition, orient='index', columns=['segment']).reset_index()\n",
    "partition_df.rename(columns={'index': 'PRIMARY_ID'}, inplace=True)\n",
    "labelled_df = filtered_df.merge(partition_df, on='PRIMARY_ID', how='left')\n",
    "labelled_df = labelled_df[['PRIMARY_ID','PRIMARY_TRANSACTIONS', 'segment']].drop_duplicates()\n",
    "labelled_df.sort_values(by='segment')"
   ]
  },
  {
   "cell_type": "code",
   "execution_count": 673,
   "metadata": {},
   "outputs": [],
   "source": [
    "labelled_df.to_csv('Labelled_class_segment.csv',index=False)"
   ]
  },
  {
   "cell_type": "code",
   "execution_count": 674,
   "metadata": {},
   "outputs": [
    {
     "data": {
      "text/html": [
       "<div>\n",
       "<style scoped>\n",
       "    .dataframe tbody tr th:only-of-type {\n",
       "        vertical-align: middle;\n",
       "    }\n",
       "\n",
       "    .dataframe tbody tr th {\n",
       "        vertical-align: top;\n",
       "    }\n",
       "\n",
       "    .dataframe thead th {\n",
       "        text-align: right;\n",
       "    }\n",
       "</style>\n",
       "<table border=\"1\" class=\"dataframe\">\n",
       "  <thead>\n",
       "    <tr style=\"text-align: right;\">\n",
       "      <th></th>\n",
       "      <th>Product_ID</th>\n",
       "      <th>Transactions</th>\n",
       "      <th>segment</th>\n",
       "    </tr>\n",
       "  </thead>\n",
       "  <tbody>\n",
       "    <tr>\n",
       "      <th>76</th>\n",
       "      <td>500 BUILDING BRACKETS</td>\n",
       "      <td>3</td>\n",
       "      <td>0</td>\n",
       "    </tr>\n",
       "    <tr>\n",
       "      <th>1072</th>\n",
       "      <td>500 STRUCT FRAMG H1 2 KD LINKD</td>\n",
       "      <td>12</td>\n",
       "      <td>0</td>\n",
       "    </tr>\n",
       "    <tr>\n",
       "      <th>998</th>\n",
       "      <td>500 TIMBER WEATHERBOARDS LINKD</td>\n",
       "      <td>2</td>\n",
       "      <td>0</td>\n",
       "    </tr>\n",
       "    <tr>\n",
       "      <th>963</th>\n",
       "      <td>500 COLLATED SCREWS</td>\n",
       "      <td>2</td>\n",
       "      <td>0</td>\n",
       "    </tr>\n",
       "    <tr>\n",
       "      <th>1001</th>\n",
       "      <td>500 WEDGES AND SPACERS</td>\n",
       "      <td>2</td>\n",
       "      <td>0</td>\n",
       "    </tr>\n",
       "    <tr>\n",
       "      <th>...</th>\n",
       "      <td>...</td>\n",
       "      <td>...</td>\n",
       "      <td>...</td>\n",
       "    </tr>\n",
       "    <tr>\n",
       "      <th>383</th>\n",
       "      <td>500 FIBRE CEMENT SHEETING ACC</td>\n",
       "      <td>7</td>\n",
       "      <td>2</td>\n",
       "    </tr>\n",
       "    <tr>\n",
       "      <th>836</th>\n",
       "      <td>500 ROOF WINDOWS</td>\n",
       "      <td>413</td>\n",
       "      <td>2</td>\n",
       "    </tr>\n",
       "    <tr>\n",
       "      <th>381</th>\n",
       "      <td>500 FIBRE CEMENT SHEETING ACC</td>\n",
       "      <td>7</td>\n",
       "      <td>2</td>\n",
       "    </tr>\n",
       "    <tr>\n",
       "      <th>939</th>\n",
       "      <td>500 SKYLIGHT ACCESSORIES</td>\n",
       "      <td>269</td>\n",
       "      <td>2</td>\n",
       "    </tr>\n",
       "    <tr>\n",
       "      <th>808</th>\n",
       "      <td>500 SKYLIGHT ACCESSORIES</td>\n",
       "      <td>269</td>\n",
       "      <td>2</td>\n",
       "    </tr>\n",
       "  </tbody>\n",
       "</table>\n",
       "<p>66 rows × 3 columns</p>\n",
       "</div>"
      ],
      "text/plain": [
       "                          Product_ID  Transactions  segment\n",
       "76             500 BUILDING BRACKETS             3        0\n",
       "1072  500 STRUCT FRAMG H1 2 KD LINKD            12        0\n",
       "998   500 TIMBER WEATHERBOARDS LINKD             2        0\n",
       "963              500 COLLATED SCREWS             2        0\n",
       "1001          500 WEDGES AND SPACERS             2        0\n",
       "...                              ...           ...      ...\n",
       "383    500 FIBRE CEMENT SHEETING ACC             7        2\n",
       "836                 500 ROOF WINDOWS           413        2\n",
       "381    500 FIBRE CEMENT SHEETING ACC             7        2\n",
       "939         500 SKYLIGHT ACCESSORIES           269        2\n",
       "808         500 SKYLIGHT ACCESSORIES           269        2\n",
       "\n",
       "[66 rows x 3 columns]"
      ]
     },
     "execution_count": 674,
     "metadata": {},
     "output_type": "execute_result"
    }
   ],
   "source": [
    "all_products = pd.concat([\n",
    "    top_edges[['PRIMARY_ID', 'PRIMARY_TRANSACTIONS']].rename(columns={'PRIMARY_ID': 'Product_ID', 'PRIMARY_TRANSACTIONS': 'Transactions'}),\n",
    "    top_edges[['SECONDARY_ID', 'SECONDARY_TRANSACTIONS']].rename(columns={'SECONDARY_ID': 'Product_ID', 'SECONDARY_TRANSACTIONS': 'Transactions'})\n",
    "])\n",
    "\n",
    "all_products['segment'] = all_products['Product_ID'].map(partition)\n",
    "all_products.sort_values(by='segment')"
   ]
  }
 ],
 "metadata": {
  "kernelspec": {
   "display_name": "Python 3 (ipykernel)",
   "language": "python",
   "name": "python3"
  },
  "language_info": {
   "codemirror_mode": {
    "name": "ipython",
    "version": 3
   },
   "file_extension": ".py",
   "mimetype": "text/x-python",
   "name": "python",
   "nbconvert_exporter": "python",
   "pygments_lexer": "ipython3",
   "version": "3.10.18"
  }
 },
 "nbformat": 4,
 "nbformat_minor": 4
}
