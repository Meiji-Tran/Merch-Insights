{
 "cells": [
  {
   "cell_type": "markdown",
   "metadata": {},
   "source": [
    "# Prep"
   ]
  },
  {
   "cell_type": "code",
   "execution_count": 30,
   "metadata": {},
   "outputs": [],
   "source": [
    "# Import packages\n",
    "import pandas as pd\n",
    "import plotly.graph_objects as go\n",
    "import networkx as nx\n",
    "from ds_common_utils.aux.io.snowflake_tools import SnowflakeTools\n",
    "from math import log\n",
    "from networkx.algorithms.community import greedy_modularity_communities\n",
    "import matplotlib.pyplot as plt\n",
    "import community.community_louvain as community_louvain\n",
    "import numpy as np"
   ]
  },
  {
   "cell_type": "code",
   "execution_count": 31,
   "metadata": {},
   "outputs": [
    {
     "name": "stderr",
     "output_type": "stream",
     "text": [
      "snowflake_tools - 2025-06-19 19:09:17.999658+10:00 - Generating new token with 'INSIGHT_ANALYST_MERCH_DE_GENERAL_PRD' role and 'SESSION:ROLE-ANY' scope...\n"
     ]
    },
    {
     "name": "stderr",
     "output_type": "stream",
     "text": [
      "snowflake_tools - 2025-06-19 19:09:23.507954+10:00 - Saved token with '2025-06-19 23:09:23+10:00' expiry...\n"
     ]
    }
   ],
   "source": [
    "# Get connection\n",
    "con = SnowflakeTools().get_snowflake_ctx(\n",
    "     method = 'token',\n",
    "    user = '250807',\n",
    "    role = 'INSIGHT_ANALYST_MERCH_DE_GENERAL_PRD',\n",
    "    warehouse = 'INSIGHT_ANALYST_WH'\n",
    ")\n",
    "with open('sql/item_association.sql', 'r') as query:\n",
    "        df = pd.read_sql_query(query.read(), con)\n",
    "with open('sql/excluded_class_list.sql', 'r') as query:\n",
    "        target_item_class = pd.read_sql_query(query.read(), con)"
   ]
  },
  {
   "cell_type": "code",
   "execution_count": 32,
   "metadata": {},
   "outputs": [
    {
     "data": {
      "text/html": [
       "<div>\n",
       "<style scoped>\n",
       "    .dataframe tbody tr th:only-of-type {\n",
       "        vertical-align: middle;\n",
       "    }\n",
       "\n",
       "    .dataframe tbody tr th {\n",
       "        vertical-align: top;\n",
       "    }\n",
       "\n",
       "    .dataframe thead th {\n",
       "        text-align: right;\n",
       "    }\n",
       "</style>\n",
       "<table border=\"1\" class=\"dataframe\">\n",
       "  <thead>\n",
       "    <tr style=\"text-align: right;\">\n",
       "      <th></th>\n",
       "      <th>ITEM_NUMBER</th>\n",
       "      <th>ITEM_DESCRIPTION</th>\n",
       "      <th>ITEM_CLASS_NAME</th>\n",
       "      <th>TRANSACTIONS</th>\n",
       "      <th>SALES_SUM</th>\n",
       "      <th>QUANTITY_SUM</th>\n",
       "    </tr>\n",
       "  </thead>\n",
       "  <tbody>\n",
       "    <tr>\n",
       "      <th>0</th>\n",
       "      <td>TOTAL</td>\n",
       "      <td>TOTAL</td>\n",
       "      <td>TOTAL</td>\n",
       "      <td>1106</td>\n",
       "      <td>51751093</td>\n",
       "      <td>70917</td>\n",
       "    </tr>\n",
       "    <tr>\n",
       "      <th>1</th>\n",
       "      <td>0823814</td>\n",
       "      <td>SKYLIGHT FIXED VELUX++780X1400MM  FSM082004A</td>\n",
       "      <td>500 ROOF WINDOWS</td>\n",
       "      <td>88</td>\n",
       "      <td>3578519</td>\n",
       "      <td>5285</td>\n",
       "    </tr>\n",
       "    <tr>\n",
       "      <th>2</th>\n",
       "      <td>0820072</td>\n",
       "      <td>SKYLIGHT FLAT ROOF VELUX++665X1275MM FCM224600...</td>\n",
       "      <td>500 ROOF WINDOWS</td>\n",
       "      <td>68</td>\n",
       "      <td>2157456</td>\n",
       "      <td>4025</td>\n",
       "    </tr>\n",
       "    <tr>\n",
       "      <th>3</th>\n",
       "      <td>0823806</td>\n",
       "      <td>SKYLIGHT FIXED VELUX++780X1180MM  FSM062004A</td>\n",
       "      <td>500 ROOF WINDOWS</td>\n",
       "      <td>56</td>\n",
       "      <td>2006913</td>\n",
       "      <td>3185</td>\n",
       "    </tr>\n",
       "    <tr>\n",
       "      <th>4</th>\n",
       "      <td>0415002</td>\n",
       "      <td>SKYLIGHT OPENABLE ELEC VELUX++780X980MM  VSEM0...</td>\n",
       "      <td>500 ROOF WINDOWS</td>\n",
       "      <td>12</td>\n",
       "      <td>1740639</td>\n",
       "      <td>910</td>\n",
       "    </tr>\n",
       "    <tr>\n",
       "      <th>...</th>\n",
       "      <td>...</td>\n",
       "      <td>...</td>\n",
       "      <td>...</td>\n",
       "      <td>...</td>\n",
       "      <td>...</td>\n",
       "      <td>...</td>\n",
       "    </tr>\n",
       "    <tr>\n",
       "      <th>145</th>\n",
       "      <td>0296315</td>\n",
       "      <td>VELUX FLASHING KIT++EDWSK060000</td>\n",
       "      <td>500 SKYLIGHT ACCESSORIES</td>\n",
       "      <td>2</td>\n",
       "      <td>0</td>\n",
       "      <td>0</td>\n",
       "    </tr>\n",
       "    <tr>\n",
       "      <th>146</th>\n",
       "      <td>0811278</td>\n",
       "      <td>VELUX  SKYLIGHT ACC++SOLAR HONEYCOMB FSCD C041045</td>\n",
       "      <td>500 SKYLIGHT ACCESSORIES</td>\n",
       "      <td>2</td>\n",
       "      <td>0</td>\n",
       "      <td>0</td>\n",
       "    </tr>\n",
       "    <tr>\n",
       "      <th>147</th>\n",
       "      <td>0296335</td>\n",
       "      <td>VELUX FLASHING KIT++EDLMK08 0000</td>\n",
       "      <td>500 SKYLIGHT ACCESSORIES</td>\n",
       "      <td>4</td>\n",
       "      <td>0</td>\n",
       "      <td>0</td>\n",
       "    </tr>\n",
       "    <tr>\n",
       "      <th>148</th>\n",
       "      <td>0296327</td>\n",
       "      <td>VELUX FLASHING KIT++EDLMK04 0000</td>\n",
       "      <td>500 SKYLIGHT ACCESSORIES</td>\n",
       "      <td>2</td>\n",
       "      <td>0</td>\n",
       "      <td>0</td>\n",
       "    </tr>\n",
       "    <tr>\n",
       "      <th>149</th>\n",
       "      <td>0138660</td>\n",
       "      <td>VELUX BLKOUT SOLAR++DSD C04 1025S</td>\n",
       "      <td>500 SKYLIGHT ACCESSORIES</td>\n",
       "      <td>2</td>\n",
       "      <td>0</td>\n",
       "      <td>0</td>\n",
       "    </tr>\n",
       "  </tbody>\n",
       "</table>\n",
       "<p>150 rows × 6 columns</p>\n",
       "</div>"
      ],
      "text/plain": [
       "    ITEM_NUMBER                                   ITEM_DESCRIPTION  \\\n",
       "0         TOTAL                                              TOTAL   \n",
       "1       0823814       SKYLIGHT FIXED VELUX++780X1400MM  FSM082004A   \n",
       "2       0820072  SKYLIGHT FLAT ROOF VELUX++665X1275MM FCM224600...   \n",
       "3       0823806       SKYLIGHT FIXED VELUX++780X1180MM  FSM062004A   \n",
       "4       0415002  SKYLIGHT OPENABLE ELEC VELUX++780X980MM  VSEM0...   \n",
       "..          ...                                                ...   \n",
       "145     0296315                    VELUX FLASHING KIT++EDWSK060000   \n",
       "146     0811278  VELUX  SKYLIGHT ACC++SOLAR HONEYCOMB FSCD C041045   \n",
       "147     0296335                   VELUX FLASHING KIT++EDLMK08 0000   \n",
       "148     0296327                   VELUX FLASHING KIT++EDLMK04 0000   \n",
       "149     0138660                  VELUX BLKOUT SOLAR++DSD C04 1025S   \n",
       "\n",
       "              ITEM_CLASS_NAME  TRANSACTIONS  SALES_SUM  QUANTITY_SUM  \n",
       "0                       TOTAL          1106   51751093         70917  \n",
       "1            500 ROOF WINDOWS            88    3578519          5285  \n",
       "2            500 ROOF WINDOWS            68    2157456          4025  \n",
       "3            500 ROOF WINDOWS            56    2006913          3185  \n",
       "4            500 ROOF WINDOWS            12    1740639           910  \n",
       "..                        ...           ...        ...           ...  \n",
       "145  500 SKYLIGHT ACCESSORIES             2          0             0  \n",
       "146  500 SKYLIGHT ACCESSORIES             2          0             0  \n",
       "147  500 SKYLIGHT ACCESSORIES             4          0             0  \n",
       "148  500 SKYLIGHT ACCESSORIES             2          0             0  \n",
       "149  500 SKYLIGHT ACCESSORIES             2          0             0  \n",
       "\n",
       "[150 rows x 6 columns]"
      ]
     },
     "execution_count": 32,
     "metadata": {},
     "output_type": "execute_result"
    }
   ],
   "source": [
    "with open('sql/overview.sql', 'r') as query:\n",
    "        supplier_items = pd.read_sql_query(query.read(), con)\n",
    "supplier_items        "
   ]
  },
  {
   "cell_type": "markdown",
   "metadata": {},
   "source": [
    "Accross 2 years, 2023-06-18 to 2025-06-18, 150 distinct items sold from this supplier. Total transactions 1.1k sales $52m, quantity 71k."
   ]
  },
  {
   "cell_type": "markdown",
   "metadata": {},
   "source": [
    "# Parameter tuning"
   ]
  },
  {
   "cell_type": "code",
   "execution_count": 33,
   "metadata": {},
   "outputs": [],
   "source": [
    "TRX_THRESHOLD = 10 # Min N frequent pairs\n",
    "QUANTILE = 0.975 # Nth percentile of metric similarity\n",
    "TOP_N = 5 # top-N associated item classes per primary class\n",
    "RESO = 0 # >1.0 → more, smaller communities\n",
    "METRIC = 'JACCARD' # LIFT or JACCARD"
   ]
  },
  {
   "cell_type": "markdown",
   "metadata": {},
   "source": [
    "3Y\n",
    "TRX_THRESHOLD = 10 # Min N frequent pairs\n",
    "QUANTILE = 0.9 # Nth percentile of metric similarity\n",
    "TOP_N = 3 # top-N associated item classes per primary class\n",
    "RESO = 0.5 # >1.0 → more, smaller communities\n",
    "METRIC = 'JACCARD' # LIFT or JACCARD"
   ]
  },
  {
   "cell_type": "markdown",
   "metadata": {},
   "source": [
    "# Working"
   ]
  },
  {
   "cell_type": "code",
   "execution_count": 34,
   "metadata": {},
   "outputs": [],
   "source": [
    "filtered_df = df[\n",
    "    ~(\n",
    "        df['PRIMARY_ID'].isin(target_item_class['ITEM_CLASS_NAME']) |\n",
    "        df['SECONDARY_ID'].isin(target_item_class['ITEM_CLASS_NAME'])\n",
    "    )\n",
    "]\n",
    "\n",
    "filtered_df = filtered_df[filtered_df['PAIR_TRANSACTIONS'] >= TRX_THRESHOLD]\n",
    "threshold = filtered_df[METRIC].quantile(QUANTILE)\n",
    "filtered_df = filtered_df[filtered_df[METRIC] >= threshold]\n",
    "top_edges = filtered_df.sort_values(METRIC, ascending=False).groupby('PRIMARY_ID').head(TOP_N)"
   ]
  },
  {
   "cell_type": "code",
   "execution_count": 35,
   "metadata": {},
   "outputs": [
    {
     "data": {
      "text/html": [
       "<div>\n",
       "<style scoped>\n",
       "    .dataframe tbody tr th:only-of-type {\n",
       "        vertical-align: middle;\n",
       "    }\n",
       "\n",
       "    .dataframe tbody tr th {\n",
       "        vertical-align: top;\n",
       "    }\n",
       "\n",
       "    .dataframe thead th {\n",
       "        text-align: right;\n",
       "    }\n",
       "</style>\n",
       "<table border=\"1\" class=\"dataframe\">\n",
       "  <thead>\n",
       "    <tr style=\"text-align: right;\">\n",
       "      <th></th>\n",
       "      <th>PRIMARY_ID</th>\n",
       "      <th>SECONDARY_ID</th>\n",
       "      <th>PRIMARY_TRANSACTIONS</th>\n",
       "      <th>SECONDARY_TRANSACTIONS</th>\n",
       "      <th>TRX_START_MONTH</th>\n",
       "      <th>TRX_END_MONTH</th>\n",
       "      <th>PAIR_TRANSACTIONS</th>\n",
       "      <th>LIFT</th>\n",
       "      <th>JACCARD</th>\n",
       "    </tr>\n",
       "  </thead>\n",
       "  <tbody>\n",
       "    <tr>\n",
       "      <th>3</th>\n",
       "      <td>500 ADHESIVE HOOKS REMOVABLE</td>\n",
       "      <td>500 ENAMEL PAINT</td>\n",
       "      <td>1</td>\n",
       "      <td>1</td>\n",
       "      <td>2025-05-01</td>\n",
       "      <td>2025-05-01</td>\n",
       "      <td>40</td>\n",
       "      <td>2040.0</td>\n",
       "      <td>-1.052632</td>\n",
       "    </tr>\n",
       "    <tr>\n",
       "      <th>4</th>\n",
       "      <td>500 ADHESIVE HOOKS REMOVABLE</td>\n",
       "      <td>500 HPM EXCL</td>\n",
       "      <td>1</td>\n",
       "      <td>1</td>\n",
       "      <td>2025-05-01</td>\n",
       "      <td>2025-05-01</td>\n",
       "      <td>40</td>\n",
       "      <td>2040.0</td>\n",
       "      <td>-1.052632</td>\n",
       "    </tr>\n",
       "    <tr>\n",
       "      <th>969</th>\n",
       "      <td>500 PARTICLEBOARD FLOORING</td>\n",
       "      <td>500 ADHESIVES</td>\n",
       "      <td>1</td>\n",
       "      <td>1</td>\n",
       "      <td>2025-03-01</td>\n",
       "      <td>2025-03-01</td>\n",
       "      <td>40</td>\n",
       "      <td>2120.0</td>\n",
       "      <td>-1.052632</td>\n",
       "    </tr>\n",
       "    <tr>\n",
       "      <th>976</th>\n",
       "      <td>500 PARTICLEBOARD FLOORING</td>\n",
       "      <td>500 METAL SCREWS</td>\n",
       "      <td>1</td>\n",
       "      <td>1</td>\n",
       "      <td>2025-03-01</td>\n",
       "      <td>2025-03-01</td>\n",
       "      <td>40</td>\n",
       "      <td>2120.0</td>\n",
       "      <td>-1.052632</td>\n",
       "    </tr>\n",
       "    <tr>\n",
       "      <th>979</th>\n",
       "      <td>500 PARTICLEBOARD FLOORING</td>\n",
       "      <td>500 OTHER INSULATION BATTS</td>\n",
       "      <td>1</td>\n",
       "      <td>1</td>\n",
       "      <td>2025-03-01</td>\n",
       "      <td>2025-03-01</td>\n",
       "      <td>40</td>\n",
       "      <td>2120.0</td>\n",
       "      <td>-1.052632</td>\n",
       "    </tr>\n",
       "    <tr>\n",
       "      <th>1478</th>\n",
       "      <td>500 STRUCT FRAMG H3 2 GR LINKD</td>\n",
       "      <td>500 FIXINGS OFF RANGE</td>\n",
       "      <td>1</td>\n",
       "      <td>1</td>\n",
       "      <td>2025-02-01</td>\n",
       "      <td>2025-02-01</td>\n",
       "      <td>40</td>\n",
       "      <td>1560.0</td>\n",
       "      <td>-1.052632</td>\n",
       "    </tr>\n",
       "    <tr>\n",
       "      <th>1479</th>\n",
       "      <td>500 STRUCT FRAMG H3 2 GR LINKD</td>\n",
       "      <td>500 PAINT FILLERS</td>\n",
       "      <td>1</td>\n",
       "      <td>1</td>\n",
       "      <td>2025-02-01</td>\n",
       "      <td>2025-02-01</td>\n",
       "      <td>40</td>\n",
       "      <td>1560.0</td>\n",
       "      <td>-1.052632</td>\n",
       "    </tr>\n",
       "    <tr>\n",
       "      <th>1488</th>\n",
       "      <td>500 STRUCT FRAMG H3 2 KD LINKD</td>\n",
       "      <td>500 GLOVES AND SPONGES</td>\n",
       "      <td>1</td>\n",
       "      <td>1</td>\n",
       "      <td>2024-10-01</td>\n",
       "      <td>2024-10-01</td>\n",
       "      <td>40</td>\n",
       "      <td>2280.0</td>\n",
       "      <td>-1.052632</td>\n",
       "    </tr>\n",
       "    <tr>\n",
       "      <th>1489</th>\n",
       "      <td>500 STRUCT FRAMG H3 2 KD LINKD</td>\n",
       "      <td>500 INDOOR CHEMICALS</td>\n",
       "      <td>1</td>\n",
       "      <td>1</td>\n",
       "      <td>2024-10-01</td>\n",
       "      <td>2024-10-01</td>\n",
       "      <td>40</td>\n",
       "      <td>2280.0</td>\n",
       "      <td>-1.052632</td>\n",
       "    </tr>\n",
       "    <tr>\n",
       "      <th>1497</th>\n",
       "      <td>500 STRUCT FRAMG H3 2 KD LINKD</td>\n",
       "      <td>501 DOOR HINGE BUTT</td>\n",
       "      <td>1</td>\n",
       "      <td>1</td>\n",
       "      <td>2024-10-01</td>\n",
       "      <td>2024-10-01</td>\n",
       "      <td>40</td>\n",
       "      <td>2280.0</td>\n",
       "      <td>-1.052632</td>\n",
       "    </tr>\n",
       "    <tr>\n",
       "      <th>1498</th>\n",
       "      <td>500 STRUCT FRAMG H3 2 KD LINKD</td>\n",
       "      <td>501 KNOBSETS</td>\n",
       "      <td>1</td>\n",
       "      <td>1</td>\n",
       "      <td>2024-10-01</td>\n",
       "      <td>2024-10-01</td>\n",
       "      <td>40</td>\n",
       "      <td>2280.0</td>\n",
       "      <td>-1.052632</td>\n",
       "    </tr>\n",
       "    <tr>\n",
       "      <th>1717</th>\n",
       "      <td>501 DIGITAL LOCKS</td>\n",
       "      <td>500 EXTERNAL FEATURE DOOR</td>\n",
       "      <td>1</td>\n",
       "      <td>1</td>\n",
       "      <td>2024-09-01</td>\n",
       "      <td>2024-09-01</td>\n",
       "      <td>40</td>\n",
       "      <td>1760.0</td>\n",
       "      <td>-1.052632</td>\n",
       "    </tr>\n",
       "    <tr>\n",
       "      <th>1720</th>\n",
       "      <td>501 DIGITAL LOCKS</td>\n",
       "      <td>501 HEATED TOWEL RAIL</td>\n",
       "      <td>1</td>\n",
       "      <td>1</td>\n",
       "      <td>2024-09-01</td>\n",
       "      <td>2024-09-01</td>\n",
       "      <td>40</td>\n",
       "      <td>1760.0</td>\n",
       "      <td>-1.052632</td>\n",
       "    </tr>\n",
       "    <tr>\n",
       "      <th>1721</th>\n",
       "      <td>501 DIGITAL LOCKS</td>\n",
       "      <td>501 SHAVING CABINETS</td>\n",
       "      <td>1</td>\n",
       "      <td>1</td>\n",
       "      <td>2024-09-01</td>\n",
       "      <td>2024-09-01</td>\n",
       "      <td>40</td>\n",
       "      <td>1760.0</td>\n",
       "      <td>-1.052632</td>\n",
       "    </tr>\n",
       "    <tr>\n",
       "      <th>1726</th>\n",
       "      <td>501 DOOR HINGE BUTT</td>\n",
       "      <td>500 GLOVES AND SPONGES</td>\n",
       "      <td>1</td>\n",
       "      <td>1</td>\n",
       "      <td>2024-10-01</td>\n",
       "      <td>2024-10-01</td>\n",
       "      <td>40</td>\n",
       "      <td>2280.0</td>\n",
       "      <td>-1.052632</td>\n",
       "    </tr>\n",
       "    <tr>\n",
       "      <th>1727</th>\n",
       "      <td>501 DOOR HINGE BUTT</td>\n",
       "      <td>500 INDOOR CHEMICALS</td>\n",
       "      <td>1</td>\n",
       "      <td>1</td>\n",
       "      <td>2024-10-01</td>\n",
       "      <td>2024-10-01</td>\n",
       "      <td>40</td>\n",
       "      <td>2280.0</td>\n",
       "      <td>-1.052632</td>\n",
       "    </tr>\n",
       "    <tr>\n",
       "      <th>1734</th>\n",
       "      <td>501 DOOR HINGE BUTT</td>\n",
       "      <td>500 STRUCT FRAMG H3 2 KD LINKD</td>\n",
       "      <td>1</td>\n",
       "      <td>1</td>\n",
       "      <td>2024-10-01</td>\n",
       "      <td>2024-10-01</td>\n",
       "      <td>40</td>\n",
       "      <td>2280.0</td>\n",
       "      <td>-1.052632</td>\n",
       "    </tr>\n",
       "    <tr>\n",
       "      <th>1736</th>\n",
       "      <td>501 DOOR HINGE BUTT</td>\n",
       "      <td>501 KNOBSETS</td>\n",
       "      <td>1</td>\n",
       "      <td>1</td>\n",
       "      <td>2024-10-01</td>\n",
       "      <td>2024-10-01</td>\n",
       "      <td>40</td>\n",
       "      <td>2280.0</td>\n",
       "      <td>-1.052632</td>\n",
       "    </tr>\n",
       "    <tr>\n",
       "      <th>1746</th>\n",
       "      <td>501 HEATED TOWEL RAIL</td>\n",
       "      <td>500 EXTERNAL FEATURE DOOR</td>\n",
       "      <td>1</td>\n",
       "      <td>1</td>\n",
       "      <td>2024-09-01</td>\n",
       "      <td>2024-09-01</td>\n",
       "      <td>40</td>\n",
       "      <td>1760.0</td>\n",
       "      <td>-1.052632</td>\n",
       "    </tr>\n",
       "    <tr>\n",
       "      <th>1749</th>\n",
       "      <td>501 HEATED TOWEL RAIL</td>\n",
       "      <td>501 DIGITAL LOCKS</td>\n",
       "      <td>1</td>\n",
       "      <td>1</td>\n",
       "      <td>2024-09-01</td>\n",
       "      <td>2024-09-01</td>\n",
       "      <td>40</td>\n",
       "      <td>1760.0</td>\n",
       "      <td>-1.052632</td>\n",
       "    </tr>\n",
       "    <tr>\n",
       "      <th>1750</th>\n",
       "      <td>501 HEATED TOWEL RAIL</td>\n",
       "      <td>501 SHAVING CABINETS</td>\n",
       "      <td>1</td>\n",
       "      <td>1</td>\n",
       "      <td>2024-09-01</td>\n",
       "      <td>2024-09-01</td>\n",
       "      <td>40</td>\n",
       "      <td>1760.0</td>\n",
       "      <td>-1.052632</td>\n",
       "    </tr>\n",
       "    <tr>\n",
       "      <th>1771</th>\n",
       "      <td>501 KNOBSETS</td>\n",
       "      <td>500 GLOVES AND SPONGES</td>\n",
       "      <td>1</td>\n",
       "      <td>1</td>\n",
       "      <td>2024-10-01</td>\n",
       "      <td>2024-10-01</td>\n",
       "      <td>40</td>\n",
       "      <td>2280.0</td>\n",
       "      <td>-1.052632</td>\n",
       "    </tr>\n",
       "    <tr>\n",
       "      <th>1772</th>\n",
       "      <td>501 KNOBSETS</td>\n",
       "      <td>500 INDOOR CHEMICALS</td>\n",
       "      <td>1</td>\n",
       "      <td>1</td>\n",
       "      <td>2024-10-01</td>\n",
       "      <td>2024-10-01</td>\n",
       "      <td>40</td>\n",
       "      <td>2280.0</td>\n",
       "      <td>-1.052632</td>\n",
       "    </tr>\n",
       "    <tr>\n",
       "      <th>1779</th>\n",
       "      <td>501 KNOBSETS</td>\n",
       "      <td>500 STRUCT FRAMG H3 2 KD LINKD</td>\n",
       "      <td>1</td>\n",
       "      <td>1</td>\n",
       "      <td>2024-10-01</td>\n",
       "      <td>2024-10-01</td>\n",
       "      <td>40</td>\n",
       "      <td>2280.0</td>\n",
       "      <td>-1.052632</td>\n",
       "    </tr>\n",
       "    <tr>\n",
       "      <th>1781</th>\n",
       "      <td>501 KNOBSETS</td>\n",
       "      <td>501 DOOR HINGE BUTT</td>\n",
       "      <td>1</td>\n",
       "      <td>1</td>\n",
       "      <td>2024-10-01</td>\n",
       "      <td>2024-10-01</td>\n",
       "      <td>40</td>\n",
       "      <td>2280.0</td>\n",
       "      <td>-1.052632</td>\n",
       "    </tr>\n",
       "    <tr>\n",
       "      <th>1802</th>\n",
       "      <td>501 SHAVING CABINETS</td>\n",
       "      <td>500 EXTERNAL FEATURE DOOR</td>\n",
       "      <td>1</td>\n",
       "      <td>1</td>\n",
       "      <td>2024-09-01</td>\n",
       "      <td>2024-09-01</td>\n",
       "      <td>40</td>\n",
       "      <td>1760.0</td>\n",
       "      <td>-1.052632</td>\n",
       "    </tr>\n",
       "    <tr>\n",
       "      <th>1805</th>\n",
       "      <td>501 SHAVING CABINETS</td>\n",
       "      <td>501 DIGITAL LOCKS</td>\n",
       "      <td>1</td>\n",
       "      <td>1</td>\n",
       "      <td>2024-09-01</td>\n",
       "      <td>2024-09-01</td>\n",
       "      <td>40</td>\n",
       "      <td>1760.0</td>\n",
       "      <td>-1.052632</td>\n",
       "    </tr>\n",
       "    <tr>\n",
       "      <th>937</th>\n",
       "      <td>500 PAINT FILLERS</td>\n",
       "      <td>500 STRUCT FRAMG H3 2 GR LINKD</td>\n",
       "      <td>1</td>\n",
       "      <td>1</td>\n",
       "      <td>2025-02-01</td>\n",
       "      <td>2025-02-01</td>\n",
       "      <td>40</td>\n",
       "      <td>1560.0</td>\n",
       "      <td>-1.052632</td>\n",
       "    </tr>\n",
       "    <tr>\n",
       "      <th>933</th>\n",
       "      <td>500 PAINT FILLERS</td>\n",
       "      <td>500 FIXINGS OFF RANGE</td>\n",
       "      <td>1</td>\n",
       "      <td>1</td>\n",
       "      <td>2025-02-01</td>\n",
       "      <td>2025-02-01</td>\n",
       "      <td>40</td>\n",
       "      <td>1560.0</td>\n",
       "      <td>-1.052632</td>\n",
       "    </tr>\n",
       "    <tr>\n",
       "      <th>851</th>\n",
       "      <td>500 OTHER INSULATION BATTS</td>\n",
       "      <td>500 PARTICLEBOARD FLOORING</td>\n",
       "      <td>1</td>\n",
       "      <td>1</td>\n",
       "      <td>2025-03-01</td>\n",
       "      <td>2025-03-01</td>\n",
       "      <td>40</td>\n",
       "      <td>2120.0</td>\n",
       "      <td>-1.052632</td>\n",
       "    </tr>\n",
       "    <tr>\n",
       "      <th>636</th>\n",
       "      <td>500 GLOVES AND SPONGES</td>\n",
       "      <td>500 STRUCT FRAMG H3 2 KD LINKD</td>\n",
       "      <td>1</td>\n",
       "      <td>1</td>\n",
       "      <td>2024-10-01</td>\n",
       "      <td>2024-10-01</td>\n",
       "      <td>40</td>\n",
       "      <td>2280.0</td>\n",
       "      <td>-1.052632</td>\n",
       "    </tr>\n",
       "    <tr>\n",
       "      <th>13</th>\n",
       "      <td>500 ADHESIVES</td>\n",
       "      <td>500 METAL SCREWS</td>\n",
       "      <td>1</td>\n",
       "      <td>1</td>\n",
       "      <td>2025-03-01</td>\n",
       "      <td>2025-03-01</td>\n",
       "      <td>40</td>\n",
       "      <td>2120.0</td>\n",
       "      <td>-1.052632</td>\n",
       "    </tr>\n",
       "    <tr>\n",
       "      <th>16</th>\n",
       "      <td>500 ADHESIVES</td>\n",
       "      <td>500 OTHER INSULATION BATTS</td>\n",
       "      <td>1</td>\n",
       "      <td>1</td>\n",
       "      <td>2025-03-01</td>\n",
       "      <td>2025-03-01</td>\n",
       "      <td>40</td>\n",
       "      <td>2120.0</td>\n",
       "      <td>-1.052632</td>\n",
       "    </tr>\n",
       "    <tr>\n",
       "      <th>18</th>\n",
       "      <td>500 ADHESIVES</td>\n",
       "      <td>500 PARTICLEBOARD FLOORING</td>\n",
       "      <td>1</td>\n",
       "      <td>1</td>\n",
       "      <td>2025-03-01</td>\n",
       "      <td>2025-03-01</td>\n",
       "      <td>40</td>\n",
       "      <td>2120.0</td>\n",
       "      <td>-1.052632</td>\n",
       "    </tr>\n",
       "    <tr>\n",
       "      <th>338</th>\n",
       "      <td>500 ENAMEL PAINT</td>\n",
       "      <td>500 ADHESIVE HOOKS REMOVABLE</td>\n",
       "      <td>1</td>\n",
       "      <td>1</td>\n",
       "      <td>2025-05-01</td>\n",
       "      <td>2025-05-01</td>\n",
       "      <td>40</td>\n",
       "      <td>2040.0</td>\n",
       "      <td>-1.052632</td>\n",
       "    </tr>\n",
       "    <tr>\n",
       "      <th>339</th>\n",
       "      <td>500 ENAMEL PAINT</td>\n",
       "      <td>500 HPM EXCL</td>\n",
       "      <td>1</td>\n",
       "      <td>1</td>\n",
       "      <td>2025-05-01</td>\n",
       "      <td>2025-05-01</td>\n",
       "      <td>40</td>\n",
       "      <td>2040.0</td>\n",
       "      <td>-1.052632</td>\n",
       "    </tr>\n",
       "    <tr>\n",
       "      <th>373</th>\n",
       "      <td>500 EXTERNAL FEATURE DOOR</td>\n",
       "      <td>501 DIGITAL LOCKS</td>\n",
       "      <td>1</td>\n",
       "      <td>1</td>\n",
       "      <td>2024-09-01</td>\n",
       "      <td>2024-09-01</td>\n",
       "      <td>40</td>\n",
       "      <td>1760.0</td>\n",
       "      <td>-1.052632</td>\n",
       "    </tr>\n",
       "    <tr>\n",
       "      <th>374</th>\n",
       "      <td>500 EXTERNAL FEATURE DOOR</td>\n",
       "      <td>501 HEATED TOWEL RAIL</td>\n",
       "      <td>1</td>\n",
       "      <td>1</td>\n",
       "      <td>2024-09-01</td>\n",
       "      <td>2024-09-01</td>\n",
       "      <td>40</td>\n",
       "      <td>1760.0</td>\n",
       "      <td>-1.052632</td>\n",
       "    </tr>\n",
       "    <tr>\n",
       "      <th>375</th>\n",
       "      <td>500 EXTERNAL FEATURE DOOR</td>\n",
       "      <td>501 SHAVING CABINETS</td>\n",
       "      <td>1</td>\n",
       "      <td>1</td>\n",
       "      <td>2024-09-01</td>\n",
       "      <td>2024-09-01</td>\n",
       "      <td>40</td>\n",
       "      <td>1760.0</td>\n",
       "      <td>-1.052632</td>\n",
       "    </tr>\n",
       "    <tr>\n",
       "      <th>558</th>\n",
       "      <td>500 FIXINGS OFF RANGE</td>\n",
       "      <td>500 PAINT FILLERS</td>\n",
       "      <td>1</td>\n",
       "      <td>1</td>\n",
       "      <td>2025-02-01</td>\n",
       "      <td>2025-02-01</td>\n",
       "      <td>40</td>\n",
       "      <td>1560.0</td>\n",
       "      <td>-1.052632</td>\n",
       "    </tr>\n",
       "    <tr>\n",
       "      <th>562</th>\n",
       "      <td>500 FIXINGS OFF RANGE</td>\n",
       "      <td>500 STRUCT FRAMG H3 2 GR LINKD</td>\n",
       "      <td>1</td>\n",
       "      <td>1</td>\n",
       "      <td>2025-02-01</td>\n",
       "      <td>2025-02-01</td>\n",
       "      <td>40</td>\n",
       "      <td>1560.0</td>\n",
       "      <td>-1.052632</td>\n",
       "    </tr>\n",
       "    <tr>\n",
       "      <th>629</th>\n",
       "      <td>500 GLOVES AND SPONGES</td>\n",
       "      <td>500 INDOOR CHEMICALS</td>\n",
       "      <td>1</td>\n",
       "      <td>1</td>\n",
       "      <td>2024-10-01</td>\n",
       "      <td>2024-10-01</td>\n",
       "      <td>40</td>\n",
       "      <td>2280.0</td>\n",
       "      <td>-1.052632</td>\n",
       "    </tr>\n",
       "    <tr>\n",
       "      <th>638</th>\n",
       "      <td>500 GLOVES AND SPONGES</td>\n",
       "      <td>501 DOOR HINGE BUTT</td>\n",
       "      <td>1</td>\n",
       "      <td>1</td>\n",
       "      <td>2024-10-01</td>\n",
       "      <td>2024-10-01</td>\n",
       "      <td>40</td>\n",
       "      <td>2280.0</td>\n",
       "      <td>-1.052632</td>\n",
       "    </tr>\n",
       "    <tr>\n",
       "      <th>847</th>\n",
       "      <td>500 OTHER INSULATION BATTS</td>\n",
       "      <td>500 METAL SCREWS</td>\n",
       "      <td>1</td>\n",
       "      <td>1</td>\n",
       "      <td>2025-03-01</td>\n",
       "      <td>2025-03-01</td>\n",
       "      <td>40</td>\n",
       "      <td>2120.0</td>\n",
       "      <td>-1.052632</td>\n",
       "    </tr>\n",
       "    <tr>\n",
       "      <th>639</th>\n",
       "      <td>500 GLOVES AND SPONGES</td>\n",
       "      <td>501 KNOBSETS</td>\n",
       "      <td>1</td>\n",
       "      <td>1</td>\n",
       "      <td>2024-10-01</td>\n",
       "      <td>2024-10-01</td>\n",
       "      <td>40</td>\n",
       "      <td>2280.0</td>\n",
       "      <td>-1.052632</td>\n",
       "    </tr>\n",
       "    <tr>\n",
       "      <th>648</th>\n",
       "      <td>500 HPM EXCL</td>\n",
       "      <td>500 ADHESIVE HOOKS REMOVABLE</td>\n",
       "      <td>1</td>\n",
       "      <td>1</td>\n",
       "      <td>2025-05-01</td>\n",
       "      <td>2025-05-01</td>\n",
       "      <td>40</td>\n",
       "      <td>2040.0</td>\n",
       "      <td>-1.052632</td>\n",
       "    </tr>\n",
       "    <tr>\n",
       "      <th>649</th>\n",
       "      <td>500 HPM EXCL</td>\n",
       "      <td>500 ENAMEL PAINT</td>\n",
       "      <td>1</td>\n",
       "      <td>1</td>\n",
       "      <td>2025-05-01</td>\n",
       "      <td>2025-05-01</td>\n",
       "      <td>40</td>\n",
       "      <td>2040.0</td>\n",
       "      <td>-1.052632</td>\n",
       "    </tr>\n",
       "    <tr>\n",
       "      <th>672</th>\n",
       "      <td>500 INDOOR CHEMICALS</td>\n",
       "      <td>500 GLOVES AND SPONGES</td>\n",
       "      <td>1</td>\n",
       "      <td>1</td>\n",
       "      <td>2024-10-01</td>\n",
       "      <td>2024-10-01</td>\n",
       "      <td>40</td>\n",
       "      <td>2280.0</td>\n",
       "      <td>-1.052632</td>\n",
       "    </tr>\n",
       "    <tr>\n",
       "      <th>679</th>\n",
       "      <td>500 INDOOR CHEMICALS</td>\n",
       "      <td>500 STRUCT FRAMG H3 2 KD LINKD</td>\n",
       "      <td>1</td>\n",
       "      <td>1</td>\n",
       "      <td>2024-10-01</td>\n",
       "      <td>2024-10-01</td>\n",
       "      <td>40</td>\n",
       "      <td>2280.0</td>\n",
       "      <td>-1.052632</td>\n",
       "    </tr>\n",
       "    <tr>\n",
       "      <th>681</th>\n",
       "      <td>500 INDOOR CHEMICALS</td>\n",
       "      <td>501 DOOR HINGE BUTT</td>\n",
       "      <td>1</td>\n",
       "      <td>1</td>\n",
       "      <td>2024-10-01</td>\n",
       "      <td>2024-10-01</td>\n",
       "      <td>40</td>\n",
       "      <td>2280.0</td>\n",
       "      <td>-1.052632</td>\n",
       "    </tr>\n",
       "    <tr>\n",
       "      <th>682</th>\n",
       "      <td>500 INDOOR CHEMICALS</td>\n",
       "      <td>501 KNOBSETS</td>\n",
       "      <td>1</td>\n",
       "      <td>1</td>\n",
       "      <td>2024-10-01</td>\n",
       "      <td>2024-10-01</td>\n",
       "      <td>40</td>\n",
       "      <td>2280.0</td>\n",
       "      <td>-1.052632</td>\n",
       "    </tr>\n",
       "    <tr>\n",
       "      <th>733</th>\n",
       "      <td>500 METAL SCREWS</td>\n",
       "      <td>500 ADHESIVES</td>\n",
       "      <td>1</td>\n",
       "      <td>1</td>\n",
       "      <td>2025-03-01</td>\n",
       "      <td>2025-03-01</td>\n",
       "      <td>40</td>\n",
       "      <td>2120.0</td>\n",
       "      <td>-1.052632</td>\n",
       "    </tr>\n",
       "    <tr>\n",
       "      <th>742</th>\n",
       "      <td>500 METAL SCREWS</td>\n",
       "      <td>500 OTHER INSULATION BATTS</td>\n",
       "      <td>1</td>\n",
       "      <td>1</td>\n",
       "      <td>2025-03-01</td>\n",
       "      <td>2025-03-01</td>\n",
       "      <td>40</td>\n",
       "      <td>2120.0</td>\n",
       "      <td>-1.052632</td>\n",
       "    </tr>\n",
       "    <tr>\n",
       "      <th>744</th>\n",
       "      <td>500 METAL SCREWS</td>\n",
       "      <td>500 PARTICLEBOARD FLOORING</td>\n",
       "      <td>1</td>\n",
       "      <td>1</td>\n",
       "      <td>2025-03-01</td>\n",
       "      <td>2025-03-01</td>\n",
       "      <td>40</td>\n",
       "      <td>2120.0</td>\n",
       "      <td>-1.052632</td>\n",
       "    </tr>\n",
       "    <tr>\n",
       "      <th>840</th>\n",
       "      <td>500 OTHER INSULATION BATTS</td>\n",
       "      <td>500 ADHESIVES</td>\n",
       "      <td>1</td>\n",
       "      <td>1</td>\n",
       "      <td>2025-03-01</td>\n",
       "      <td>2025-03-01</td>\n",
       "      <td>40</td>\n",
       "      <td>2120.0</td>\n",
       "      <td>-1.052632</td>\n",
       "    </tr>\n",
       "    <tr>\n",
       "      <th>1806</th>\n",
       "      <td>501 SHAVING CABINETS</td>\n",
       "      <td>501 HEATED TOWEL RAIL</td>\n",
       "      <td>1</td>\n",
       "      <td>1</td>\n",
       "      <td>2024-09-01</td>\n",
       "      <td>2024-09-01</td>\n",
       "      <td>40</td>\n",
       "      <td>1760.0</td>\n",
       "      <td>-1.052632</td>\n",
       "    </tr>\n",
       "  </tbody>\n",
       "</table>\n",
       "</div>"
      ],
      "text/plain": [
       "                          PRIMARY_ID                    SECONDARY_ID  \\\n",
       "3       500 ADHESIVE HOOKS REMOVABLE                500 ENAMEL PAINT   \n",
       "4       500 ADHESIVE HOOKS REMOVABLE                    500 HPM EXCL   \n",
       "969       500 PARTICLEBOARD FLOORING                   500 ADHESIVES   \n",
       "976       500 PARTICLEBOARD FLOORING                500 METAL SCREWS   \n",
       "979       500 PARTICLEBOARD FLOORING      500 OTHER INSULATION BATTS   \n",
       "1478  500 STRUCT FRAMG H3 2 GR LINKD           500 FIXINGS OFF RANGE   \n",
       "1479  500 STRUCT FRAMG H3 2 GR LINKD               500 PAINT FILLERS   \n",
       "1488  500 STRUCT FRAMG H3 2 KD LINKD          500 GLOVES AND SPONGES   \n",
       "1489  500 STRUCT FRAMG H3 2 KD LINKD            500 INDOOR CHEMICALS   \n",
       "1497  500 STRUCT FRAMG H3 2 KD LINKD             501 DOOR HINGE BUTT   \n",
       "1498  500 STRUCT FRAMG H3 2 KD LINKD                    501 KNOBSETS   \n",
       "1717               501 DIGITAL LOCKS       500 EXTERNAL FEATURE DOOR   \n",
       "1720               501 DIGITAL LOCKS           501 HEATED TOWEL RAIL   \n",
       "1721               501 DIGITAL LOCKS            501 SHAVING CABINETS   \n",
       "1726             501 DOOR HINGE BUTT          500 GLOVES AND SPONGES   \n",
       "1727             501 DOOR HINGE BUTT            500 INDOOR CHEMICALS   \n",
       "1734             501 DOOR HINGE BUTT  500 STRUCT FRAMG H3 2 KD LINKD   \n",
       "1736             501 DOOR HINGE BUTT                    501 KNOBSETS   \n",
       "1746           501 HEATED TOWEL RAIL       500 EXTERNAL FEATURE DOOR   \n",
       "1749           501 HEATED TOWEL RAIL               501 DIGITAL LOCKS   \n",
       "1750           501 HEATED TOWEL RAIL            501 SHAVING CABINETS   \n",
       "1771                    501 KNOBSETS          500 GLOVES AND SPONGES   \n",
       "1772                    501 KNOBSETS            500 INDOOR CHEMICALS   \n",
       "1779                    501 KNOBSETS  500 STRUCT FRAMG H3 2 KD LINKD   \n",
       "1781                    501 KNOBSETS             501 DOOR HINGE BUTT   \n",
       "1802            501 SHAVING CABINETS       500 EXTERNAL FEATURE DOOR   \n",
       "1805            501 SHAVING CABINETS               501 DIGITAL LOCKS   \n",
       "937                500 PAINT FILLERS  500 STRUCT FRAMG H3 2 GR LINKD   \n",
       "933                500 PAINT FILLERS           500 FIXINGS OFF RANGE   \n",
       "851       500 OTHER INSULATION BATTS      500 PARTICLEBOARD FLOORING   \n",
       "636           500 GLOVES AND SPONGES  500 STRUCT FRAMG H3 2 KD LINKD   \n",
       "13                     500 ADHESIVES                500 METAL SCREWS   \n",
       "16                     500 ADHESIVES      500 OTHER INSULATION BATTS   \n",
       "18                     500 ADHESIVES      500 PARTICLEBOARD FLOORING   \n",
       "338                 500 ENAMEL PAINT    500 ADHESIVE HOOKS REMOVABLE   \n",
       "339                 500 ENAMEL PAINT                    500 HPM EXCL   \n",
       "373        500 EXTERNAL FEATURE DOOR               501 DIGITAL LOCKS   \n",
       "374        500 EXTERNAL FEATURE DOOR           501 HEATED TOWEL RAIL   \n",
       "375        500 EXTERNAL FEATURE DOOR            501 SHAVING CABINETS   \n",
       "558            500 FIXINGS OFF RANGE               500 PAINT FILLERS   \n",
       "562            500 FIXINGS OFF RANGE  500 STRUCT FRAMG H3 2 GR LINKD   \n",
       "629           500 GLOVES AND SPONGES            500 INDOOR CHEMICALS   \n",
       "638           500 GLOVES AND SPONGES             501 DOOR HINGE BUTT   \n",
       "847       500 OTHER INSULATION BATTS                500 METAL SCREWS   \n",
       "639           500 GLOVES AND SPONGES                    501 KNOBSETS   \n",
       "648                     500 HPM EXCL    500 ADHESIVE HOOKS REMOVABLE   \n",
       "649                     500 HPM EXCL                500 ENAMEL PAINT   \n",
       "672             500 INDOOR CHEMICALS          500 GLOVES AND SPONGES   \n",
       "679             500 INDOOR CHEMICALS  500 STRUCT FRAMG H3 2 KD LINKD   \n",
       "681             500 INDOOR CHEMICALS             501 DOOR HINGE BUTT   \n",
       "682             500 INDOOR CHEMICALS                    501 KNOBSETS   \n",
       "733                 500 METAL SCREWS                   500 ADHESIVES   \n",
       "742                 500 METAL SCREWS      500 OTHER INSULATION BATTS   \n",
       "744                 500 METAL SCREWS      500 PARTICLEBOARD FLOORING   \n",
       "840       500 OTHER INSULATION BATTS                   500 ADHESIVES   \n",
       "1806            501 SHAVING CABINETS           501 HEATED TOWEL RAIL   \n",
       "\n",
       "      PRIMARY_TRANSACTIONS  SECONDARY_TRANSACTIONS TRX_START_MONTH  \\\n",
       "3                        1                       1      2025-05-01   \n",
       "4                        1                       1      2025-05-01   \n",
       "969                      1                       1      2025-03-01   \n",
       "976                      1                       1      2025-03-01   \n",
       "979                      1                       1      2025-03-01   \n",
       "1478                     1                       1      2025-02-01   \n",
       "1479                     1                       1      2025-02-01   \n",
       "1488                     1                       1      2024-10-01   \n",
       "1489                     1                       1      2024-10-01   \n",
       "1497                     1                       1      2024-10-01   \n",
       "1498                     1                       1      2024-10-01   \n",
       "1717                     1                       1      2024-09-01   \n",
       "1720                     1                       1      2024-09-01   \n",
       "1721                     1                       1      2024-09-01   \n",
       "1726                     1                       1      2024-10-01   \n",
       "1727                     1                       1      2024-10-01   \n",
       "1734                     1                       1      2024-10-01   \n",
       "1736                     1                       1      2024-10-01   \n",
       "1746                     1                       1      2024-09-01   \n",
       "1749                     1                       1      2024-09-01   \n",
       "1750                     1                       1      2024-09-01   \n",
       "1771                     1                       1      2024-10-01   \n",
       "1772                     1                       1      2024-10-01   \n",
       "1779                     1                       1      2024-10-01   \n",
       "1781                     1                       1      2024-10-01   \n",
       "1802                     1                       1      2024-09-01   \n",
       "1805                     1                       1      2024-09-01   \n",
       "937                      1                       1      2025-02-01   \n",
       "933                      1                       1      2025-02-01   \n",
       "851                      1                       1      2025-03-01   \n",
       "636                      1                       1      2024-10-01   \n",
       "13                       1                       1      2025-03-01   \n",
       "16                       1                       1      2025-03-01   \n",
       "18                       1                       1      2025-03-01   \n",
       "338                      1                       1      2025-05-01   \n",
       "339                      1                       1      2025-05-01   \n",
       "373                      1                       1      2024-09-01   \n",
       "374                      1                       1      2024-09-01   \n",
       "375                      1                       1      2024-09-01   \n",
       "558                      1                       1      2025-02-01   \n",
       "562                      1                       1      2025-02-01   \n",
       "629                      1                       1      2024-10-01   \n",
       "638                      1                       1      2024-10-01   \n",
       "847                      1                       1      2025-03-01   \n",
       "639                      1                       1      2024-10-01   \n",
       "648                      1                       1      2025-05-01   \n",
       "649                      1                       1      2025-05-01   \n",
       "672                      1                       1      2024-10-01   \n",
       "679                      1                       1      2024-10-01   \n",
       "681                      1                       1      2024-10-01   \n",
       "682                      1                       1      2024-10-01   \n",
       "733                      1                       1      2025-03-01   \n",
       "742                      1                       1      2025-03-01   \n",
       "744                      1                       1      2025-03-01   \n",
       "840                      1                       1      2025-03-01   \n",
       "1806                     1                       1      2024-09-01   \n",
       "\n",
       "     TRX_END_MONTH  PAIR_TRANSACTIONS    LIFT   JACCARD  \n",
       "3       2025-05-01                 40  2040.0 -1.052632  \n",
       "4       2025-05-01                 40  2040.0 -1.052632  \n",
       "969     2025-03-01                 40  2120.0 -1.052632  \n",
       "976     2025-03-01                 40  2120.0 -1.052632  \n",
       "979     2025-03-01                 40  2120.0 -1.052632  \n",
       "1478    2025-02-01                 40  1560.0 -1.052632  \n",
       "1479    2025-02-01                 40  1560.0 -1.052632  \n",
       "1488    2024-10-01                 40  2280.0 -1.052632  \n",
       "1489    2024-10-01                 40  2280.0 -1.052632  \n",
       "1497    2024-10-01                 40  2280.0 -1.052632  \n",
       "1498    2024-10-01                 40  2280.0 -1.052632  \n",
       "1717    2024-09-01                 40  1760.0 -1.052632  \n",
       "1720    2024-09-01                 40  1760.0 -1.052632  \n",
       "1721    2024-09-01                 40  1760.0 -1.052632  \n",
       "1726    2024-10-01                 40  2280.0 -1.052632  \n",
       "1727    2024-10-01                 40  2280.0 -1.052632  \n",
       "1734    2024-10-01                 40  2280.0 -1.052632  \n",
       "1736    2024-10-01                 40  2280.0 -1.052632  \n",
       "1746    2024-09-01                 40  1760.0 -1.052632  \n",
       "1749    2024-09-01                 40  1760.0 -1.052632  \n",
       "1750    2024-09-01                 40  1760.0 -1.052632  \n",
       "1771    2024-10-01                 40  2280.0 -1.052632  \n",
       "1772    2024-10-01                 40  2280.0 -1.052632  \n",
       "1779    2024-10-01                 40  2280.0 -1.052632  \n",
       "1781    2024-10-01                 40  2280.0 -1.052632  \n",
       "1802    2024-09-01                 40  1760.0 -1.052632  \n",
       "1805    2024-09-01                 40  1760.0 -1.052632  \n",
       "937     2025-02-01                 40  1560.0 -1.052632  \n",
       "933     2025-02-01                 40  1560.0 -1.052632  \n",
       "851     2025-03-01                 40  2120.0 -1.052632  \n",
       "636     2024-10-01                 40  2280.0 -1.052632  \n",
       "13      2025-03-01                 40  2120.0 -1.052632  \n",
       "16      2025-03-01                 40  2120.0 -1.052632  \n",
       "18      2025-03-01                 40  2120.0 -1.052632  \n",
       "338     2025-05-01                 40  2040.0 -1.052632  \n",
       "339     2025-05-01                 40  2040.0 -1.052632  \n",
       "373     2024-09-01                 40  1760.0 -1.052632  \n",
       "374     2024-09-01                 40  1760.0 -1.052632  \n",
       "375     2024-09-01                 40  1760.0 -1.052632  \n",
       "558     2025-02-01                 40  1560.0 -1.052632  \n",
       "562     2025-02-01                 40  1560.0 -1.052632  \n",
       "629     2024-10-01                 40  2280.0 -1.052632  \n",
       "638     2024-10-01                 40  2280.0 -1.052632  \n",
       "847     2025-03-01                 40  2120.0 -1.052632  \n",
       "639     2024-10-01                 40  2280.0 -1.052632  \n",
       "648     2025-05-01                 40  2040.0 -1.052632  \n",
       "649     2025-05-01                 40  2040.0 -1.052632  \n",
       "672     2024-10-01                 40  2280.0 -1.052632  \n",
       "679     2024-10-01                 40  2280.0 -1.052632  \n",
       "681     2024-10-01                 40  2280.0 -1.052632  \n",
       "682     2024-10-01                 40  2280.0 -1.052632  \n",
       "733     2025-03-01                 40  2120.0 -1.052632  \n",
       "742     2025-03-01                 40  2120.0 -1.052632  \n",
       "744     2025-03-01                 40  2120.0 -1.052632  \n",
       "840     2025-03-01                 40  2120.0 -1.052632  \n",
       "1806    2024-09-01                 40  1760.0 -1.052632  "
      ]
     },
     "execution_count": 35,
     "metadata": {},
     "output_type": "execute_result"
    }
   ],
   "source": [
    "filtered_df.sort_values(by='PAIR_TRANSACTIONS', ascending=False)"
   ]
  },
  {
   "cell_type": "code",
   "execution_count": 36,
   "metadata": {},
   "outputs": [
    {
     "name": "stderr",
     "output_type": "stream",
     "text": [
      "/tmp/ipykernel_3822/4149448309.py:11: RuntimeWarning:\n",
      "\n",
      "invalid value encountered in divide\n",
      "\n"
     ]
    },
    {
     "ename": "ValueError",
     "evalue": "cannot convert float NaN to integer",
     "output_type": "error",
     "traceback": [
      "\u001b[0;31m---------------------------------------------------------------------------\u001b[0m",
      "\u001b[0;31mValueError\u001b[0m                                Traceback (most recent call last)",
      "\u001b[1;32m/home/250807/Merch-Insights/Skylight cross shop/sql/Network.ipynb Cell 12\u001b[0m line \u001b[0;36m6\n\u001b[1;32m     <a href='vscode-notebook-cell://rstudio.dna.bunnings.com.au/home/250807/Merch-Insights/Skylight%20cross%20shop/sql/Network.ipynb#X16sdnNjb2RlLXJlbW90ZQ%3D%3D?line=58'>59</a>\u001b[0m     node_color\u001b[39m.\u001b[39mappend(color_list[cluster \u001b[39m%\u001b[39m \u001b[39mlen\u001b[39m(color_list)])\n\u001b[1;32m     <a href='vscode-notebook-cell://rstudio.dna.bunnings.com.au/home/250807/Merch-Insights/Skylight%20cross%20shop/sql/Network.ipynb#X16sdnNjb2RlLXJlbW90ZQ%3D%3D?line=59'>60</a>\u001b[0m     node_size\u001b[39m.\u001b[39mappend(size)\n\u001b[0;32m---> <a href='vscode-notebook-cell://rstudio.dna.bunnings.com.au/home/250807/Merch-Insights/Skylight%20cross%20shop/sql/Network.ipynb#X16sdnNjb2RlLXJlbW90ZQ%3D%3D?line=60'>61</a>\u001b[0m     hover_text\u001b[39m.\u001b[39mappend(\u001b[39mf\u001b[39m\u001b[39m\"\u001b[39m\u001b[39mProduct ID: \u001b[39m\u001b[39m{\u001b[39;00mnode\u001b[39m}\u001b[39;00m\u001b[39m<br>Cluster: \u001b[39m\u001b[39m{\u001b[39;00mcluster\u001b[39m}\u001b[39;00m\u001b[39m<br>Transactions: \u001b[39m\u001b[39m{\u001b[39;00m\u001b[39mint\u001b[39;49m(size)\u001b[39m}\u001b[39;00m\u001b[39m\"\u001b[39m)\n\u001b[1;32m     <a href='vscode-notebook-cell://rstudio.dna.bunnings.com.au/home/250807/Merch-Insights/Skylight%20cross%20shop/sql/Network.ipynb#X16sdnNjb2RlLXJlbW90ZQ%3D%3D?line=62'>63</a>\u001b[0m node_trace \u001b[39m=\u001b[39m go\u001b[39m.\u001b[39mScatter(\n\u001b[1;32m     <a href='vscode-notebook-cell://rstudio.dna.bunnings.com.au/home/250807/Merch-Insights/Skylight%20cross%20shop/sql/Network.ipynb#X16sdnNjb2RlLXJlbW90ZQ%3D%3D?line=63'>64</a>\u001b[0m     x\u001b[39m=\u001b[39mnode_x,\n\u001b[1;32m     <a href='vscode-notebook-cell://rstudio.dna.bunnings.com.au/home/250807/Merch-Insights/Skylight%20cross%20shop/sql/Network.ipynb#X16sdnNjb2RlLXJlbW90ZQ%3D%3D?line=64'>65</a>\u001b[0m     y\u001b[39m=\u001b[39mnode_y,\n\u001b[0;32m   (...)\u001b[0m\n\u001b[1;32m     <a href='vscode-notebook-cell://rstudio.dna.bunnings.com.au/home/250807/Merch-Insights/Skylight%20cross%20shop/sql/Network.ipynb#X16sdnNjb2RlLXJlbW90ZQ%3D%3D?line=78'>79</a>\u001b[0m )\n\u001b[1;32m     <a href='vscode-notebook-cell://rstudio.dna.bunnings.com.au/home/250807/Merch-Insights/Skylight%20cross%20shop/sql/Network.ipynb#X16sdnNjb2RlLXJlbW90ZQ%3D%3D?line=79'>80</a>\u001b[0m )\n\u001b[1;32m     <a href='vscode-notebook-cell://rstudio.dna.bunnings.com.au/home/250807/Merch-Insights/Skylight%20cross%20shop/sql/Network.ipynb#X16sdnNjb2RlLXJlbW90ZQ%3D%3D?line=80'>81</a>\u001b[0m \u001b[39m# Step 6: Plot\u001b[39;00m\n",
      "\u001b[0;31mValueError\u001b[0m: cannot convert float NaN to integer"
     ]
    }
   ],
   "source": [
    "mode='lines',\n",
    "line_shape='spline'\n",
    "    \n",
    "# Build node size map from your DataFrame\n",
    "node_size_map = dict(zip(top_edges['PRIMARY_ID'], top_edges['PRIMARY_TRANSACTIONS']))\n",
    "\n",
    "# Convert values to NumPy array\n",
    "sizes = np.array(list(node_size_map.values()))\n",
    "\n",
    "# Use np.ptp instead of .ptp()\n",
    "norm_sizes = (sizes - sizes.min()) / np.ptp(sizes)  # scale to 0–1\n",
    "scaled_sizes = 10 + norm_sizes * 30                 # scale to 10–40\n",
    "\n",
    "# Final size map: Product ID → Scaled Size\n",
    "scaled_size_map = dict(zip(node_size_map.keys(), scaled_sizes))\n",
    "\n",
    "# Step 1: Build the full graph\n",
    "G = nx.Graph()\n",
    "for _, row in top_edges.iterrows():\n",
    "    G.add_edge(row['PRIMARY_ID'], row['SECONDARY_ID'], weight=row[METRIC])\n",
    "\n",
    "# Step 2: Louvain community detection\n",
    "partition = community_louvain.best_partition(G, weight=METRIC, resolution=RESO)\n",
    "\n",
    "# Step 3: Layout\n",
    "pos = nx.spring_layout(G, weight='weight', seed=42\n",
    "                      )\n",
    "\n",
    "# Step 4: Edge trace (no filter on weight)\n",
    "edge_x, edge_y = [], []\n",
    "for u, v in G.edges():\n",
    "    x0, y0 = pos[u]\n",
    "    x1, y1 = pos[v]\n",
    "    edge_x += [x0, x1, None]\n",
    "    edge_y += [y0, y1, None]\n",
    "\n",
    "edge_trace = go.Scatter(\n",
    "    x=edge_x,\n",
    "    y=edge_y,\n",
    "    line=dict(width=1, color='gray'),\n",
    "    hoverinfo='none',\n",
    "    mode='lines'\n",
    ")\n",
    "\n",
    "# Step 5: Node trace with Louvain cluster coloring\n",
    "color_list = ['#1f77b4', '#ff7f0e', '#2ca02c', '#d62728',\n",
    "              '#9467bd', '#8c564b', '#e377c2', '#7f7f7f',\n",
    "              '#bcbd22', '#17becf']  # Extend if you expect >10 clusters\n",
    "\n",
    "node_x, node_y, node_color, node_size, hover_text = [], [], [], [], []\n",
    "\n",
    "for node in G.nodes():\n",
    "    x, y = pos[node]\n",
    "    cluster = partition[node]\n",
    "    size = scaled_size_map.get(node, 10)  # default to small if missing\n",
    "\n",
    "    node_x.append(x)\n",
    "    node_y.append(y)\n",
    "    node_color.append(color_list[cluster % len(color_list)])\n",
    "    node_size.append(size)\n",
    "    hover_text.append(f\"Product ID: {node}<br>Cluster: {cluster}<br>Transactions: {int(size)}\")\n",
    "\n",
    "node_trace = go.Scatter(\n",
    "    x=node_x,\n",
    "    y=node_y,\n",
    "    mode='markers+text',\n",
    "    hoverinfo='text',\n",
    "    text=[str(node) for node in G.nodes()],\n",
    "    textposition='top center',\n",
    "    marker=dict(\n",
    "        color=node_color,\n",
    "        size=node_size,  # <--- size now dynamic!\n",
    "        line=dict(width=2, color='black')\n",
    "    ),\n",
    "    textfont=dict(\n",
    "    size=16,          # increase for visibility\n",
    "    color='black',\n",
    "    family='Arial'\n",
    ")\n",
    ")\n",
    "# Step 6: Plot\n",
    "fig = go.Figure(\n",
    "    data=[edge_trace, node_trace],\n",
    "    layout=go.Layout(\n",
    "        width=1200,          # increase width\n",
    "    height=800, \n",
    "        title=dict(text='Louvain Product Clustering (All Edges)', x=0.5, font=dict(size=16)),\n",
    "        showlegend=False,\n",
    "        hovermode='closest',\n",
    "        margin=dict(b=20, l=20, r=20, t=40),\n",
    "        xaxis=dict(showgrid=False, zeroline=False, showticklabels=False),\n",
    "        yaxis=dict(showgrid=False, zeroline=False, showticklabels=False)\n",
    "    )\n",
    ")"
   ]
  },
  {
   "cell_type": "markdown",
   "metadata": {},
   "source": [
    "# Results"
   ]
  },
  {
   "cell_type": "code",
   "execution_count": null,
   "metadata": {},
   "outputs": [
    {
     "data": {
      "application/vnd.plotly.v1+json": {
       "config": {
        "plotlyServerURL": "https://plot.ly"
       },
       "data": [
        {
         "hoverinfo": "none",
         "line": {
          "color": "gray",
          "width": 1
         },
         "mode": "lines",
         "type": "scatter",
         "x": [
          0.4428043432349467,
          1,
          null,
          0.4428043432349467,
          -0.416261822736823,
          null,
          0.4428043432349467,
          -0.10456801257752465,
          null,
          -0.416261822736823,
          -0.9219745079205992,
          null,
          -0.9219745079205992,
          -0.10456801257752465,
          null
         ],
         "y": [
          -0.2354914080244218,
          -0.49647849223310464,
          null,
          -0.2354914080244218,
          -0.32591170339736997,
          null,
          -0.2354914080244218,
          0.7090164384250958,
          null,
          -0.32591170339736997,
          0.3488651652298007,
          null,
          0.3488651652298007,
          0.7090164384250958,
          null
         ]
        },
        {
         "hoverinfo": "text",
         "marker": {
          "color": [
           "#ff7f0e",
           "#ff7f0e",
           "#ff7f0e",
           "#1f77b4",
           "#1f77b4"
          ],
          "line": {
           "color": "black",
           "width": 2
          },
          "size": [
           10,
           10,
           10,
           40,
           10
          ]
         },
         "mode": "markers+text",
         "text": [
          "500 SKYLIGHT ACCESSORIES",
          "500 BUILDING SUPPLIES OFFRANGE",
          "500 STRUCT FRAMG H1 2 KD LINKD",
          "500 ROOF WINDOWS",
          "500 CONNECTORS"
         ],
         "textfont": {
          "color": "black",
          "family": "Arial",
          "size": 16
         },
         "textposition": "top center",
         "type": "scatter",
         "x": [
          0.4428043432349467,
          1,
          -0.416261822736823,
          -0.9219745079205992,
          -0.10456801257752465
         ],
         "y": [
          -0.2354914080244218,
          -0.49647849223310464,
          -0.32591170339736997,
          0.3488651652298007,
          0.7090164384250958
         ]
        }
       ],
       "layout": {
        "height": 800,
        "hovermode": "closest",
        "margin": {
         "b": 20,
         "l": 20,
         "r": 20,
         "t": 40
        },
        "showlegend": false,
        "template": {
         "data": {
          "bar": [
           {
            "error_x": {
             "color": "#2a3f5f"
            },
            "error_y": {
             "color": "#2a3f5f"
            },
            "marker": {
             "line": {
              "color": "#E5ECF6",
              "width": 0.5
             },
             "pattern": {
              "fillmode": "overlay",
              "size": 10,
              "solidity": 0.2
             }
            },
            "type": "bar"
           }
          ],
          "barpolar": [
           {
            "marker": {
             "line": {
              "color": "#E5ECF6",
              "width": 0.5
             },
             "pattern": {
              "fillmode": "overlay",
              "size": 10,
              "solidity": 0.2
             }
            },
            "type": "barpolar"
           }
          ],
          "carpet": [
           {
            "aaxis": {
             "endlinecolor": "#2a3f5f",
             "gridcolor": "white",
             "linecolor": "white",
             "minorgridcolor": "white",
             "startlinecolor": "#2a3f5f"
            },
            "baxis": {
             "endlinecolor": "#2a3f5f",
             "gridcolor": "white",
             "linecolor": "white",
             "minorgridcolor": "white",
             "startlinecolor": "#2a3f5f"
            },
            "type": "carpet"
           }
          ],
          "choropleth": [
           {
            "colorbar": {
             "outlinewidth": 0,
             "ticks": ""
            },
            "type": "choropleth"
           }
          ],
          "contour": [
           {
            "colorbar": {
             "outlinewidth": 0,
             "ticks": ""
            },
            "colorscale": [
             [
              0,
              "#0d0887"
             ],
             [
              0.1111111111111111,
              "#46039f"
             ],
             [
              0.2222222222222222,
              "#7201a8"
             ],
             [
              0.3333333333333333,
              "#9c179e"
             ],
             [
              0.4444444444444444,
              "#bd3786"
             ],
             [
              0.5555555555555556,
              "#d8576b"
             ],
             [
              0.6666666666666666,
              "#ed7953"
             ],
             [
              0.7777777777777778,
              "#fb9f3a"
             ],
             [
              0.8888888888888888,
              "#fdca26"
             ],
             [
              1,
              "#f0f921"
             ]
            ],
            "type": "contour"
           }
          ],
          "contourcarpet": [
           {
            "colorbar": {
             "outlinewidth": 0,
             "ticks": ""
            },
            "type": "contourcarpet"
           }
          ],
          "heatmap": [
           {
            "colorbar": {
             "outlinewidth": 0,
             "ticks": ""
            },
            "colorscale": [
             [
              0,
              "#0d0887"
             ],
             [
              0.1111111111111111,
              "#46039f"
             ],
             [
              0.2222222222222222,
              "#7201a8"
             ],
             [
              0.3333333333333333,
              "#9c179e"
             ],
             [
              0.4444444444444444,
              "#bd3786"
             ],
             [
              0.5555555555555556,
              "#d8576b"
             ],
             [
              0.6666666666666666,
              "#ed7953"
             ],
             [
              0.7777777777777778,
              "#fb9f3a"
             ],
             [
              0.8888888888888888,
              "#fdca26"
             ],
             [
              1,
              "#f0f921"
             ]
            ],
            "type": "heatmap"
           }
          ],
          "heatmapgl": [
           {
            "colorbar": {
             "outlinewidth": 0,
             "ticks": ""
            },
            "colorscale": [
             [
              0,
              "#0d0887"
             ],
             [
              0.1111111111111111,
              "#46039f"
             ],
             [
              0.2222222222222222,
              "#7201a8"
             ],
             [
              0.3333333333333333,
              "#9c179e"
             ],
             [
              0.4444444444444444,
              "#bd3786"
             ],
             [
              0.5555555555555556,
              "#d8576b"
             ],
             [
              0.6666666666666666,
              "#ed7953"
             ],
             [
              0.7777777777777778,
              "#fb9f3a"
             ],
             [
              0.8888888888888888,
              "#fdca26"
             ],
             [
              1,
              "#f0f921"
             ]
            ],
            "type": "heatmapgl"
           }
          ],
          "histogram": [
           {
            "marker": {
             "pattern": {
              "fillmode": "overlay",
              "size": 10,
              "solidity": 0.2
             }
            },
            "type": "histogram"
           }
          ],
          "histogram2d": [
           {
            "colorbar": {
             "outlinewidth": 0,
             "ticks": ""
            },
            "colorscale": [
             [
              0,
              "#0d0887"
             ],
             [
              0.1111111111111111,
              "#46039f"
             ],
             [
              0.2222222222222222,
              "#7201a8"
             ],
             [
              0.3333333333333333,
              "#9c179e"
             ],
             [
              0.4444444444444444,
              "#bd3786"
             ],
             [
              0.5555555555555556,
              "#d8576b"
             ],
             [
              0.6666666666666666,
              "#ed7953"
             ],
             [
              0.7777777777777778,
              "#fb9f3a"
             ],
             [
              0.8888888888888888,
              "#fdca26"
             ],
             [
              1,
              "#f0f921"
             ]
            ],
            "type": "histogram2d"
           }
          ],
          "histogram2dcontour": [
           {
            "colorbar": {
             "outlinewidth": 0,
             "ticks": ""
            },
            "colorscale": [
             [
              0,
              "#0d0887"
             ],
             [
              0.1111111111111111,
              "#46039f"
             ],
             [
              0.2222222222222222,
              "#7201a8"
             ],
             [
              0.3333333333333333,
              "#9c179e"
             ],
             [
              0.4444444444444444,
              "#bd3786"
             ],
             [
              0.5555555555555556,
              "#d8576b"
             ],
             [
              0.6666666666666666,
              "#ed7953"
             ],
             [
              0.7777777777777778,
              "#fb9f3a"
             ],
             [
              0.8888888888888888,
              "#fdca26"
             ],
             [
              1,
              "#f0f921"
             ]
            ],
            "type": "histogram2dcontour"
           }
          ],
          "mesh3d": [
           {
            "colorbar": {
             "outlinewidth": 0,
             "ticks": ""
            },
            "type": "mesh3d"
           }
          ],
          "parcoords": [
           {
            "line": {
             "colorbar": {
              "outlinewidth": 0,
              "ticks": ""
             }
            },
            "type": "parcoords"
           }
          ],
          "pie": [
           {
            "automargin": true,
            "type": "pie"
           }
          ],
          "scatter": [
           {
            "fillpattern": {
             "fillmode": "overlay",
             "size": 10,
             "solidity": 0.2
            },
            "type": "scatter"
           }
          ],
          "scatter3d": [
           {
            "line": {
             "colorbar": {
              "outlinewidth": 0,
              "ticks": ""
             }
            },
            "marker": {
             "colorbar": {
              "outlinewidth": 0,
              "ticks": ""
             }
            },
            "type": "scatter3d"
           }
          ],
          "scattercarpet": [
           {
            "marker": {
             "colorbar": {
              "outlinewidth": 0,
              "ticks": ""
             }
            },
            "type": "scattercarpet"
           }
          ],
          "scattergeo": [
           {
            "marker": {
             "colorbar": {
              "outlinewidth": 0,
              "ticks": ""
             }
            },
            "type": "scattergeo"
           }
          ],
          "scattergl": [
           {
            "marker": {
             "colorbar": {
              "outlinewidth": 0,
              "ticks": ""
             }
            },
            "type": "scattergl"
           }
          ],
          "scattermapbox": [
           {
            "marker": {
             "colorbar": {
              "outlinewidth": 0,
              "ticks": ""
             }
            },
            "type": "scattermapbox"
           }
          ],
          "scatterpolar": [
           {
            "marker": {
             "colorbar": {
              "outlinewidth": 0,
              "ticks": ""
             }
            },
            "type": "scatterpolar"
           }
          ],
          "scatterpolargl": [
           {
            "marker": {
             "colorbar": {
              "outlinewidth": 0,
              "ticks": ""
             }
            },
            "type": "scatterpolargl"
           }
          ],
          "scatterternary": [
           {
            "marker": {
             "colorbar": {
              "outlinewidth": 0,
              "ticks": ""
             }
            },
            "type": "scatterternary"
           }
          ],
          "surface": [
           {
            "colorbar": {
             "outlinewidth": 0,
             "ticks": ""
            },
            "colorscale": [
             [
              0,
              "#0d0887"
             ],
             [
              0.1111111111111111,
              "#46039f"
             ],
             [
              0.2222222222222222,
              "#7201a8"
             ],
             [
              0.3333333333333333,
              "#9c179e"
             ],
             [
              0.4444444444444444,
              "#bd3786"
             ],
             [
              0.5555555555555556,
              "#d8576b"
             ],
             [
              0.6666666666666666,
              "#ed7953"
             ],
             [
              0.7777777777777778,
              "#fb9f3a"
             ],
             [
              0.8888888888888888,
              "#fdca26"
             ],
             [
              1,
              "#f0f921"
             ]
            ],
            "type": "surface"
           }
          ],
          "table": [
           {
            "cells": {
             "fill": {
              "color": "#EBF0F8"
             },
             "line": {
              "color": "white"
             }
            },
            "header": {
             "fill": {
              "color": "#C8D4E3"
             },
             "line": {
              "color": "white"
             }
            },
            "type": "table"
           }
          ]
         },
         "layout": {
          "annotationdefaults": {
           "arrowcolor": "#2a3f5f",
           "arrowhead": 0,
           "arrowwidth": 1
          },
          "autotypenumbers": "strict",
          "coloraxis": {
           "colorbar": {
            "outlinewidth": 0,
            "ticks": ""
           }
          },
          "colorscale": {
           "diverging": [
            [
             0,
             "#8e0152"
            ],
            [
             0.1,
             "#c51b7d"
            ],
            [
             0.2,
             "#de77ae"
            ],
            [
             0.3,
             "#f1b6da"
            ],
            [
             0.4,
             "#fde0ef"
            ],
            [
             0.5,
             "#f7f7f7"
            ],
            [
             0.6,
             "#e6f5d0"
            ],
            [
             0.7,
             "#b8e186"
            ],
            [
             0.8,
             "#7fbc41"
            ],
            [
             0.9,
             "#4d9221"
            ],
            [
             1,
             "#276419"
            ]
           ],
           "sequential": [
            [
             0,
             "#0d0887"
            ],
            [
             0.1111111111111111,
             "#46039f"
            ],
            [
             0.2222222222222222,
             "#7201a8"
            ],
            [
             0.3333333333333333,
             "#9c179e"
            ],
            [
             0.4444444444444444,
             "#bd3786"
            ],
            [
             0.5555555555555556,
             "#d8576b"
            ],
            [
             0.6666666666666666,
             "#ed7953"
            ],
            [
             0.7777777777777778,
             "#fb9f3a"
            ],
            [
             0.8888888888888888,
             "#fdca26"
            ],
            [
             1,
             "#f0f921"
            ]
           ],
           "sequentialminus": [
            [
             0,
             "#0d0887"
            ],
            [
             0.1111111111111111,
             "#46039f"
            ],
            [
             0.2222222222222222,
             "#7201a8"
            ],
            [
             0.3333333333333333,
             "#9c179e"
            ],
            [
             0.4444444444444444,
             "#bd3786"
            ],
            [
             0.5555555555555556,
             "#d8576b"
            ],
            [
             0.6666666666666666,
             "#ed7953"
            ],
            [
             0.7777777777777778,
             "#fb9f3a"
            ],
            [
             0.8888888888888888,
             "#fdca26"
            ],
            [
             1,
             "#f0f921"
            ]
           ]
          },
          "colorway": [
           "#636efa",
           "#EF553B",
           "#00cc96",
           "#ab63fa",
           "#FFA15A",
           "#19d3f3",
           "#FF6692",
           "#B6E880",
           "#FF97FF",
           "#FECB52"
          ],
          "font": {
           "color": "#2a3f5f"
          },
          "geo": {
           "bgcolor": "white",
           "lakecolor": "white",
           "landcolor": "#E5ECF6",
           "showlakes": true,
           "showland": true,
           "subunitcolor": "white"
          },
          "hoverlabel": {
           "align": "left"
          },
          "hovermode": "closest",
          "mapbox": {
           "style": "light"
          },
          "paper_bgcolor": "white",
          "plot_bgcolor": "#E5ECF6",
          "polar": {
           "angularaxis": {
            "gridcolor": "white",
            "linecolor": "white",
            "ticks": ""
           },
           "bgcolor": "#E5ECF6",
           "radialaxis": {
            "gridcolor": "white",
            "linecolor": "white",
            "ticks": ""
           }
          },
          "scene": {
           "xaxis": {
            "backgroundcolor": "#E5ECF6",
            "gridcolor": "white",
            "gridwidth": 2,
            "linecolor": "white",
            "showbackground": true,
            "ticks": "",
            "zerolinecolor": "white"
           },
           "yaxis": {
            "backgroundcolor": "#E5ECF6",
            "gridcolor": "white",
            "gridwidth": 2,
            "linecolor": "white",
            "showbackground": true,
            "ticks": "",
            "zerolinecolor": "white"
           },
           "zaxis": {
            "backgroundcolor": "#E5ECF6",
            "gridcolor": "white",
            "gridwidth": 2,
            "linecolor": "white",
            "showbackground": true,
            "ticks": "",
            "zerolinecolor": "white"
           }
          },
          "shapedefaults": {
           "line": {
            "color": "#2a3f5f"
           }
          },
          "ternary": {
           "aaxis": {
            "gridcolor": "white",
            "linecolor": "white",
            "ticks": ""
           },
           "baxis": {
            "gridcolor": "white",
            "linecolor": "white",
            "ticks": ""
           },
           "bgcolor": "#E5ECF6",
           "caxis": {
            "gridcolor": "white",
            "linecolor": "white",
            "ticks": ""
           }
          },
          "title": {
           "x": 0.05
          },
          "xaxis": {
           "automargin": true,
           "gridcolor": "white",
           "linecolor": "white",
           "ticks": "",
           "title": {
            "standoff": 15
           },
           "zerolinecolor": "white",
           "zerolinewidth": 2
          },
          "yaxis": {
           "automargin": true,
           "gridcolor": "white",
           "linecolor": "white",
           "ticks": "",
           "title": {
            "standoff": 15
           },
           "zerolinecolor": "white",
           "zerolinewidth": 2
          }
         }
        },
        "title": {
         "font": {
          "size": 16
         },
         "text": "Louvain Product Clustering (All Edges)",
         "x": 0.5
        },
        "width": 1200,
        "xaxis": {
         "showgrid": false,
         "showticklabels": false,
         "zeroline": false
        },
        "yaxis": {
         "showgrid": false,
         "showticklabels": false,
         "zeroline": false
        }
       }
      },
      "text/html": [
       "<div>                            <div id=\"7fd45f0b-7c94-4258-97be-826935bcd441\" class=\"plotly-graph-div\" style=\"height:800px; width:1200px;\"></div>            <script type=\"text/javascript\">                require([\"plotly\"], function(Plotly) {                    window.PLOTLYENV=window.PLOTLYENV || {};                                    if (document.getElementById(\"7fd45f0b-7c94-4258-97be-826935bcd441\")) {                    Plotly.newPlot(                        \"7fd45f0b-7c94-4258-97be-826935bcd441\",                        [{\"hoverinfo\":\"none\",\"line\":{\"color\":\"gray\",\"width\":1},\"mode\":\"lines\",\"x\":[0.4428043432349467,1.0,null,0.4428043432349467,-0.416261822736823,null,0.4428043432349467,-0.10456801257752465,null,-0.416261822736823,-0.9219745079205992,null,-0.9219745079205992,-0.10456801257752465,null],\"y\":[-0.2354914080244218,-0.49647849223310464,null,-0.2354914080244218,-0.32591170339736997,null,-0.2354914080244218,0.7090164384250958,null,-0.32591170339736997,0.3488651652298007,null,0.3488651652298007,0.7090164384250958,null],\"type\":\"scatter\"},{\"hoverinfo\":\"text\",\"marker\":{\"color\":[\"#ff7f0e\",\"#ff7f0e\",\"#ff7f0e\",\"#1f77b4\",\"#1f77b4\"],\"line\":{\"color\":\"black\",\"width\":2},\"size\":[10.0,10,10,40.0,10]},\"mode\":\"markers+text\",\"text\":[\"500 SKYLIGHT ACCESSORIES\",\"500 BUILDING SUPPLIES OFFRANGE\",\"500 STRUCT FRAMG H1 2 KD LINKD\",\"500 ROOF WINDOWS\",\"500 CONNECTORS\"],\"textfont\":{\"color\":\"black\",\"family\":\"Arial\",\"size\":16},\"textposition\":\"top center\",\"x\":[0.4428043432349467,1.0,-0.416261822736823,-0.9219745079205992,-0.10456801257752465],\"y\":[-0.2354914080244218,-0.49647849223310464,-0.32591170339736997,0.3488651652298007,0.7090164384250958],\"type\":\"scatter\"}],                        {\"height\":800,\"hovermode\":\"closest\",\"margin\":{\"b\":20,\"l\":20,\"r\":20,\"t\":40},\"showlegend\":false,\"title\":{\"font\":{\"size\":16},\"text\":\"Louvain Product Clustering (All Edges)\",\"x\":0.5},\"width\":1200,\"xaxis\":{\"showgrid\":false,\"showticklabels\":false,\"zeroline\":false},\"yaxis\":{\"showgrid\":false,\"showticklabels\":false,\"zeroline\":false},\"template\":{\"data\":{\"histogram2dcontour\":[{\"type\":\"histogram2dcontour\",\"colorbar\":{\"outlinewidth\":0,\"ticks\":\"\"},\"colorscale\":[[0.0,\"#0d0887\"],[0.1111111111111111,\"#46039f\"],[0.2222222222222222,\"#7201a8\"],[0.3333333333333333,\"#9c179e\"],[0.4444444444444444,\"#bd3786\"],[0.5555555555555556,\"#d8576b\"],[0.6666666666666666,\"#ed7953\"],[0.7777777777777778,\"#fb9f3a\"],[0.8888888888888888,\"#fdca26\"],[1.0,\"#f0f921\"]]}],\"choropleth\":[{\"type\":\"choropleth\",\"colorbar\":{\"outlinewidth\":0,\"ticks\":\"\"}}],\"histogram2d\":[{\"type\":\"histogram2d\",\"colorbar\":{\"outlinewidth\":0,\"ticks\":\"\"},\"colorscale\":[[0.0,\"#0d0887\"],[0.1111111111111111,\"#46039f\"],[0.2222222222222222,\"#7201a8\"],[0.3333333333333333,\"#9c179e\"],[0.4444444444444444,\"#bd3786\"],[0.5555555555555556,\"#d8576b\"],[0.6666666666666666,\"#ed7953\"],[0.7777777777777778,\"#fb9f3a\"],[0.8888888888888888,\"#fdca26\"],[1.0,\"#f0f921\"]]}],\"heatmap\":[{\"type\":\"heatmap\",\"colorbar\":{\"outlinewidth\":0,\"ticks\":\"\"},\"colorscale\":[[0.0,\"#0d0887\"],[0.1111111111111111,\"#46039f\"],[0.2222222222222222,\"#7201a8\"],[0.3333333333333333,\"#9c179e\"],[0.4444444444444444,\"#bd3786\"],[0.5555555555555556,\"#d8576b\"],[0.6666666666666666,\"#ed7953\"],[0.7777777777777778,\"#fb9f3a\"],[0.8888888888888888,\"#fdca26\"],[1.0,\"#f0f921\"]]}],\"heatmapgl\":[{\"type\":\"heatmapgl\",\"colorbar\":{\"outlinewidth\":0,\"ticks\":\"\"},\"colorscale\":[[0.0,\"#0d0887\"],[0.1111111111111111,\"#46039f\"],[0.2222222222222222,\"#7201a8\"],[0.3333333333333333,\"#9c179e\"],[0.4444444444444444,\"#bd3786\"],[0.5555555555555556,\"#d8576b\"],[0.6666666666666666,\"#ed7953\"],[0.7777777777777778,\"#fb9f3a\"],[0.8888888888888888,\"#fdca26\"],[1.0,\"#f0f921\"]]}],\"contourcarpet\":[{\"type\":\"contourcarpet\",\"colorbar\":{\"outlinewidth\":0,\"ticks\":\"\"}}],\"contour\":[{\"type\":\"contour\",\"colorbar\":{\"outlinewidth\":0,\"ticks\":\"\"},\"colorscale\":[[0.0,\"#0d0887\"],[0.1111111111111111,\"#46039f\"],[0.2222222222222222,\"#7201a8\"],[0.3333333333333333,\"#9c179e\"],[0.4444444444444444,\"#bd3786\"],[0.5555555555555556,\"#d8576b\"],[0.6666666666666666,\"#ed7953\"],[0.7777777777777778,\"#fb9f3a\"],[0.8888888888888888,\"#fdca26\"],[1.0,\"#f0f921\"]]}],\"surface\":[{\"type\":\"surface\",\"colorbar\":{\"outlinewidth\":0,\"ticks\":\"\"},\"colorscale\":[[0.0,\"#0d0887\"],[0.1111111111111111,\"#46039f\"],[0.2222222222222222,\"#7201a8\"],[0.3333333333333333,\"#9c179e\"],[0.4444444444444444,\"#bd3786\"],[0.5555555555555556,\"#d8576b\"],[0.6666666666666666,\"#ed7953\"],[0.7777777777777778,\"#fb9f3a\"],[0.8888888888888888,\"#fdca26\"],[1.0,\"#f0f921\"]]}],\"mesh3d\":[{\"type\":\"mesh3d\",\"colorbar\":{\"outlinewidth\":0,\"ticks\":\"\"}}],\"scatter\":[{\"fillpattern\":{\"fillmode\":\"overlay\",\"size\":10,\"solidity\":0.2},\"type\":\"scatter\"}],\"parcoords\":[{\"type\":\"parcoords\",\"line\":{\"colorbar\":{\"outlinewidth\":0,\"ticks\":\"\"}}}],\"scatterpolargl\":[{\"type\":\"scatterpolargl\",\"marker\":{\"colorbar\":{\"outlinewidth\":0,\"ticks\":\"\"}}}],\"bar\":[{\"error_x\":{\"color\":\"#2a3f5f\"},\"error_y\":{\"color\":\"#2a3f5f\"},\"marker\":{\"line\":{\"color\":\"#E5ECF6\",\"width\":0.5},\"pattern\":{\"fillmode\":\"overlay\",\"size\":10,\"solidity\":0.2}},\"type\":\"bar\"}],\"scattergeo\":[{\"type\":\"scattergeo\",\"marker\":{\"colorbar\":{\"outlinewidth\":0,\"ticks\":\"\"}}}],\"scatterpolar\":[{\"type\":\"scatterpolar\",\"marker\":{\"colorbar\":{\"outlinewidth\":0,\"ticks\":\"\"}}}],\"histogram\":[{\"marker\":{\"pattern\":{\"fillmode\":\"overlay\",\"size\":10,\"solidity\":0.2}},\"type\":\"histogram\"}],\"scattergl\":[{\"type\":\"scattergl\",\"marker\":{\"colorbar\":{\"outlinewidth\":0,\"ticks\":\"\"}}}],\"scatter3d\":[{\"type\":\"scatter3d\",\"line\":{\"colorbar\":{\"outlinewidth\":0,\"ticks\":\"\"}},\"marker\":{\"colorbar\":{\"outlinewidth\":0,\"ticks\":\"\"}}}],\"scattermapbox\":[{\"type\":\"scattermapbox\",\"marker\":{\"colorbar\":{\"outlinewidth\":0,\"ticks\":\"\"}}}],\"scatterternary\":[{\"type\":\"scatterternary\",\"marker\":{\"colorbar\":{\"outlinewidth\":0,\"ticks\":\"\"}}}],\"scattercarpet\":[{\"type\":\"scattercarpet\",\"marker\":{\"colorbar\":{\"outlinewidth\":0,\"ticks\":\"\"}}}],\"carpet\":[{\"aaxis\":{\"endlinecolor\":\"#2a3f5f\",\"gridcolor\":\"white\",\"linecolor\":\"white\",\"minorgridcolor\":\"white\",\"startlinecolor\":\"#2a3f5f\"},\"baxis\":{\"endlinecolor\":\"#2a3f5f\",\"gridcolor\":\"white\",\"linecolor\":\"white\",\"minorgridcolor\":\"white\",\"startlinecolor\":\"#2a3f5f\"},\"type\":\"carpet\"}],\"table\":[{\"cells\":{\"fill\":{\"color\":\"#EBF0F8\"},\"line\":{\"color\":\"white\"}},\"header\":{\"fill\":{\"color\":\"#C8D4E3\"},\"line\":{\"color\":\"white\"}},\"type\":\"table\"}],\"barpolar\":[{\"marker\":{\"line\":{\"color\":\"#E5ECF6\",\"width\":0.5},\"pattern\":{\"fillmode\":\"overlay\",\"size\":10,\"solidity\":0.2}},\"type\":\"barpolar\"}],\"pie\":[{\"automargin\":true,\"type\":\"pie\"}]},\"layout\":{\"autotypenumbers\":\"strict\",\"colorway\":[\"#636efa\",\"#EF553B\",\"#00cc96\",\"#ab63fa\",\"#FFA15A\",\"#19d3f3\",\"#FF6692\",\"#B6E880\",\"#FF97FF\",\"#FECB52\"],\"font\":{\"color\":\"#2a3f5f\"},\"hovermode\":\"closest\",\"hoverlabel\":{\"align\":\"left\"},\"paper_bgcolor\":\"white\",\"plot_bgcolor\":\"#E5ECF6\",\"polar\":{\"bgcolor\":\"#E5ECF6\",\"angularaxis\":{\"gridcolor\":\"white\",\"linecolor\":\"white\",\"ticks\":\"\"},\"radialaxis\":{\"gridcolor\":\"white\",\"linecolor\":\"white\",\"ticks\":\"\"}},\"ternary\":{\"bgcolor\":\"#E5ECF6\",\"aaxis\":{\"gridcolor\":\"white\",\"linecolor\":\"white\",\"ticks\":\"\"},\"baxis\":{\"gridcolor\":\"white\",\"linecolor\":\"white\",\"ticks\":\"\"},\"caxis\":{\"gridcolor\":\"white\",\"linecolor\":\"white\",\"ticks\":\"\"}},\"coloraxis\":{\"colorbar\":{\"outlinewidth\":0,\"ticks\":\"\"}},\"colorscale\":{\"sequential\":[[0.0,\"#0d0887\"],[0.1111111111111111,\"#46039f\"],[0.2222222222222222,\"#7201a8\"],[0.3333333333333333,\"#9c179e\"],[0.4444444444444444,\"#bd3786\"],[0.5555555555555556,\"#d8576b\"],[0.6666666666666666,\"#ed7953\"],[0.7777777777777778,\"#fb9f3a\"],[0.8888888888888888,\"#fdca26\"],[1.0,\"#f0f921\"]],\"sequentialminus\":[[0.0,\"#0d0887\"],[0.1111111111111111,\"#46039f\"],[0.2222222222222222,\"#7201a8\"],[0.3333333333333333,\"#9c179e\"],[0.4444444444444444,\"#bd3786\"],[0.5555555555555556,\"#d8576b\"],[0.6666666666666666,\"#ed7953\"],[0.7777777777777778,\"#fb9f3a\"],[0.8888888888888888,\"#fdca26\"],[1.0,\"#f0f921\"]],\"diverging\":[[0,\"#8e0152\"],[0.1,\"#c51b7d\"],[0.2,\"#de77ae\"],[0.3,\"#f1b6da\"],[0.4,\"#fde0ef\"],[0.5,\"#f7f7f7\"],[0.6,\"#e6f5d0\"],[0.7,\"#b8e186\"],[0.8,\"#7fbc41\"],[0.9,\"#4d9221\"],[1,\"#276419\"]]},\"xaxis\":{\"gridcolor\":\"white\",\"linecolor\":\"white\",\"ticks\":\"\",\"title\":{\"standoff\":15},\"zerolinecolor\":\"white\",\"automargin\":true,\"zerolinewidth\":2},\"yaxis\":{\"gridcolor\":\"white\",\"linecolor\":\"white\",\"ticks\":\"\",\"title\":{\"standoff\":15},\"zerolinecolor\":\"white\",\"automargin\":true,\"zerolinewidth\":2},\"scene\":{\"xaxis\":{\"backgroundcolor\":\"#E5ECF6\",\"gridcolor\":\"white\",\"linecolor\":\"white\",\"showbackground\":true,\"ticks\":\"\",\"zerolinecolor\":\"white\",\"gridwidth\":2},\"yaxis\":{\"backgroundcolor\":\"#E5ECF6\",\"gridcolor\":\"white\",\"linecolor\":\"white\",\"showbackground\":true,\"ticks\":\"\",\"zerolinecolor\":\"white\",\"gridwidth\":2},\"zaxis\":{\"backgroundcolor\":\"#E5ECF6\",\"gridcolor\":\"white\",\"linecolor\":\"white\",\"showbackground\":true,\"ticks\":\"\",\"zerolinecolor\":\"white\",\"gridwidth\":2}},\"shapedefaults\":{\"line\":{\"color\":\"#2a3f5f\"}},\"annotationdefaults\":{\"arrowcolor\":\"#2a3f5f\",\"arrowhead\":0,\"arrowwidth\":1},\"geo\":{\"bgcolor\":\"white\",\"landcolor\":\"#E5ECF6\",\"subunitcolor\":\"white\",\"showland\":true,\"showlakes\":true,\"lakecolor\":\"white\"},\"title\":{\"x\":0.05},\"mapbox\":{\"style\":\"light\"}}}},                        {\"responsive\": true}                    ).then(function(){\n",
       "                            \n",
       "var gd = document.getElementById('7fd45f0b-7c94-4258-97be-826935bcd441');\n",
       "var x = new MutationObserver(function (mutations, observer) {{\n",
       "        var display = window.getComputedStyle(gd).display;\n",
       "        if (!display || display === 'none') {{\n",
       "            console.log([gd, 'removed!']);\n",
       "            Plotly.purge(gd);\n",
       "            observer.disconnect();\n",
       "        }}\n",
       "}});\n",
       "\n",
       "// Listen for the removal of the full notebook cells\n",
       "var notebookContainer = gd.closest('#notebook-container');\n",
       "if (notebookContainer) {{\n",
       "    x.observe(notebookContainer, {childList: true});\n",
       "}}\n",
       "\n",
       "// Listen for the clearing of the current output cell\n",
       "var outputEl = gd.closest('.output');\n",
       "if (outputEl) {{\n",
       "    x.observe(outputEl, {childList: true});\n",
       "}}\n",
       "\n",
       "                        })                };                });            </script>        </div>"
      ]
     },
     "metadata": {},
     "output_type": "display_data"
    }
   ],
   "source": [
    "fig.show()"
   ]
  },
  {
   "cell_type": "code",
   "execution_count": null,
   "metadata": {},
   "outputs": [
    {
     "data": {
      "text/html": [
       "<div>\n",
       "<style scoped>\n",
       "    .dataframe tbody tr th:only-of-type {\n",
       "        vertical-align: middle;\n",
       "    }\n",
       "\n",
       "    .dataframe tbody tr th {\n",
       "        vertical-align: top;\n",
       "    }\n",
       "\n",
       "    .dataframe thead th {\n",
       "        text-align: right;\n",
       "    }\n",
       "</style>\n",
       "<table border=\"1\" class=\"dataframe\">\n",
       "  <thead>\n",
       "    <tr style=\"text-align: right;\">\n",
       "      <th></th>\n",
       "      <th>PRIMARY_ID</th>\n",
       "      <th>PRIMARY_TRANSACTIONS</th>\n",
       "      <th>segment</th>\n",
       "    </tr>\n",
       "  </thead>\n",
       "  <tbody>\n",
       "    <tr>\n",
       "      <th>0</th>\n",
       "      <td>500 ROOF WINDOWS</td>\n",
       "      <td>772</td>\n",
       "      <td>0</td>\n",
       "    </tr>\n",
       "    <tr>\n",
       "      <th>2</th>\n",
       "      <td>500 SKYLIGHT ACCESSORIES</td>\n",
       "      <td>484</td>\n",
       "      <td>1</td>\n",
       "    </tr>\n",
       "  </tbody>\n",
       "</table>\n",
       "</div>"
      ],
      "text/plain": [
       "                 PRIMARY_ID  PRIMARY_TRANSACTIONS  segment\n",
       "0          500 ROOF WINDOWS                   772        0\n",
       "2  500 SKYLIGHT ACCESSORIES                   484        1"
      ]
     },
     "execution_count": 21,
     "metadata": {},
     "output_type": "execute_result"
    }
   ],
   "source": [
    "partition_df = pd.DataFrame.from_dict(partition, orient='index', columns=['segment']).reset_index()\n",
    "partition_df.rename(columns={'index': 'PRIMARY_ID'}, inplace=True)\n",
    "labelled_df = filtered_df.merge(partition_df, on='PRIMARY_ID', how='left')\n",
    "labelled_df = labelled_df[['PRIMARY_ID','PRIMARY_TRANSACTIONS', 'segment']].drop_duplicates()\n",
    "labelled_df.sort_values(by='segment')"
   ]
  },
  {
   "cell_type": "markdown",
   "metadata": {},
   "source": [
    "New skylight framing or structural retrofit:\n",
    "Segment 0 – Roof cutout prep and reinforcement\n",
    "\n",
    "Roof recladding or cut-in during roof works:\n",
    "Segment 1 – Mixed Site Prep, Sheathing, and Noise\n",
    "\n",
    "Full-frame integration for high-quality install:\n",
    "Segment 2 – Fibre Cement Integration & Segment 3 – Connector Framing & Timber\n",
    "\n",
    "Internal ceiling refit or thermal efficiency upgrade:\n",
    "Segment 4 – Insulation & Finishing Support"
   ]
  },
  {
   "cell_type": "code",
   "execution_count": null,
   "metadata": {},
   "outputs": [],
   "source": [
    "labelled_df.to_csv('Labelled_class_segment.csv',index=False)"
   ]
  }
 ],
 "metadata": {
  "kernelspec": {
   "display_name": "Python 3 (ipykernel)",
   "language": "python",
   "name": "python3"
  },
  "language_info": {
   "codemirror_mode": {
    "name": "ipython",
    "version": 3
   },
   "file_extension": ".py",
   "mimetype": "text/x-python",
   "name": "python",
   "nbconvert_exporter": "python",
   "pygments_lexer": "ipython3",
   "version": "3.10.18"
  }
 },
 "nbformat": 4,
 "nbformat_minor": 4
}
