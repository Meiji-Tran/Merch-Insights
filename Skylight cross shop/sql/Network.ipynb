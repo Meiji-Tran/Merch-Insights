{
 "cells": [
  {
   "cell_type": "markdown",
   "metadata": {},
   "source": [
    "# Prep"
   ]
  },
  {
   "cell_type": "code",
   "execution_count": 1,
   "metadata": {},
   "outputs": [],
   "source": [
    "# Import packages\n",
    "import pandas as pd\n",
    "import plotly.graph_objects as go\n",
    "import networkx as nx\n",
    "from ds_common_utils.aux.io.snowflake_tools import SnowflakeTools\n",
    "from math import log\n",
    "from networkx.algorithms.community import greedy_modularity_communities\n",
    "import matplotlib.pyplot as plt\n",
    "import community.community_louvain as community_louvain\n",
    "import numpy as np"
   ]
  },
  {
   "cell_type": "code",
   "execution_count": 2,
   "metadata": {},
   "outputs": [
    {
     "name": "stderr",
     "output_type": "stream",
     "text": [
      "snowflake_tools - 2025-06-20 10:41:59.076078+10:00 - Generating new token with 'INSIGHT_ANALYST_MERCH_DE_GENERAL_PRD' role and 'SESSION:ROLE-ANY' scope...\n",
      "snowflake_tools - 2025-06-20 10:42:41.151551+10:00 - Saved token with '2025-06-20 14:42:41+10:00' expiry...\n"
     ]
    }
   ],
   "source": [
    "# Get connection\n",
    "con = SnowflakeTools().get_snowflake_ctx(\n",
    "     method = 'token',\n",
    "    user = '250807',\n",
    "    role = 'INSIGHT_ANALYST_MERCH_DE_GENERAL_PRD',\n",
    "    warehouse = 'INSIGHT_ANALYST_WH'\n",
    ")\n",
    "with open('sql/item_association.sql', 'r') as query:\n",
    "        df = pd.read_sql_query(query.read(), con)\n",
    "with open('sql/excluded_class_list.sql', 'r') as query:\n",
    "        target_item_class = pd.read_sql_query(query.read(), con)"
   ]
  },
  {
   "cell_type": "markdown",
   "metadata": {},
   "source": [
    "# Explore"
   ]
  },
  {
   "cell_type": "code",
   "execution_count": 9,
   "metadata": {},
   "outputs": [
    {
     "data": {
      "text/html": [
       "<div>\n",
       "<style scoped>\n",
       "    .dataframe tbody tr th:only-of-type {\n",
       "        vertical-align: middle;\n",
       "    }\n",
       "\n",
       "    .dataframe tbody tr th {\n",
       "        vertical-align: top;\n",
       "    }\n",
       "\n",
       "    .dataframe thead th {\n",
       "        text-align: right;\n",
       "    }\n",
       "</style>\n",
       "<table border=\"1\" class=\"dataframe\">\n",
       "  <thead>\n",
       "    <tr style=\"text-align: right;\">\n",
       "      <th></th>\n",
       "      <th>SALES_YEAR</th>\n",
       "      <th>ITEM_NUMBER</th>\n",
       "      <th>ITEM_DESCRIPTION</th>\n",
       "      <th>ITEM_CLASS_NAME</th>\n",
       "      <th>TRANSACTIONS</th>\n",
       "      <th>SALES_SUM</th>\n",
       "      <th>QUANTITY_SUM</th>\n",
       "    </tr>\n",
       "  </thead>\n",
       "  <tbody>\n",
       "    <tr>\n",
       "      <th>0</th>\n",
       "      <td>2020</td>\n",
       "      <td>0823814</td>\n",
       "      <td>SKYLIGHT FIXED VELUX++780X1400MM  FSM082004A</td>\n",
       "      <td>500 ROOF WINDOWS</td>\n",
       "      <td>23</td>\n",
       "      <td>750292</td>\n",
       "      <td>1365</td>\n",
       "    </tr>\n",
       "    <tr>\n",
       "      <th>1</th>\n",
       "      <td>2020</td>\n",
       "      <td>0028402</td>\n",
       "      <td>SKYLIGHT FLAT ROOF SOLAR OPEN++665X1275MM  VCS...</td>\n",
       "      <td>500 ROOF WINDOWS</td>\n",
       "      <td>7</td>\n",
       "      <td>707584</td>\n",
       "      <td>420</td>\n",
       "    </tr>\n",
       "    <tr>\n",
       "      <th>2</th>\n",
       "      <td>2020</td>\n",
       "      <td>0823806</td>\n",
       "      <td>SKYLIGHT FIXED VELUX++780X1180MM  FSM062004A</td>\n",
       "      <td>500 ROOF WINDOWS</td>\n",
       "      <td>20</td>\n",
       "      <td>531690</td>\n",
       "      <td>1085</td>\n",
       "    </tr>\n",
       "    <tr>\n",
       "      <th>3</th>\n",
       "      <td>2020</td>\n",
       "      <td>0823791</td>\n",
       "      <td>SKYLIGHT FIXED VELUX++780X980MM  FSM042004A</td>\n",
       "      <td>500 ROOF WINDOWS</td>\n",
       "      <td>19</td>\n",
       "      <td>481119</td>\n",
       "      <td>1050</td>\n",
       "    </tr>\n",
       "    <tr>\n",
       "      <th>4</th>\n",
       "      <td>2020</td>\n",
       "      <td>0820122</td>\n",
       "      <td>SKYLIGHT FLAT ROOF VELUX++665X970MM FCM22340004AB</td>\n",
       "      <td>500 ROOF WINDOWS</td>\n",
       "      <td>16</td>\n",
       "      <td>420391</td>\n",
       "      <td>1085</td>\n",
       "    </tr>\n",
       "    <tr>\n",
       "      <th>...</th>\n",
       "      <td>...</td>\n",
       "      <td>...</td>\n",
       "      <td>...</td>\n",
       "      <td>...</td>\n",
       "      <td>...</td>\n",
       "      <td>...</td>\n",
       "      <td>...</td>\n",
       "    </tr>\n",
       "    <tr>\n",
       "      <th>684</th>\n",
       "      <td>2025</td>\n",
       "      <td>0508442</td>\n",
       "      <td>SKYLIGHT PLEATED BLIND++FIXED SKYLIGHT FS S01</td>\n",
       "      <td>500 SKYLIGHT ACCESSORIES</td>\n",
       "      <td>2</td>\n",
       "      <td>0</td>\n",
       "      <td>0</td>\n",
       "    </tr>\n",
       "    <tr>\n",
       "      <th>685</th>\n",
       "      <td>2025</td>\n",
       "      <td>0296315</td>\n",
       "      <td>VELUX FLASHING KIT++EDWSK060000</td>\n",
       "      <td>500 SKYLIGHT ACCESSORIES</td>\n",
       "      <td>2</td>\n",
       "      <td>0</td>\n",
       "      <td>0</td>\n",
       "    </tr>\n",
       "    <tr>\n",
       "      <th>686</th>\n",
       "      <td>2025</td>\n",
       "      <td>0028420</td>\n",
       "      <td>VELUX TRAY WTH BLIND++ZZZ 199 3046</td>\n",
       "      <td>500 SKYLIGHT ACCESSORIES</td>\n",
       "      <td>1</td>\n",
       "      <td>-11468</td>\n",
       "      <td>-56</td>\n",
       "    </tr>\n",
       "    <tr>\n",
       "      <th>687</th>\n",
       "      <td>2025</td>\n",
       "      <td>0138661</td>\n",
       "      <td>VELUX BLKOUT SOLAR++DSD C08 1025S</td>\n",
       "      <td>500 SKYLIGHT ACCESSORIES</td>\n",
       "      <td>1</td>\n",
       "      <td>-11948</td>\n",
       "      <td>-21</td>\n",
       "    </tr>\n",
       "    <tr>\n",
       "      <th>688</th>\n",
       "      <td>2025</td>\n",
       "      <td>0296335</td>\n",
       "      <td>VELUX FLASHING KIT++EDLMK08 0000</td>\n",
       "      <td>500 SKYLIGHT ACCESSORIES</td>\n",
       "      <td>2</td>\n",
       "      <td>-19818</td>\n",
       "      <td>-112</td>\n",
       "    </tr>\n",
       "  </tbody>\n",
       "</table>\n",
       "<p>689 rows × 7 columns</p>\n",
       "</div>"
      ],
      "text/plain": [
       "    SALES_YEAR ITEM_NUMBER                                   ITEM_DESCRIPTION  \\\n",
       "0         2020     0823814       SKYLIGHT FIXED VELUX++780X1400MM  FSM082004A   \n",
       "1         2020     0028402  SKYLIGHT FLAT ROOF SOLAR OPEN++665X1275MM  VCS...   \n",
       "2         2020     0823806       SKYLIGHT FIXED VELUX++780X1180MM  FSM062004A   \n",
       "3         2020     0823791        SKYLIGHT FIXED VELUX++780X980MM  FSM042004A   \n",
       "4         2020     0820122  SKYLIGHT FLAT ROOF VELUX++665X970MM FCM22340004AB   \n",
       "..         ...         ...                                                ...   \n",
       "684       2025     0508442      SKYLIGHT PLEATED BLIND++FIXED SKYLIGHT FS S01   \n",
       "685       2025     0296315                    VELUX FLASHING KIT++EDWSK060000   \n",
       "686       2025     0028420                 VELUX TRAY WTH BLIND++ZZZ 199 3046   \n",
       "687       2025     0138661                  VELUX BLKOUT SOLAR++DSD C08 1025S   \n",
       "688       2025     0296335                   VELUX FLASHING KIT++EDLMK08 0000   \n",
       "\n",
       "              ITEM_CLASS_NAME  TRANSACTIONS  SALES_SUM  QUANTITY_SUM  \n",
       "0            500 ROOF WINDOWS            23     750292          1365  \n",
       "1            500 ROOF WINDOWS             7     707584           420  \n",
       "2            500 ROOF WINDOWS            20     531690          1085  \n",
       "3            500 ROOF WINDOWS            19     481119          1050  \n",
       "4            500 ROOF WINDOWS            16     420391          1085  \n",
       "..                        ...           ...        ...           ...  \n",
       "684  500 SKYLIGHT ACCESSORIES             2          0             0  \n",
       "685  500 SKYLIGHT ACCESSORIES             2          0             0  \n",
       "686  500 SKYLIGHT ACCESSORIES             1     -11468           -56  \n",
       "687  500 SKYLIGHT ACCESSORIES             1     -11948           -21  \n",
       "688  500 SKYLIGHT ACCESSORIES             2     -19818          -112  \n",
       "\n",
       "[689 rows x 7 columns]"
      ]
     },
     "execution_count": 9,
     "metadata": {},
     "output_type": "execute_result"
    }
   ],
   "source": [
    "with open('sql/overview.sql', 'r') as query:\n",
    "        supplier_items = pd.read_sql_query(query.read(), con)\n",
    "supplier_items        "
   ]
  },
  {
   "cell_type": "code",
   "execution_count": 12,
   "metadata": {},
   "outputs": [
    {
     "data": {
      "text/html": [
       "<div>\n",
       "<style scoped>\n",
       "    .dataframe tbody tr th:only-of-type {\n",
       "        vertical-align: middle;\n",
       "    }\n",
       "\n",
       "    .dataframe tbody tr th {\n",
       "        vertical-align: top;\n",
       "    }\n",
       "\n",
       "    .dataframe thead th {\n",
       "        text-align: right;\n",
       "    }\n",
       "</style>\n",
       "<table border=\"1\" class=\"dataframe\">\n",
       "  <thead>\n",
       "    <tr style=\"text-align: right;\">\n",
       "      <th></th>\n",
       "      <th>SALES_YEAR</th>\n",
       "      <th>ITEM_CLASS_NAME</th>\n",
       "      <th>total_transactions</th>\n",
       "      <th>total_sales</th>\n",
       "      <th>total_quantity</th>\n",
       "      <th>item_count</th>\n",
       "    </tr>\n",
       "  </thead>\n",
       "  <tbody>\n",
       "    <tr>\n",
       "      <th>0</th>\n",
       "      <td>2020</td>\n",
       "      <td>500 ROOF WINDOWS</td>\n",
       "      <td>277</td>\n",
       "      <td>9350556</td>\n",
       "      <td>13482</td>\n",
       "      <td>48</td>\n",
       "    </tr>\n",
       "    <tr>\n",
       "      <th>1</th>\n",
       "      <td>2020</td>\n",
       "      <td>500 SKYLIGHT ACCESSORIES</td>\n",
       "      <td>194</td>\n",
       "      <td>1162715</td>\n",
       "      <td>5558</td>\n",
       "      <td>58</td>\n",
       "    </tr>\n",
       "    <tr>\n",
       "      <th>2</th>\n",
       "      <td>2021</td>\n",
       "      <td>500 ROOF WINDOWS</td>\n",
       "      <td>466</td>\n",
       "      <td>18066745</td>\n",
       "      <td>23513</td>\n",
       "      <td>50</td>\n",
       "    </tr>\n",
       "    <tr>\n",
       "      <th>3</th>\n",
       "      <td>2021</td>\n",
       "      <td>500 SKYLIGHT ACCESSORIES</td>\n",
       "      <td>368</td>\n",
       "      <td>3733848</td>\n",
       "      <td>13860</td>\n",
       "      <td>75</td>\n",
       "    </tr>\n",
       "    <tr>\n",
       "      <th>4</th>\n",
       "      <td>2022</td>\n",
       "      <td>500 ROOF WINDOWS</td>\n",
       "      <td>471</td>\n",
       "      <td>19596918</td>\n",
       "      <td>24598</td>\n",
       "      <td>56</td>\n",
       "    </tr>\n",
       "    <tr>\n",
       "      <th>5</th>\n",
       "      <td>2022</td>\n",
       "      <td>500 SKYLIGHT ACCESSORIES</td>\n",
       "      <td>291</td>\n",
       "      <td>3142363</td>\n",
       "      <td>10388</td>\n",
       "      <td>56</td>\n",
       "    </tr>\n",
       "    <tr>\n",
       "      <th>6</th>\n",
       "      <td>2023</td>\n",
       "      <td>500 ROOF WINDOWS</td>\n",
       "      <td>426</td>\n",
       "      <td>18149594</td>\n",
       "      <td>20657</td>\n",
       "      <td>52</td>\n",
       "    </tr>\n",
       "    <tr>\n",
       "      <th>7</th>\n",
       "      <td>2023</td>\n",
       "      <td>500 SKYLIGHT ACCESSORIES</td>\n",
       "      <td>247</td>\n",
       "      <td>2992703</td>\n",
       "      <td>8134</td>\n",
       "      <td>67</td>\n",
       "    </tr>\n",
       "    <tr>\n",
       "      <th>8</th>\n",
       "      <td>2024</td>\n",
       "      <td>500 ROOF WINDOWS</td>\n",
       "      <td>476</td>\n",
       "      <td>23295097</td>\n",
       "      <td>25326</td>\n",
       "      <td>54</td>\n",
       "    </tr>\n",
       "    <tr>\n",
       "      <th>9</th>\n",
       "      <td>2024</td>\n",
       "      <td>500 SKYLIGHT ACCESSORIES</td>\n",
       "      <td>326</td>\n",
       "      <td>4258881</td>\n",
       "      <td>12012</td>\n",
       "      <td>74</td>\n",
       "    </tr>\n",
       "    <tr>\n",
       "      <th>10</th>\n",
       "      <td>2025</td>\n",
       "      <td>500 ROOF WINDOWS</td>\n",
       "      <td>242</td>\n",
       "      <td>10807957</td>\n",
       "      <td>11753</td>\n",
       "      <td>49</td>\n",
       "    </tr>\n",
       "    <tr>\n",
       "      <th>11</th>\n",
       "      <td>2025</td>\n",
       "      <td>500 SKYLIGHT ACCESSORIES</td>\n",
       "      <td>137</td>\n",
       "      <td>1613915</td>\n",
       "      <td>4704</td>\n",
       "      <td>50</td>\n",
       "    </tr>\n",
       "  </tbody>\n",
       "</table>\n",
       "</div>"
      ],
      "text/plain": [
       "   SALES_YEAR           ITEM_CLASS_NAME  total_transactions  total_sales  \\\n",
       "0        2020          500 ROOF WINDOWS                 277      9350556   \n",
       "1        2020  500 SKYLIGHT ACCESSORIES                 194      1162715   \n",
       "2        2021          500 ROOF WINDOWS                 466     18066745   \n",
       "3        2021  500 SKYLIGHT ACCESSORIES                 368      3733848   \n",
       "4        2022          500 ROOF WINDOWS                 471     19596918   \n",
       "5        2022  500 SKYLIGHT ACCESSORIES                 291      3142363   \n",
       "6        2023          500 ROOF WINDOWS                 426     18149594   \n",
       "7        2023  500 SKYLIGHT ACCESSORIES                 247      2992703   \n",
       "8        2024          500 ROOF WINDOWS                 476     23295097   \n",
       "9        2024  500 SKYLIGHT ACCESSORIES                 326      4258881   \n",
       "10       2025          500 ROOF WINDOWS                 242     10807957   \n",
       "11       2025  500 SKYLIGHT ACCESSORIES                 137      1613915   \n",
       "\n",
       "    total_quantity  item_count  \n",
       "0            13482          48  \n",
       "1             5558          58  \n",
       "2            23513          50  \n",
       "3            13860          75  \n",
       "4            24598          56  \n",
       "5            10388          56  \n",
       "6            20657          52  \n",
       "7             8134          67  \n",
       "8            25326          54  \n",
       "9            12012          74  \n",
       "10           11753          49  \n",
       "11            4704          50  "
      ]
     },
     "execution_count": 12,
     "metadata": {},
     "output_type": "execute_result"
    }
   ],
   "source": [
    "supplier_items.groupby(['SALES_YEAR', 'ITEM_CLASS_NAME']).agg(\n",
    "        total_transactions=('TRANSACTIONS', 'sum'),\n",
    "        total_sales=('SALES_SUM', 'sum'),\n",
    "        total_quantity=('QUANTITY_SUM', 'sum'),\n",
    "        item_count=('ITEM_NUMBER', 'nunique')\n",
    "    ).reset_index()"
   ]
  },
  {
   "cell_type": "markdown",
   "metadata": {},
   "source": [
    "5year: 4K transactions, $116M sales, 174k quantity, 179 items."
   ]
  },
  {
   "cell_type": "code",
   "execution_count": 20,
   "metadata": {},
   "outputs": [
    {
     "data": {
      "image/png": "[encoded data removed]",
      "text/plain": [
       "<Figure size 1000x1000 with 6 Axes>"
      ]
     },
     "metadata": {},
     "output_type": "display_data"
    }
   ],
   "source": [
    "# Plot histograms of numerical columns\n",
    "numeric_cols = df.select_dtypes(include='number').columns\n",
    "df[numeric_cols].hist(bins=50, figsize=(10, 10), layout=(3, 2))\n",
    "plt.tight_layout()\n",
    "plt.show()"
   ]
  },
  {
   "cell_type": "markdown",
   "metadata": {},
   "source": [
    "Heavily right-skewed; majority transaction counts are 1–5.\n",
    "\n",
    "JACCARD: Bimodal - many near 0, many at 1, suggesting that some items only ever appear together (false high Jaccard).\n",
    "\n",
    "LIFT: Spread out - many between 1–30, spike around 45+. Large lift often means secondary item is rare."
   ]
  },
  {
   "cell_type": "markdown",
   "metadata": {},
   "source": [
    "# Co-purchase classes with VELUX products"
   ]
  },
  {
   "cell_type": "markdown",
   "metadata": {},
   "source": [
    "## Parameter tuning"
   ]
  },
  {
   "cell_type": "code",
   "execution_count": 229,
   "metadata": {},
   "outputs": [],
   "source": [
    "TRX_THRESHOLD = 2 # Min N frequent pairs\n",
    "QUANTILE = 0.7 # Nth percentile of metric similarity\n",
    "TOP_N = 20 # top-N associated item classes per primary class\n",
    "RESO = 1 # >1.0 → more, smaller communities\n",
    "METRIC = 'JACCARD' # LIFT or JACCARD"
   ]
  },
  {
   "cell_type": "markdown",
   "metadata": {},
   "source": [
    "## Working"
   ]
  },
  {
   "cell_type": "code",
   "execution_count": 230,
   "metadata": {},
   "outputs": [],
   "source": [
    "filtered_df = df[\n",
    "    df['PRIMARY_ID'].isin(target_item_class['ITEM_CLASS_NAME']) &\n",
    "    ~df['SECONDARY_ID'].isin(target_item_class['ITEM_CLASS_NAME'])\n",
    "]\n",
    "\n",
    "filtered_df = filtered_df[filtered_df['PAIR_TRANSACTIONS'] >= TRX_THRESHOLD]\n",
    "threshold = filtered_df[METRIC].quantile(QUANTILE)\n",
    "filtered_df = filtered_df[filtered_df[METRIC] >= threshold]\n",
    "top_edges = filtered_df.sort_values(METRIC, ascending=False).groupby('PRIMARY_ID').head(TOP_N)"
   ]
  },
  {
   "cell_type": "code",
   "execution_count": 231,
   "metadata": {},
   "outputs": [
    {
     "data": {
      "text/html": [
       "<div>\n",
       "<style scoped>\n",
       "    .dataframe tbody tr th:only-of-type {\n",
       "        vertical-align: middle;\n",
       "    }\n",
       "\n",
       "    .dataframe tbody tr th {\n",
       "        vertical-align: top;\n",
       "    }\n",
       "\n",
       "    .dataframe thead th {\n",
       "        text-align: right;\n",
       "    }\n",
       "</style>\n",
       "<table border=\"1\" class=\"dataframe\">\n",
       "  <thead>\n",
       "    <tr style=\"text-align: right;\">\n",
       "      <th></th>\n",
       "      <th>PRIMARY_ID</th>\n",
       "      <th>SECONDARY_ID</th>\n",
       "      <th>PRIMARY_TRANSACTIONS</th>\n",
       "      <th>SECONDARY_TRANSACTIONS</th>\n",
       "      <th>TRX_START_MONTH</th>\n",
       "      <th>TRX_END_MONTH</th>\n",
       "      <th>PAIR_TRANSACTIONS</th>\n",
       "      <th>LIFT</th>\n",
       "      <th>JACCARD</th>\n",
       "    </tr>\n",
       "  </thead>\n",
       "  <tbody>\n",
       "    <tr>\n",
       "      <th>2435</th>\n",
       "      <td>500 ROOF WINDOWS</td>\n",
       "      <td>500 BUILDING SUPPLIES OFFRANGE</td>\n",
       "      <td>1867</td>\n",
       "      <td>64</td>\n",
       "      <td>2020-07-01</td>\n",
       "      <td>2025-05-01</td>\n",
       "      <td>27</td>\n",
       "      <td>0.574853</td>\n",
       "      <td>0.014181</td>\n",
       "    </tr>\n",
       "    <tr>\n",
       "      <th>2533</th>\n",
       "      <td>500 ROOF WINDOWS</td>\n",
       "      <td>500 STRUCTURAL FRAMING H1 2 KD</td>\n",
       "      <td>1867</td>\n",
       "      <td>36</td>\n",
       "      <td>2020-07-01</td>\n",
       "      <td>2024-05-01</td>\n",
       "      <td>23</td>\n",
       "      <td>0.870559</td>\n",
       "      <td>0.012234</td>\n",
       "    </tr>\n",
       "    <tr>\n",
       "      <th>2443</th>\n",
       "      <td>500 ROOF WINDOWS</td>\n",
       "      <td>500 CONNECTORS</td>\n",
       "      <td>1867</td>\n",
       "      <td>27</td>\n",
       "      <td>2020-07-01</td>\n",
       "      <td>2025-05-01</td>\n",
       "      <td>22</td>\n",
       "      <td>1.110278</td>\n",
       "      <td>0.011752</td>\n",
       "    </tr>\n",
       "    <tr>\n",
       "      <th>2775</th>\n",
       "      <td>500 SKYLIGHT ACCESSORIES</td>\n",
       "      <td>500 BUILDING SUPPLIES OFFRANGE</td>\n",
       "      <td>1186</td>\n",
       "      <td>64</td>\n",
       "      <td>2020-08-01</td>\n",
       "      <td>2025-05-01</td>\n",
       "      <td>19</td>\n",
       "      <td>0.636804</td>\n",
       "      <td>0.015435</td>\n",
       "    </tr>\n",
       "    <tr>\n",
       "      <th>2486</th>\n",
       "      <td>500 ROOF WINDOWS</td>\n",
       "      <td>500 NON STRUCT TRTD PINE GAUGE</td>\n",
       "      <td>1867</td>\n",
       "      <td>24</td>\n",
       "      <td>2020-09-01</td>\n",
       "      <td>2025-03-01</td>\n",
       "      <td>18</td>\n",
       "      <td>1.021960</td>\n",
       "      <td>0.009610</td>\n",
       "    </tr>\n",
       "    <tr>\n",
       "      <th>2436</th>\n",
       "      <td>500 ROOF WINDOWS</td>\n",
       "      <td>500 BUILDING WRAP</td>\n",
       "      <td>1867</td>\n",
       "      <td>34</td>\n",
       "      <td>2021-03-01</td>\n",
       "      <td>2025-05-01</td>\n",
       "      <td>16</td>\n",
       "      <td>0.641230</td>\n",
       "      <td>0.008488</td>\n",
       "    </tr>\n",
       "    <tr>\n",
       "      <th>2558</th>\n",
       "      <td>500 ROOF WINDOWS</td>\n",
       "      <td>501 HM FURNISHINGS OFFRANGE</td>\n",
       "      <td>1867</td>\n",
       "      <td>21</td>\n",
       "      <td>2021-10-01</td>\n",
       "      <td>2025-05-01</td>\n",
       "      <td>16</td>\n",
       "      <td>1.038182</td>\n",
       "      <td>0.008547</td>\n",
       "    </tr>\n",
       "    <tr>\n",
       "      <th>2515</th>\n",
       "      <td>500 ROOF WINDOWS</td>\n",
       "      <td>500 PLYWOOD SHEETS</td>\n",
       "      <td>1867</td>\n",
       "      <td>19</td>\n",
       "      <td>2021-07-01</td>\n",
       "      <td>2025-05-01</td>\n",
       "      <td>15</td>\n",
       "      <td>1.075748</td>\n",
       "      <td>0.008017</td>\n",
       "    </tr>\n",
       "    <tr>\n",
       "      <th>2434</th>\n",
       "      <td>500 ROOF WINDOWS</td>\n",
       "      <td>500 BUILDING MATERIALS OFFRANG</td>\n",
       "      <td>1867</td>\n",
       "      <td>28</td>\n",
       "      <td>2021-03-01</td>\n",
       "      <td>2024-05-01</td>\n",
       "      <td>14</td>\n",
       "      <td>0.681307</td>\n",
       "      <td>0.007443</td>\n",
       "    </tr>\n",
       "    <tr>\n",
       "      <th>2462</th>\n",
       "      <td>500 ROOF WINDOWS</td>\n",
       "      <td>500 FIBRE CEMENT SHEETING ACC</td>\n",
       "      <td>1867</td>\n",
       "      <td>20</td>\n",
       "      <td>2020-12-01</td>\n",
       "      <td>2025-05-01</td>\n",
       "      <td>14</td>\n",
       "      <td>0.953830</td>\n",
       "      <td>0.007475</td>\n",
       "    </tr>\n",
       "    <tr>\n",
       "      <th>2440</th>\n",
       "      <td>500 ROOF WINDOWS</td>\n",
       "      <td>500 COLLATED NAILS</td>\n",
       "      <td>1867</td>\n",
       "      <td>17</td>\n",
       "      <td>2021-06-01</td>\n",
       "      <td>2025-05-01</td>\n",
       "      <td>11</td>\n",
       "      <td>0.881691</td>\n",
       "      <td>0.005873</td>\n",
       "    </tr>\n",
       "    <tr>\n",
       "      <th>2535</th>\n",
       "      <td>500 ROOF WINDOWS</td>\n",
       "      <td>500 STRUCTURAL FRAMING H3 2 KD</td>\n",
       "      <td>1867</td>\n",
       "      <td>12</td>\n",
       "      <td>2020-07-01</td>\n",
       "      <td>2024-02-01</td>\n",
       "      <td>11</td>\n",
       "      <td>1.249063</td>\n",
       "      <td>0.005889</td>\n",
       "    </tr>\n",
       "    <tr>\n",
       "      <th>2547</th>\n",
       "      <td>500 ROOF WINDOWS</td>\n",
       "      <td>501 BATTEN</td>\n",
       "      <td>1867</td>\n",
       "      <td>14</td>\n",
       "      <td>2021-03-01</td>\n",
       "      <td>2025-03-01</td>\n",
       "      <td>11</td>\n",
       "      <td>1.070625</td>\n",
       "      <td>0.005882</td>\n",
       "    </tr>\n",
       "    <tr>\n",
       "      <th>2490</th>\n",
       "      <td>500 ROOF WINDOWS</td>\n",
       "      <td>500 PAINT ADHESIVES</td>\n",
       "      <td>1867</td>\n",
       "      <td>16</td>\n",
       "      <td>2020-09-01</td>\n",
       "      <td>2025-03-01</td>\n",
       "      <td>11</td>\n",
       "      <td>0.936797</td>\n",
       "      <td>0.005876</td>\n",
       "    </tr>\n",
       "    <tr>\n",
       "      <th>2774</th>\n",
       "      <td>500 SKYLIGHT ACCESSORIES</td>\n",
       "      <td>500 BUILDING MATERIALS OFFRANG</td>\n",
       "      <td>1186</td>\n",
       "      <td>28</td>\n",
       "      <td>2021-03-01</td>\n",
       "      <td>2024-02-01</td>\n",
       "      <td>10</td>\n",
       "      <td>0.766080</td>\n",
       "      <td>0.008306</td>\n",
       "    </tr>\n",
       "    <tr>\n",
       "      <th>2591</th>\n",
       "      <td>500 ROOF WINDOWS</td>\n",
       "      <td>PALLETS NZ C</td>\n",
       "      <td>1867</td>\n",
       "      <td>11</td>\n",
       "      <td>2021-07-01</td>\n",
       "      <td>2024-04-01</td>\n",
       "      <td>9</td>\n",
       "      <td>1.114866</td>\n",
       "      <td>0.004815</td>\n",
       "    </tr>\n",
       "    <tr>\n",
       "      <th>2544</th>\n",
       "      <td>500 ROOF WINDOWS</td>\n",
       "      <td>500 WEATHERBOARDS</td>\n",
       "      <td>1867</td>\n",
       "      <td>13</td>\n",
       "      <td>2021-06-01</td>\n",
       "      <td>2025-03-01</td>\n",
       "      <td>9</td>\n",
       "      <td>0.943348</td>\n",
       "      <td>0.004810</td>\n",
       "    </tr>\n",
       "    <tr>\n",
       "      <th>2851</th>\n",
       "      <td>500 SKYLIGHT ACCESSORIES</td>\n",
       "      <td>500 STRUCTURAL FRAMING H1 2 KD</td>\n",
       "      <td>1186</td>\n",
       "      <td>36</td>\n",
       "      <td>2020-07-01</td>\n",
       "      <td>2023-02-01</td>\n",
       "      <td>9</td>\n",
       "      <td>0.536256</td>\n",
       "      <td>0.007420</td>\n",
       "    </tr>\n",
       "    <tr>\n",
       "      <th>2457</th>\n",
       "      <td>500 ROOF WINDOWS</td>\n",
       "      <td>500 FASCIA</td>\n",
       "      <td>1867</td>\n",
       "      <td>11</td>\n",
       "      <td>2021-03-01</td>\n",
       "      <td>2024-02-01</td>\n",
       "      <td>9</td>\n",
       "      <td>1.114866</td>\n",
       "      <td>0.004815</td>\n",
       "    </tr>\n",
       "    <tr>\n",
       "      <th>2878</th>\n",
       "      <td>500 SKYLIGHT ACCESSORIES</td>\n",
       "      <td>501 HM FURNISHINGS OFFRANGE</td>\n",
       "      <td>1186</td>\n",
       "      <td>21</td>\n",
       "      <td>2023-01-01</td>\n",
       "      <td>2025-06-01</td>\n",
       "      <td>9</td>\n",
       "      <td>0.919297</td>\n",
       "      <td>0.007513</td>\n",
       "    </tr>\n",
       "    <tr>\n",
       "      <th>2816</th>\n",
       "      <td>500 SKYLIGHT ACCESSORIES</td>\n",
       "      <td>500 NON STRUCT TRTD PINE GAUGE</td>\n",
       "      <td>1186</td>\n",
       "      <td>24</td>\n",
       "      <td>2020-08-01</td>\n",
       "      <td>2024-06-01</td>\n",
       "      <td>8</td>\n",
       "      <td>0.715008</td>\n",
       "      <td>0.006656</td>\n",
       "    </tr>\n",
       "    <tr>\n",
       "      <th>2433</th>\n",
       "      <td>500 ROOF WINDOWS</td>\n",
       "      <td>500 BUILDING BRACKETS</td>\n",
       "      <td>1867</td>\n",
       "      <td>11</td>\n",
       "      <td>2021-06-01</td>\n",
       "      <td>2025-05-01</td>\n",
       "      <td>8</td>\n",
       "      <td>0.990992</td>\n",
       "      <td>0.004278</td>\n",
       "    </tr>\n",
       "    <tr>\n",
       "      <th>2543</th>\n",
       "      <td>500 ROOF WINDOWS</td>\n",
       "      <td>500 TIMBER WEATHERBOARDS</td>\n",
       "      <td>1867</td>\n",
       "      <td>10</td>\n",
       "      <td>2021-06-01</td>\n",
       "      <td>2025-05-01</td>\n",
       "      <td>8</td>\n",
       "      <td>1.090091</td>\n",
       "      <td>0.004280</td>\n",
       "    </tr>\n",
       "    <tr>\n",
       "      <th>2461</th>\n",
       "      <td>500 ROOF WINDOWS</td>\n",
       "      <td>500 FIBRE CEMENT EAVE LINING</td>\n",
       "      <td>1867</td>\n",
       "      <td>11</td>\n",
       "      <td>2021-03-01</td>\n",
       "      <td>2025-02-01</td>\n",
       "      <td>8</td>\n",
       "      <td>0.990992</td>\n",
       "      <td>0.004278</td>\n",
       "    </tr>\n",
       "    <tr>\n",
       "      <th>2467</th>\n",
       "      <td>500 ROOF WINDOWS</td>\n",
       "      <td>500 GLASSWOOL INSULATION BATTS</td>\n",
       "      <td>1867</td>\n",
       "      <td>9</td>\n",
       "      <td>2020-09-01</td>\n",
       "      <td>2025-05-01</td>\n",
       "      <td>8</td>\n",
       "      <td>1.211212</td>\n",
       "      <td>0.004283</td>\n",
       "    </tr>\n",
       "    <tr>\n",
       "      <th>2471</th>\n",
       "      <td>500 ROOF WINDOWS</td>\n",
       "      <td>500 HOME AND SAFETY OFF RANGE</td>\n",
       "      <td>1867</td>\n",
       "      <td>9</td>\n",
       "      <td>2020-08-01</td>\n",
       "      <td>2024-09-01</td>\n",
       "      <td>7</td>\n",
       "      <td>1.059811</td>\n",
       "      <td>0.003745</td>\n",
       "    </tr>\n",
       "    <tr>\n",
       "      <th>2786</th>\n",
       "      <td>500 SKYLIGHT ACCESSORIES</td>\n",
       "      <td>500 CONNECTORS</td>\n",
       "      <td>1186</td>\n",
       "      <td>27</td>\n",
       "      <td>2020-09-01</td>\n",
       "      <td>2025-05-01</td>\n",
       "      <td>7</td>\n",
       "      <td>0.556118</td>\n",
       "      <td>0.005804</td>\n",
       "    </tr>\n",
       "    <tr>\n",
       "      <th>2531</th>\n",
       "      <td>500 ROOF WINDOWS</td>\n",
       "      <td>500 STRUCT FRAMG H1 2 KD LINKD</td>\n",
       "      <td>1867</td>\n",
       "      <td>12</td>\n",
       "      <td>2024-08-01</td>\n",
       "      <td>2025-05-01</td>\n",
       "      <td>7</td>\n",
       "      <td>0.794858</td>\n",
       "      <td>0.003739</td>\n",
       "    </tr>\n",
       "    <tr>\n",
       "      <th>2508</th>\n",
       "      <td>500 ROOF WINDOWS</td>\n",
       "      <td>500 PLASTER CLADDING</td>\n",
       "      <td>1867</td>\n",
       "      <td>9</td>\n",
       "      <td>2020-09-01</td>\n",
       "      <td>2025-03-01</td>\n",
       "      <td>7</td>\n",
       "      <td>1.059811</td>\n",
       "      <td>0.003745</td>\n",
       "    </tr>\n",
       "    <tr>\n",
       "      <th>2451</th>\n",
       "      <td>500 ROOF WINDOWS</td>\n",
       "      <td>500 EXT CLADDING PLAIN</td>\n",
       "      <td>1867</td>\n",
       "      <td>9</td>\n",
       "      <td>2021-11-01</td>\n",
       "      <td>2025-02-01</td>\n",
       "      <td>7</td>\n",
       "      <td>1.059811</td>\n",
       "      <td>0.003745</td>\n",
       "    </tr>\n",
       "    <tr>\n",
       "      <th>2776</th>\n",
       "      <td>500 SKYLIGHT ACCESSORIES</td>\n",
       "      <td>500 BUILDING WRAP</td>\n",
       "      <td>1186</td>\n",
       "      <td>34</td>\n",
       "      <td>2020-08-01</td>\n",
       "      <td>2025-05-01</td>\n",
       "      <td>6</td>\n",
       "      <td>0.378534</td>\n",
       "      <td>0.004942</td>\n",
       "    </tr>\n",
       "    <tr>\n",
       "      <th>2782</th>\n",
       "      <td>500 SKYLIGHT ACCESSORIES</td>\n",
       "      <td>500 COLLATED NAILS</td>\n",
       "      <td>1186</td>\n",
       "      <td>17</td>\n",
       "      <td>2020-10-01</td>\n",
       "      <td>2025-06-01</td>\n",
       "      <td>6</td>\n",
       "      <td>0.757068</td>\n",
       "      <td>0.005013</td>\n",
       "    </tr>\n",
       "    <tr>\n",
       "      <th>2790</th>\n",
       "      <td>500 SKYLIGHT ACCESSORIES</td>\n",
       "      <td>500 EXT CLADDING PLAIN</td>\n",
       "      <td>1186</td>\n",
       "      <td>9</td>\n",
       "      <td>2022-03-01</td>\n",
       "      <td>2025-02-01</td>\n",
       "      <td>6</td>\n",
       "      <td>1.430017</td>\n",
       "      <td>0.005046</td>\n",
       "    </tr>\n",
       "    <tr>\n",
       "      <th>2798</th>\n",
       "      <td>500 SKYLIGHT ACCESSORIES</td>\n",
       "      <td>500 FIBRE CEMENT SHEETING ACC</td>\n",
       "      <td>1186</td>\n",
       "      <td>20</td>\n",
       "      <td>2020-08-01</td>\n",
       "      <td>2025-05-01</td>\n",
       "      <td>6</td>\n",
       "      <td>0.643508</td>\n",
       "      <td>0.005000</td>\n",
       "    </tr>\n",
       "    <tr>\n",
       "      <th>2833</th>\n",
       "      <td>500 SKYLIGHT ACCESSORIES</td>\n",
       "      <td>500 PLYWOOD SHEETS</td>\n",
       "      <td>1186</td>\n",
       "      <td>19</td>\n",
       "      <td>2021-03-01</td>\n",
       "      <td>2025-05-01</td>\n",
       "      <td>6</td>\n",
       "      <td>0.677376</td>\n",
       "      <td>0.005004</td>\n",
       "    </tr>\n",
       "    <tr>\n",
       "      <th>2848</th>\n",
       "      <td>500 SKYLIGHT ACCESSORIES</td>\n",
       "      <td>500 STRUCT FRAMG H1 2 KD LINKD</td>\n",
       "      <td>1186</td>\n",
       "      <td>12</td>\n",
       "      <td>2024-07-01</td>\n",
       "      <td>2025-05-01</td>\n",
       "      <td>6</td>\n",
       "      <td>1.072513</td>\n",
       "      <td>0.005034</td>\n",
       "    </tr>\n",
       "    <tr>\n",
       "      <th>2859</th>\n",
       "      <td>500 SKYLIGHT ACCESSORIES</td>\n",
       "      <td>500 TIMBER WEATHERBOARDS</td>\n",
       "      <td>1186</td>\n",
       "      <td>10</td>\n",
       "      <td>2021-03-01</td>\n",
       "      <td>2025-05-01</td>\n",
       "      <td>6</td>\n",
       "      <td>1.287015</td>\n",
       "      <td>0.005042</td>\n",
       "    </tr>\n",
       "    <tr>\n",
       "      <th>2823</th>\n",
       "      <td>500 SKYLIGHT ACCESSORIES</td>\n",
       "      <td>500 PAINT SILICONES</td>\n",
       "      <td>1186</td>\n",
       "      <td>7</td>\n",
       "      <td>2020-08-01</td>\n",
       "      <td>2025-05-01</td>\n",
       "      <td>5</td>\n",
       "      <td>1.532161</td>\n",
       "      <td>0.004209</td>\n",
       "    </tr>\n",
       "    <tr>\n",
       "      <th>2829</th>\n",
       "      <td>500 SKYLIGHT ACCESSORIES</td>\n",
       "      <td>500 PLASTER CLADDING</td>\n",
       "      <td>1186</td>\n",
       "      <td>9</td>\n",
       "      <td>2020-09-01</td>\n",
       "      <td>2024-10-01</td>\n",
       "      <td>5</td>\n",
       "      <td>1.191681</td>\n",
       "      <td>0.004202</td>\n",
       "    </tr>\n",
       "    <tr>\n",
       "      <th>2924</th>\n",
       "      <td>500 SKYLIGHT ACCESSORIES</td>\n",
       "      <td>OTHER DEPARMENT OFFRANGE C</td>\n",
       "      <td>1186</td>\n",
       "      <td>6</td>\n",
       "      <td>2021-06-01</td>\n",
       "      <td>2025-06-01</td>\n",
       "      <td>5</td>\n",
       "      <td>1.787521</td>\n",
       "      <td>0.004212</td>\n",
       "    </tr>\n",
       "  </tbody>\n",
       "</table>\n",
       "</div>"
      ],
      "text/plain": [
       "                    PRIMARY_ID                    SECONDARY_ID  \\\n",
       "2435          500 ROOF WINDOWS  500 BUILDING SUPPLIES OFFRANGE   \n",
       "2533          500 ROOF WINDOWS  500 STRUCTURAL FRAMING H1 2 KD   \n",
       "2443          500 ROOF WINDOWS                  500 CONNECTORS   \n",
       "2775  500 SKYLIGHT ACCESSORIES  500 BUILDING SUPPLIES OFFRANGE   \n",
       "2486          500 ROOF WINDOWS  500 NON STRUCT TRTD PINE GAUGE   \n",
       "2436          500 ROOF WINDOWS               500 BUILDING WRAP   \n",
       "2558          500 ROOF WINDOWS     501 HM FURNISHINGS OFFRANGE   \n",
       "2515          500 ROOF WINDOWS              500 PLYWOOD SHEETS   \n",
       "2434          500 ROOF WINDOWS  500 BUILDING MATERIALS OFFRANG   \n",
       "2462          500 ROOF WINDOWS   500 FIBRE CEMENT SHEETING ACC   \n",
       "2440          500 ROOF WINDOWS              500 COLLATED NAILS   \n",
       "2535          500 ROOF WINDOWS  500 STRUCTURAL FRAMING H3 2 KD   \n",
       "2547          500 ROOF WINDOWS                      501 BATTEN   \n",
       "2490          500 ROOF WINDOWS             500 PAINT ADHESIVES   \n",
       "2774  500 SKYLIGHT ACCESSORIES  500 BUILDING MATERIALS OFFRANG   \n",
       "2591          500 ROOF WINDOWS                    PALLETS NZ C   \n",
       "2544          500 ROOF WINDOWS               500 WEATHERBOARDS   \n",
       "2851  500 SKYLIGHT ACCESSORIES  500 STRUCTURAL FRAMING H1 2 KD   \n",
       "2457          500 ROOF WINDOWS                      500 FASCIA   \n",
       "2878  500 SKYLIGHT ACCESSORIES     501 HM FURNISHINGS OFFRANGE   \n",
       "2816  500 SKYLIGHT ACCESSORIES  500 NON STRUCT TRTD PINE GAUGE   \n",
       "2433          500 ROOF WINDOWS           500 BUILDING BRACKETS   \n",
       "2543          500 ROOF WINDOWS        500 TIMBER WEATHERBOARDS   \n",
       "2461          500 ROOF WINDOWS    500 FIBRE CEMENT EAVE LINING   \n",
       "2467          500 ROOF WINDOWS  500 GLASSWOOL INSULATION BATTS   \n",
       "2471          500 ROOF WINDOWS   500 HOME AND SAFETY OFF RANGE   \n",
       "2786  500 SKYLIGHT ACCESSORIES                  500 CONNECTORS   \n",
       "2531          500 ROOF WINDOWS  500 STRUCT FRAMG H1 2 KD LINKD   \n",
       "2508          500 ROOF WINDOWS            500 PLASTER CLADDING   \n",
       "2451          500 ROOF WINDOWS          500 EXT CLADDING PLAIN   \n",
       "2776  500 SKYLIGHT ACCESSORIES               500 BUILDING WRAP   \n",
       "2782  500 SKYLIGHT ACCESSORIES              500 COLLATED NAILS   \n",
       "2790  500 SKYLIGHT ACCESSORIES          500 EXT CLADDING PLAIN   \n",
       "2798  500 SKYLIGHT ACCESSORIES   500 FIBRE CEMENT SHEETING ACC   \n",
       "2833  500 SKYLIGHT ACCESSORIES              500 PLYWOOD SHEETS   \n",
       "2848  500 SKYLIGHT ACCESSORIES  500 STRUCT FRAMG H1 2 KD LINKD   \n",
       "2859  500 SKYLIGHT ACCESSORIES        500 TIMBER WEATHERBOARDS   \n",
       "2823  500 SKYLIGHT ACCESSORIES             500 PAINT SILICONES   \n",
       "2829  500 SKYLIGHT ACCESSORIES            500 PLASTER CLADDING   \n",
       "2924  500 SKYLIGHT ACCESSORIES      OTHER DEPARMENT OFFRANGE C   \n",
       "\n",
       "      PRIMARY_TRANSACTIONS  SECONDARY_TRANSACTIONS TRX_START_MONTH  \\\n",
       "2435                  1867                      64      2020-07-01   \n",
       "2533                  1867                      36      2020-07-01   \n",
       "2443                  1867                      27      2020-07-01   \n",
       "2775                  1186                      64      2020-08-01   \n",
       "2486                  1867                      24      2020-09-01   \n",
       "2436                  1867                      34      2021-03-01   \n",
       "2558                  1867                      21      2021-10-01   \n",
       "2515                  1867                      19      2021-07-01   \n",
       "2434                  1867                      28      2021-03-01   \n",
       "2462                  1867                      20      2020-12-01   \n",
       "2440                  1867                      17      2021-06-01   \n",
       "2535                  1867                      12      2020-07-01   \n",
       "2547                  1867                      14      2021-03-01   \n",
       "2490                  1867                      16      2020-09-01   \n",
       "2774                  1186                      28      2021-03-01   \n",
       "2591                  1867                      11      2021-07-01   \n",
       "2544                  1867                      13      2021-06-01   \n",
       "2851                  1186                      36      2020-07-01   \n",
       "2457                  1867                      11      2021-03-01   \n",
       "2878                  1186                      21      2023-01-01   \n",
       "2816                  1186                      24      2020-08-01   \n",
       "2433                  1867                      11      2021-06-01   \n",
       "2543                  1867                      10      2021-06-01   \n",
       "2461                  1867                      11      2021-03-01   \n",
       "2467                  1867                       9      2020-09-01   \n",
       "2471                  1867                       9      2020-08-01   \n",
       "2786                  1186                      27      2020-09-01   \n",
       "2531                  1867                      12      2024-08-01   \n",
       "2508                  1867                       9      2020-09-01   \n",
       "2451                  1867                       9      2021-11-01   \n",
       "2776                  1186                      34      2020-08-01   \n",
       "2782                  1186                      17      2020-10-01   \n",
       "2790                  1186                       9      2022-03-01   \n",
       "2798                  1186                      20      2020-08-01   \n",
       "2833                  1186                      19      2021-03-01   \n",
       "2848                  1186                      12      2024-07-01   \n",
       "2859                  1186                      10      2021-03-01   \n",
       "2823                  1186                       7      2020-08-01   \n",
       "2829                  1186                       9      2020-09-01   \n",
       "2924                  1186                       6      2021-06-01   \n",
       "\n",
       "     TRX_END_MONTH  PAIR_TRANSACTIONS      LIFT   JACCARD  \n",
       "2435    2025-05-01                 27  0.574853  0.014181  \n",
       "2533    2024-05-01                 23  0.870559  0.012234  \n",
       "2443    2025-05-01                 22  1.110278  0.011752  \n",
       "2775    2025-05-01                 19  0.636804  0.015435  \n",
       "2486    2025-03-01                 18  1.021960  0.009610  \n",
       "2436    2025-05-01                 16  0.641230  0.008488  \n",
       "2558    2025-05-01                 16  1.038182  0.008547  \n",
       "2515    2025-05-01                 15  1.075748  0.008017  \n",
       "2434    2024-05-01                 14  0.681307  0.007443  \n",
       "2462    2025-05-01                 14  0.953830  0.007475  \n",
       "2440    2025-05-01                 11  0.881691  0.005873  \n",
       "2535    2024-02-01                 11  1.249063  0.005889  \n",
       "2547    2025-03-01                 11  1.070625  0.005882  \n",
       "2490    2025-03-01                 11  0.936797  0.005876  \n",
       "2774    2024-02-01                 10  0.766080  0.008306  \n",
       "2591    2024-04-01                  9  1.114866  0.004815  \n",
       "2544    2025-03-01                  9  0.943348  0.004810  \n",
       "2851    2023-02-01                  9  0.536256  0.007420  \n",
       "2457    2024-02-01                  9  1.114866  0.004815  \n",
       "2878    2025-06-01                  9  0.919297  0.007513  \n",
       "2816    2024-06-01                  8  0.715008  0.006656  \n",
       "2433    2025-05-01                  8  0.990992  0.004278  \n",
       "2543    2025-05-01                  8  1.090091  0.004280  \n",
       "2461    2025-02-01                  8  0.990992  0.004278  \n",
       "2467    2025-05-01                  8  1.211212  0.004283  \n",
       "2471    2024-09-01                  7  1.059811  0.003745  \n",
       "2786    2025-05-01                  7  0.556118  0.005804  \n",
       "2531    2025-05-01                  7  0.794858  0.003739  \n",
       "2508    2025-03-01                  7  1.059811  0.003745  \n",
       "2451    2025-02-01                  7  1.059811  0.003745  \n",
       "2776    2025-05-01                  6  0.378534  0.004942  \n",
       "2782    2025-06-01                  6  0.757068  0.005013  \n",
       "2790    2025-02-01                  6  1.430017  0.005046  \n",
       "2798    2025-05-01                  6  0.643508  0.005000  \n",
       "2833    2025-05-01                  6  0.677376  0.005004  \n",
       "2848    2025-05-01                  6  1.072513  0.005034  \n",
       "2859    2025-05-01                  6  1.287015  0.005042  \n",
       "2823    2025-05-01                  5  1.532161  0.004209  \n",
       "2829    2024-10-01                  5  1.191681  0.004202  \n",
       "2924    2025-06-01                  5  1.787521  0.004212  "
      ]
     },
     "execution_count": 231,
     "metadata": {},
     "output_type": "execute_result"
    }
   ],
   "source": [
    "filtered_df.sort_values(by='PAIR_TRANSACTIONS', ascending=False)"
   ]
  },
  {
   "cell_type": "code",
   "execution_count": 232,
   "metadata": {},
   "outputs": [],
   "source": [
    "mode='lines',\n",
    "line_shape='spline'\n",
    "    \n",
    "# Build node size map from your DataFrame\n",
    "node_size_map = dict(zip(top_edges['PRIMARY_ID'], top_edges['PRIMARY_TRANSACTIONS']))\n",
    "\n",
    "# Convert values to NumPy array\n",
    "sizes = np.array(list(node_size_map.values()))\n",
    "\n",
    "# Use np.ptp instead of .ptp()\n",
    "norm_sizes = (sizes - sizes.min()) / np.ptp(sizes)  # scale to 0–1\n",
    "scaled_sizes = 10 + norm_sizes * 30                 # scale to 10–40\n",
    "\n",
    "# Final size map: Product ID → Scaled Size\n",
    "scaled_size_map = dict(zip(node_size_map.keys(), scaled_sizes))\n",
    "\n",
    "# Step 1: Build the full graph\n",
    "G = nx.Graph()\n",
    "for _, row in top_edges.iterrows():\n",
    "    G.add_edge(row['PRIMARY_ID'], row['SECONDARY_ID'], weight=row[METRIC])\n",
    "\n",
    "# Step 2: Louvain community detection\n",
    "partition = community_louvain.best_partition(G, weight=METRIC, resolution=RESO)\n",
    "\n",
    "# Step 3: Layout\n",
    "pos = nx.spring_layout(G, weight='weight', seed=42\n",
    "                      )\n",
    "\n",
    "# Step 4: Edge trace (no filter on weight)\n",
    "edge_x, edge_y = [], []\n",
    "for u, v in G.edges():\n",
    "    x0, y0 = pos[u]\n",
    "    x1, y1 = pos[v]\n",
    "    edge_x += [x0, x1, None]\n",
    "    edge_y += [y0, y1, None]\n",
    "\n",
    "edge_trace = go.Scatter(\n",
    "    x=edge_x,\n",
    "    y=edge_y,\n",
    "    line=dict(width=1, color='gray'),\n",
    "    hoverinfo='none',\n",
    "    mode='lines'\n",
    ")\n",
    "\n",
    "# Step 5: Node trace with Louvain cluster coloring\n",
    "color_list = ['#1f77b4', '#ff7f0e', '#2ca02c', '#d62728',\n",
    "              '#9467bd', '#8c564b', '#e377c2', '#7f7f7f',\n",
    "              '#bcbd22', '#17becf']  # Extend if you expect >10 clusters\n",
    "\n",
    "node_x, node_y, node_color, node_size, hover_text = [], [], [], [], []\n",
    "\n",
    "for node in G.nodes():\n",
    "    x, y = pos[node]\n",
    "    cluster = partition[node]\n",
    "    size = scaled_size_map.get(node, 10)  # default to small if missing\n",
    "\n",
    "    node_x.append(x)\n",
    "    node_y.append(y)\n",
    "    node_color.append(color_list[cluster % len(color_list)])\n",
    "    node_size.append(size)\n",
    "    hover_text.append(f\"Product ID: {node}<br>Cluster: {cluster}<br>Transactions: {int(size)}\")\n",
    "\n",
    "node_trace = go.Scatter(\n",
    "    x=node_x,\n",
    "    y=node_y,\n",
    "    mode='markers+text',\n",
    "    hoverinfo='text',\n",
    "    text=[str(node) for node in G.nodes()],\n",
    "    textposition='top center',\n",
    "    marker=dict(\n",
    "        color=node_color,\n",
    "        size=node_size,  # <--- size now dynamic!\n",
    "        line=dict(width=2, color='black')\n",
    "    ),\n",
    "    textfont=dict(\n",
    "    size=16,          # increase for visibility\n",
    "    color='black',\n",
    "    family='Arial'\n",
    ")\n",
    ")\n",
    "# Step 6: Plot\n",
    "fig = go.Figure(\n",
    "    data=[edge_trace, node_trace],\n",
    "    layout=go.Layout(\n",
    "        width=1200,          # increase width\n",
    "    height=800, \n",
    "        title=dict(text='Louvain Product Clustering (All Edges)', x=0.5, font=dict(size=16)),\n",
    "        showlegend=False,\n",
    "        hovermode='closest',\n",
    "        margin=dict(b=20, l=20, r=20, t=40),\n",
    "        xaxis=dict(showgrid=False, zeroline=False, showticklabels=False),\n",
    "        yaxis=dict(showgrid=False, zeroline=False, showticklabels=False)\n",
    "    )\n",
    ")"
   ]
  },
  {
   "cell_type": "markdown",
   "metadata": {},
   "source": [
    "## Results"
   ]
  },
  {
   "cell_type": "code",
   "execution_count": 233,
   "metadata": {},
   "outputs": [
    {
     "data": {
      "application/vnd.plotly.v1+json": {
       "config": {
        "plotlyServerURL": "https://plot.ly"
       },
       "data": [
        {
         "hoverinfo": "none",
         "line": {
          "color": "gray",
          "width": 1
         },
         "mode": "lines",
         "type": "scatter",
         "x": [
          0.1584943685806203,
          0.2915416838221016,
          null,
          0.1584943685806203,
          -0.12897772525266904,
          null,
          0.1584943685806203,
          0.38814160814102827,
          null,
          0.1584943685806203,
          -0.43655765039409655,
          null,
          0.1584943685806203,
          -0.4301435463238865,
          null,
          0.1584943685806203,
          0.14774558632423168,
          null,
          0.1584943685806203,
          0.696291482415521,
          null,
          0.1584943685806203,
          -0.4021993844698123,
          null,
          0.1584943685806203,
          0.8880299872375245,
          null,
          0.1584943685806203,
          0.2743130289544614,
          null,
          0.1584943685806203,
          -0.1964916333563965,
          null,
          0.1584943685806203,
          0.1174962821332208,
          null,
          0.1584943685806203,
          -0.5028813576246384,
          null,
          0.1584943685806203,
          0.011655872153280077,
          null,
          0.1584943685806203,
          1,
          null,
          0.1584943685806203,
          0.6366326733108263,
          null,
          0.2915416838221016,
          -0.1382126830110784,
          null,
          -0.1382126830110784,
          -0.43655765039409655,
          null,
          -0.1382126830110784,
          0.14774558632423168,
          null,
          -0.1382126830110784,
          -0.4301435463238865,
          null,
          -0.1382126830110784,
          0.38814160814102827,
          null,
          -0.1382126830110784,
          -0.5028813576246384,
          null,
          -0.1382126830110784,
          -0.1964916333563965,
          null,
          -0.1382126830110784,
          0.1174962821332208,
          null,
          -0.1382126830110784,
          -0.12897772525266904,
          null,
          -0.1382126830110784,
          -0.6435494562162113,
          null,
          -0.1382126830110784,
          0.13694301920913257,
          null,
          -0.1382126830110784,
          -0.9485025868520078,
          null,
          -0.1382126830110784,
          0.2743130289544614,
          null,
          -0.1382126830110784,
          -0.43643962007967335,
          null,
          -0.1382126830110784,
          0.904055896565765,
          null,
          -0.1382126830110784,
          -0.9423503744081471,
          null,
          -0.1382126830110784,
          -0.9238189929767373,
          null,
          -0.1382126830110784,
          -0.4021993844698123,
          null,
          -0.1382126830110784,
          -0.18584416574909932,
          null,
          -0.1382126830110784,
          0.6646276878667394,
          null
         ],
         "y": [
          0.0053468490729665745,
          0.17731176165135765,
          null,
          0.0053468490729665745,
          0.4121120064385418,
          null,
          0.0053468490729665745,
          -0.3020385689818585,
          null,
          0.0053468490729665745,
          0.031019371280918317,
          null,
          0.0053468490729665745,
          0.32181207824435176,
          null,
          0.0053468490729665745,
          0.42949922372186,
          null,
          0.0053468490729665745,
          -0.6392098841089551,
          null,
          0.0053468490729665745,
          0.6834172739073167,
          null,
          0.0053468490729665745,
          0.5442275944230685,
          null,
          0.0053468490729665745,
          -0.6872329511882845,
          null,
          0.0053468490729665745,
          -0.49517151321608854,
          null,
          0.0053468490729665745,
          -0.4843600079542821,
          null,
          0.0053468490729665745,
          -0.28760449020362194,
          null,
          0.0053468490729665745,
          -0.9590114045289241,
          null,
          0.0053468490729665745,
          0.2060269348267888,
          null,
          0.0053468490729665745,
          0.8308490685021317,
          null,
          0.17731176165135765,
          -0.006144791169252048,
          null,
          -0.006144791169252048,
          0.031019371280918317,
          null,
          -0.006144791169252048,
          0.42949922372186,
          null,
          -0.006144791169252048,
          0.32181207824435176,
          null,
          -0.006144791169252048,
          -0.3020385689818585,
          null,
          -0.006144791169252048,
          -0.28760449020362194,
          null,
          -0.006144791169252048,
          -0.49517151321608854,
          null,
          -0.006144791169252048,
          -0.4843600079542821,
          null,
          -0.006144791169252048,
          0.4121120064385418,
          null,
          -0.006144791169252048,
          -0.6405091399284132,
          null,
          -0.006144791169252048,
          0.8909487611590359,
          null,
          -0.006144791169252048,
          0.04614331270406629,
          null,
          -0.006144791169252048,
          -0.6872329511882845,
          null,
          -0.006144791169252048,
          -0.9131821234068607,
          null,
          -0.006144791169252048,
          -0.12223818714098632,
          null,
          -0.006144791169252048,
          -0.26907795187450934,
          null,
          -0.006144791169252048,
          0.5109868395485072,
          null,
          -0.006144791169252048,
          0.6834172739073167,
          null,
          -0.006144791169252048,
          0.8853230971643616,
          null,
          -0.006144791169252048,
          -0.16924315894323705,
          null
         ]
        },
        {
         "hoverinfo": "text",
         "marker": {
          "color": [
           "#1f77b4",
           "#1f77b4",
           "#ff7f0e",
           "#ff7f0e",
           "#1f77b4",
           "#1f77b4",
           "#1f77b4",
           "#1f77b4",
           "#1f77b4",
           "#1f77b4",
           "#ff7f0e",
           "#ff7f0e",
           "#ff7f0e",
           "#ff7f0e",
           "#ff7f0e",
           "#1f77b4",
           "#ff7f0e",
           "#1f77b4",
           "#ff7f0e",
           "#ff7f0e",
           "#ff7f0e",
           "#ff7f0e",
           "#ff7f0e",
           "#ff7f0e",
           "#1f77b4",
           "#1f77b4",
           "#1f77b4"
          ],
          "line": {
           "color": "black",
           "width": 2
          },
          "size": [
           10,
           10,
           40,
           10,
           10,
           10,
           10,
           10,
           10,
           10,
           10,
           10,
           10,
           10,
           10,
           10,
           10,
           10,
           10,
           10,
           10,
           10,
           10,
           10,
           10,
           10,
           10
          ]
         },
         "mode": "markers+text",
         "text": [
          "500 SKYLIGHT ACCESSORIES",
          "500 BUILDING SUPPLIES OFFRANGE",
          "500 ROOF WINDOWS",
          "500 STRUCTURAL FRAMING H1 2 KD",
          "500 CONNECTORS",
          "500 NON STRUCT TRTD PINE GAUGE",
          "501 HM FURNISHINGS OFFRANGE",
          "500 BUILDING WRAP",
          "500 BUILDING MATERIALS OFFRANG",
          "500 PLYWOOD SHEETS",
          "500 FIBRE CEMENT SHEETING ACC",
          "500 STRUCTURAL FRAMING H3 2 KD",
          "501 BATTEN",
          "500 PAINT ADHESIVES",
          "500 COLLATED NAILS",
          "500 EXT CLADDING PLAIN",
          "500 TIMBER WEATHERBOARDS",
          "500 STRUCT FRAMG H1 2 KD LINKD",
          "PALLETS NZ C",
          "500 FASCIA",
          "500 WEATHERBOARDS",
          "500 GLASSWOOL INSULATION BATTS",
          "500 BUILDING BRACKETS",
          "500 FIBRE CEMENT EAVE LINING",
          "OTHER DEPARMENT OFFRANGE C",
          "500 PAINT SILICONES",
          "500 PLASTER CLADDING"
         ],
         "textfont": {
          "color": "black",
          "family": "Arial",
          "size": 16
         },
         "textposition": "top center",
         "type": "scatter",
         "x": [
          0.1584943685806203,
          0.2915416838221016,
          -0.1382126830110784,
          -0.43655765039409655,
          0.14774558632423168,
          -0.4301435463238865,
          0.38814160814102827,
          -0.5028813576246384,
          -0.12897772525266904,
          -0.1964916333563965,
          0.1174962821332208,
          -0.6435494562162113,
          0.13694301920913257,
          -0.9485025868520078,
          0.2743130289544614,
          0.696291482415521,
          -0.4021993844698123,
          0.8880299872375245,
          -0.43643962007967335,
          0.904055896565765,
          -0.9423503744081471,
          -0.9238189929767373,
          -0.18584416574909932,
          0.6646276878667394,
          0.011655872153280077,
          1,
          0.6366326733108263
         ],
         "y": [
          0.0053468490729665745,
          0.17731176165135765,
          -0.006144791169252048,
          0.031019371280918317,
          0.42949922372186,
          0.32181207824435176,
          -0.3020385689818585,
          -0.28760449020362194,
          0.4121120064385418,
          -0.49517151321608854,
          -0.4843600079542821,
          -0.6405091399284132,
          0.8909487611590359,
          0.04614331270406629,
          -0.6872329511882845,
          -0.6392098841089551,
          0.6834172739073167,
          0.5442275944230685,
          -0.9131821234068607,
          -0.12223818714098632,
          -0.26907795187450934,
          0.5109868395485072,
          0.8853230971643616,
          -0.16924315894323705,
          -0.9590114045289241,
          0.2060269348267888,
          0.8308490685021317
         ]
        }
       ],
       "layout": {
        "height": 800,
        "hovermode": "closest",
        "margin": {
         "b": 20,
         "l": 20,
         "r": 20,
         "t": 40
        },
        "showlegend": false,
        "template": {
         "data": {
          "bar": [
           {
            "error_x": {
             "color": "#2a3f5f"
            },
            "error_y": {
             "color": "#2a3f5f"
            },
            "marker": {
             "line": {
              "color": "#E5ECF6",
              "width": 0.5
             },
             "pattern": {
              "fillmode": "overlay",
              "size": 10,
              "solidity": 0.2
             }
            },
            "type": "bar"
           }
          ],
          "barpolar": [
           {
            "marker": {
             "line": {
              "color": "#E5ECF6",
              "width": 0.5
             },
             "pattern": {
              "fillmode": "overlay",
              "size": 10,
              "solidity": 0.2
             }
            },
            "type": "barpolar"
           }
          ],
          "carpet": [
           {
            "aaxis": {
             "endlinecolor": "#2a3f5f",
             "gridcolor": "white",
             "linecolor": "white",
             "minorgridcolor": "white",
             "startlinecolor": "#2a3f5f"
            },
            "baxis": {
             "endlinecolor": "#2a3f5f",
             "gridcolor": "white",
             "linecolor": "white",
             "minorgridcolor": "white",
             "startlinecolor": "#2a3f5f"
            },
            "type": "carpet"
           }
          ],
          "choropleth": [
           {
            "colorbar": {
             "outlinewidth": 0,
             "ticks": ""
            },
            "type": "choropleth"
           }
          ],
          "contour": [
           {
            "colorbar": {
             "outlinewidth": 0,
             "ticks": ""
            },
            "colorscale": [
             [
              0,
              "#0d0887"
             ],
             [
              0.1111111111111111,
              "#46039f"
             ],
             [
              0.2222222222222222,
              "#7201a8"
             ],
             [
              0.3333333333333333,
              "#9c179e"
             ],
             [
              0.4444444444444444,
              "#bd3786"
             ],
             [
              0.5555555555555556,
              "#d8576b"
             ],
             [
              0.6666666666666666,
              "#ed7953"
             ],
             [
              0.7777777777777778,
              "#fb9f3a"
             ],
             [
              0.8888888888888888,
              "#fdca26"
             ],
             [
              1,
              "#f0f921"
             ]
            ],
            "type": "contour"
           }
          ],
          "contourcarpet": [
           {
            "colorbar": {
             "outlinewidth": 0,
             "ticks": ""
            },
            "type": "contourcarpet"
           }
          ],
          "heatmap": [
           {
            "colorbar": {
             "outlinewidth": 0,
             "ticks": ""
            },
            "colorscale": [
             [
              0,
              "#0d0887"
             ],
             [
              0.1111111111111111,
              "#46039f"
             ],
             [
              0.2222222222222222,
              "#7201a8"
             ],
             [
              0.3333333333333333,
              "#9c179e"
             ],
             [
              0.4444444444444444,
              "#bd3786"
             ],
             [
              0.5555555555555556,
              "#d8576b"
             ],
             [
              0.6666666666666666,
              "#ed7953"
             ],
             [
              0.7777777777777778,
              "#fb9f3a"
             ],
             [
              0.8888888888888888,
              "#fdca26"
             ],
             [
              1,
              "#f0f921"
             ]
            ],
            "type": "heatmap"
           }
          ],
          "heatmapgl": [
           {
            "colorbar": {
             "outlinewidth": 0,
             "ticks": ""
            },
            "colorscale": [
             [
              0,
              "#0d0887"
             ],
             [
              0.1111111111111111,
              "#46039f"
             ],
             [
              0.2222222222222222,
              "#7201a8"
             ],
             [
              0.3333333333333333,
              "#9c179e"
             ],
             [
              0.4444444444444444,
              "#bd3786"
             ],
             [
              0.5555555555555556,
              "#d8576b"
             ],
             [
              0.6666666666666666,
              "#ed7953"
             ],
             [
              0.7777777777777778,
              "#fb9f3a"
             ],
             [
              0.8888888888888888,
              "#fdca26"
             ],
             [
              1,
              "#f0f921"
             ]
            ],
            "type": "heatmapgl"
           }
          ],
          "histogram": [
           {
            "marker": {
             "pattern": {
              "fillmode": "overlay",
              "size": 10,
              "solidity": 0.2
             }
            },
            "type": "histogram"
           }
          ],
          "histogram2d": [
           {
            "colorbar": {
             "outlinewidth": 0,
             "ticks": ""
            },
            "colorscale": [
             [
              0,
              "#0d0887"
             ],
             [
              0.1111111111111111,
              "#46039f"
             ],
             [
              0.2222222222222222,
              "#7201a8"
             ],
             [
              0.3333333333333333,
              "#9c179e"
             ],
             [
              0.4444444444444444,
              "#bd3786"
             ],
             [
              0.5555555555555556,
              "#d8576b"
             ],
             [
              0.6666666666666666,
              "#ed7953"
             ],
             [
              0.7777777777777778,
              "#fb9f3a"
             ],
             [
              0.8888888888888888,
              "#fdca26"
             ],
             [
              1,
              "#f0f921"
             ]
            ],
            "type": "histogram2d"
           }
          ],
          "histogram2dcontour": [
           {
            "colorbar": {
             "outlinewidth": 0,
             "ticks": ""
            },
            "colorscale": [
             [
              0,
              "#0d0887"
             ],
             [
              0.1111111111111111,
              "#46039f"
             ],
             [
              0.2222222222222222,
              "#7201a8"
             ],
             [
              0.3333333333333333,
              "#9c179e"
             ],
             [
              0.4444444444444444,
              "#bd3786"
             ],
             [
              0.5555555555555556,
              "#d8576b"
             ],
             [
              0.6666666666666666,
              "#ed7953"
             ],
             [
              0.7777777777777778,
              "#fb9f3a"
             ],
             [
              0.8888888888888888,
              "#fdca26"
             ],
             [
              1,
              "#f0f921"
             ]
            ],
            "type": "histogram2dcontour"
           }
          ],
          "mesh3d": [
           {
            "colorbar": {
             "outlinewidth": 0,
             "ticks": ""
            },
            "type": "mesh3d"
           }
          ],
          "parcoords": [
           {
            "line": {
             "colorbar": {
              "outlinewidth": 0,
              "ticks": ""
             }
            },
            "type": "parcoords"
           }
          ],
          "pie": [
           {
            "automargin": true,
            "type": "pie"
           }
          ],
          "scatter": [
           {
            "fillpattern": {
             "fillmode": "overlay",
             "size": 10,
             "solidity": 0.2
            },
            "type": "scatter"
           }
          ],
          "scatter3d": [
           {
            "line": {
             "colorbar": {
              "outlinewidth": 0,
              "ticks": ""
             }
            },
            "marker": {
             "colorbar": {
              "outlinewidth": 0,
              "ticks": ""
             }
            },
            "type": "scatter3d"
           }
          ],
          "scattercarpet": [
           {
            "marker": {
             "colorbar": {
              "outlinewidth": 0,
              "ticks": ""
             }
            },
            "type": "scattercarpet"
           }
          ],
          "scattergeo": [
           {
            "marker": {
             "colorbar": {
              "outlinewidth": 0,
              "ticks": ""
             }
            },
            "type": "scattergeo"
           }
          ],
          "scattergl": [
           {
            "marker": {
             "colorbar": {
              "outlinewidth": 0,
              "ticks": ""
             }
            },
            "type": "scattergl"
           }
          ],
          "scattermapbox": [
           {
            "marker": {
             "colorbar": {
              "outlinewidth": 0,
              "ticks": ""
             }
            },
            "type": "scattermapbox"
           }
          ],
          "scatterpolar": [
           {
            "marker": {
             "colorbar": {
              "outlinewidth": 0,
              "ticks": ""
             }
            },
            "type": "scatterpolar"
           }
          ],
          "scatterpolargl": [
           {
            "marker": {
             "colorbar": {
              "outlinewidth": 0,
              "ticks": ""
             }
            },
            "type": "scatterpolargl"
           }
          ],
          "scatterternary": [
           {
            "marker": {
             "colorbar": {
              "outlinewidth": 0,
              "ticks": ""
             }
            },
            "type": "scatterternary"
           }
          ],
          "surface": [
           {
            "colorbar": {
             "outlinewidth": 0,
             "ticks": ""
            },
            "colorscale": [
             [
              0,
              "#0d0887"
             ],
             [
              0.1111111111111111,
              "#46039f"
             ],
             [
              0.2222222222222222,
              "#7201a8"
             ],
             [
              0.3333333333333333,
              "#9c179e"
             ],
             [
              0.4444444444444444,
              "#bd3786"
             ],
             [
              0.5555555555555556,
              "#d8576b"
             ],
             [
              0.6666666666666666,
              "#ed7953"
             ],
             [
              0.7777777777777778,
              "#fb9f3a"
             ],
             [
              0.8888888888888888,
              "#fdca26"
             ],
             [
              1,
              "#f0f921"
             ]
            ],
            "type": "surface"
           }
          ],
          "table": [
           {
            "cells": {
             "fill": {
              "color": "#EBF0F8"
             },
             "line": {
              "color": "white"
             }
            },
            "header": {
             "fill": {
              "color": "#C8D4E3"
             },
             "line": {
              "color": "white"
             }
            },
            "type": "table"
           }
          ]
         },
         "layout": {
          "annotationdefaults": {
           "arrowcolor": "#2a3f5f",
           "arrowhead": 0,
           "arrowwidth": 1
          },
          "autotypenumbers": "strict",
          "coloraxis": {
           "colorbar": {
            "outlinewidth": 0,
            "ticks": ""
           }
          },
          "colorscale": {
           "diverging": [
            [
             0,
             "#8e0152"
            ],
            [
             0.1,
             "#c51b7d"
            ],
            [
             0.2,
             "#de77ae"
            ],
            [
             0.3,
             "#f1b6da"
            ],
            [
             0.4,
             "#fde0ef"
            ],
            [
             0.5,
             "#f7f7f7"
            ],
            [
             0.6,
             "#e6f5d0"
            ],
            [
             0.7,
             "#b8e186"
            ],
            [
             0.8,
             "#7fbc41"
            ],
            [
             0.9,
             "#4d9221"
            ],
            [
             1,
             "#276419"
            ]
           ],
           "sequential": [
            [
             0,
             "#0d0887"
            ],
            [
             0.1111111111111111,
             "#46039f"
            ],
            [
             0.2222222222222222,
             "#7201a8"
            ],
            [
             0.3333333333333333,
             "#9c179e"
            ],
            [
             0.4444444444444444,
             "#bd3786"
            ],
            [
             0.5555555555555556,
             "#d8576b"
            ],
            [
             0.6666666666666666,
             "#ed7953"
            ],
            [
             0.7777777777777778,
             "#fb9f3a"
            ],
            [
             0.8888888888888888,
             "#fdca26"
            ],
            [
             1,
             "#f0f921"
            ]
           ],
           "sequentialminus": [
            [
             0,
             "#0d0887"
            ],
            [
             0.1111111111111111,
             "#46039f"
            ],
            [
             0.2222222222222222,
             "#7201a8"
            ],
            [
             0.3333333333333333,
             "#9c179e"
            ],
            [
             0.4444444444444444,
             "#bd3786"
            ],
            [
             0.5555555555555556,
             "#d8576b"
            ],
            [
             0.6666666666666666,
             "#ed7953"
            ],
            [
             0.7777777777777778,
             "#fb9f3a"
            ],
            [
             0.8888888888888888,
             "#fdca26"
            ],
            [
             1,
             "#f0f921"
            ]
           ]
          },
          "colorway": [
           "#636efa",
           "#EF553B",
           "#00cc96",
           "#ab63fa",
           "#FFA15A",
           "#19d3f3",
           "#FF6692",
           "#B6E880",
           "#FF97FF",
           "#FECB52"
          ],
          "font": {
           "color": "#2a3f5f"
          },
          "geo": {
           "bgcolor": "white",
           "lakecolor": "white",
           "landcolor": "#E5ECF6",
           "showlakes": true,
           "showland": true,
           "subunitcolor": "white"
          },
          "hoverlabel": {
           "align": "left"
          },
          "hovermode": "closest",
          "mapbox": {
           "style": "light"
          },
          "paper_bgcolor": "white",
          "plot_bgcolor": "#E5ECF6",
          "polar": {
           "angularaxis": {
            "gridcolor": "white",
            "linecolor": "white",
            "ticks": ""
           },
           "bgcolor": "#E5ECF6",
           "radialaxis": {
            "gridcolor": "white",
            "linecolor": "white",
            "ticks": ""
           }
          },
          "scene": {
           "xaxis": {
            "backgroundcolor": "#E5ECF6",
            "gridcolor": "white",
            "gridwidth": 2,
            "linecolor": "white",
            "showbackground": true,
            "ticks": "",
            "zerolinecolor": "white"
           },
           "yaxis": {
            "backgroundcolor": "#E5ECF6",
            "gridcolor": "white",
            "gridwidth": 2,
            "linecolor": "white",
            "showbackground": true,
            "ticks": "",
            "zerolinecolor": "white"
           },
           "zaxis": {
            "backgroundcolor": "#E5ECF6",
            "gridcolor": "white",
            "gridwidth": 2,
            "linecolor": "white",
            "showbackground": true,
            "ticks": "",
            "zerolinecolor": "white"
           }
          },
          "shapedefaults": {
           "line": {
            "color": "#2a3f5f"
           }
          },
          "ternary": {
           "aaxis": {
            "gridcolor": "white",
            "linecolor": "white",
            "ticks": ""
           },
           "baxis": {
            "gridcolor": "white",
            "linecolor": "white",
            "ticks": ""
           },
           "bgcolor": "#E5ECF6",
           "caxis": {
            "gridcolor": "white",
            "linecolor": "white",
            "ticks": ""
           }
          },
          "title": {
           "x": 0.05
          },
          "xaxis": {
           "automargin": true,
           "gridcolor": "white",
           "linecolor": "white",
           "ticks": "",
           "title": {
            "standoff": 15
           },
           "zerolinecolor": "white",
           "zerolinewidth": 2
          },
          "yaxis": {
           "automargin": true,
           "gridcolor": "white",
           "linecolor": "white",
           "ticks": "",
           "title": {
            "standoff": 15
           },
           "zerolinecolor": "white",
           "zerolinewidth": 2
          }
         }
        },
        "title": {
         "font": {
          "size": 16
         },
         "text": "Louvain Product Clustering (All Edges)",
         "x": 0.5
        },
        "width": 1200,
        "xaxis": {
         "showgrid": false,
         "showticklabels": false,
         "zeroline": false
        },
        "yaxis": {
         "showgrid": false,
         "showticklabels": false,
         "zeroline": false
        }
       }
      },
      "text/html": [
       "<div>                            <div id=\"6960cb07-50d6-4c01-a540-12767a740d73\" class=\"plotly-graph-div\" style=\"height:800px; width:1200px;\"></div>            <script type=\"text/javascript\">                require([\"plotly\"], function(Plotly) {                    window.PLOTLYENV=window.PLOTLYENV || {};                                    if (document.getElementById(\"6960cb07-50d6-4c01-a540-12767a740d73\")) {                    Plotly.newPlot(                        \"6960cb07-50d6-4c01-a540-12767a740d73\",                        [{\"hoverinfo\":\"none\",\"line\":{\"color\":\"gray\",\"width\":1},\"mode\":\"lines\",\"x\":[0.1584943685806203,0.2915416838221016,null,0.1584943685806203,-0.12897772525266904,null,0.1584943685806203,0.38814160814102827,null,0.1584943685806203,-0.43655765039409655,null,0.1584943685806203,-0.4301435463238865,null,0.1584943685806203,0.14774558632423168,null,0.1584943685806203,0.696291482415521,null,0.1584943685806203,-0.4021993844698123,null,0.1584943685806203,0.8880299872375245,null,0.1584943685806203,0.2743130289544614,null,0.1584943685806203,-0.1964916333563965,null,0.1584943685806203,0.1174962821332208,null,0.1584943685806203,-0.5028813576246384,null,0.1584943685806203,0.011655872153280077,null,0.1584943685806203,1.0,null,0.1584943685806203,0.6366326733108263,null,0.2915416838221016,-0.1382126830110784,null,-0.1382126830110784,-0.43655765039409655,null,-0.1382126830110784,0.14774558632423168,null,-0.1382126830110784,-0.4301435463238865,null,-0.1382126830110784,0.38814160814102827,null,-0.1382126830110784,-0.5028813576246384,null,-0.1382126830110784,-0.1964916333563965,null,-0.1382126830110784,0.1174962821332208,null,-0.1382126830110784,-0.12897772525266904,null,-0.1382126830110784,-0.6435494562162113,null,-0.1382126830110784,0.13694301920913257,null,-0.1382126830110784,-0.9485025868520078,null,-0.1382126830110784,0.2743130289544614,null,-0.1382126830110784,-0.43643962007967335,null,-0.1382126830110784,0.904055896565765,null,-0.1382126830110784,-0.9423503744081471,null,-0.1382126830110784,-0.9238189929767373,null,-0.1382126830110784,-0.4021993844698123,null,-0.1382126830110784,-0.18584416574909932,null,-0.1382126830110784,0.6646276878667394,null],\"y\":[0.0053468490729665745,0.17731176165135765,null,0.0053468490729665745,0.4121120064385418,null,0.0053468490729665745,-0.3020385689818585,null,0.0053468490729665745,0.031019371280918317,null,0.0053468490729665745,0.32181207824435176,null,0.0053468490729665745,0.42949922372186,null,0.0053468490729665745,-0.6392098841089551,null,0.0053468490729665745,0.6834172739073167,null,0.0053468490729665745,0.5442275944230685,null,0.0053468490729665745,-0.6872329511882845,null,0.0053468490729665745,-0.49517151321608854,null,0.0053468490729665745,-0.4843600079542821,null,0.0053468490729665745,-0.28760449020362194,null,0.0053468490729665745,-0.9590114045289241,null,0.0053468490729665745,0.2060269348267888,null,0.0053468490729665745,0.8308490685021317,null,0.17731176165135765,-0.006144791169252048,null,-0.006144791169252048,0.031019371280918317,null,-0.006144791169252048,0.42949922372186,null,-0.006144791169252048,0.32181207824435176,null,-0.006144791169252048,-0.3020385689818585,null,-0.006144791169252048,-0.28760449020362194,null,-0.006144791169252048,-0.49517151321608854,null,-0.006144791169252048,-0.4843600079542821,null,-0.006144791169252048,0.4121120064385418,null,-0.006144791169252048,-0.6405091399284132,null,-0.006144791169252048,0.8909487611590359,null,-0.006144791169252048,0.04614331270406629,null,-0.006144791169252048,-0.6872329511882845,null,-0.006144791169252048,-0.9131821234068607,null,-0.006144791169252048,-0.12223818714098632,null,-0.006144791169252048,-0.26907795187450934,null,-0.006144791169252048,0.5109868395485072,null,-0.006144791169252048,0.6834172739073167,null,-0.006144791169252048,0.8853230971643616,null,-0.006144791169252048,-0.16924315894323705,null],\"type\":\"scatter\"},{\"hoverinfo\":\"text\",\"marker\":{\"color\":[\"#1f77b4\",\"#1f77b4\",\"#ff7f0e\",\"#ff7f0e\",\"#1f77b4\",\"#1f77b4\",\"#1f77b4\",\"#1f77b4\",\"#1f77b4\",\"#1f77b4\",\"#ff7f0e\",\"#ff7f0e\",\"#ff7f0e\",\"#ff7f0e\",\"#ff7f0e\",\"#1f77b4\",\"#ff7f0e\",\"#1f77b4\",\"#ff7f0e\",\"#ff7f0e\",\"#ff7f0e\",\"#ff7f0e\",\"#ff7f0e\",\"#ff7f0e\",\"#1f77b4\",\"#1f77b4\",\"#1f77b4\"],\"line\":{\"color\":\"black\",\"width\":2},\"size\":[10.0,10,40.0,10,10,10,10,10,10,10,10,10,10,10,10,10,10,10,10,10,10,10,10,10,10,10,10]},\"mode\":\"markers+text\",\"text\":[\"500 SKYLIGHT ACCESSORIES\",\"500 BUILDING SUPPLIES OFFRANGE\",\"500 ROOF WINDOWS\",\"500 STRUCTURAL FRAMING H1 2 KD\",\"500 CONNECTORS\",\"500 NON STRUCT TRTD PINE GAUGE\",\"501 HM FURNISHINGS OFFRANGE\",\"500 BUILDING WRAP\",\"500 BUILDING MATERIALS OFFRANG\",\"500 PLYWOOD SHEETS\",\"500 FIBRE CEMENT SHEETING ACC\",\"500 STRUCTURAL FRAMING H3 2 KD\",\"501 BATTEN\",\"500 PAINT ADHESIVES\",\"500 COLLATED NAILS\",\"500 EXT CLADDING PLAIN\",\"500 TIMBER WEATHERBOARDS\",\"500 STRUCT FRAMG H1 2 KD LINKD\",\"PALLETS NZ C\",\"500 FASCIA\",\"500 WEATHERBOARDS\",\"500 GLASSWOOL INSULATION BATTS\",\"500 BUILDING BRACKETS\",\"500 FIBRE CEMENT EAVE LINING\",\"OTHER DEPARMENT OFFRANGE C\",\"500 PAINT SILICONES\",\"500 PLASTER CLADDING\"],\"textfont\":{\"color\":\"black\",\"family\":\"Arial\",\"size\":16},\"textposition\":\"top center\",\"x\":[0.1584943685806203,0.2915416838221016,-0.1382126830110784,-0.43655765039409655,0.14774558632423168,-0.4301435463238865,0.38814160814102827,-0.5028813576246384,-0.12897772525266904,-0.1964916333563965,0.1174962821332208,-0.6435494562162113,0.13694301920913257,-0.9485025868520078,0.2743130289544614,0.696291482415521,-0.4021993844698123,0.8880299872375245,-0.43643962007967335,0.904055896565765,-0.9423503744081471,-0.9238189929767373,-0.18584416574909932,0.6646276878667394,0.011655872153280077,1.0,0.6366326733108263],\"y\":[0.0053468490729665745,0.17731176165135765,-0.006144791169252048,0.031019371280918317,0.42949922372186,0.32181207824435176,-0.3020385689818585,-0.28760449020362194,0.4121120064385418,-0.49517151321608854,-0.4843600079542821,-0.6405091399284132,0.8909487611590359,0.04614331270406629,-0.6872329511882845,-0.6392098841089551,0.6834172739073167,0.5442275944230685,-0.9131821234068607,-0.12223818714098632,-0.26907795187450934,0.5109868395485072,0.8853230971643616,-0.16924315894323705,-0.9590114045289241,0.2060269348267888,0.8308490685021317],\"type\":\"scatter\"}],                        {\"height\":800,\"hovermode\":\"closest\",\"margin\":{\"b\":20,\"l\":20,\"r\":20,\"t\":40},\"showlegend\":false,\"title\":{\"font\":{\"size\":16},\"text\":\"Louvain Product Clustering (All Edges)\",\"x\":0.5},\"width\":1200,\"xaxis\":{\"showgrid\":false,\"showticklabels\":false,\"zeroline\":false},\"yaxis\":{\"showgrid\":false,\"showticklabels\":false,\"zeroline\":false},\"template\":{\"data\":{\"histogram2dcontour\":[{\"type\":\"histogram2dcontour\",\"colorbar\":{\"outlinewidth\":0,\"ticks\":\"\"},\"colorscale\":[[0.0,\"#0d0887\"],[0.1111111111111111,\"#46039f\"],[0.2222222222222222,\"#7201a8\"],[0.3333333333333333,\"#9c179e\"],[0.4444444444444444,\"#bd3786\"],[0.5555555555555556,\"#d8576b\"],[0.6666666666666666,\"#ed7953\"],[0.7777777777777778,\"#fb9f3a\"],[0.8888888888888888,\"#fdca26\"],[1.0,\"#f0f921\"]]}],\"choropleth\":[{\"type\":\"choropleth\",\"colorbar\":{\"outlinewidth\":0,\"ticks\":\"\"}}],\"histogram2d\":[{\"type\":\"histogram2d\",\"colorbar\":{\"outlinewidth\":0,\"ticks\":\"\"},\"colorscale\":[[0.0,\"#0d0887\"],[0.1111111111111111,\"#46039f\"],[0.2222222222222222,\"#7201a8\"],[0.3333333333333333,\"#9c179e\"],[0.4444444444444444,\"#bd3786\"],[0.5555555555555556,\"#d8576b\"],[0.6666666666666666,\"#ed7953\"],[0.7777777777777778,\"#fb9f3a\"],[0.8888888888888888,\"#fdca26\"],[1.0,\"#f0f921\"]]}],\"heatmap\":[{\"type\":\"heatmap\",\"colorbar\":{\"outlinewidth\":0,\"ticks\":\"\"},\"colorscale\":[[0.0,\"#0d0887\"],[0.1111111111111111,\"#46039f\"],[0.2222222222222222,\"#7201a8\"],[0.3333333333333333,\"#9c179e\"],[0.4444444444444444,\"#bd3786\"],[0.5555555555555556,\"#d8576b\"],[0.6666666666666666,\"#ed7953\"],[0.7777777777777778,\"#fb9f3a\"],[0.8888888888888888,\"#fdca26\"],[1.0,\"#f0f921\"]]}],\"heatmapgl\":[{\"type\":\"heatmapgl\",\"colorbar\":{\"outlinewidth\":0,\"ticks\":\"\"},\"colorscale\":[[0.0,\"#0d0887\"],[0.1111111111111111,\"#46039f\"],[0.2222222222222222,\"#7201a8\"],[0.3333333333333333,\"#9c179e\"],[0.4444444444444444,\"#bd3786\"],[0.5555555555555556,\"#d8576b\"],[0.6666666666666666,\"#ed7953\"],[0.7777777777777778,\"#fb9f3a\"],[0.8888888888888888,\"#fdca26\"],[1.0,\"#f0f921\"]]}],\"contourcarpet\":[{\"type\":\"contourcarpet\",\"colorbar\":{\"outlinewidth\":0,\"ticks\":\"\"}}],\"contour\":[{\"type\":\"contour\",\"colorbar\":{\"outlinewidth\":0,\"ticks\":\"\"},\"colorscale\":[[0.0,\"#0d0887\"],[0.1111111111111111,\"#46039f\"],[0.2222222222222222,\"#7201a8\"],[0.3333333333333333,\"#9c179e\"],[0.4444444444444444,\"#bd3786\"],[0.5555555555555556,\"#d8576b\"],[0.6666666666666666,\"#ed7953\"],[0.7777777777777778,\"#fb9f3a\"],[0.8888888888888888,\"#fdca26\"],[1.0,\"#f0f921\"]]}],\"surface\":[{\"type\":\"surface\",\"colorbar\":{\"outlinewidth\":0,\"ticks\":\"\"},\"colorscale\":[[0.0,\"#0d0887\"],[0.1111111111111111,\"#46039f\"],[0.2222222222222222,\"#7201a8\"],[0.3333333333333333,\"#9c179e\"],[0.4444444444444444,\"#bd3786\"],[0.5555555555555556,\"#d8576b\"],[0.6666666666666666,\"#ed7953\"],[0.7777777777777778,\"#fb9f3a\"],[0.8888888888888888,\"#fdca26\"],[1.0,\"#f0f921\"]]}],\"mesh3d\":[{\"type\":\"mesh3d\",\"colorbar\":{\"outlinewidth\":0,\"ticks\":\"\"}}],\"scatter\":[{\"fillpattern\":{\"fillmode\":\"overlay\",\"size\":10,\"solidity\":0.2},\"type\":\"scatter\"}],\"parcoords\":[{\"type\":\"parcoords\",\"line\":{\"colorbar\":{\"outlinewidth\":0,\"ticks\":\"\"}}}],\"scatterpolargl\":[{\"type\":\"scatterpolargl\",\"marker\":{\"colorbar\":{\"outlinewidth\":0,\"ticks\":\"\"}}}],\"bar\":[{\"error_x\":{\"color\":\"#2a3f5f\"},\"error_y\":{\"color\":\"#2a3f5f\"},\"marker\":{\"line\":{\"color\":\"#E5ECF6\",\"width\":0.5},\"pattern\":{\"fillmode\":\"overlay\",\"size\":10,\"solidity\":0.2}},\"type\":\"bar\"}],\"scattergeo\":[{\"type\":\"scattergeo\",\"marker\":{\"colorbar\":{\"outlinewidth\":0,\"ticks\":\"\"}}}],\"scatterpolar\":[{\"type\":\"scatterpolar\",\"marker\":{\"colorbar\":{\"outlinewidth\":0,\"ticks\":\"\"}}}],\"histogram\":[{\"marker\":{\"pattern\":{\"fillmode\":\"overlay\",\"size\":10,\"solidity\":0.2}},\"type\":\"histogram\"}],\"scattergl\":[{\"type\":\"scattergl\",\"marker\":{\"colorbar\":{\"outlinewidth\":0,\"ticks\":\"\"}}}],\"scatter3d\":[{\"type\":\"scatter3d\",\"line\":{\"colorbar\":{\"outlinewidth\":0,\"ticks\":\"\"}},\"marker\":{\"colorbar\":{\"outlinewidth\":0,\"ticks\":\"\"}}}],\"scattermapbox\":[{\"type\":\"scattermapbox\",\"marker\":{\"colorbar\":{\"outlinewidth\":0,\"ticks\":\"\"}}}],\"scatterternary\":[{\"type\":\"scatterternary\",\"marker\":{\"colorbar\":{\"outlinewidth\":0,\"ticks\":\"\"}}}],\"scattercarpet\":[{\"type\":\"scattercarpet\",\"marker\":{\"colorbar\":{\"outlinewidth\":0,\"ticks\":\"\"}}}],\"carpet\":[{\"aaxis\":{\"endlinecolor\":\"#2a3f5f\",\"gridcolor\":\"white\",\"linecolor\":\"white\",\"minorgridcolor\":\"white\",\"startlinecolor\":\"#2a3f5f\"},\"baxis\":{\"endlinecolor\":\"#2a3f5f\",\"gridcolor\":\"white\",\"linecolor\":\"white\",\"minorgridcolor\":\"white\",\"startlinecolor\":\"#2a3f5f\"},\"type\":\"carpet\"}],\"table\":[{\"cells\":{\"fill\":{\"color\":\"#EBF0F8\"},\"line\":{\"color\":\"white\"}},\"header\":{\"fill\":{\"color\":\"#C8D4E3\"},\"line\":{\"color\":\"white\"}},\"type\":\"table\"}],\"barpolar\":[{\"marker\":{\"line\":{\"color\":\"#E5ECF6\",\"width\":0.5},\"pattern\":{\"fillmode\":\"overlay\",\"size\":10,\"solidity\":0.2}},\"type\":\"barpolar\"}],\"pie\":[{\"automargin\":true,\"type\":\"pie\"}]},\"layout\":{\"autotypenumbers\":\"strict\",\"colorway\":[\"#636efa\",\"#EF553B\",\"#00cc96\",\"#ab63fa\",\"#FFA15A\",\"#19d3f3\",\"#FF6692\",\"#B6E880\",\"#FF97FF\",\"#FECB52\"],\"font\":{\"color\":\"#2a3f5f\"},\"hovermode\":\"closest\",\"hoverlabel\":{\"align\":\"left\"},\"paper_bgcolor\":\"white\",\"plot_bgcolor\":\"#E5ECF6\",\"polar\":{\"bgcolor\":\"#E5ECF6\",\"angularaxis\":{\"gridcolor\":\"white\",\"linecolor\":\"white\",\"ticks\":\"\"},\"radialaxis\":{\"gridcolor\":\"white\",\"linecolor\":\"white\",\"ticks\":\"\"}},\"ternary\":{\"bgcolor\":\"#E5ECF6\",\"aaxis\":{\"gridcolor\":\"white\",\"linecolor\":\"white\",\"ticks\":\"\"},\"baxis\":{\"gridcolor\":\"white\",\"linecolor\":\"white\",\"ticks\":\"\"},\"caxis\":{\"gridcolor\":\"white\",\"linecolor\":\"white\",\"ticks\":\"\"}},\"coloraxis\":{\"colorbar\":{\"outlinewidth\":0,\"ticks\":\"\"}},\"colorscale\":{\"sequential\":[[0.0,\"#0d0887\"],[0.1111111111111111,\"#46039f\"],[0.2222222222222222,\"#7201a8\"],[0.3333333333333333,\"#9c179e\"],[0.4444444444444444,\"#bd3786\"],[0.5555555555555556,\"#d8576b\"],[0.6666666666666666,\"#ed7953\"],[0.7777777777777778,\"#fb9f3a\"],[0.8888888888888888,\"#fdca26\"],[1.0,\"#f0f921\"]],\"sequentialminus\":[[0.0,\"#0d0887\"],[0.1111111111111111,\"#46039f\"],[0.2222222222222222,\"#7201a8\"],[0.3333333333333333,\"#9c179e\"],[0.4444444444444444,\"#bd3786\"],[0.5555555555555556,\"#d8576b\"],[0.6666666666666666,\"#ed7953\"],[0.7777777777777778,\"#fb9f3a\"],[0.8888888888888888,\"#fdca26\"],[1.0,\"#f0f921\"]],\"diverging\":[[0,\"#8e0152\"],[0.1,\"#c51b7d\"],[0.2,\"#de77ae\"],[0.3,\"#f1b6da\"],[0.4,\"#fde0ef\"],[0.5,\"#f7f7f7\"],[0.6,\"#e6f5d0\"],[0.7,\"#b8e186\"],[0.8,\"#7fbc41\"],[0.9,\"#4d9221\"],[1,\"#276419\"]]},\"xaxis\":{\"gridcolor\":\"white\",\"linecolor\":\"white\",\"ticks\":\"\",\"title\":{\"standoff\":15},\"zerolinecolor\":\"white\",\"automargin\":true,\"zerolinewidth\":2},\"yaxis\":{\"gridcolor\":\"white\",\"linecolor\":\"white\",\"ticks\":\"\",\"title\":{\"standoff\":15},\"zerolinecolor\":\"white\",\"automargin\":true,\"zerolinewidth\":2},\"scene\":{\"xaxis\":{\"backgroundcolor\":\"#E5ECF6\",\"gridcolor\":\"white\",\"linecolor\":\"white\",\"showbackground\":true,\"ticks\":\"\",\"zerolinecolor\":\"white\",\"gridwidth\":2},\"yaxis\":{\"backgroundcolor\":\"#E5ECF6\",\"gridcolor\":\"white\",\"linecolor\":\"white\",\"showbackground\":true,\"ticks\":\"\",\"zerolinecolor\":\"white\",\"gridwidth\":2},\"zaxis\":{\"backgroundcolor\":\"#E5ECF6\",\"gridcolor\":\"white\",\"linecolor\":\"white\",\"showbackground\":true,\"ticks\":\"\",\"zerolinecolor\":\"white\",\"gridwidth\":2}},\"shapedefaults\":{\"line\":{\"color\":\"#2a3f5f\"}},\"annotationdefaults\":{\"arrowcolor\":\"#2a3f5f\",\"arrowhead\":0,\"arrowwidth\":1},\"geo\":{\"bgcolor\":\"white\",\"landcolor\":\"#E5ECF6\",\"subunitcolor\":\"white\",\"showland\":true,\"showlakes\":true,\"lakecolor\":\"white\"},\"title\":{\"x\":0.05},\"mapbox\":{\"style\":\"light\"}}}},                        {\"responsive\": true}                    ).then(function(){\n",
       "                            \n",
       "var gd = document.getElementById('6960cb07-50d6-4c01-a540-12767a740d73');\n",
       "var x = new MutationObserver(function (mutations, observer) {{\n",
       "        var display = window.getComputedStyle(gd).display;\n",
       "        if (!display || display === 'none') {{\n",
       "            console.log([gd, 'removed!']);\n",
       "            Plotly.purge(gd);\n",
       "            observer.disconnect();\n",
       "        }}\n",
       "}});\n",
       "\n",
       "// Listen for the removal of the full notebook cells\n",
       "var notebookContainer = gd.closest('#notebook-container');\n",
       "if (notebookContainer) {{\n",
       "    x.observe(notebookContainer, {childList: true});\n",
       "}}\n",
       "\n",
       "// Listen for the clearing of the current output cell\n",
       "var outputEl = gd.closest('.output');\n",
       "if (outputEl) {{\n",
       "    x.observe(outputEl, {childList: true});\n",
       "}}\n",
       "\n",
       "                        })                };                });            </script>        </div>"
      ]
     },
     "metadata": {},
     "output_type": "display_data"
    }
   ],
   "source": [
    "fig.show()"
   ]
  },
  {
   "cell_type": "code",
   "execution_count": 239,
   "metadata": {},
   "outputs": [
    {
     "data": {
      "text/html": [
       "<div>\n",
       "<style scoped>\n",
       "    .dataframe tbody tr th:only-of-type {\n",
       "        vertical-align: middle;\n",
       "    }\n",
       "\n",
       "    .dataframe tbody tr th {\n",
       "        vertical-align: top;\n",
       "    }\n",
       "\n",
       "    .dataframe thead th {\n",
       "        text-align: right;\n",
       "    }\n",
       "</style>\n",
       "<table border=\"1\" class=\"dataframe\">\n",
       "  <thead>\n",
       "    <tr style=\"text-align: right;\">\n",
       "      <th></th>\n",
       "      <th>PRIMARY_ID</th>\n",
       "      <th>SECONDARY_ID</th>\n",
       "      <th>PRIMARY_TRANSACTIONS</th>\n",
       "      <th>SECONDARY_TRANSACTIONS</th>\n",
       "      <th>PAIR_TRANSACTIONS</th>\n",
       "      <th>JACCARD</th>\n",
       "      <th>segment</th>\n",
       "    </tr>\n",
       "  </thead>\n",
       "  <tbody>\n",
       "    <tr>\n",
       "      <th>0</th>\n",
       "      <td>500 SKYLIGHT ACCESSORIES</td>\n",
       "      <td>500 PLASTER CLADDING</td>\n",
       "      <td>1186</td>\n",
       "      <td>9</td>\n",
       "      <td>5</td>\n",
       "      <td>0.004202</td>\n",
       "      <td>0</td>\n",
       "    </tr>\n",
       "    <tr>\n",
       "      <th>1</th>\n",
       "      <td>500 SKYLIGHT ACCESSORIES</td>\n",
       "      <td>500 PAINT SILICONES</td>\n",
       "      <td>1186</td>\n",
       "      <td>7</td>\n",
       "      <td>5</td>\n",
       "      <td>0.004209</td>\n",
       "      <td>0</td>\n",
       "    </tr>\n",
       "    <tr>\n",
       "      <th>2</th>\n",
       "      <td>500 SKYLIGHT ACCESSORIES</td>\n",
       "      <td>OTHER DEPARMENT OFFRANGE C</td>\n",
       "      <td>1186</td>\n",
       "      <td>6</td>\n",
       "      <td>5</td>\n",
       "      <td>0.004212</td>\n",
       "      <td>0</td>\n",
       "    </tr>\n",
       "    <tr>\n",
       "      <th>3</th>\n",
       "      <td>500 SKYLIGHT ACCESSORIES</td>\n",
       "      <td>500 BUILDING WRAP</td>\n",
       "      <td>1186</td>\n",
       "      <td>34</td>\n",
       "      <td>6</td>\n",
       "      <td>0.004942</td>\n",
       "      <td>0</td>\n",
       "    </tr>\n",
       "    <tr>\n",
       "      <th>4</th>\n",
       "      <td>500 SKYLIGHT ACCESSORIES</td>\n",
       "      <td>500 FIBRE CEMENT SHEETING ACC</td>\n",
       "      <td>1186</td>\n",
       "      <td>20</td>\n",
       "      <td>6</td>\n",
       "      <td>0.005000</td>\n",
       "      <td>0</td>\n",
       "    </tr>\n",
       "    <tr>\n",
       "      <th>5</th>\n",
       "      <td>500 SKYLIGHT ACCESSORIES</td>\n",
       "      <td>500 PLYWOOD SHEETS</td>\n",
       "      <td>1186</td>\n",
       "      <td>19</td>\n",
       "      <td>6</td>\n",
       "      <td>0.005004</td>\n",
       "      <td>0</td>\n",
       "    </tr>\n",
       "    <tr>\n",
       "      <th>6</th>\n",
       "      <td>500 SKYLIGHT ACCESSORIES</td>\n",
       "      <td>500 COLLATED NAILS</td>\n",
       "      <td>1186</td>\n",
       "      <td>17</td>\n",
       "      <td>6</td>\n",
       "      <td>0.005013</td>\n",
       "      <td>0</td>\n",
       "    </tr>\n",
       "    <tr>\n",
       "      <th>7</th>\n",
       "      <td>500 SKYLIGHT ACCESSORIES</td>\n",
       "      <td>500 STRUCT FRAMG H1 2 KD LINKD</td>\n",
       "      <td>1186</td>\n",
       "      <td>12</td>\n",
       "      <td>6</td>\n",
       "      <td>0.005034</td>\n",
       "      <td>0</td>\n",
       "    </tr>\n",
       "    <tr>\n",
       "      <th>8</th>\n",
       "      <td>500 SKYLIGHT ACCESSORIES</td>\n",
       "      <td>500 TIMBER WEATHERBOARDS</td>\n",
       "      <td>1186</td>\n",
       "      <td>10</td>\n",
       "      <td>6</td>\n",
       "      <td>0.005042</td>\n",
       "      <td>0</td>\n",
       "    </tr>\n",
       "    <tr>\n",
       "      <th>9</th>\n",
       "      <td>500 SKYLIGHT ACCESSORIES</td>\n",
       "      <td>500 EXT CLADDING PLAIN</td>\n",
       "      <td>1186</td>\n",
       "      <td>9</td>\n",
       "      <td>6</td>\n",
       "      <td>0.005046</td>\n",
       "      <td>0</td>\n",
       "    </tr>\n",
       "    <tr>\n",
       "      <th>10</th>\n",
       "      <td>500 SKYLIGHT ACCESSORIES</td>\n",
       "      <td>500 CONNECTORS</td>\n",
       "      <td>1186</td>\n",
       "      <td>27</td>\n",
       "      <td>7</td>\n",
       "      <td>0.005804</td>\n",
       "      <td>0</td>\n",
       "    </tr>\n",
       "    <tr>\n",
       "      <th>11</th>\n",
       "      <td>500 SKYLIGHT ACCESSORIES</td>\n",
       "      <td>500 NON STRUCT TRTD PINE GAUGE</td>\n",
       "      <td>1186</td>\n",
       "      <td>24</td>\n",
       "      <td>8</td>\n",
       "      <td>0.006656</td>\n",
       "      <td>0</td>\n",
       "    </tr>\n",
       "    <tr>\n",
       "      <th>12</th>\n",
       "      <td>500 SKYLIGHT ACCESSORIES</td>\n",
       "      <td>500 STRUCTURAL FRAMING H1 2 KD</td>\n",
       "      <td>1186</td>\n",
       "      <td>36</td>\n",
       "      <td>9</td>\n",
       "      <td>0.007420</td>\n",
       "      <td>0</td>\n",
       "    </tr>\n",
       "    <tr>\n",
       "      <th>13</th>\n",
       "      <td>500 SKYLIGHT ACCESSORIES</td>\n",
       "      <td>501 HM FURNISHINGS OFFRANGE</td>\n",
       "      <td>1186</td>\n",
       "      <td>21</td>\n",
       "      <td>9</td>\n",
       "      <td>0.007513</td>\n",
       "      <td>0</td>\n",
       "    </tr>\n",
       "    <tr>\n",
       "      <th>14</th>\n",
       "      <td>500 SKYLIGHT ACCESSORIES</td>\n",
       "      <td>500 BUILDING MATERIALS OFFRANG</td>\n",
       "      <td>1186</td>\n",
       "      <td>28</td>\n",
       "      <td>10</td>\n",
       "      <td>0.008306</td>\n",
       "      <td>0</td>\n",
       "    </tr>\n",
       "    <tr>\n",
       "      <th>15</th>\n",
       "      <td>500 SKYLIGHT ACCESSORIES</td>\n",
       "      <td>500 BUILDING SUPPLIES OFFRANGE</td>\n",
       "      <td>1186</td>\n",
       "      <td>64</td>\n",
       "      <td>19</td>\n",
       "      <td>0.015435</td>\n",
       "      <td>0</td>\n",
       "    </tr>\n",
       "    <tr>\n",
       "      <th>16</th>\n",
       "      <td>500 ROOF WINDOWS</td>\n",
       "      <td>500 STRUCT FRAMG H1 2 KD LINKD</td>\n",
       "      <td>1867</td>\n",
       "      <td>12</td>\n",
       "      <td>7</td>\n",
       "      <td>0.003739</td>\n",
       "      <td>1</td>\n",
       "    </tr>\n",
       "    <tr>\n",
       "      <th>17</th>\n",
       "      <td>500 ROOF WINDOWS</td>\n",
       "      <td>500 EXT CLADDING PLAIN</td>\n",
       "      <td>1867</td>\n",
       "      <td>9</td>\n",
       "      <td>7</td>\n",
       "      <td>0.003745</td>\n",
       "      <td>1</td>\n",
       "    </tr>\n",
       "    <tr>\n",
       "      <th>18</th>\n",
       "      <td>500 ROOF WINDOWS</td>\n",
       "      <td>500 HOME AND SAFETY OFF RANGE</td>\n",
       "      <td>1867</td>\n",
       "      <td>9</td>\n",
       "      <td>7</td>\n",
       "      <td>0.003745</td>\n",
       "      <td>1</td>\n",
       "    </tr>\n",
       "    <tr>\n",
       "      <th>19</th>\n",
       "      <td>500 ROOF WINDOWS</td>\n",
       "      <td>500 PLASTER CLADDING</td>\n",
       "      <td>1867</td>\n",
       "      <td>9</td>\n",
       "      <td>7</td>\n",
       "      <td>0.003745</td>\n",
       "      <td>1</td>\n",
       "    </tr>\n",
       "    <tr>\n",
       "      <th>20</th>\n",
       "      <td>500 ROOF WINDOWS</td>\n",
       "      <td>500 BUILDING BRACKETS</td>\n",
       "      <td>1867</td>\n",
       "      <td>11</td>\n",
       "      <td>8</td>\n",
       "      <td>0.004278</td>\n",
       "      <td>1</td>\n",
       "    </tr>\n",
       "    <tr>\n",
       "      <th>21</th>\n",
       "      <td>500 ROOF WINDOWS</td>\n",
       "      <td>500 FIBRE CEMENT EAVE LINING</td>\n",
       "      <td>1867</td>\n",
       "      <td>11</td>\n",
       "      <td>8</td>\n",
       "      <td>0.004278</td>\n",
       "      <td>1</td>\n",
       "    </tr>\n",
       "    <tr>\n",
       "      <th>22</th>\n",
       "      <td>500 ROOF WINDOWS</td>\n",
       "      <td>500 TIMBER WEATHERBOARDS</td>\n",
       "      <td>1867</td>\n",
       "      <td>10</td>\n",
       "      <td>8</td>\n",
       "      <td>0.004280</td>\n",
       "      <td>1</td>\n",
       "    </tr>\n",
       "    <tr>\n",
       "      <th>23</th>\n",
       "      <td>500 ROOF WINDOWS</td>\n",
       "      <td>500 GLASSWOOL INSULATION BATTS</td>\n",
       "      <td>1867</td>\n",
       "      <td>9</td>\n",
       "      <td>8</td>\n",
       "      <td>0.004283</td>\n",
       "      <td>1</td>\n",
       "    </tr>\n",
       "    <tr>\n",
       "      <th>24</th>\n",
       "      <td>500 ROOF WINDOWS</td>\n",
       "      <td>500 WEATHERBOARDS</td>\n",
       "      <td>1867</td>\n",
       "      <td>13</td>\n",
       "      <td>9</td>\n",
       "      <td>0.004810</td>\n",
       "      <td>1</td>\n",
       "    </tr>\n",
       "    <tr>\n",
       "      <th>25</th>\n",
       "      <td>500 ROOF WINDOWS</td>\n",
       "      <td>500 FASCIA</td>\n",
       "      <td>1867</td>\n",
       "      <td>11</td>\n",
       "      <td>9</td>\n",
       "      <td>0.004815</td>\n",
       "      <td>1</td>\n",
       "    </tr>\n",
       "    <tr>\n",
       "      <th>26</th>\n",
       "      <td>500 ROOF WINDOWS</td>\n",
       "      <td>PALLETS NZ C</td>\n",
       "      <td>1867</td>\n",
       "      <td>11</td>\n",
       "      <td>9</td>\n",
       "      <td>0.004815</td>\n",
       "      <td>1</td>\n",
       "    </tr>\n",
       "    <tr>\n",
       "      <th>27</th>\n",
       "      <td>500 ROOF WINDOWS</td>\n",
       "      <td>500 COLLATED NAILS</td>\n",
       "      <td>1867</td>\n",
       "      <td>17</td>\n",
       "      <td>11</td>\n",
       "      <td>0.005873</td>\n",
       "      <td>1</td>\n",
       "    </tr>\n",
       "    <tr>\n",
       "      <th>28</th>\n",
       "      <td>500 ROOF WINDOWS</td>\n",
       "      <td>500 PAINT ADHESIVES</td>\n",
       "      <td>1867</td>\n",
       "      <td>16</td>\n",
       "      <td>11</td>\n",
       "      <td>0.005876</td>\n",
       "      <td>1</td>\n",
       "    </tr>\n",
       "    <tr>\n",
       "      <th>29</th>\n",
       "      <td>500 ROOF WINDOWS</td>\n",
       "      <td>501 BATTEN</td>\n",
       "      <td>1867</td>\n",
       "      <td>14</td>\n",
       "      <td>11</td>\n",
       "      <td>0.005882</td>\n",
       "      <td>1</td>\n",
       "    </tr>\n",
       "    <tr>\n",
       "      <th>30</th>\n",
       "      <td>500 ROOF WINDOWS</td>\n",
       "      <td>500 STRUCTURAL FRAMING H3 2 KD</td>\n",
       "      <td>1867</td>\n",
       "      <td>12</td>\n",
       "      <td>11</td>\n",
       "      <td>0.005889</td>\n",
       "      <td>1</td>\n",
       "    </tr>\n",
       "    <tr>\n",
       "      <th>31</th>\n",
       "      <td>500 ROOF WINDOWS</td>\n",
       "      <td>500 BUILDING MATERIALS OFFRANG</td>\n",
       "      <td>1867</td>\n",
       "      <td>28</td>\n",
       "      <td>14</td>\n",
       "      <td>0.007443</td>\n",
       "      <td>1</td>\n",
       "    </tr>\n",
       "    <tr>\n",
       "      <th>32</th>\n",
       "      <td>500 ROOF WINDOWS</td>\n",
       "      <td>500 FIBRE CEMENT SHEETING ACC</td>\n",
       "      <td>1867</td>\n",
       "      <td>20</td>\n",
       "      <td>14</td>\n",
       "      <td>0.007475</td>\n",
       "      <td>1</td>\n",
       "    </tr>\n",
       "    <tr>\n",
       "      <th>33</th>\n",
       "      <td>500 ROOF WINDOWS</td>\n",
       "      <td>500 PLYWOOD SHEETS</td>\n",
       "      <td>1867</td>\n",
       "      <td>19</td>\n",
       "      <td>15</td>\n",
       "      <td>0.008017</td>\n",
       "      <td>1</td>\n",
       "    </tr>\n",
       "    <tr>\n",
       "      <th>34</th>\n",
       "      <td>500 ROOF WINDOWS</td>\n",
       "      <td>500 BUILDING WRAP</td>\n",
       "      <td>1867</td>\n",
       "      <td>34</td>\n",
       "      <td>16</td>\n",
       "      <td>0.008488</td>\n",
       "      <td>1</td>\n",
       "    </tr>\n",
       "    <tr>\n",
       "      <th>35</th>\n",
       "      <td>500 ROOF WINDOWS</td>\n",
       "      <td>501 HM FURNISHINGS OFFRANGE</td>\n",
       "      <td>1867</td>\n",
       "      <td>21</td>\n",
       "      <td>16</td>\n",
       "      <td>0.008547</td>\n",
       "      <td>1</td>\n",
       "    </tr>\n",
       "    <tr>\n",
       "      <th>36</th>\n",
       "      <td>500 ROOF WINDOWS</td>\n",
       "      <td>500 NON STRUCT TRTD PINE GAUGE</td>\n",
       "      <td>1867</td>\n",
       "      <td>24</td>\n",
       "      <td>18</td>\n",
       "      <td>0.009610</td>\n",
       "      <td>1</td>\n",
       "    </tr>\n",
       "    <tr>\n",
       "      <th>37</th>\n",
       "      <td>500 ROOF WINDOWS</td>\n",
       "      <td>500 CONNECTORS</td>\n",
       "      <td>1867</td>\n",
       "      <td>27</td>\n",
       "      <td>22</td>\n",
       "      <td>0.011752</td>\n",
       "      <td>1</td>\n",
       "    </tr>\n",
       "    <tr>\n",
       "      <th>38</th>\n",
       "      <td>500 ROOF WINDOWS</td>\n",
       "      <td>500 STRUCTURAL FRAMING H1 2 KD</td>\n",
       "      <td>1867</td>\n",
       "      <td>36</td>\n",
       "      <td>23</td>\n",
       "      <td>0.012234</td>\n",
       "      <td>1</td>\n",
       "    </tr>\n",
       "    <tr>\n",
       "      <th>39</th>\n",
       "      <td>500 ROOF WINDOWS</td>\n",
       "      <td>500 BUILDING SUPPLIES OFFRANGE</td>\n",
       "      <td>1867</td>\n",
       "      <td>64</td>\n",
       "      <td>27</td>\n",
       "      <td>0.014181</td>\n",
       "      <td>1</td>\n",
       "    </tr>\n",
       "  </tbody>\n",
       "</table>\n",
       "</div>"
      ],
      "text/plain": [
       "                  PRIMARY_ID                    SECONDARY_ID  \\\n",
       "0   500 SKYLIGHT ACCESSORIES            500 PLASTER CLADDING   \n",
       "1   500 SKYLIGHT ACCESSORIES             500 PAINT SILICONES   \n",
       "2   500 SKYLIGHT ACCESSORIES      OTHER DEPARMENT OFFRANGE C   \n",
       "3   500 SKYLIGHT ACCESSORIES               500 BUILDING WRAP   \n",
       "4   500 SKYLIGHT ACCESSORIES   500 FIBRE CEMENT SHEETING ACC   \n",
       "5   500 SKYLIGHT ACCESSORIES              500 PLYWOOD SHEETS   \n",
       "6   500 SKYLIGHT ACCESSORIES              500 COLLATED NAILS   \n",
       "7   500 SKYLIGHT ACCESSORIES  500 STRUCT FRAMG H1 2 KD LINKD   \n",
       "8   500 SKYLIGHT ACCESSORIES        500 TIMBER WEATHERBOARDS   \n",
       "9   500 SKYLIGHT ACCESSORIES          500 EXT CLADDING PLAIN   \n",
       "10  500 SKYLIGHT ACCESSORIES                  500 CONNECTORS   \n",
       "11  500 SKYLIGHT ACCESSORIES  500 NON STRUCT TRTD PINE GAUGE   \n",
       "12  500 SKYLIGHT ACCESSORIES  500 STRUCTURAL FRAMING H1 2 KD   \n",
       "13  500 SKYLIGHT ACCESSORIES     501 HM FURNISHINGS OFFRANGE   \n",
       "14  500 SKYLIGHT ACCESSORIES  500 BUILDING MATERIALS OFFRANG   \n",
       "15  500 SKYLIGHT ACCESSORIES  500 BUILDING SUPPLIES OFFRANGE   \n",
       "16          500 ROOF WINDOWS  500 STRUCT FRAMG H1 2 KD LINKD   \n",
       "17          500 ROOF WINDOWS          500 EXT CLADDING PLAIN   \n",
       "18          500 ROOF WINDOWS   500 HOME AND SAFETY OFF RANGE   \n",
       "19          500 ROOF WINDOWS            500 PLASTER CLADDING   \n",
       "20          500 ROOF WINDOWS           500 BUILDING BRACKETS   \n",
       "21          500 ROOF WINDOWS    500 FIBRE CEMENT EAVE LINING   \n",
       "22          500 ROOF WINDOWS        500 TIMBER WEATHERBOARDS   \n",
       "23          500 ROOF WINDOWS  500 GLASSWOOL INSULATION BATTS   \n",
       "24          500 ROOF WINDOWS               500 WEATHERBOARDS   \n",
       "25          500 ROOF WINDOWS                      500 FASCIA   \n",
       "26          500 ROOF WINDOWS                    PALLETS NZ C   \n",
       "27          500 ROOF WINDOWS              500 COLLATED NAILS   \n",
       "28          500 ROOF WINDOWS             500 PAINT ADHESIVES   \n",
       "29          500 ROOF WINDOWS                      501 BATTEN   \n",
       "30          500 ROOF WINDOWS  500 STRUCTURAL FRAMING H3 2 KD   \n",
       "31          500 ROOF WINDOWS  500 BUILDING MATERIALS OFFRANG   \n",
       "32          500 ROOF WINDOWS   500 FIBRE CEMENT SHEETING ACC   \n",
       "33          500 ROOF WINDOWS              500 PLYWOOD SHEETS   \n",
       "34          500 ROOF WINDOWS               500 BUILDING WRAP   \n",
       "35          500 ROOF WINDOWS     501 HM FURNISHINGS OFFRANGE   \n",
       "36          500 ROOF WINDOWS  500 NON STRUCT TRTD PINE GAUGE   \n",
       "37          500 ROOF WINDOWS                  500 CONNECTORS   \n",
       "38          500 ROOF WINDOWS  500 STRUCTURAL FRAMING H1 2 KD   \n",
       "39          500 ROOF WINDOWS  500 BUILDING SUPPLIES OFFRANGE   \n",
       "\n",
       "    PRIMARY_TRANSACTIONS  SECONDARY_TRANSACTIONS  PAIR_TRANSACTIONS   JACCARD  \\\n",
       "0                   1186                       9                  5  0.004202   \n",
       "1                   1186                       7                  5  0.004209   \n",
       "2                   1186                       6                  5  0.004212   \n",
       "3                   1186                      34                  6  0.004942   \n",
       "4                   1186                      20                  6  0.005000   \n",
       "5                   1186                      19                  6  0.005004   \n",
       "6                   1186                      17                  6  0.005013   \n",
       "7                   1186                      12                  6  0.005034   \n",
       "8                   1186                      10                  6  0.005042   \n",
       "9                   1186                       9                  6  0.005046   \n",
       "10                  1186                      27                  7  0.005804   \n",
       "11                  1186                      24                  8  0.006656   \n",
       "12                  1186                      36                  9  0.007420   \n",
       "13                  1186                      21                  9  0.007513   \n",
       "14                  1186                      28                 10  0.008306   \n",
       "15                  1186                      64                 19  0.015435   \n",
       "16                  1867                      12                  7  0.003739   \n",
       "17                  1867                       9                  7  0.003745   \n",
       "18                  1867                       9                  7  0.003745   \n",
       "19                  1867                       9                  7  0.003745   \n",
       "20                  1867                      11                  8  0.004278   \n",
       "21                  1867                      11                  8  0.004278   \n",
       "22                  1867                      10                  8  0.004280   \n",
       "23                  1867                       9                  8  0.004283   \n",
       "24                  1867                      13                  9  0.004810   \n",
       "25                  1867                      11                  9  0.004815   \n",
       "26                  1867                      11                  9  0.004815   \n",
       "27                  1867                      17                 11  0.005873   \n",
       "28                  1867                      16                 11  0.005876   \n",
       "29                  1867                      14                 11  0.005882   \n",
       "30                  1867                      12                 11  0.005889   \n",
       "31                  1867                      28                 14  0.007443   \n",
       "32                  1867                      20                 14  0.007475   \n",
       "33                  1867                      19                 15  0.008017   \n",
       "34                  1867                      34                 16  0.008488   \n",
       "35                  1867                      21                 16  0.008547   \n",
       "36                  1867                      24                 18  0.009610   \n",
       "37                  1867                      27                 22  0.011752   \n",
       "38                  1867                      36                 23  0.012234   \n",
       "39                  1867                      64                 27  0.014181   \n",
       "\n",
       "    segment  \n",
       "0         0  \n",
       "1         0  \n",
       "2         0  \n",
       "3         0  \n",
       "4         0  \n",
       "5         0  \n",
       "6         0  \n",
       "7         0  \n",
       "8         0  \n",
       "9         0  \n",
       "10        0  \n",
       "11        0  \n",
       "12        0  \n",
       "13        0  \n",
       "14        0  \n",
       "15        0  \n",
       "16        1  \n",
       "17        1  \n",
       "18        1  \n",
       "19        1  \n",
       "20        1  \n",
       "21        1  \n",
       "22        1  \n",
       "23        1  \n",
       "24        1  \n",
       "25        1  \n",
       "26        1  \n",
       "27        1  \n",
       "28        1  \n",
       "29        1  \n",
       "30        1  \n",
       "31        1  \n",
       "32        1  \n",
       "33        1  \n",
       "34        1  \n",
       "35        1  \n",
       "36        1  \n",
       "37        1  \n",
       "38        1  \n",
       "39        1  "
      ]
     },
     "execution_count": 239,
     "metadata": {},
     "output_type": "execute_result"
    }
   ],
   "source": [
    "# Merge community partition info with filtered edges\n",
    "partition_df = pd.DataFrame.from_dict(partition, orient='index', columns=['segment']).reset_index()\n",
    "partition_df.rename(columns={'index': 'PRIMARY_ID'}, inplace=True)\n",
    "\n",
    "# Merge and deduplicate\n",
    "labelled_df = filtered_df.merge(partition_df, on='PRIMARY_ID', how='left')\n",
    "labelled_df = labelled_df[['PRIMARY_ID', 'SECONDARY_ID', 'PRIMARY_TRANSACTIONS', 'SECONDARY_TRANSACTIONS', 'PAIR_TRANSACTIONS', METRIC, 'segment']].drop_duplicates()\n",
    "labelled_df = labelled_df.sort_values(by=['segment', METRIC]).reset_index(drop=True)\n",
    "labelled_df"
   ]
  },
  {
   "cell_type": "markdown",
   "metadata": {},
   "source": [
    "**Segment 0: Accessory-only purchases (flashing kits, motors, covers) likely linked to retrofit or finishing jobs. Smaller volumes, lower complexity.**\n",
    "\n",
    "Lightweight fixings: COLLATED NAILS, CONNECTORS\n",
    "\n",
    "Lining/substructure: PLYWOOD SHEETS, FIBRE CEMENT SHEETING ACC, PLASTER CLADDING\n",
    "\n",
    "Timber & framing: STRUCT FRAMG H1, NON STRUCT TRTD PINE GAUGE\n",
    "\n",
    "Packaging: BUILDING SUPPLIES OFFRANGE, HM FURNISHINGS OFFRANGE\n",
    "\n",
    "\n",
    "**Segment 1: Full product install — likely new roof penetrations. Reflects higher material scope, extra framing, thermal barrier work.**\n",
    "\n",
    "Same fixings and panels: COLLATED NAILS, PLYWOOD, CEMENT SHEETING\n",
    "\n",
    "Additional framing complexity: STRUCT FRAMG H3, BATTEN, FASCIA, EAVE LINING\n",
    "\n",
    "More insulation: GLASSWOOL, INSULATION BATTS\n",
    "\n",
    "Other structural needs: BUILDING BRACKETS, BUILDING WRAP, WEATHERBOARDS\n",
    "\n",
    "**Summary:** When commercial customers purchase VELUX skylights or accessories, they are not buying them in isolation. Instead, they are consistently purchasing a set of complementary building materials, indicating these products are part of a broader project kit:\n",
    "- Wall preparation & cladding\n",
    "\n",
    "- Roofline timber and fixings\n",
    "\n",
    "- Ceiling/attic interior finishing"
   ]
  },
  {
   "cell_type": "markdown",
   "metadata": {},
   "source": [
    "# Co-purchase classes (excluded VELUX products)"
   ]
  },
  {
   "cell_type": "markdown",
   "metadata": {},
   "source": [
    "## Parameter tuning"
   ]
  },
  {
   "cell_type": "code",
   "execution_count": 656,
   "metadata": {},
   "outputs": [],
   "source": [
    "TRX_THRESHOLD = 4 # Min N frequent pairs\n",
    "QUANTILE = 0.8 # Nth percentile of metric similarity\n",
    "TOP_N = 10 # top-N associated item classes per primary class\n",
    "RESO = 1 # >1.0 → more, smaller communities\n",
    "METRIC = 'JACCARD' # LIFT or JACCARD"
   ]
  },
  {
   "cell_type": "markdown",
   "metadata": {},
   "source": [
    "## Working"
   ]
  },
  {
   "cell_type": "code",
   "execution_count": 657,
   "metadata": {},
   "outputs": [],
   "source": [
    "filtered_df = df[\n",
    "    ~(\n",
    "        df['PRIMARY_ID'].isin(target_item_class['ITEM_CLASS_NAME']) |\n",
    "        df['SECONDARY_ID'].isin(target_item_class['ITEM_CLASS_NAME'])\n",
    "    )\n",
    "]\n",
    "\n",
    "filtered_df = filtered_df[filtered_df['PAIR_TRANSACTIONS'] >= TRX_THRESHOLD]\n",
    "threshold = filtered_df[METRIC].quantile(QUANTILE)\n",
    "filtered_df = filtered_df[filtered_df[METRIC] >= threshold]\n",
    "top_edges = filtered_df.sort_values(METRIC, ascending=False).groupby('PRIMARY_ID').head(TOP_N)"
   ]
  },
  {
   "cell_type": "code",
   "execution_count": 658,
   "metadata": {},
   "outputs": [
    {
     "data": {
      "text/html": [
       "<div>\n",
       "<style scoped>\n",
       "    .dataframe tbody tr th:only-of-type {\n",
       "        vertical-align: middle;\n",
       "    }\n",
       "\n",
       "    .dataframe tbody tr th {\n",
       "        vertical-align: top;\n",
       "    }\n",
       "\n",
       "    .dataframe thead th {\n",
       "        text-align: right;\n",
       "    }\n",
       "</style>\n",
       "<table border=\"1\" class=\"dataframe\">\n",
       "  <thead>\n",
       "    <tr style=\"text-align: right;\">\n",
       "      <th></th>\n",
       "      <th>PRIMARY_ID</th>\n",
       "      <th>SECONDARY_ID</th>\n",
       "      <th>PRIMARY_TRANSACTIONS</th>\n",
       "      <th>SECONDARY_TRANSACTIONS</th>\n",
       "      <th>TRX_START_MONTH</th>\n",
       "      <th>TRX_END_MONTH</th>\n",
       "      <th>PAIR_TRANSACTIONS</th>\n",
       "      <th>LIFT</th>\n",
       "      <th>JACCARD</th>\n",
       "    </tr>\n",
       "  </thead>\n",
       "  <tbody>\n",
       "    <tr>\n",
       "      <th>342</th>\n",
       "      <td>500 BUILDING WRAP</td>\n",
       "      <td>500 FIBRE CEMENT SHEETING ACC</td>\n",
       "      <td>34</td>\n",
       "      <td>20</td>\n",
       "      <td>2020-08-01</td>\n",
       "      <td>2025-05-01</td>\n",
       "      <td>11</td>\n",
       "      <td>11.566176</td>\n",
       "      <td>0.255814</td>\n",
       "    </tr>\n",
       "    <tr>\n",
       "      <th>1042</th>\n",
       "      <td>500 FIBRE CEMENT SHEETING ACC</td>\n",
       "      <td>500 BUILDING WRAP</td>\n",
       "      <td>21</td>\n",
       "      <td>34</td>\n",
       "      <td>2020-08-01</td>\n",
       "      <td>2025-05-01</td>\n",
       "      <td>11</td>\n",
       "      <td>11.292717</td>\n",
       "      <td>0.250000</td>\n",
       "    </tr>\n",
       "    <tr>\n",
       "      <th>332</th>\n",
       "      <td>500 BUILDING WRAP</td>\n",
       "      <td>500 COLLATED NAILS</td>\n",
       "      <td>34</td>\n",
       "      <td>17</td>\n",
       "      <td>2021-06-01</td>\n",
       "      <td>2025-05-01</td>\n",
       "      <td>9</td>\n",
       "      <td>11.133218</td>\n",
       "      <td>0.214286</td>\n",
       "    </tr>\n",
       "    <tr>\n",
       "      <th>228</th>\n",
       "      <td>500 BUILDING BRACKETS</td>\n",
       "      <td>500 CONNECTORS</td>\n",
       "      <td>11</td>\n",
       "      <td>27</td>\n",
       "      <td>2021-06-01</td>\n",
       "      <td>2025-05-01</td>\n",
       "      <td>7</td>\n",
       "      <td>10.158249</td>\n",
       "      <td>0.225806</td>\n",
       "    </tr>\n",
       "    <tr>\n",
       "      <th>994</th>\n",
       "      <td>500 FIBRE CEMENT EAVE LINING</td>\n",
       "      <td>500 FIBRE CEMENT SHEETING ACC</td>\n",
       "      <td>12</td>\n",
       "      <td>20</td>\n",
       "      <td>2021-03-01</td>\n",
       "      <td>2025-02-01</td>\n",
       "      <td>7</td>\n",
       "      <td>12.395833</td>\n",
       "      <td>0.280000</td>\n",
       "    </tr>\n",
       "    <tr>\n",
       "      <th>1099</th>\n",
       "      <td>500 FIBRE CEMENT SHEETING ACC</td>\n",
       "      <td>501 BATTEN</td>\n",
       "      <td>21</td>\n",
       "      <td>14</td>\n",
       "      <td>2021-03-01</td>\n",
       "      <td>2025-03-01</td>\n",
       "      <td>7</td>\n",
       "      <td>17.452381</td>\n",
       "      <td>0.250000</td>\n",
       "    </tr>\n",
       "    <tr>\n",
       "      <th>1053</th>\n",
       "      <td>500 FIBRE CEMENT SHEETING ACC</td>\n",
       "      <td>500 FIBRE CEMENT EAVE LINING</td>\n",
       "      <td>21</td>\n",
       "      <td>11</td>\n",
       "      <td>2021-03-01</td>\n",
       "      <td>2025-02-01</td>\n",
       "      <td>7</td>\n",
       "      <td>22.212121</td>\n",
       "      <td>0.280000</td>\n",
       "    </tr>\n",
       "    <tr>\n",
       "      <th>3426</th>\n",
       "      <td>501 BATTEN</td>\n",
       "      <td>500 FIBRE CEMENT SHEETING ACC</td>\n",
       "      <td>15</td>\n",
       "      <td>20</td>\n",
       "      <td>2021-03-01</td>\n",
       "      <td>2025-03-01</td>\n",
       "      <td>7</td>\n",
       "      <td>12.576667</td>\n",
       "      <td>0.250000</td>\n",
       "    </tr>\n",
       "    <tr>\n",
       "      <th>639</th>\n",
       "      <td>500 CONNECTORS</td>\n",
       "      <td>500 BUILDING BRACKETS</td>\n",
       "      <td>27</td>\n",
       "      <td>11</td>\n",
       "      <td>2021-06-01</td>\n",
       "      <td>2025-05-01</td>\n",
       "      <td>7</td>\n",
       "      <td>25.077441</td>\n",
       "      <td>0.225806</td>\n",
       "    </tr>\n",
       "    <tr>\n",
       "      <th>1097</th>\n",
       "      <td>500 FIBRE CEMENT SHEETING ACC</td>\n",
       "      <td>500 WEATHERBOARDS</td>\n",
       "      <td>21</td>\n",
       "      <td>13</td>\n",
       "      <td>2022-06-01</td>\n",
       "      <td>2025-03-01</td>\n",
       "      <td>6</td>\n",
       "      <td>16.109890</td>\n",
       "      <td>0.214286</td>\n",
       "    </tr>\n",
       "    <tr>\n",
       "      <th>3340</th>\n",
       "      <td>500 WEATHERBOARDS</td>\n",
       "      <td>500 FIBRE CEMENT SHEETING ACC</td>\n",
       "      <td>13</td>\n",
       "      <td>20</td>\n",
       "      <td>2022-06-01</td>\n",
       "      <td>2025-03-01</td>\n",
       "      <td>6</td>\n",
       "      <td>9.046154</td>\n",
       "      <td>0.222222</td>\n",
       "    </tr>\n",
       "    <tr>\n",
       "      <th>1684</th>\n",
       "      <td>500 NONSTRUCT TRTD PINE GG LNK</td>\n",
       "      <td>500 FIBRE CEMENT SHEETING ACC</td>\n",
       "      <td>5</td>\n",
       "      <td>20</td>\n",
       "      <td>2024-07-01</td>\n",
       "      <td>2025-05-01</td>\n",
       "      <td>5</td>\n",
       "      <td>11.800000</td>\n",
       "      <td>0.250000</td>\n",
       "    </tr>\n",
       "    <tr>\n",
       "      <th>1780</th>\n",
       "      <td>500 PAINT ADHESIVES</td>\n",
       "      <td>500 PLASTER CLADDING</td>\n",
       "      <td>16</td>\n",
       "      <td>9</td>\n",
       "      <td>2020-09-01</td>\n",
       "      <td>2025-03-01</td>\n",
       "      <td>5</td>\n",
       "      <td>21.423611</td>\n",
       "      <td>0.250000</td>\n",
       "    </tr>\n",
       "    <tr>\n",
       "      <th>2119</th>\n",
       "      <td>500 PLASTER CLADDING</td>\n",
       "      <td>500 PAINT ADHESIVES</td>\n",
       "      <td>9</td>\n",
       "      <td>16</td>\n",
       "      <td>2020-09-01</td>\n",
       "      <td>2025-03-01</td>\n",
       "      <td>5</td>\n",
       "      <td>14.548611</td>\n",
       "      <td>0.250000</td>\n",
       "    </tr>\n",
       "    <tr>\n",
       "      <th>1065</th>\n",
       "      <td>500 FIBRE CEMENT SHEETING ACC</td>\n",
       "      <td>500 NONSTRUCT TRTD PINE GG LNK</td>\n",
       "      <td>21</td>\n",
       "      <td>5</td>\n",
       "      <td>2024-07-01</td>\n",
       "      <td>2025-05-01</td>\n",
       "      <td>5</td>\n",
       "      <td>34.904762</td>\n",
       "      <td>0.238095</td>\n",
       "    </tr>\n",
       "    <tr>\n",
       "      <th>993</th>\n",
       "      <td>500 FIBRE CEMENT EAVE LINING</td>\n",
       "      <td>500 FASCIA</td>\n",
       "      <td>12</td>\n",
       "      <td>11</td>\n",
       "      <td>2021-03-01</td>\n",
       "      <td>2023-09-01</td>\n",
       "      <td>4</td>\n",
       "      <td>12.878788</td>\n",
       "      <td>0.210526</td>\n",
       "    </tr>\n",
       "    <tr>\n",
       "      <th>952</th>\n",
       "      <td>500 FASCIA</td>\n",
       "      <td>500 TIMBER WEATHERBOARDS</td>\n",
       "      <td>11</td>\n",
       "      <td>10</td>\n",
       "      <td>2021-06-01</td>\n",
       "      <td>2023-04-01</td>\n",
       "      <td>4</td>\n",
       "      <td>14.654545</td>\n",
       "      <td>0.235294</td>\n",
       "    </tr>\n",
       "    <tr>\n",
       "      <th>950</th>\n",
       "      <td>500 FASCIA</td>\n",
       "      <td>500 STRUCTURAL FRAMING H3 2 KD</td>\n",
       "      <td>11</td>\n",
       "      <td>12</td>\n",
       "      <td>2021-06-01</td>\n",
       "      <td>2024-02-01</td>\n",
       "      <td>4</td>\n",
       "      <td>12.212121</td>\n",
       "      <td>0.210526</td>\n",
       "    </tr>\n",
       "    <tr>\n",
       "      <th>920</th>\n",
       "      <td>500 FASCIA</td>\n",
       "      <td>500 FIBRE CEMENT EAVE LINING</td>\n",
       "      <td>11</td>\n",
       "      <td>11</td>\n",
       "      <td>2021-03-01</td>\n",
       "      <td>2023-09-01</td>\n",
       "      <td>4</td>\n",
       "      <td>13.322314</td>\n",
       "      <td>0.222222</td>\n",
       "    </tr>\n",
       "    <tr>\n",
       "      <th>435</th>\n",
       "      <td>500 BULLET HEAD</td>\n",
       "      <td>500 WEATHERBOARDS</td>\n",
       "      <td>7</td>\n",
       "      <td>13</td>\n",
       "      <td>2021-06-01</td>\n",
       "      <td>2024-08-01</td>\n",
       "      <td>4</td>\n",
       "      <td>11.516484</td>\n",
       "      <td>0.250000</td>\n",
       "    </tr>\n",
       "    <tr>\n",
       "      <th>1782</th>\n",
       "      <td>500 PAINT ADHESIVES</td>\n",
       "      <td>500 PLYWOOD FLOORING</td>\n",
       "      <td>16</td>\n",
       "      <td>5</td>\n",
       "      <td>2021-09-01</td>\n",
       "      <td>2024-11-01</td>\n",
       "      <td>4</td>\n",
       "      <td>30.850000</td>\n",
       "      <td>0.235294</td>\n",
       "    </tr>\n",
       "    <tr>\n",
       "      <th>2224</th>\n",
       "      <td>500 PLYWOOD FLOORING</td>\n",
       "      <td>500 PAINT ADHESIVES</td>\n",
       "      <td>5</td>\n",
       "      <td>16</td>\n",
       "      <td>2021-09-01</td>\n",
       "      <td>2024-11-01</td>\n",
       "      <td>4</td>\n",
       "      <td>10.650000</td>\n",
       "      <td>0.235294</td>\n",
       "    </tr>\n",
       "    <tr>\n",
       "      <th>3244</th>\n",
       "      <td>500 TIMBER WEATHERBOARDS</td>\n",
       "      <td>500 FASCIA</td>\n",
       "      <td>10</td>\n",
       "      <td>11</td>\n",
       "      <td>2021-06-01</td>\n",
       "      <td>2023-04-01</td>\n",
       "      <td>4</td>\n",
       "      <td>16.109091</td>\n",
       "      <td>0.235294</td>\n",
       "    </tr>\n",
       "    <tr>\n",
       "      <th>3330</th>\n",
       "      <td>500 WEATHERBOARDS</td>\n",
       "      <td>500 BULLET HEAD</td>\n",
       "      <td>13</td>\n",
       "      <td>6</td>\n",
       "      <td>2021-06-01</td>\n",
       "      <td>2024-08-01</td>\n",
       "      <td>4</td>\n",
       "      <td>20.102564</td>\n",
       "      <td>0.266667</td>\n",
       "    </tr>\n",
       "  </tbody>\n",
       "</table>\n",
       "</div>"
      ],
      "text/plain": [
       "                          PRIMARY_ID                    SECONDARY_ID  \\\n",
       "342                500 BUILDING WRAP   500 FIBRE CEMENT SHEETING ACC   \n",
       "1042   500 FIBRE CEMENT SHEETING ACC               500 BUILDING WRAP   \n",
       "332                500 BUILDING WRAP              500 COLLATED NAILS   \n",
       "228            500 BUILDING BRACKETS                  500 CONNECTORS   \n",
       "994     500 FIBRE CEMENT EAVE LINING   500 FIBRE CEMENT SHEETING ACC   \n",
       "1099   500 FIBRE CEMENT SHEETING ACC                      501 BATTEN   \n",
       "1053   500 FIBRE CEMENT SHEETING ACC    500 FIBRE CEMENT EAVE LINING   \n",
       "3426                      501 BATTEN   500 FIBRE CEMENT SHEETING ACC   \n",
       "639                   500 CONNECTORS           500 BUILDING BRACKETS   \n",
       "1097   500 FIBRE CEMENT SHEETING ACC               500 WEATHERBOARDS   \n",
       "3340               500 WEATHERBOARDS   500 FIBRE CEMENT SHEETING ACC   \n",
       "1684  500 NONSTRUCT TRTD PINE GG LNK   500 FIBRE CEMENT SHEETING ACC   \n",
       "1780             500 PAINT ADHESIVES            500 PLASTER CLADDING   \n",
       "2119            500 PLASTER CLADDING             500 PAINT ADHESIVES   \n",
       "1065   500 FIBRE CEMENT SHEETING ACC  500 NONSTRUCT TRTD PINE GG LNK   \n",
       "993     500 FIBRE CEMENT EAVE LINING                      500 FASCIA   \n",
       "952                       500 FASCIA        500 TIMBER WEATHERBOARDS   \n",
       "950                       500 FASCIA  500 STRUCTURAL FRAMING H3 2 KD   \n",
       "920                       500 FASCIA    500 FIBRE CEMENT EAVE LINING   \n",
       "435                  500 BULLET HEAD               500 WEATHERBOARDS   \n",
       "1782             500 PAINT ADHESIVES            500 PLYWOOD FLOORING   \n",
       "2224            500 PLYWOOD FLOORING             500 PAINT ADHESIVES   \n",
       "3244        500 TIMBER WEATHERBOARDS                      500 FASCIA   \n",
       "3330               500 WEATHERBOARDS                 500 BULLET HEAD   \n",
       "\n",
       "      PRIMARY_TRANSACTIONS  SECONDARY_TRANSACTIONS TRX_START_MONTH  \\\n",
       "342                     34                      20      2020-08-01   \n",
       "1042                    21                      34      2020-08-01   \n",
       "332                     34                      17      2021-06-01   \n",
       "228                     11                      27      2021-06-01   \n",
       "994                     12                      20      2021-03-01   \n",
       "1099                    21                      14      2021-03-01   \n",
       "1053                    21                      11      2021-03-01   \n",
       "3426                    15                      20      2021-03-01   \n",
       "639                     27                      11      2021-06-01   \n",
       "1097                    21                      13      2022-06-01   \n",
       "3340                    13                      20      2022-06-01   \n",
       "1684                     5                      20      2024-07-01   \n",
       "1780                    16                       9      2020-09-01   \n",
       "2119                     9                      16      2020-09-01   \n",
       "1065                    21                       5      2024-07-01   \n",
       "993                     12                      11      2021-03-01   \n",
       "952                     11                      10      2021-06-01   \n",
       "950                     11                      12      2021-06-01   \n",
       "920                     11                      11      2021-03-01   \n",
       "435                      7                      13      2021-06-01   \n",
       "1782                    16                       5      2021-09-01   \n",
       "2224                     5                      16      2021-09-01   \n",
       "3244                    10                      11      2021-06-01   \n",
       "3330                    13                       6      2021-06-01   \n",
       "\n",
       "     TRX_END_MONTH  PAIR_TRANSACTIONS       LIFT   JACCARD  \n",
       "342     2025-05-01                 11  11.566176  0.255814  \n",
       "1042    2025-05-01                 11  11.292717  0.250000  \n",
       "332     2025-05-01                  9  11.133218  0.214286  \n",
       "228     2025-05-01                  7  10.158249  0.225806  \n",
       "994     2025-02-01                  7  12.395833  0.280000  \n",
       "1099    2025-03-01                  7  17.452381  0.250000  \n",
       "1053    2025-02-01                  7  22.212121  0.280000  \n",
       "3426    2025-03-01                  7  12.576667  0.250000  \n",
       "639     2025-05-01                  7  25.077441  0.225806  \n",
       "1097    2025-03-01                  6  16.109890  0.214286  \n",
       "3340    2025-03-01                  6   9.046154  0.222222  \n",
       "1684    2025-05-01                  5  11.800000  0.250000  \n",
       "1780    2025-03-01                  5  21.423611  0.250000  \n",
       "2119    2025-03-01                  5  14.548611  0.250000  \n",
       "1065    2025-05-01                  5  34.904762  0.238095  \n",
       "993     2023-09-01                  4  12.878788  0.210526  \n",
       "952     2023-04-01                  4  14.654545  0.235294  \n",
       "950     2024-02-01                  4  12.212121  0.210526  \n",
       "920     2023-09-01                  4  13.322314  0.222222  \n",
       "435     2024-08-01                  4  11.516484  0.250000  \n",
       "1782    2024-11-01                  4  30.850000  0.235294  \n",
       "2224    2024-11-01                  4  10.650000  0.235294  \n",
       "3244    2023-04-01                  4  16.109091  0.235294  \n",
       "3330    2024-08-01                  4  20.102564  0.266667  "
      ]
     },
     "execution_count": 658,
     "metadata": {},
     "output_type": "execute_result"
    }
   ],
   "source": [
    "filtered_df.sort_values(by='PAIR_TRANSACTIONS', ascending=False)"
   ]
  },
  {
   "cell_type": "code",
   "execution_count": 659,
   "metadata": {},
   "outputs": [],
   "source": [
    "mode='lines',\n",
    "line_shape='spline'\n",
    "    \n",
    "# Build node size map from your DataFrame\n",
    "node_size_map = dict(zip(top_edges['PRIMARY_ID'], top_edges['PRIMARY_TRANSACTIONS']))\n",
    "\n",
    "# Convert values to NumPy array\n",
    "sizes = np.array(list(node_size_map.values()))\n",
    "\n",
    "# Use np.ptp instead of .ptp()\n",
    "norm_sizes = (sizes - sizes.min()) / np.ptp(sizes)  # scale to 0–1\n",
    "scaled_sizes = 10 + norm_sizes * 30                 # scale to 10–40\n",
    "\n",
    "# Final size map: Product ID → Scaled Size\n",
    "scaled_size_map = dict(zip(node_size_map.keys(), scaled_sizes))\n",
    "\n",
    "# Step 1: Build the full graph\n",
    "G = nx.Graph()\n",
    "for _, row in top_edges.iterrows():\n",
    "    G.add_edge(row['PRIMARY_ID'], row['SECONDARY_ID'], weight=row[METRIC])\n",
    "\n",
    "# Step 2: Louvain community detection\n",
    "partition = community_louvain.best_partition(G, weight=METRIC, resolution=RESO)\n",
    "\n",
    "# Step 3: Layout\n",
    "pos = nx.spring_layout(G, weight='weight', seed=42\n",
    "                      )\n",
    "\n",
    "# Step 4: Edge trace (no filter on weight)\n",
    "edge_x, edge_y = [], []\n",
    "for u, v in G.edges():\n",
    "    x0, y0 = pos[u]\n",
    "    x1, y1 = pos[v]\n",
    "    edge_x += [x0, x1, None]\n",
    "    edge_y += [y0, y1, None]\n",
    "\n",
    "edge_trace = go.Scatter(\n",
    "    x=edge_x,\n",
    "    y=edge_y,\n",
    "    line=dict(width=1, color='gray'),\n",
    "    hoverinfo='none',\n",
    "    mode='lines'\n",
    ")\n",
    "\n",
    "# Step 5: Node trace with Louvain cluster coloring\n",
    "color_list = ['#1f77b4', '#ff7f0e', '#2ca02c', '#d62728',\n",
    "              '#9467bd', '#8c564b', '#e377c2', '#7f7f7f',\n",
    "              '#bcbd22', '#17becf']  # Extend if you expect >10 clusters\n",
    "\n",
    "node_x, node_y, node_color, node_size, hover_text = [], [], [], [], []\n",
    "\n",
    "for node in G.nodes():\n",
    "    x, y = pos[node]\n",
    "    cluster = partition[node]\n",
    "    size = scaled_size_map.get(node, 10)  # default to small if missing\n",
    "\n",
    "    node_x.append(x)\n",
    "    node_y.append(y)\n",
    "    node_color.append(color_list[cluster % len(color_list)])\n",
    "    node_size.append(size)\n",
    "    hover_text.append(f\"Product ID: {node}<br>Cluster: {cluster}<br>Transactions: {int(size)}\")\n",
    "\n",
    "node_trace = go.Scatter(\n",
    "    x=node_x,\n",
    "    y=node_y,\n",
    "    mode='markers+text',\n",
    "    hoverinfo='text',\n",
    "    text=[str(node) for node in G.nodes()],\n",
    "    textposition='top center',\n",
    "    marker=dict(\n",
    "        color=node_color,\n",
    "        size=node_size,  # <--- size now dynamic!\n",
    "        line=dict(width=2, color='black')\n",
    "    ),\n",
    "    textfont=dict(\n",
    "    size=16,          # increase for visibility\n",
    "    color='black',\n",
    "    family='Arial'\n",
    ")\n",
    ")\n",
    "# Step 6: Plot\n",
    "fig = go.Figure(\n",
    "    data=[edge_trace, node_trace],\n",
    "    layout=go.Layout(\n",
    "        width=1200,          # increase width\n",
    "    height=800, \n",
    "        title=dict(text='Louvain Product Clustering (All Edges)', x=0.5, font=dict(size=16)),\n",
    "        showlegend=False,\n",
    "        hovermode='closest',\n",
    "        margin=dict(b=20, l=20, r=20, t=40),\n",
    "        xaxis=dict(showgrid=False, zeroline=False, showticklabels=False),\n",
    "        yaxis=dict(showgrid=False, zeroline=False, showticklabels=False)\n",
    "    )\n",
    ")"
   ]
  },
  {
   "cell_type": "markdown",
   "metadata": {},
   "source": [
    "## Results"
   ]
  },
  {
   "cell_type": "code",
   "execution_count": 660,
   "metadata": {},
   "outputs": [
    {
     "data": {
      "application/vnd.plotly.v1+json": {
       "config": {
        "plotlyServerURL": "https://plot.ly"
       },
       "data": [
        {
         "hoverinfo": "none",
         "line": {
          "color": "gray",
          "width": 1
         },
         "mode": "lines",
         "type": "scatter",
         "x": [
          0.13971710009929125,
          0.022544127985896733,
          null,
          0.13971710009929125,
          0.32132278192837066,
          null,
          0.022544127985896733,
          0.26986625977058465,
          null,
          0.022544127985896733,
          0.11563593201851423,
          null,
          0.022544127985896733,
          -0.07975937134880931,
          null,
          0.022544127985896733,
          -0.2856393527653829,
          null,
          -0.2856393527653829,
          -0.5100553735289378,
          null,
          0.26986625977058465,
          0.43805501877839653,
          null,
          0.16932541859805886,
          -0.04417008519746652,
          null,
          0.16932541859805886,
          0.07540980644657899,
          null,
          0.32132278192837066,
          0.2557826353508204,
          null,
          0.32132278192837066,
          0.5516475366437246,
          null,
          -0.6600901064636479,
          -0.779592328315993,
          null
         ],
         "y": [
          0.06043521246955476,
          0.331511509191411,
          null,
          0.06043521246955476,
          -0.20287913343425312,
          null,
          0.331511509191411,
          0.3283066896870744,
          null,
          0.331511509191411,
          0.5589580806647408,
          null,
          0.331511509191411,
          0.5447691947134378,
          null,
          0.331511509191411,
          0.2752893208249558,
          null,
          0.2752893208249558,
          0.21926785270179647,
          null,
          0.3283066896870744,
          0.19672732904856338,
          null,
          -0.9867280239135642,
          -1,
          null,
          -0.9867280239135642,
          -0.9820537548426345,
          null,
          -0.20287913343425312,
          -0.40063202630507694,
          null,
          -0.20287913343425312,
          -0.30397432392925433,
          null,
          0.7358876749460816,
          0.6251143981771672,
          null
         ]
        },
        {
         "hoverinfo": "text",
         "marker": {
          "color": [
           "#1f77b4",
           "#ff7f0e",
           "#2ca02c",
           "#2ca02c",
           "#ff7f0e",
           "#ff7f0e",
           "#9467bd",
           "#9467bd",
           "#ff7f0e",
           "#9467bd",
           "#1f77b4",
           "#1f77b4",
           "#d62728",
           "#d62728",
           "#ff7f0e",
           "#1f77b4"
          ],
          "line": {
           "color": "black",
           "width": 2
          },
          "size": [
           17.24137931034483,
           26.551724137931036,
           18.275862068965516,
           12.068965517241379,
           40,
           20.344827586206897,
           21.379310344827587,
           14.137931034482758,
           10,
           10,
           16.20689655172414,
           15.172413793103448,
           32.758620689655174,
           16.20689655172414,
           10,
           10
          ]
         },
         "mode": "markers+text",
         "text": [
          "500 FIBRE CEMENT EAVE LINING",
          "500 FIBRE CEMENT SHEETING ACC",
          "500 WEATHERBOARDS",
          "500 BULLET HEAD",
          "500 BUILDING WRAP",
          "501 BATTEN",
          "500 PAINT ADHESIVES",
          "500 PLASTER CLADDING",
          "500 NONSTRUCT TRTD PINE GG LNK",
          "500 PLYWOOD FLOORING",
          "500 FASCIA",
          "500 TIMBER WEATHERBOARDS",
          "500 CONNECTORS",
          "500 BUILDING BRACKETS",
          "500 COLLATED NAILS",
          "500 STRUCTURAL FRAMING H3 2 KD"
         ],
         "textfont": {
          "color": "black",
          "family": "Arial",
          "size": 16
         },
         "textposition": "top center",
         "type": "scatter",
         "x": [
          0.13971710009929125,
          0.022544127985896733,
          -0.2856393527653829,
          -0.5100553735289378,
          0.26986625977058465,
          0.11563593201851423,
          0.16932541859805886,
          -0.04417008519746652,
          -0.07975937134880931,
          0.07540980644657899,
          0.32132278192837066,
          0.2557826353508204,
          -0.6600901064636479,
          -0.779592328315993,
          0.43805501877839653,
          0.5516475366437246
         ],
         "y": [
          0.06043521246955476,
          0.331511509191411,
          0.2752893208249558,
          0.21926785270179647,
          0.3283066896870744,
          0.5589580806647408,
          -0.9867280239135642,
          -1,
          0.5447691947134378,
          -0.9820537548426345,
          -0.20287913343425312,
          -0.40063202630507694,
          0.7358876749460816,
          0.6251143981771672,
          0.19672732904856338,
          -0.30397432392925433
         ]
        }
       ],
       "layout": {
        "height": 800,
        "hovermode": "closest",
        "margin": {
         "b": 20,
         "l": 20,
         "r": 20,
         "t": 40
        },
        "showlegend": false,
        "template": {
         "data": {
          "bar": [
           {
            "error_x": {
             "color": "#2a3f5f"
            },
            "error_y": {
             "color": "#2a3f5f"
            },
            "marker": {
             "line": {
              "color": "#E5ECF6",
              "width": 0.5
             },
             "pattern": {
              "fillmode": "overlay",
              "size": 10,
              "solidity": 0.2
             }
            },
            "type": "bar"
           }
          ],
          "barpolar": [
           {
            "marker": {
             "line": {
              "color": "#E5ECF6",
              "width": 0.5
             },
             "pattern": {
              "fillmode": "overlay",
              "size": 10,
              "solidity": 0.2
             }
            },
            "type": "barpolar"
           }
          ],
          "carpet": [
           {
            "aaxis": {
             "endlinecolor": "#2a3f5f",
             "gridcolor": "white",
             "linecolor": "white",
             "minorgridcolor": "white",
             "startlinecolor": "#2a3f5f"
            },
            "baxis": {
             "endlinecolor": "#2a3f5f",
             "gridcolor": "white",
             "linecolor": "white",
             "minorgridcolor": "white",
             "startlinecolor": "#2a3f5f"
            },
            "type": "carpet"
           }
          ],
          "choropleth": [
           {
            "colorbar": {
             "outlinewidth": 0,
             "ticks": ""
            },
            "type": "choropleth"
           }
          ],
          "contour": [
           {
            "colorbar": {
             "outlinewidth": 0,
             "ticks": ""
            },
            "colorscale": [
             [
              0,
              "#0d0887"
             ],
             [
              0.1111111111111111,
              "#46039f"
             ],
             [
              0.2222222222222222,
              "#7201a8"
             ],
             [
              0.3333333333333333,
              "#9c179e"
             ],
             [
              0.4444444444444444,
              "#bd3786"
             ],
             [
              0.5555555555555556,
              "#d8576b"
             ],
             [
              0.6666666666666666,
              "#ed7953"
             ],
             [
              0.7777777777777778,
              "#fb9f3a"
             ],
             [
              0.8888888888888888,
              "#fdca26"
             ],
             [
              1,
              "#f0f921"
             ]
            ],
            "type": "contour"
           }
          ],
          "contourcarpet": [
           {
            "colorbar": {
             "outlinewidth": 0,
             "ticks": ""
            },
            "type": "contourcarpet"
           }
          ],
          "heatmap": [
           {
            "colorbar": {
             "outlinewidth": 0,
             "ticks": ""
            },
            "colorscale": [
             [
              0,
              "#0d0887"
             ],
             [
              0.1111111111111111,
              "#46039f"
             ],
             [
              0.2222222222222222,
              "#7201a8"
             ],
             [
              0.3333333333333333,
              "#9c179e"
             ],
             [
              0.4444444444444444,
              "#bd3786"
             ],
             [
              0.5555555555555556,
              "#d8576b"
             ],
             [
              0.6666666666666666,
              "#ed7953"
             ],
             [
              0.7777777777777778,
              "#fb9f3a"
             ],
             [
              0.8888888888888888,
              "#fdca26"
             ],
             [
              1,
              "#f0f921"
             ]
            ],
            "type": "heatmap"
           }
          ],
          "heatmapgl": [
           {
            "colorbar": {
             "outlinewidth": 0,
             "ticks": ""
            },
            "colorscale": [
             [
              0,
              "#0d0887"
             ],
             [
              0.1111111111111111,
              "#46039f"
             ],
             [
              0.2222222222222222,
              "#7201a8"
             ],
             [
              0.3333333333333333,
              "#9c179e"
             ],
             [
              0.4444444444444444,
              "#bd3786"
             ],
             [
              0.5555555555555556,
              "#d8576b"
             ],
             [
              0.6666666666666666,
              "#ed7953"
             ],
             [
              0.7777777777777778,
              "#fb9f3a"
             ],
             [
              0.8888888888888888,
              "#fdca26"
             ],
             [
              1,
              "#f0f921"
             ]
            ],
            "type": "heatmapgl"
           }
          ],
          "histogram": [
           {
            "marker": {
             "pattern": {
              "fillmode": "overlay",
              "size": 10,
              "solidity": 0.2
             }
            },
            "type": "histogram"
           }
          ],
          "histogram2d": [
           {
            "colorbar": {
             "outlinewidth": 0,
             "ticks": ""
            },
            "colorscale": [
             [
              0,
              "#0d0887"
             ],
             [
              0.1111111111111111,
              "#46039f"
             ],
             [
              0.2222222222222222,
              "#7201a8"
             ],
             [
              0.3333333333333333,
              "#9c179e"
             ],
             [
              0.4444444444444444,
              "#bd3786"
             ],
             [
              0.5555555555555556,
              "#d8576b"
             ],
             [
              0.6666666666666666,
              "#ed7953"
             ],
             [
              0.7777777777777778,
              "#fb9f3a"
             ],
             [
              0.8888888888888888,
              "#fdca26"
             ],
             [
              1,
              "#f0f921"
             ]
            ],
            "type": "histogram2d"
           }
          ],
          "histogram2dcontour": [
           {
            "colorbar": {
             "outlinewidth": 0,
             "ticks": ""
            },
            "colorscale": [
             [
              0,
              "#0d0887"
             ],
             [
              0.1111111111111111,
              "#46039f"
             ],
             [
              0.2222222222222222,
              "#7201a8"
             ],
             [
              0.3333333333333333,
              "#9c179e"
             ],
             [
              0.4444444444444444,
              "#bd3786"
             ],
             [
              0.5555555555555556,
              "#d8576b"
             ],
             [
              0.6666666666666666,
              "#ed7953"
             ],
             [
              0.7777777777777778,
              "#fb9f3a"
             ],
             [
              0.8888888888888888,
              "#fdca26"
             ],
             [
              1,
              "#f0f921"
             ]
            ],
            "type": "histogram2dcontour"
           }
          ],
          "mesh3d": [
           {
            "colorbar": {
             "outlinewidth": 0,
             "ticks": ""
            },
            "type": "mesh3d"
           }
          ],
          "parcoords": [
           {
            "line": {
             "colorbar": {
              "outlinewidth": 0,
              "ticks": ""
             }
            },
            "type": "parcoords"
           }
          ],
          "pie": [
           {
            "automargin": true,
            "type": "pie"
           }
          ],
          "scatter": [
           {
            "fillpattern": {
             "fillmode": "overlay",
             "size": 10,
             "solidity": 0.2
            },
            "type": "scatter"
           }
          ],
          "scatter3d": [
           {
            "line": {
             "colorbar": {
              "outlinewidth": 0,
              "ticks": ""
             }
            },
            "marker": {
             "colorbar": {
              "outlinewidth": 0,
              "ticks": ""
             }
            },
            "type": "scatter3d"
           }
          ],
          "scattercarpet": [
           {
            "marker": {
             "colorbar": {
              "outlinewidth": 0,
              "ticks": ""
             }
            },
            "type": "scattercarpet"
           }
          ],
          "scattergeo": [
           {
            "marker": {
             "colorbar": {
              "outlinewidth": 0,
              "ticks": ""
             }
            },
            "type": "scattergeo"
           }
          ],
          "scattergl": [
           {
            "marker": {
             "colorbar": {
              "outlinewidth": 0,
              "ticks": ""
             }
            },
            "type": "scattergl"
           }
          ],
          "scattermapbox": [
           {
            "marker": {
             "colorbar": {
              "outlinewidth": 0,
              "ticks": ""
             }
            },
            "type": "scattermapbox"
           }
          ],
          "scatterpolar": [
           {
            "marker": {
             "colorbar": {
              "outlinewidth": 0,
              "ticks": ""
             }
            },
            "type": "scatterpolar"
           }
          ],
          "scatterpolargl": [
           {
            "marker": {
             "colorbar": {
              "outlinewidth": 0,
              "ticks": ""
             }
            },
            "type": "scatterpolargl"
           }
          ],
          "scatterternary": [
           {
            "marker": {
             "colorbar": {
              "outlinewidth": 0,
              "ticks": ""
             }
            },
            "type": "scatterternary"
           }
          ],
          "surface": [
           {
            "colorbar": {
             "outlinewidth": 0,
             "ticks": ""
            },
            "colorscale": [
             [
              0,
              "#0d0887"
             ],
             [
              0.1111111111111111,
              "#46039f"
             ],
             [
              0.2222222222222222,
              "#7201a8"
             ],
             [
              0.3333333333333333,
              "#9c179e"
             ],
             [
              0.4444444444444444,
              "#bd3786"
             ],
             [
              0.5555555555555556,
              "#d8576b"
             ],
             [
              0.6666666666666666,
              "#ed7953"
             ],
             [
              0.7777777777777778,
              "#fb9f3a"
             ],
             [
              0.8888888888888888,
              "#fdca26"
             ],
             [
              1,
              "#f0f921"
             ]
            ],
            "type": "surface"
           }
          ],
          "table": [
           {
            "cells": {
             "fill": {
              "color": "#EBF0F8"
             },
             "line": {
              "color": "white"
             }
            },
            "header": {
             "fill": {
              "color": "#C8D4E3"
             },
             "line": {
              "color": "white"
             }
            },
            "type": "table"
           }
          ]
         },
         "layout": {
          "annotationdefaults": {
           "arrowcolor": "#2a3f5f",
           "arrowhead": 0,
           "arrowwidth": 1
          },
          "autotypenumbers": "strict",
          "coloraxis": {
           "colorbar": {
            "outlinewidth": 0,
            "ticks": ""
           }
          },
          "colorscale": {
           "diverging": [
            [
             0,
             "#8e0152"
            ],
            [
             0.1,
             "#c51b7d"
            ],
            [
             0.2,
             "#de77ae"
            ],
            [
             0.3,
             "#f1b6da"
            ],
            [
             0.4,
             "#fde0ef"
            ],
            [
             0.5,
             "#f7f7f7"
            ],
            [
             0.6,
             "#e6f5d0"
            ],
            [
             0.7,
             "#b8e186"
            ],
            [
             0.8,
             "#7fbc41"
            ],
            [
             0.9,
             "#4d9221"
            ],
            [
             1,
             "#276419"
            ]
           ],
           "sequential": [
            [
             0,
             "#0d0887"
            ],
            [
             0.1111111111111111,
             "#46039f"
            ],
            [
             0.2222222222222222,
             "#7201a8"
            ],
            [
             0.3333333333333333,
             "#9c179e"
            ],
            [
             0.4444444444444444,
             "#bd3786"
            ],
            [
             0.5555555555555556,
             "#d8576b"
            ],
            [
             0.6666666666666666,
             "#ed7953"
            ],
            [
             0.7777777777777778,
             "#fb9f3a"
            ],
            [
             0.8888888888888888,
             "#fdca26"
            ],
            [
             1,
             "#f0f921"
            ]
           ],
           "sequentialminus": [
            [
             0,
             "#0d0887"
            ],
            [
             0.1111111111111111,
             "#46039f"
            ],
            [
             0.2222222222222222,
             "#7201a8"
            ],
            [
             0.3333333333333333,
             "#9c179e"
            ],
            [
             0.4444444444444444,
             "#bd3786"
            ],
            [
             0.5555555555555556,
             "#d8576b"
            ],
            [
             0.6666666666666666,
             "#ed7953"
            ],
            [
             0.7777777777777778,
             "#fb9f3a"
            ],
            [
             0.8888888888888888,
             "#fdca26"
            ],
            [
             1,
             "#f0f921"
            ]
           ]
          },
          "colorway": [
           "#636efa",
           "#EF553B",
           "#00cc96",
           "#ab63fa",
           "#FFA15A",
           "#19d3f3",
           "#FF6692",
           "#B6E880",
           "#FF97FF",
           "#FECB52"
          ],
          "font": {
           "color": "#2a3f5f"
          },
          "geo": {
           "bgcolor": "white",
           "lakecolor": "white",
           "landcolor": "#E5ECF6",
           "showlakes": true,
           "showland": true,
           "subunitcolor": "white"
          },
          "hoverlabel": {
           "align": "left"
          },
          "hovermode": "closest",
          "mapbox": {
           "style": "light"
          },
          "paper_bgcolor": "white",
          "plot_bgcolor": "#E5ECF6",
          "polar": {
           "angularaxis": {
            "gridcolor": "white",
            "linecolor": "white",
            "ticks": ""
           },
           "bgcolor": "#E5ECF6",
           "radialaxis": {
            "gridcolor": "white",
            "linecolor": "white",
            "ticks": ""
           }
          },
          "scene": {
           "xaxis": {
            "backgroundcolor": "#E5ECF6",
            "gridcolor": "white",
            "gridwidth": 2,
            "linecolor": "white",
            "showbackground": true,
            "ticks": "",
            "zerolinecolor": "white"
           },
           "yaxis": {
            "backgroundcolor": "#E5ECF6",
            "gridcolor": "white",
            "gridwidth": 2,
            "linecolor": "white",
            "showbackground": true,
            "ticks": "",
            "zerolinecolor": "white"
           },
           "zaxis": {
            "backgroundcolor": "#E5ECF6",
            "gridcolor": "white",
            "gridwidth": 2,
            "linecolor": "white",
            "showbackground": true,
            "ticks": "",
            "zerolinecolor": "white"
           }
          },
          "shapedefaults": {
           "line": {
            "color": "#2a3f5f"
           }
          },
          "ternary": {
           "aaxis": {
            "gridcolor": "white",
            "linecolor": "white",
            "ticks": ""
           },
           "baxis": {
            "gridcolor": "white",
            "linecolor": "white",
            "ticks": ""
           },
           "bgcolor": "#E5ECF6",
           "caxis": {
            "gridcolor": "white",
            "linecolor": "white",
            "ticks": ""
           }
          },
          "title": {
           "x": 0.05
          },
          "xaxis": {
           "automargin": true,
           "gridcolor": "white",
           "linecolor": "white",
           "ticks": "",
           "title": {
            "standoff": 15
           },
           "zerolinecolor": "white",
           "zerolinewidth": 2
          },
          "yaxis": {
           "automargin": true,
           "gridcolor": "white",
           "linecolor": "white",
           "ticks": "",
           "title": {
            "standoff": 15
           },
           "zerolinecolor": "white",
           "zerolinewidth": 2
          }
         }
        },
        "title": {
         "font": {
          "size": 16
         },
         "text": "Louvain Product Clustering (All Edges)",
         "x": 0.5
        },
        "width": 1200,
        "xaxis": {
         "showgrid": false,
         "showticklabels": false,
         "zeroline": false
        },
        "yaxis": {
         "showgrid": false,
         "showticklabels": false,
         "zeroline": false
        }
       }
      },
      "text/html": [
       "<div>                            <div id=\"951bd0bf-9280-4788-a130-7cff2d6cab79\" class=\"plotly-graph-div\" style=\"height:800px; width:1200px;\"></div>            <script type=\"text/javascript\">                require([\"plotly\"], function(Plotly) {                    window.PLOTLYENV=window.PLOTLYENV || {};                                    if (document.getElementById(\"951bd0bf-9280-4788-a130-7cff2d6cab79\")) {                    Plotly.newPlot(                        \"951bd0bf-9280-4788-a130-7cff2d6cab79\",                        [{\"hoverinfo\":\"none\",\"line\":{\"color\":\"gray\",\"width\":1},\"mode\":\"lines\",\"x\":[0.13971710009929125,0.022544127985896733,null,0.13971710009929125,0.32132278192837066,null,0.022544127985896733,0.26986625977058465,null,0.022544127985896733,0.11563593201851423,null,0.022544127985896733,-0.07975937134880931,null,0.022544127985896733,-0.2856393527653829,null,-0.2856393527653829,-0.5100553735289378,null,0.26986625977058465,0.43805501877839653,null,0.16932541859805886,-0.04417008519746652,null,0.16932541859805886,0.07540980644657899,null,0.32132278192837066,0.2557826353508204,null,0.32132278192837066,0.5516475366437246,null,-0.6600901064636479,-0.779592328315993,null],\"y\":[0.06043521246955476,0.331511509191411,null,0.06043521246955476,-0.20287913343425312,null,0.331511509191411,0.3283066896870744,null,0.331511509191411,0.5589580806647408,null,0.331511509191411,0.5447691947134378,null,0.331511509191411,0.2752893208249558,null,0.2752893208249558,0.21926785270179647,null,0.3283066896870744,0.19672732904856338,null,-0.9867280239135642,-1.0,null,-0.9867280239135642,-0.9820537548426345,null,-0.20287913343425312,-0.40063202630507694,null,-0.20287913343425312,-0.30397432392925433,null,0.7358876749460816,0.6251143981771672,null],\"type\":\"scatter\"},{\"hoverinfo\":\"text\",\"marker\":{\"color\":[\"#1f77b4\",\"#ff7f0e\",\"#2ca02c\",\"#2ca02c\",\"#ff7f0e\",\"#ff7f0e\",\"#9467bd\",\"#9467bd\",\"#ff7f0e\",\"#9467bd\",\"#1f77b4\",\"#1f77b4\",\"#d62728\",\"#d62728\",\"#ff7f0e\",\"#1f77b4\"],\"line\":{\"color\":\"black\",\"width\":2},\"size\":[17.24137931034483,26.551724137931036,18.275862068965516,12.068965517241379,40.0,20.344827586206897,21.379310344827587,14.137931034482758,10.0,10.0,16.20689655172414,15.172413793103448,32.758620689655174,16.20689655172414,10,10]},\"mode\":\"markers+text\",\"text\":[\"500 FIBRE CEMENT EAVE LINING\",\"500 FIBRE CEMENT SHEETING ACC\",\"500 WEATHERBOARDS\",\"500 BULLET HEAD\",\"500 BUILDING WRAP\",\"501 BATTEN\",\"500 PAINT ADHESIVES\",\"500 PLASTER CLADDING\",\"500 NONSTRUCT TRTD PINE GG LNK\",\"500 PLYWOOD FLOORING\",\"500 FASCIA\",\"500 TIMBER WEATHERBOARDS\",\"500 CONNECTORS\",\"500 BUILDING BRACKETS\",\"500 COLLATED NAILS\",\"500 STRUCTURAL FRAMING H3 2 KD\"],\"textfont\":{\"color\":\"black\",\"family\":\"Arial\",\"size\":16},\"textposition\":\"top center\",\"x\":[0.13971710009929125,0.022544127985896733,-0.2856393527653829,-0.5100553735289378,0.26986625977058465,0.11563593201851423,0.16932541859805886,-0.04417008519746652,-0.07975937134880931,0.07540980644657899,0.32132278192837066,0.2557826353508204,-0.6600901064636479,-0.779592328315993,0.43805501877839653,0.5516475366437246],\"y\":[0.06043521246955476,0.331511509191411,0.2752893208249558,0.21926785270179647,0.3283066896870744,0.5589580806647408,-0.9867280239135642,-1.0,0.5447691947134378,-0.9820537548426345,-0.20287913343425312,-0.40063202630507694,0.7358876749460816,0.6251143981771672,0.19672732904856338,-0.30397432392925433],\"type\":\"scatter\"}],                        {\"height\":800,\"hovermode\":\"closest\",\"margin\":{\"b\":20,\"l\":20,\"r\":20,\"t\":40},\"showlegend\":false,\"title\":{\"font\":{\"size\":16},\"text\":\"Louvain Product Clustering (All Edges)\",\"x\":0.5},\"width\":1200,\"xaxis\":{\"showgrid\":false,\"showticklabels\":false,\"zeroline\":false},\"yaxis\":{\"showgrid\":false,\"showticklabels\":false,\"zeroline\":false},\"template\":{\"data\":{\"histogram2dcontour\":[{\"type\":\"histogram2dcontour\",\"colorbar\":{\"outlinewidth\":0,\"ticks\":\"\"},\"colorscale\":[[0.0,\"#0d0887\"],[0.1111111111111111,\"#46039f\"],[0.2222222222222222,\"#7201a8\"],[0.3333333333333333,\"#9c179e\"],[0.4444444444444444,\"#bd3786\"],[0.5555555555555556,\"#d8576b\"],[0.6666666666666666,\"#ed7953\"],[0.7777777777777778,\"#fb9f3a\"],[0.8888888888888888,\"#fdca26\"],[1.0,\"#f0f921\"]]}],\"choropleth\":[{\"type\":\"choropleth\",\"colorbar\":{\"outlinewidth\":0,\"ticks\":\"\"}}],\"histogram2d\":[{\"type\":\"histogram2d\",\"colorbar\":{\"outlinewidth\":0,\"ticks\":\"\"},\"colorscale\":[[0.0,\"#0d0887\"],[0.1111111111111111,\"#46039f\"],[0.2222222222222222,\"#7201a8\"],[0.3333333333333333,\"#9c179e\"],[0.4444444444444444,\"#bd3786\"],[0.5555555555555556,\"#d8576b\"],[0.6666666666666666,\"#ed7953\"],[0.7777777777777778,\"#fb9f3a\"],[0.8888888888888888,\"#fdca26\"],[1.0,\"#f0f921\"]]}],\"heatmap\":[{\"type\":\"heatmap\",\"colorbar\":{\"outlinewidth\":0,\"ticks\":\"\"},\"colorscale\":[[0.0,\"#0d0887\"],[0.1111111111111111,\"#46039f\"],[0.2222222222222222,\"#7201a8\"],[0.3333333333333333,\"#9c179e\"],[0.4444444444444444,\"#bd3786\"],[0.5555555555555556,\"#d8576b\"],[0.6666666666666666,\"#ed7953\"],[0.7777777777777778,\"#fb9f3a\"],[0.8888888888888888,\"#fdca26\"],[1.0,\"#f0f921\"]]}],\"heatmapgl\":[{\"type\":\"heatmapgl\",\"colorbar\":{\"outlinewidth\":0,\"ticks\":\"\"},\"colorscale\":[[0.0,\"#0d0887\"],[0.1111111111111111,\"#46039f\"],[0.2222222222222222,\"#7201a8\"],[0.3333333333333333,\"#9c179e\"],[0.4444444444444444,\"#bd3786\"],[0.5555555555555556,\"#d8576b\"],[0.6666666666666666,\"#ed7953\"],[0.7777777777777778,\"#fb9f3a\"],[0.8888888888888888,\"#fdca26\"],[1.0,\"#f0f921\"]]}],\"contourcarpet\":[{\"type\":\"contourcarpet\",\"colorbar\":{\"outlinewidth\":0,\"ticks\":\"\"}}],\"contour\":[{\"type\":\"contour\",\"colorbar\":{\"outlinewidth\":0,\"ticks\":\"\"},\"colorscale\":[[0.0,\"#0d0887\"],[0.1111111111111111,\"#46039f\"],[0.2222222222222222,\"#7201a8\"],[0.3333333333333333,\"#9c179e\"],[0.4444444444444444,\"#bd3786\"],[0.5555555555555556,\"#d8576b\"],[0.6666666666666666,\"#ed7953\"],[0.7777777777777778,\"#fb9f3a\"],[0.8888888888888888,\"#fdca26\"],[1.0,\"#f0f921\"]]}],\"surface\":[{\"type\":\"surface\",\"colorbar\":{\"outlinewidth\":0,\"ticks\":\"\"},\"colorscale\":[[0.0,\"#0d0887\"],[0.1111111111111111,\"#46039f\"],[0.2222222222222222,\"#7201a8\"],[0.3333333333333333,\"#9c179e\"],[0.4444444444444444,\"#bd3786\"],[0.5555555555555556,\"#d8576b\"],[0.6666666666666666,\"#ed7953\"],[0.7777777777777778,\"#fb9f3a\"],[0.8888888888888888,\"#fdca26\"],[1.0,\"#f0f921\"]]}],\"mesh3d\":[{\"type\":\"mesh3d\",\"colorbar\":{\"outlinewidth\":0,\"ticks\":\"\"}}],\"scatter\":[{\"fillpattern\":{\"fillmode\":\"overlay\",\"size\":10,\"solidity\":0.2},\"type\":\"scatter\"}],\"parcoords\":[{\"type\":\"parcoords\",\"line\":{\"colorbar\":{\"outlinewidth\":0,\"ticks\":\"\"}}}],\"scatterpolargl\":[{\"type\":\"scatterpolargl\",\"marker\":{\"colorbar\":{\"outlinewidth\":0,\"ticks\":\"\"}}}],\"bar\":[{\"error_x\":{\"color\":\"#2a3f5f\"},\"error_y\":{\"color\":\"#2a3f5f\"},\"marker\":{\"line\":{\"color\":\"#E5ECF6\",\"width\":0.5},\"pattern\":{\"fillmode\":\"overlay\",\"size\":10,\"solidity\":0.2}},\"type\":\"bar\"}],\"scattergeo\":[{\"type\":\"scattergeo\",\"marker\":{\"colorbar\":{\"outlinewidth\":0,\"ticks\":\"\"}}}],\"scatterpolar\":[{\"type\":\"scatterpolar\",\"marker\":{\"colorbar\":{\"outlinewidth\":0,\"ticks\":\"\"}}}],\"histogram\":[{\"marker\":{\"pattern\":{\"fillmode\":\"overlay\",\"size\":10,\"solidity\":0.2}},\"type\":\"histogram\"}],\"scattergl\":[{\"type\":\"scattergl\",\"marker\":{\"colorbar\":{\"outlinewidth\":0,\"ticks\":\"\"}}}],\"scatter3d\":[{\"type\":\"scatter3d\",\"line\":{\"colorbar\":{\"outlinewidth\":0,\"ticks\":\"\"}},\"marker\":{\"colorbar\":{\"outlinewidth\":0,\"ticks\":\"\"}}}],\"scattermapbox\":[{\"type\":\"scattermapbox\",\"marker\":{\"colorbar\":{\"outlinewidth\":0,\"ticks\":\"\"}}}],\"scatterternary\":[{\"type\":\"scatterternary\",\"marker\":{\"colorbar\":{\"outlinewidth\":0,\"ticks\":\"\"}}}],\"scattercarpet\":[{\"type\":\"scattercarpet\",\"marker\":{\"colorbar\":{\"outlinewidth\":0,\"ticks\":\"\"}}}],\"carpet\":[{\"aaxis\":{\"endlinecolor\":\"#2a3f5f\",\"gridcolor\":\"white\",\"linecolor\":\"white\",\"minorgridcolor\":\"white\",\"startlinecolor\":\"#2a3f5f\"},\"baxis\":{\"endlinecolor\":\"#2a3f5f\",\"gridcolor\":\"white\",\"linecolor\":\"white\",\"minorgridcolor\":\"white\",\"startlinecolor\":\"#2a3f5f\"},\"type\":\"carpet\"}],\"table\":[{\"cells\":{\"fill\":{\"color\":\"#EBF0F8\"},\"line\":{\"color\":\"white\"}},\"header\":{\"fill\":{\"color\":\"#C8D4E3\"},\"line\":{\"color\":\"white\"}},\"type\":\"table\"}],\"barpolar\":[{\"marker\":{\"line\":{\"color\":\"#E5ECF6\",\"width\":0.5},\"pattern\":{\"fillmode\":\"overlay\",\"size\":10,\"solidity\":0.2}},\"type\":\"barpolar\"}],\"pie\":[{\"automargin\":true,\"type\":\"pie\"}]},\"layout\":{\"autotypenumbers\":\"strict\",\"colorway\":[\"#636efa\",\"#EF553B\",\"#00cc96\",\"#ab63fa\",\"#FFA15A\",\"#19d3f3\",\"#FF6692\",\"#B6E880\",\"#FF97FF\",\"#FECB52\"],\"font\":{\"color\":\"#2a3f5f\"},\"hovermode\":\"closest\",\"hoverlabel\":{\"align\":\"left\"},\"paper_bgcolor\":\"white\",\"plot_bgcolor\":\"#E5ECF6\",\"polar\":{\"bgcolor\":\"#E5ECF6\",\"angularaxis\":{\"gridcolor\":\"white\",\"linecolor\":\"white\",\"ticks\":\"\"},\"radialaxis\":{\"gridcolor\":\"white\",\"linecolor\":\"white\",\"ticks\":\"\"}},\"ternary\":{\"bgcolor\":\"#E5ECF6\",\"aaxis\":{\"gridcolor\":\"white\",\"linecolor\":\"white\",\"ticks\":\"\"},\"baxis\":{\"gridcolor\":\"white\",\"linecolor\":\"white\",\"ticks\":\"\"},\"caxis\":{\"gridcolor\":\"white\",\"linecolor\":\"white\",\"ticks\":\"\"}},\"coloraxis\":{\"colorbar\":{\"outlinewidth\":0,\"ticks\":\"\"}},\"colorscale\":{\"sequential\":[[0.0,\"#0d0887\"],[0.1111111111111111,\"#46039f\"],[0.2222222222222222,\"#7201a8\"],[0.3333333333333333,\"#9c179e\"],[0.4444444444444444,\"#bd3786\"],[0.5555555555555556,\"#d8576b\"],[0.6666666666666666,\"#ed7953\"],[0.7777777777777778,\"#fb9f3a\"],[0.8888888888888888,\"#fdca26\"],[1.0,\"#f0f921\"]],\"sequentialminus\":[[0.0,\"#0d0887\"],[0.1111111111111111,\"#46039f\"],[0.2222222222222222,\"#7201a8\"],[0.3333333333333333,\"#9c179e\"],[0.4444444444444444,\"#bd3786\"],[0.5555555555555556,\"#d8576b\"],[0.6666666666666666,\"#ed7953\"],[0.7777777777777778,\"#fb9f3a\"],[0.8888888888888888,\"#fdca26\"],[1.0,\"#f0f921\"]],\"diverging\":[[0,\"#8e0152\"],[0.1,\"#c51b7d\"],[0.2,\"#de77ae\"],[0.3,\"#f1b6da\"],[0.4,\"#fde0ef\"],[0.5,\"#f7f7f7\"],[0.6,\"#e6f5d0\"],[0.7,\"#b8e186\"],[0.8,\"#7fbc41\"],[0.9,\"#4d9221\"],[1,\"#276419\"]]},\"xaxis\":{\"gridcolor\":\"white\",\"linecolor\":\"white\",\"ticks\":\"\",\"title\":{\"standoff\":15},\"zerolinecolor\":\"white\",\"automargin\":true,\"zerolinewidth\":2},\"yaxis\":{\"gridcolor\":\"white\",\"linecolor\":\"white\",\"ticks\":\"\",\"title\":{\"standoff\":15},\"zerolinecolor\":\"white\",\"automargin\":true,\"zerolinewidth\":2},\"scene\":{\"xaxis\":{\"backgroundcolor\":\"#E5ECF6\",\"gridcolor\":\"white\",\"linecolor\":\"white\",\"showbackground\":true,\"ticks\":\"\",\"zerolinecolor\":\"white\",\"gridwidth\":2},\"yaxis\":{\"backgroundcolor\":\"#E5ECF6\",\"gridcolor\":\"white\",\"linecolor\":\"white\",\"showbackground\":true,\"ticks\":\"\",\"zerolinecolor\":\"white\",\"gridwidth\":2},\"zaxis\":{\"backgroundcolor\":\"#E5ECF6\",\"gridcolor\":\"white\",\"linecolor\":\"white\",\"showbackground\":true,\"ticks\":\"\",\"zerolinecolor\":\"white\",\"gridwidth\":2}},\"shapedefaults\":{\"line\":{\"color\":\"#2a3f5f\"}},\"annotationdefaults\":{\"arrowcolor\":\"#2a3f5f\",\"arrowhead\":0,\"arrowwidth\":1},\"geo\":{\"bgcolor\":\"white\",\"landcolor\":\"#E5ECF6\",\"subunitcolor\":\"white\",\"showland\":true,\"showlakes\":true,\"lakecolor\":\"white\"},\"title\":{\"x\":0.05},\"mapbox\":{\"style\":\"light\"}}}},                        {\"responsive\": true}                    ).then(function(){\n",
       "                            \n",
       "var gd = document.getElementById('951bd0bf-9280-4788-a130-7cff2d6cab79');\n",
       "var x = new MutationObserver(function (mutations, observer) {{\n",
       "        var display = window.getComputedStyle(gd).display;\n",
       "        if (!display || display === 'none') {{\n",
       "            console.log([gd, 'removed!']);\n",
       "            Plotly.purge(gd);\n",
       "            observer.disconnect();\n",
       "        }}\n",
       "}});\n",
       "\n",
       "// Listen for the removal of the full notebook cells\n",
       "var notebookContainer = gd.closest('#notebook-container');\n",
       "if (notebookContainer) {{\n",
       "    x.observe(notebookContainer, {childList: true});\n",
       "}}\n",
       "\n",
       "// Listen for the clearing of the current output cell\n",
       "var outputEl = gd.closest('.output');\n",
       "if (outputEl) {{\n",
       "    x.observe(outputEl, {childList: true});\n",
       "}}\n",
       "\n",
       "                        })                };                });            </script>        </div>"
      ]
     },
     "metadata": {},
     "output_type": "display_data"
    }
   ],
   "source": [
    "fig.show()"
   ]
  },
  {
   "cell_type": "code",
   "execution_count": 661,
   "metadata": {},
   "outputs": [
    {
     "data": {
      "text/html": [
       "<div>\n",
       "<style scoped>\n",
       "    .dataframe tbody tr th:only-of-type {\n",
       "        vertical-align: middle;\n",
       "    }\n",
       "\n",
       "    .dataframe tbody tr th {\n",
       "        vertical-align: top;\n",
       "    }\n",
       "\n",
       "    .dataframe thead th {\n",
       "        text-align: right;\n",
       "    }\n",
       "</style>\n",
       "<table border=\"1\" class=\"dataframe\">\n",
       "  <thead>\n",
       "    <tr style=\"text-align: right;\">\n",
       "      <th></th>\n",
       "      <th>PRIMARY_ID</th>\n",
       "      <th>SECONDARY_ID</th>\n",
       "      <th>PRIMARY_TRANSACTIONS</th>\n",
       "      <th>SECONDARY_TRANSACTIONS</th>\n",
       "      <th>PAIR_TRANSACTIONS</th>\n",
       "      <th>JACCARD</th>\n",
       "      <th>segment</th>\n",
       "    </tr>\n",
       "  </thead>\n",
       "  <tbody>\n",
       "    <tr>\n",
       "      <th>0</th>\n",
       "      <td>500 FIBRE CEMENT EAVE LINING</td>\n",
       "      <td>500 FASCIA</td>\n",
       "      <td>12</td>\n",
       "      <td>11</td>\n",
       "      <td>4</td>\n",
       "      <td>0.210526</td>\n",
       "      <td>0</td>\n",
       "    </tr>\n",
       "    <tr>\n",
       "      <th>1</th>\n",
       "      <td>500 FASCIA</td>\n",
       "      <td>500 STRUCTURAL FRAMING H3 2 KD</td>\n",
       "      <td>11</td>\n",
       "      <td>12</td>\n",
       "      <td>4</td>\n",
       "      <td>0.210526</td>\n",
       "      <td>0</td>\n",
       "    </tr>\n",
       "    <tr>\n",
       "      <th>2</th>\n",
       "      <td>500 FASCIA</td>\n",
       "      <td>500 FIBRE CEMENT EAVE LINING</td>\n",
       "      <td>11</td>\n",
       "      <td>11</td>\n",
       "      <td>4</td>\n",
       "      <td>0.222222</td>\n",
       "      <td>0</td>\n",
       "    </tr>\n",
       "    <tr>\n",
       "      <th>3</th>\n",
       "      <td>500 FASCIA</td>\n",
       "      <td>500 TIMBER WEATHERBOARDS</td>\n",
       "      <td>11</td>\n",
       "      <td>10</td>\n",
       "      <td>4</td>\n",
       "      <td>0.235294</td>\n",
       "      <td>0</td>\n",
       "    </tr>\n",
       "    <tr>\n",
       "      <th>4</th>\n",
       "      <td>500 TIMBER WEATHERBOARDS</td>\n",
       "      <td>500 FASCIA</td>\n",
       "      <td>10</td>\n",
       "      <td>11</td>\n",
       "      <td>4</td>\n",
       "      <td>0.235294</td>\n",
       "      <td>0</td>\n",
       "    </tr>\n",
       "    <tr>\n",
       "      <th>5</th>\n",
       "      <td>500 FIBRE CEMENT EAVE LINING</td>\n",
       "      <td>500 FIBRE CEMENT SHEETING ACC</td>\n",
       "      <td>12</td>\n",
       "      <td>20</td>\n",
       "      <td>7</td>\n",
       "      <td>0.280000</td>\n",
       "      <td>0</td>\n",
       "    </tr>\n",
       "    <tr>\n",
       "      <th>6</th>\n",
       "      <td>500 FIBRE CEMENT SHEETING ACC</td>\n",
       "      <td>500 WEATHERBOARDS</td>\n",
       "      <td>21</td>\n",
       "      <td>13</td>\n",
       "      <td>6</td>\n",
       "      <td>0.214286</td>\n",
       "      <td>1</td>\n",
       "    </tr>\n",
       "    <tr>\n",
       "      <th>7</th>\n",
       "      <td>500 BUILDING WRAP</td>\n",
       "      <td>500 COLLATED NAILS</td>\n",
       "      <td>34</td>\n",
       "      <td>17</td>\n",
       "      <td>9</td>\n",
       "      <td>0.214286</td>\n",
       "      <td>1</td>\n",
       "    </tr>\n",
       "    <tr>\n",
       "      <th>8</th>\n",
       "      <td>500 FIBRE CEMENT SHEETING ACC</td>\n",
       "      <td>500 NONSTRUCT TRTD PINE GG LNK</td>\n",
       "      <td>21</td>\n",
       "      <td>5</td>\n",
       "      <td>5</td>\n",
       "      <td>0.238095</td>\n",
       "      <td>1</td>\n",
       "    </tr>\n",
       "    <tr>\n",
       "      <th>9</th>\n",
       "      <td>500 FIBRE CEMENT SHEETING ACC</td>\n",
       "      <td>501 BATTEN</td>\n",
       "      <td>21</td>\n",
       "      <td>14</td>\n",
       "      <td>7</td>\n",
       "      <td>0.250000</td>\n",
       "      <td>1</td>\n",
       "    </tr>\n",
       "    <tr>\n",
       "      <th>10</th>\n",
       "      <td>500 NONSTRUCT TRTD PINE GG LNK</td>\n",
       "      <td>500 FIBRE CEMENT SHEETING ACC</td>\n",
       "      <td>5</td>\n",
       "      <td>20</td>\n",
       "      <td>5</td>\n",
       "      <td>0.250000</td>\n",
       "      <td>1</td>\n",
       "    </tr>\n",
       "    <tr>\n",
       "      <th>11</th>\n",
       "      <td>500 FIBRE CEMENT SHEETING ACC</td>\n",
       "      <td>500 BUILDING WRAP</td>\n",
       "      <td>21</td>\n",
       "      <td>34</td>\n",
       "      <td>11</td>\n",
       "      <td>0.250000</td>\n",
       "      <td>1</td>\n",
       "    </tr>\n",
       "    <tr>\n",
       "      <th>12</th>\n",
       "      <td>501 BATTEN</td>\n",
       "      <td>500 FIBRE CEMENT SHEETING ACC</td>\n",
       "      <td>15</td>\n",
       "      <td>20</td>\n",
       "      <td>7</td>\n",
       "      <td>0.250000</td>\n",
       "      <td>1</td>\n",
       "    </tr>\n",
       "    <tr>\n",
       "      <th>13</th>\n",
       "      <td>500 BUILDING WRAP</td>\n",
       "      <td>500 FIBRE CEMENT SHEETING ACC</td>\n",
       "      <td>34</td>\n",
       "      <td>20</td>\n",
       "      <td>11</td>\n",
       "      <td>0.255814</td>\n",
       "      <td>1</td>\n",
       "    </tr>\n",
       "    <tr>\n",
       "      <th>14</th>\n",
       "      <td>500 FIBRE CEMENT SHEETING ACC</td>\n",
       "      <td>500 FIBRE CEMENT EAVE LINING</td>\n",
       "      <td>21</td>\n",
       "      <td>11</td>\n",
       "      <td>7</td>\n",
       "      <td>0.280000</td>\n",
       "      <td>1</td>\n",
       "    </tr>\n",
       "    <tr>\n",
       "      <th>15</th>\n",
       "      <td>500 WEATHERBOARDS</td>\n",
       "      <td>500 FIBRE CEMENT SHEETING ACC</td>\n",
       "      <td>13</td>\n",
       "      <td>20</td>\n",
       "      <td>6</td>\n",
       "      <td>0.222222</td>\n",
       "      <td>2</td>\n",
       "    </tr>\n",
       "    <tr>\n",
       "      <th>16</th>\n",
       "      <td>500 BULLET HEAD</td>\n",
       "      <td>500 WEATHERBOARDS</td>\n",
       "      <td>7</td>\n",
       "      <td>13</td>\n",
       "      <td>4</td>\n",
       "      <td>0.250000</td>\n",
       "      <td>2</td>\n",
       "    </tr>\n",
       "    <tr>\n",
       "      <th>17</th>\n",
       "      <td>500 WEATHERBOARDS</td>\n",
       "      <td>500 BULLET HEAD</td>\n",
       "      <td>13</td>\n",
       "      <td>6</td>\n",
       "      <td>4</td>\n",
       "      <td>0.266667</td>\n",
       "      <td>2</td>\n",
       "    </tr>\n",
       "    <tr>\n",
       "      <th>18</th>\n",
       "      <td>500 BUILDING BRACKETS</td>\n",
       "      <td>500 CONNECTORS</td>\n",
       "      <td>11</td>\n",
       "      <td>27</td>\n",
       "      <td>7</td>\n",
       "      <td>0.225806</td>\n",
       "      <td>3</td>\n",
       "    </tr>\n",
       "    <tr>\n",
       "      <th>19</th>\n",
       "      <td>500 CONNECTORS</td>\n",
       "      <td>500 BUILDING BRACKETS</td>\n",
       "      <td>27</td>\n",
       "      <td>11</td>\n",
       "      <td>7</td>\n",
       "      <td>0.225806</td>\n",
       "      <td>3</td>\n",
       "    </tr>\n",
       "    <tr>\n",
       "      <th>20</th>\n",
       "      <td>500 PLYWOOD FLOORING</td>\n",
       "      <td>500 PAINT ADHESIVES</td>\n",
       "      <td>5</td>\n",
       "      <td>16</td>\n",
       "      <td>4</td>\n",
       "      <td>0.235294</td>\n",
       "      <td>4</td>\n",
       "    </tr>\n",
       "    <tr>\n",
       "      <th>21</th>\n",
       "      <td>500 PAINT ADHESIVES</td>\n",
       "      <td>500 PLYWOOD FLOORING</td>\n",
       "      <td>16</td>\n",
       "      <td>5</td>\n",
       "      <td>4</td>\n",
       "      <td>0.235294</td>\n",
       "      <td>4</td>\n",
       "    </tr>\n",
       "    <tr>\n",
       "      <th>22</th>\n",
       "      <td>500 PLASTER CLADDING</td>\n",
       "      <td>500 PAINT ADHESIVES</td>\n",
       "      <td>9</td>\n",
       "      <td>16</td>\n",
       "      <td>5</td>\n",
       "      <td>0.250000</td>\n",
       "      <td>4</td>\n",
       "    </tr>\n",
       "    <tr>\n",
       "      <th>23</th>\n",
       "      <td>500 PAINT ADHESIVES</td>\n",
       "      <td>500 PLASTER CLADDING</td>\n",
       "      <td>16</td>\n",
       "      <td>9</td>\n",
       "      <td>5</td>\n",
       "      <td>0.250000</td>\n",
       "      <td>4</td>\n",
       "    </tr>\n",
       "  </tbody>\n",
       "</table>\n",
       "</div>"
      ],
      "text/plain": [
       "                        PRIMARY_ID                    SECONDARY_ID  \\\n",
       "0     500 FIBRE CEMENT EAVE LINING                      500 FASCIA   \n",
       "1                       500 FASCIA  500 STRUCTURAL FRAMING H3 2 KD   \n",
       "2                       500 FASCIA    500 FIBRE CEMENT EAVE LINING   \n",
       "3                       500 FASCIA        500 TIMBER WEATHERBOARDS   \n",
       "4         500 TIMBER WEATHERBOARDS                      500 FASCIA   \n",
       "5     500 FIBRE CEMENT EAVE LINING   500 FIBRE CEMENT SHEETING ACC   \n",
       "6    500 FIBRE CEMENT SHEETING ACC               500 WEATHERBOARDS   \n",
       "7                500 BUILDING WRAP              500 COLLATED NAILS   \n",
       "8    500 FIBRE CEMENT SHEETING ACC  500 NONSTRUCT TRTD PINE GG LNK   \n",
       "9    500 FIBRE CEMENT SHEETING ACC                      501 BATTEN   \n",
       "10  500 NONSTRUCT TRTD PINE GG LNK   500 FIBRE CEMENT SHEETING ACC   \n",
       "11   500 FIBRE CEMENT SHEETING ACC               500 BUILDING WRAP   \n",
       "12                      501 BATTEN   500 FIBRE CEMENT SHEETING ACC   \n",
       "13               500 BUILDING WRAP   500 FIBRE CEMENT SHEETING ACC   \n",
       "14   500 FIBRE CEMENT SHEETING ACC    500 FIBRE CEMENT EAVE LINING   \n",
       "15               500 WEATHERBOARDS   500 FIBRE CEMENT SHEETING ACC   \n",
       "16                 500 BULLET HEAD               500 WEATHERBOARDS   \n",
       "17               500 WEATHERBOARDS                 500 BULLET HEAD   \n",
       "18           500 BUILDING BRACKETS                  500 CONNECTORS   \n",
       "19                  500 CONNECTORS           500 BUILDING BRACKETS   \n",
       "20            500 PLYWOOD FLOORING             500 PAINT ADHESIVES   \n",
       "21             500 PAINT ADHESIVES            500 PLYWOOD FLOORING   \n",
       "22            500 PLASTER CLADDING             500 PAINT ADHESIVES   \n",
       "23             500 PAINT ADHESIVES            500 PLASTER CLADDING   \n",
       "\n",
       "    PRIMARY_TRANSACTIONS  SECONDARY_TRANSACTIONS  PAIR_TRANSACTIONS   JACCARD  \\\n",
       "0                     12                      11                  4  0.210526   \n",
       "1                     11                      12                  4  0.210526   \n",
       "2                     11                      11                  4  0.222222   \n",
       "3                     11                      10                  4  0.235294   \n",
       "4                     10                      11                  4  0.235294   \n",
       "5                     12                      20                  7  0.280000   \n",
       "6                     21                      13                  6  0.214286   \n",
       "7                     34                      17                  9  0.214286   \n",
       "8                     21                       5                  5  0.238095   \n",
       "9                     21                      14                  7  0.250000   \n",
       "10                     5                      20                  5  0.250000   \n",
       "11                    21                      34                 11  0.250000   \n",
       "12                    15                      20                  7  0.250000   \n",
       "13                    34                      20                 11  0.255814   \n",
       "14                    21                      11                  7  0.280000   \n",
       "15                    13                      20                  6  0.222222   \n",
       "16                     7                      13                  4  0.250000   \n",
       "17                    13                       6                  4  0.266667   \n",
       "18                    11                      27                  7  0.225806   \n",
       "19                    27                      11                  7  0.225806   \n",
       "20                     5                      16                  4  0.235294   \n",
       "21                    16                       5                  4  0.235294   \n",
       "22                     9                      16                  5  0.250000   \n",
       "23                    16                       9                  5  0.250000   \n",
       "\n",
       "    segment  \n",
       "0         0  \n",
       "1         0  \n",
       "2         0  \n",
       "3         0  \n",
       "4         0  \n",
       "5         0  \n",
       "6         1  \n",
       "7         1  \n",
       "8         1  \n",
       "9         1  \n",
       "10        1  \n",
       "11        1  \n",
       "12        1  \n",
       "13        1  \n",
       "14        1  \n",
       "15        2  \n",
       "16        2  \n",
       "17        2  \n",
       "18        3  \n",
       "19        3  \n",
       "20        4  \n",
       "21        4  \n",
       "22        4  \n",
       "23        4  "
      ]
     },
     "execution_count": 661,
     "metadata": {},
     "output_type": "execute_result"
    }
   ],
   "source": [
    "# Merge community partition info with filtered edges\n",
    "partition_df = pd.DataFrame.from_dict(partition, orient='index', columns=['segment']).reset_index()\n",
    "partition_df.rename(columns={'index': 'PRIMARY_ID'}, inplace=True)\n",
    "\n",
    "# Merge and deduplicate\n",
    "labelled_df = filtered_df.merge(partition_df, on='PRIMARY_ID', how='left')\n",
    "labelled_df = labelled_df[['PRIMARY_ID', 'SECONDARY_ID', 'PRIMARY_TRANSACTIONS', 'SECONDARY_TRANSACTIONS', 'PAIR_TRANSACTIONS', METRIC, 'segment']].drop_duplicates()\n",
    "labelled_df = labelled_df.sort_values(by=['segment', METRIC]).reset_index(drop=True)\n",
    "labelled_df"
   ]
  },
  {
   "cell_type": "markdown",
   "metadata": {},
   "source": [
    "**Segment 0 – Roofline / Eaves Finishing Pack**\n",
    "This group captures materials used around the roof edge and soffit zone:\n",
    "- 500 FIBRE CEMENT EAVE LINING: cement-based soffit panel\n",
    "- 500 FASCIA: board running along the roofline\n",
    "- 500 STRUCTURAL FRAMING H3 2 KD: treated framing timber for support\n",
    "- 500 TIMBER WEATHERBOARDS: external wall finish under the eave\n",
    "\n",
    "“Roofline Detailing Kit” — ideal for finishing or updating pitched roofs where skylights are installed.\n",
    "\n",
    "**Segment 1 – Wall Envelope System**\n",
    "This group reflects a complete cladding and subframe setup:\n",
    "- BUILDING WRAP: moisture barrier behind external cladding\n",
    "- BATTEN: vertical structural strips to fix cement board\n",
    "- CEMENT SHEET + EAVE LINING: façade panel, often surrounding skylights\n",
    "- COLLATED NAILS: rapid fixings for sheet/batten installs\n",
    "- NONSTRUCT PINE: low-load backing timber\n",
    "\n",
    "“Wall Surround Installation Kit” — tailored for builders cutting and cladding new openings for skylights.\n",
    "\n",
    "**Segment 2 – Lightweight Trim & Siding**\n",
    "This group supports aesthetic wall treatments:\n",
    "- WEATHERBOARDS: timber external siding\n",
    "- BULLET HEAD: nails for neat, concealed finishes\n",
    "\n",
    "“Weatherboard Finish Kit” — ideal for homes with timber cladding around skylight installations.\n",
    "\n",
    "**Segment 3 – Structural Fixing Essentials**\n",
    "This kit contains hardware required during structural cuts:\n",
    "- BUILDING BRACKETS: reinforcement plates\n",
    "- CONNECTORS: joist hangers, framing ties, etc.\n",
    "\n",
    "“Fixing Essentials Kit” — ensures installers can brace roof/wall areas when adding skylights.\n",
    "\n",
    "**Segment 4 – Interior Finishing Pack**\n",
    "This group reflects internal lining and adhesive prep:\n",
    "- PAINT ADHESIVES: bonding agents for panels or trims\n",
    "- PLASTER CLADDING: internal surface finishing\n",
    "- PLYWOOD FLOORING: flooring or ceiling backing surface\n",
    "\n",
    "“Attic or Interior Finish Pack” — supports builders who complete the ceiling/wall area around new skylight penetrations."
   ]
  }
 ],
 "metadata": {
  "kernelspec": {
   "display_name": "Python 3 (ipykernel)",
   "language": "python",
   "name": "python3"
  },
  "language_info": {
   "codemirror_mode": {
    "name": "ipython",
    "version": 3
   },
   "file_extension": ".py",
   "mimetype": "text/x-python",
   "name": "python",
   "nbconvert_exporter": "python",
   "pygments_lexer": "ipython3",
   "version": "3.10.18"
  }
 },
 "nbformat": 4,
 "nbformat_minor": 4
}
