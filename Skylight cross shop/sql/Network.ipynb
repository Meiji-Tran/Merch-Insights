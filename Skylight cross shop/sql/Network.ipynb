{
 "cells": [
  {
   "cell_type": "markdown",
   "metadata": {},
   "source": [
    "# Prep"
   ]
  },
  {
   "cell_type": "code",
   "execution_count": 438,
   "metadata": {},
   "outputs": [],
   "source": [
    "# Import packages\n",
    "import pandas as pd\n",
    "import plotly.graph_objects as go\n",
    "import networkx as nx\n",
    "from ds_common_utils.aux.io.snowflake_tools import SnowflakeTools\n",
    "from math import log\n",
    "from networkx.algorithms.community import greedy_modularity_communities\n",
    "import matplotlib.pyplot as plt\n",
    "import community.community_louvain as community_louvain\n",
    "import numpy as np"
   ]
  },
  {
   "cell_type": "code",
   "execution_count": 439,
   "metadata": {},
   "outputs": [],
   "source": [
    "# Get connection\n",
    "con = SnowflakeTools().get_snowflake_ctx(\n",
    "     method = 'token',\n",
    "    user = '250807',\n",
    "    role = 'INSIGHT_ANALYST_MERCH_DE_GENERAL_PRD',\n",
    "    warehouse = 'INSIGHT_ANALYST_WH'\n",
    ")\n",
    "with open('sql/item_association.sql', 'r') as query:\n",
    "        df = pd.read_sql_query(query.read(), con)\n",
    "with open('sql/excluded_class_list.sql', 'r') as query:\n",
    "        target_item_class = pd.read_sql_query(query.read(), con)"
   ]
  },
  {
   "cell_type": "code",
   "execution_count": 440,
   "metadata": {},
   "outputs": [
    {
     "data": {
      "text/html": [
       "<div>\n",
       "<style scoped>\n",
       "    .dataframe tbody tr th:only-of-type {\n",
       "        vertical-align: middle;\n",
       "    }\n",
       "\n",
       "    .dataframe tbody tr th {\n",
       "        vertical-align: top;\n",
       "    }\n",
       "\n",
       "    .dataframe thead th {\n",
       "        text-align: right;\n",
       "    }\n",
       "</style>\n",
       "<table border=\"1\" class=\"dataframe\">\n",
       "  <thead>\n",
       "    <tr style=\"text-align: right;\">\n",
       "      <th></th>\n",
       "      <th>ITEM_NUMBER</th>\n",
       "      <th>ITEM_DESCRIPTION</th>\n",
       "      <th>TRANSACTIONS</th>\n",
       "      <th>SALES_SUM</th>\n",
       "      <th>QUANTITY_SUM</th>\n",
       "    </tr>\n",
       "  </thead>\n",
       "  <tbody>\n",
       "    <tr>\n",
       "      <th>0</th>\n",
       "      <td>TOTAL</td>\n",
       "      <td>TOTAL</td>\n",
       "      <td>1579</td>\n",
       "      <td>72647610</td>\n",
       "      <td>99792</td>\n",
       "    </tr>\n",
       "    <tr>\n",
       "      <th>1</th>\n",
       "      <td>0823814</td>\n",
       "      <td>SKYLIGHT FIXED VELUX++780X1400MM  FSM082004A</td>\n",
       "      <td>112</td>\n",
       "      <td>4735300</td>\n",
       "      <td>7140</td>\n",
       "    </tr>\n",
       "    <tr>\n",
       "      <th>2</th>\n",
       "      <td>0820072</td>\n",
       "      <td>SKYLIGHT FLAT ROOF VELUX++665X1275MM FCM224600...</td>\n",
       "      <td>90</td>\n",
       "      <td>2864119</td>\n",
       "      <td>5460</td>\n",
       "    </tr>\n",
       "    <tr>\n",
       "      <th>3</th>\n",
       "      <td>0415002</td>\n",
       "      <td>SKYLIGHT OPENABLE ELEC VELUX++780X980MM  VSEM0...</td>\n",
       "      <td>21</td>\n",
       "      <td>2640826</td>\n",
       "      <td>1400</td>\n",
       "    </tr>\n",
       "    <tr>\n",
       "      <th>4</th>\n",
       "      <td>0823806</td>\n",
       "      <td>SKYLIGHT FIXED VELUX++780X1180MM  FSM062004A</td>\n",
       "      <td>81</td>\n",
       "      <td>2571554</td>\n",
       "      <td>4165</td>\n",
       "    </tr>\n",
       "    <tr>\n",
       "      <th>...</th>\n",
       "      <td>...</td>\n",
       "      <td>...</td>\n",
       "      <td>...</td>\n",
       "      <td>...</td>\n",
       "      <td>...</td>\n",
       "    </tr>\n",
       "    <tr>\n",
       "      <th>154</th>\n",
       "      <td>0811278</td>\n",
       "      <td>VELUX  SKYLIGHT ACC++SOLAR HONEYCOMB FSCD C041045</td>\n",
       "      <td>2</td>\n",
       "      <td>0</td>\n",
       "      <td>0</td>\n",
       "    </tr>\n",
       "    <tr>\n",
       "      <th>155</th>\n",
       "      <td>0176088</td>\n",
       "      <td>VELUX FLASHING SLATE++EDL S06 0000J</td>\n",
       "      <td>2</td>\n",
       "      <td>0</td>\n",
       "      <td>0</td>\n",
       "    </tr>\n",
       "    <tr>\n",
       "      <th>156</th>\n",
       "      <td>0296335</td>\n",
       "      <td>VELUX FLASHING KIT++EDLMK08 0000</td>\n",
       "      <td>4</td>\n",
       "      <td>0</td>\n",
       "      <td>0</td>\n",
       "    </tr>\n",
       "    <tr>\n",
       "      <th>157</th>\n",
       "      <td>0296321</td>\n",
       "      <td>VELUX FLASHING KIT++EDLCK02 0000</td>\n",
       "      <td>2</td>\n",
       "      <td>0</td>\n",
       "      <td>0</td>\n",
       "    </tr>\n",
       "    <tr>\n",
       "      <th>158</th>\n",
       "      <td>0296327</td>\n",
       "      <td>VELUX FLASHING KIT++EDLMK04 0000</td>\n",
       "      <td>2</td>\n",
       "      <td>0</td>\n",
       "      <td>0</td>\n",
       "    </tr>\n",
       "  </tbody>\n",
       "</table>\n",
       "<p>159 rows × 5 columns</p>\n",
       "</div>"
      ],
      "text/plain": [
       "    ITEM_NUMBER                                   ITEM_DESCRIPTION  \\\n",
       "0         TOTAL                                              TOTAL   \n",
       "1       0823814       SKYLIGHT FIXED VELUX++780X1400MM  FSM082004A   \n",
       "2       0820072  SKYLIGHT FLAT ROOF VELUX++665X1275MM FCM224600...   \n",
       "3       0415002  SKYLIGHT OPENABLE ELEC VELUX++780X980MM  VSEM0...   \n",
       "4       0823806       SKYLIGHT FIXED VELUX++780X1180MM  FSM062004A   \n",
       "..          ...                                                ...   \n",
       "154     0811278  VELUX  SKYLIGHT ACC++SOLAR HONEYCOMB FSCD C041045   \n",
       "155     0176088                VELUX FLASHING SLATE++EDL S06 0000J   \n",
       "156     0296335                   VELUX FLASHING KIT++EDLMK08 0000   \n",
       "157     0296321                   VELUX FLASHING KIT++EDLCK02 0000   \n",
       "158     0296327                   VELUX FLASHING KIT++EDLMK04 0000   \n",
       "\n",
       "     TRANSACTIONS  SALES_SUM  QUANTITY_SUM  \n",
       "0            1579   72647610         99792  \n",
       "1             112    4735300          7140  \n",
       "2              90    2864119          5460  \n",
       "3              21    2640826          1400  \n",
       "4              81    2571554          4165  \n",
       "..            ...        ...           ...  \n",
       "154             2          0             0  \n",
       "155             2          0             0  \n",
       "156             4          0             0  \n",
       "157             2          0             0  \n",
       "158             2          0             0  \n",
       "\n",
       "[159 rows x 5 columns]"
      ]
     },
     "execution_count": 440,
     "metadata": {},
     "output_type": "execute_result"
    }
   ],
   "source": [
    "with open('sql/overview.sql', 'r') as query:\n",
    "        supplier_items = pd.read_sql_query(query.read(), con)\n",
    "supplier_items        "
   ]
  },
  {
   "cell_type": "markdown",
   "metadata": {},
   "source": [
    "Accross 3 years, 2022-06-18 to 2025-06-18, 158 distinct items sold from this supplier. Total Sales $72.6m, quantity 100k."
   ]
  },
  {
   "cell_type": "markdown",
   "metadata": {},
   "source": [
    "# Parameter tuning"
   ]
  },
  {
   "cell_type": "code",
   "execution_count": 441,
   "metadata": {},
   "outputs": [],
   "source": [
    "TRX_THRESHOLD = 10 # Min N frequent pairs\n",
    "QUANTILE = 0.975 # Nth percentile of metric similarity\n",
    "TOP_N = 5 # top-N associated item classes per primary class\n",
    "RESO = 0 # >1.0 → more, smaller communities\n",
    "METRIC = 'JACCARD' # LIFT or JACCARD"
   ]
  },
  {
   "cell_type": "markdown",
   "metadata": {},
   "source": [
    "3Y\n",
    "TRX_THRESHOLD = 10 # Min N frequent pairs\n",
    "QUANTILE = 0.9 # Nth percentile of metric similarity\n",
    "TOP_N = 3 # top-N associated item classes per primary class\n",
    "RESO = 0.5 # >1.0 → more, smaller communities\n",
    "METRIC = 'JACCARD' # LIFT or JACCARD"
   ]
  },
  {
   "cell_type": "markdown",
   "metadata": {},
   "source": [
    "# Working"
   ]
  },
  {
   "cell_type": "code",
   "execution_count": 448,
   "metadata": {},
   "outputs": [],
   "source": [
    "filtered_df = df[\n",
    "        df['PRIMARY_ID'].isin(target_item_class['ITEM_CLASS_NAME']) &\n",
    "        ~df['SECONDARY_ID'].isin(target_item_class['ITEM_CLASS_NAME'])\n",
    "]\n",
    "\n",
    "filtered_df = filtered_df[filtered_df['PAIR_TRANSACTIONS'] >= TRX_THRESHOLD]\n",
    "threshold = filtered_df[METRIC].quantile(QUANTILE)\n",
    "filtered_df = filtered_df[filtered_df[METRIC] >= threshold]\n",
    "top_edges = filtered_df.sort_values(METRIC, ascending=False).groupby('PRIMARY_ID').head(TOP_N)"
   ]
  },
  {
   "cell_type": "code",
   "execution_count": 449,
   "metadata": {},
   "outputs": [
    {
     "data": {
      "text/html": [
       "<div>\n",
       "<style scoped>\n",
       "    .dataframe tbody tr th:only-of-type {\n",
       "        vertical-align: middle;\n",
       "    }\n",
       "\n",
       "    .dataframe tbody tr th {\n",
       "        vertical-align: top;\n",
       "    }\n",
       "\n",
       "    .dataframe thead th {\n",
       "        text-align: right;\n",
       "    }\n",
       "</style>\n",
       "<table border=\"1\" class=\"dataframe\">\n",
       "  <thead>\n",
       "    <tr style=\"text-align: right;\">\n",
       "      <th></th>\n",
       "      <th>PRIMARY_ID</th>\n",
       "      <th>SECONDARY_ID</th>\n",
       "      <th>PRIMARY_TRANSACTIONS</th>\n",
       "      <th>SECONDARY_TRANSACTIONS</th>\n",
       "      <th>TRX_START_MONTH</th>\n",
       "      <th>TRX_END_MONTH</th>\n",
       "      <th>PAIR_TRANSACTIONS</th>\n",
       "      <th>LIFT</th>\n",
       "      <th>JACCARD</th>\n",
       "    </tr>\n",
       "  </thead>\n",
       "  <tbody>\n",
       "    <tr>\n",
       "      <th>1785</th>\n",
       "      <td>500 ROOF WINDOWS</td>\n",
       "      <td>500 BUILDING SUPPLIES OFFRANGE</td>\n",
       "      <td>1090</td>\n",
       "      <td>39</td>\n",
       "      <td>2022-08-01</td>\n",
       "      <td>2025-05-01</td>\n",
       "      <td>324</td>\n",
       "      <td>11.280169</td>\n",
       "      <td>0.402484</td>\n",
       "    </tr>\n",
       "    <tr>\n",
       "      <th>2066</th>\n",
       "      <td>500 SKYLIGHT ACCESSORIES</td>\n",
       "      <td>500 BUILDING SUPPLIES OFFRANGE</td>\n",
       "      <td>670</td>\n",
       "      <td>39</td>\n",
       "      <td>2022-10-01</td>\n",
       "      <td>2025-05-01</td>\n",
       "      <td>258</td>\n",
       "      <td>14.613088</td>\n",
       "      <td>0.572062</td>\n",
       "    </tr>\n",
       "    <tr>\n",
       "      <th>1791</th>\n",
       "      <td>500 ROOF WINDOWS</td>\n",
       "      <td>500 CONNECTORS</td>\n",
       "      <td>1090</td>\n",
       "      <td>15</td>\n",
       "      <td>2022-08-01</td>\n",
       "      <td>2025-05-01</td>\n",
       "      <td>244</td>\n",
       "      <td>22.086850</td>\n",
       "      <td>0.283391</td>\n",
       "    </tr>\n",
       "    <tr>\n",
       "      <th>1860</th>\n",
       "      <td>500 ROOF WINDOWS</td>\n",
       "      <td>500 STRUCT FRAMG H1 2 KD LINKD</td>\n",
       "      <td>1090</td>\n",
       "      <td>12</td>\n",
       "      <td>2024-08-01</td>\n",
       "      <td>2025-05-01</td>\n",
       "      <td>240</td>\n",
       "      <td>27.155963</td>\n",
       "      <td>0.278422</td>\n",
       "    </tr>\n",
       "    <tr>\n",
       "      <th>2122</th>\n",
       "      <td>500 SKYLIGHT ACCESSORIES</td>\n",
       "      <td>500 STRUCT FRAMG H1 2 KD LINKD</td>\n",
       "      <td>670</td>\n",
       "      <td>12</td>\n",
       "      <td>2024-07-01</td>\n",
       "      <td>2025-05-01</td>\n",
       "      <td>168</td>\n",
       "      <td>30.925373</td>\n",
       "      <td>0.326848</td>\n",
       "    </tr>\n",
       "  </tbody>\n",
       "</table>\n",
       "</div>"
      ],
      "text/plain": [
       "                    PRIMARY_ID                    SECONDARY_ID  \\\n",
       "1785          500 ROOF WINDOWS  500 BUILDING SUPPLIES OFFRANGE   \n",
       "2066  500 SKYLIGHT ACCESSORIES  500 BUILDING SUPPLIES OFFRANGE   \n",
       "1791          500 ROOF WINDOWS                  500 CONNECTORS   \n",
       "1860          500 ROOF WINDOWS  500 STRUCT FRAMG H1 2 KD LINKD   \n",
       "2122  500 SKYLIGHT ACCESSORIES  500 STRUCT FRAMG H1 2 KD LINKD   \n",
       "\n",
       "      PRIMARY_TRANSACTIONS  SECONDARY_TRANSACTIONS TRX_START_MONTH  \\\n",
       "1785                  1090                      39      2022-08-01   \n",
       "2066                   670                      39      2022-10-01   \n",
       "1791                  1090                      15      2022-08-01   \n",
       "1860                  1090                      12      2024-08-01   \n",
       "2122                   670                      12      2024-07-01   \n",
       "\n",
       "     TRX_END_MONTH  PAIR_TRANSACTIONS       LIFT   JACCARD  \n",
       "1785    2025-05-01                324  11.280169  0.402484  \n",
       "2066    2025-05-01                258  14.613088  0.572062  \n",
       "1791    2025-05-01                244  22.086850  0.283391  \n",
       "1860    2025-05-01                240  27.155963  0.278422  \n",
       "2122    2025-05-01                168  30.925373  0.326848  "
      ]
     },
     "execution_count": 449,
     "metadata": {},
     "output_type": "execute_result"
    }
   ],
   "source": [
    "filtered_df.sort_values(by='PAIR_TRANSACTIONS', ascending=False)"
   ]
  },
  {
   "cell_type": "code",
   "execution_count": 450,
   "metadata": {},
   "outputs": [],
   "source": [
    "mode='lines',\n",
    "line_shape='spline'\n",
    "    \n",
    "# Build node size map from your DataFrame\n",
    "node_size_map = dict(zip(top_edges['PRIMARY_ID'], top_edges['PRIMARY_TRANSACTIONS']))\n",
    "\n",
    "# Convert values to NumPy array\n",
    "sizes = np.array(list(node_size_map.values()))\n",
    "\n",
    "# Use np.ptp instead of .ptp()\n",
    "norm_sizes = (sizes - sizes.min()) / np.ptp(sizes)  # scale to 0–1\n",
    "scaled_sizes = 10 + norm_sizes * 30                 # scale to 10–40\n",
    "\n",
    "# Final size map: Product ID → Scaled Size\n",
    "scaled_size_map = dict(zip(node_size_map.keys(), scaled_sizes))\n",
    "\n",
    "# Step 1: Build the full graph\n",
    "G = nx.Graph()\n",
    "for _, row in top_edges.iterrows():\n",
    "    G.add_edge(row['PRIMARY_ID'], row['SECONDARY_ID'], weight=row[METRIC])\n",
    "\n",
    "# Step 2: Louvain community detection\n",
    "partition = community_louvain.best_partition(G, weight=METRIC, resolution=RESO)\n",
    "\n",
    "# Step 3: Layout\n",
    "pos = nx.spring_layout(G, weight='weight', seed=42\n",
    "                      )\n",
    "\n",
    "# Step 4: Edge trace (no filter on weight)\n",
    "edge_x, edge_y = [], []\n",
    "for u, v in G.edges():\n",
    "    x0, y0 = pos[u]\n",
    "    x1, y1 = pos[v]\n",
    "    edge_x += [x0, x1, None]\n",
    "    edge_y += [y0, y1, None]\n",
    "\n",
    "edge_trace = go.Scatter(\n",
    "    x=edge_x,\n",
    "    y=edge_y,\n",
    "    line=dict(width=1, color='gray'),\n",
    "    hoverinfo='none',\n",
    "    mode='lines'\n",
    ")\n",
    "\n",
    "# Step 5: Node trace with Louvain cluster coloring\n",
    "color_list = ['#1f77b4', '#ff7f0e', '#2ca02c', '#d62728',\n",
    "              '#9467bd', '#8c564b', '#e377c2', '#7f7f7f',\n",
    "              '#bcbd22', '#17becf']  # Extend if you expect >10 clusters\n",
    "\n",
    "node_x, node_y, node_color, node_size, hover_text = [], [], [], [], []\n",
    "\n",
    "for node in G.nodes():\n",
    "    x, y = pos[node]\n",
    "    cluster = partition[node]\n",
    "    size = scaled_size_map.get(node, 10)  # default to small if missing\n",
    "\n",
    "    node_x.append(x)\n",
    "    node_y.append(y)\n",
    "    node_color.append(color_list[cluster % len(color_list)])\n",
    "    node_size.append(size)\n",
    "    hover_text.append(f\"Product ID: {node}<br>Cluster: {cluster}<br>Transactions: {int(size)}\")\n",
    "\n",
    "node_trace = go.Scatter(\n",
    "    x=node_x,\n",
    "    y=node_y,\n",
    "    mode='markers+text',\n",
    "    hoverinfo='text',\n",
    "    text=[str(node) for node in G.nodes()],\n",
    "    textposition='top center',\n",
    "    marker=dict(\n",
    "        color=node_color,\n",
    "        size=node_size,  # <--- size now dynamic!\n",
    "        line=dict(width=2, color='black')\n",
    "    ),\n",
    "    textfont=dict(\n",
    "    size=16,          # increase for visibility\n",
    "    color='black',\n",
    "    family='Arial'\n",
    ")\n",
    ")\n",
    "# Step 6: Plot\n",
    "fig = go.Figure(\n",
    "    data=[edge_trace, node_trace],\n",
    "    layout=go.Layout(\n",
    "        width=1200,          # increase width\n",
    "    height=800, \n",
    "        title=dict(text='Louvain Product Clustering (All Edges)', x=0.5, font=dict(size=16)),\n",
    "        showlegend=False,\n",
    "        hovermode='closest',\n",
    "        margin=dict(b=20, l=20, r=20, t=40),\n",
    "        xaxis=dict(showgrid=False, zeroline=False, showticklabels=False),\n",
    "        yaxis=dict(showgrid=False, zeroline=False, showticklabels=False)\n",
    "    )\n",
    ")"
   ]
  },
  {
   "cell_type": "markdown",
   "metadata": {},
   "source": [
    "# Results"
   ]
  },
  {
   "cell_type": "code",
   "execution_count": 451,
   "metadata": {},
   "outputs": [
    {
     "data": {
      "application/vnd.plotly.v1+json": {
       "config": {
        "plotlyServerURL": "https://plot.ly"
       },
       "data": [
        {
         "hoverinfo": "none",
         "line": {
          "color": "gray",
          "width": 1
         },
         "mode": "lines",
         "type": "scatter",
         "x": [
          -0.04427263714530739,
          0.27939203555824593,
          null,
          -0.04427263714530739,
          -0.440967158158357,
          null,
          0.27939203555824593,
          0.043870077404981576,
          null,
          0.043870077404981576,
          0.16197768234043688,
          null,
          0.043870077404981576,
          -0.440967158158357,
          null
         ],
         "y": [
          0.7045531783146911,
          0.3161149930291891,
          null,
          0.7045531783146911,
          0.2503102322875075,
          null,
          0.3161149930291891,
          -0.27097840363138803,
          null,
          -0.27097840363138803,
          -1,
          null,
          -0.27097840363138803,
          0.2503102322875075,
          null
         ]
        },
        {
         "hoverinfo": "text",
         "marker": {
          "color": [
           "#1f77b4",
           "#ff7f0e",
           "#ff7f0e",
           "#1f77b4",
           "#ff7f0e"
          ],
          "line": {
           "color": "black",
           "width": 2
          },
          "size": [
           10,
           10,
           40,
           10,
           10
          ]
         },
         "mode": "markers+text",
         "text": [
          "500 SKYLIGHT ACCESSORIES",
          "500 BUILDING SUPPLIES OFFRANGE",
          "500 ROOF WINDOWS",
          "500 STRUCT FRAMG H1 2 KD LINKD",
          "500 CONNECTORS"
         ],
         "textfont": {
          "color": "black",
          "family": "Arial",
          "size": 16
         },
         "textposition": "top center",
         "type": "scatter",
         "x": [
          -0.04427263714530739,
          0.27939203555824593,
          0.043870077404981576,
          -0.440967158158357,
          0.16197768234043688
         ],
         "y": [
          0.7045531783146911,
          0.3161149930291891,
          -0.27097840363138803,
          0.2503102322875075,
          -1
         ]
        }
       ],
       "layout": {
        "height": 800,
        "hovermode": "closest",
        "margin": {
         "b": 20,
         "l": 20,
         "r": 20,
         "t": 40
        },
        "showlegend": false,
        "template": {
         "data": {
          "bar": [
           {
            "error_x": {
             "color": "#2a3f5f"
            },
            "error_y": {
             "color": "#2a3f5f"
            },
            "marker": {
             "line": {
              "color": "#E5ECF6",
              "width": 0.5
             },
             "pattern": {
              "fillmode": "overlay",
              "size": 10,
              "solidity": 0.2
             }
            },
            "type": "bar"
           }
          ],
          "barpolar": [
           {
            "marker": {
             "line": {
              "color": "#E5ECF6",
              "width": 0.5
             },
             "pattern": {
              "fillmode": "overlay",
              "size": 10,
              "solidity": 0.2
             }
            },
            "type": "barpolar"
           }
          ],
          "carpet": [
           {
            "aaxis": {
             "endlinecolor": "#2a3f5f",
             "gridcolor": "white",
             "linecolor": "white",
             "minorgridcolor": "white",
             "startlinecolor": "#2a3f5f"
            },
            "baxis": {
             "endlinecolor": "#2a3f5f",
             "gridcolor": "white",
             "linecolor": "white",
             "minorgridcolor": "white",
             "startlinecolor": "#2a3f5f"
            },
            "type": "carpet"
           }
          ],
          "choropleth": [
           {
            "colorbar": {
             "outlinewidth": 0,
             "ticks": ""
            },
            "type": "choropleth"
           }
          ],
          "contour": [
           {
            "colorbar": {
             "outlinewidth": 0,
             "ticks": ""
            },
            "colorscale": [
             [
              0,
              "#0d0887"
             ],
             [
              0.1111111111111111,
              "#46039f"
             ],
             [
              0.2222222222222222,
              "#7201a8"
             ],
             [
              0.3333333333333333,
              "#9c179e"
             ],
             [
              0.4444444444444444,
              "#bd3786"
             ],
             [
              0.5555555555555556,
              "#d8576b"
             ],
             [
              0.6666666666666666,
              "#ed7953"
             ],
             [
              0.7777777777777778,
              "#fb9f3a"
             ],
             [
              0.8888888888888888,
              "#fdca26"
             ],
             [
              1,
              "#f0f921"
             ]
            ],
            "type": "contour"
           }
          ],
          "contourcarpet": [
           {
            "colorbar": {
             "outlinewidth": 0,
             "ticks": ""
            },
            "type": "contourcarpet"
           }
          ],
          "heatmap": [
           {
            "colorbar": {
             "outlinewidth": 0,
             "ticks": ""
            },
            "colorscale": [
             [
              0,
              "#0d0887"
             ],
             [
              0.1111111111111111,
              "#46039f"
             ],
             [
              0.2222222222222222,
              "#7201a8"
             ],
             [
              0.3333333333333333,
              "#9c179e"
             ],
             [
              0.4444444444444444,
              "#bd3786"
             ],
             [
              0.5555555555555556,
              "#d8576b"
             ],
             [
              0.6666666666666666,
              "#ed7953"
             ],
             [
              0.7777777777777778,
              "#fb9f3a"
             ],
             [
              0.8888888888888888,
              "#fdca26"
             ],
             [
              1,
              "#f0f921"
             ]
            ],
            "type": "heatmap"
           }
          ],
          "heatmapgl": [
           {
            "colorbar": {
             "outlinewidth": 0,
             "ticks": ""
            },
            "colorscale": [
             [
              0,
              "#0d0887"
             ],
             [
              0.1111111111111111,
              "#46039f"
             ],
             [
              0.2222222222222222,
              "#7201a8"
             ],
             [
              0.3333333333333333,
              "#9c179e"
             ],
             [
              0.4444444444444444,
              "#bd3786"
             ],
             [
              0.5555555555555556,
              "#d8576b"
             ],
             [
              0.6666666666666666,
              "#ed7953"
             ],
             [
              0.7777777777777778,
              "#fb9f3a"
             ],
             [
              0.8888888888888888,
              "#fdca26"
             ],
             [
              1,
              "#f0f921"
             ]
            ],
            "type": "heatmapgl"
           }
          ],
          "histogram": [
           {
            "marker": {
             "pattern": {
              "fillmode": "overlay",
              "size": 10,
              "solidity": 0.2
             }
            },
            "type": "histogram"
           }
          ],
          "histogram2d": [
           {
            "colorbar": {
             "outlinewidth": 0,
             "ticks": ""
            },
            "colorscale": [
             [
              0,
              "#0d0887"
             ],
             [
              0.1111111111111111,
              "#46039f"
             ],
             [
              0.2222222222222222,
              "#7201a8"
             ],
             [
              0.3333333333333333,
              "#9c179e"
             ],
             [
              0.4444444444444444,
              "#bd3786"
             ],
             [
              0.5555555555555556,
              "#d8576b"
             ],
             [
              0.6666666666666666,
              "#ed7953"
             ],
             [
              0.7777777777777778,
              "#fb9f3a"
             ],
             [
              0.8888888888888888,
              "#fdca26"
             ],
             [
              1,
              "#f0f921"
             ]
            ],
            "type": "histogram2d"
           }
          ],
          "histogram2dcontour": [
           {
            "colorbar": {
             "outlinewidth": 0,
             "ticks": ""
            },
            "colorscale": [
             [
              0,
              "#0d0887"
             ],
             [
              0.1111111111111111,
              "#46039f"
             ],
             [
              0.2222222222222222,
              "#7201a8"
             ],
             [
              0.3333333333333333,
              "#9c179e"
             ],
             [
              0.4444444444444444,
              "#bd3786"
             ],
             [
              0.5555555555555556,
              "#d8576b"
             ],
             [
              0.6666666666666666,
              "#ed7953"
             ],
             [
              0.7777777777777778,
              "#fb9f3a"
             ],
             [
              0.8888888888888888,
              "#fdca26"
             ],
             [
              1,
              "#f0f921"
             ]
            ],
            "type": "histogram2dcontour"
           }
          ],
          "mesh3d": [
           {
            "colorbar": {
             "outlinewidth": 0,
             "ticks": ""
            },
            "type": "mesh3d"
           }
          ],
          "parcoords": [
           {
            "line": {
             "colorbar": {
              "outlinewidth": 0,
              "ticks": ""
             }
            },
            "type": "parcoords"
           }
          ],
          "pie": [
           {
            "automargin": true,
            "type": "pie"
           }
          ],
          "scatter": [
           {
            "fillpattern": {
             "fillmode": "overlay",
             "size": 10,
             "solidity": 0.2
            },
            "type": "scatter"
           }
          ],
          "scatter3d": [
           {
            "line": {
             "colorbar": {
              "outlinewidth": 0,
              "ticks": ""
             }
            },
            "marker": {
             "colorbar": {
              "outlinewidth": 0,
              "ticks": ""
             }
            },
            "type": "scatter3d"
           }
          ],
          "scattercarpet": [
           {
            "marker": {
             "colorbar": {
              "outlinewidth": 0,
              "ticks": ""
             }
            },
            "type": "scattercarpet"
           }
          ],
          "scattergeo": [
           {
            "marker": {
             "colorbar": {
              "outlinewidth": 0,
              "ticks": ""
             }
            },
            "type": "scattergeo"
           }
          ],
          "scattergl": [
           {
            "marker": {
             "colorbar": {
              "outlinewidth": 0,
              "ticks": ""
             }
            },
            "type": "scattergl"
           }
          ],
          "scattermapbox": [
           {
            "marker": {
             "colorbar": {
              "outlinewidth": 0,
              "ticks": ""
             }
            },
            "type": "scattermapbox"
           }
          ],
          "scatterpolar": [
           {
            "marker": {
             "colorbar": {
              "outlinewidth": 0,
              "ticks": ""
             }
            },
            "type": "scatterpolar"
           }
          ],
          "scatterpolargl": [
           {
            "marker": {
             "colorbar": {
              "outlinewidth": 0,
              "ticks": ""
             }
            },
            "type": "scatterpolargl"
           }
          ],
          "scatterternary": [
           {
            "marker": {
             "colorbar": {
              "outlinewidth": 0,
              "ticks": ""
             }
            },
            "type": "scatterternary"
           }
          ],
          "surface": [
           {
            "colorbar": {
             "outlinewidth": 0,
             "ticks": ""
            },
            "colorscale": [
             [
              0,
              "#0d0887"
             ],
             [
              0.1111111111111111,
              "#46039f"
             ],
             [
              0.2222222222222222,
              "#7201a8"
             ],
             [
              0.3333333333333333,
              "#9c179e"
             ],
             [
              0.4444444444444444,
              "#bd3786"
             ],
             [
              0.5555555555555556,
              "#d8576b"
             ],
             [
              0.6666666666666666,
              "#ed7953"
             ],
             [
              0.7777777777777778,
              "#fb9f3a"
             ],
             [
              0.8888888888888888,
              "#fdca26"
             ],
             [
              1,
              "#f0f921"
             ]
            ],
            "type": "surface"
           }
          ],
          "table": [
           {
            "cells": {
             "fill": {
              "color": "#EBF0F8"
             },
             "line": {
              "color": "white"
             }
            },
            "header": {
             "fill": {
              "color": "#C8D4E3"
             },
             "line": {
              "color": "white"
             }
            },
            "type": "table"
           }
          ]
         },
         "layout": {
          "annotationdefaults": {
           "arrowcolor": "#2a3f5f",
           "arrowhead": 0,
           "arrowwidth": 1
          },
          "autotypenumbers": "strict",
          "coloraxis": {
           "colorbar": {
            "outlinewidth": 0,
            "ticks": ""
           }
          },
          "colorscale": {
           "diverging": [
            [
             0,
             "#8e0152"
            ],
            [
             0.1,
             "#c51b7d"
            ],
            [
             0.2,
             "#de77ae"
            ],
            [
             0.3,
             "#f1b6da"
            ],
            [
             0.4,
             "#fde0ef"
            ],
            [
             0.5,
             "#f7f7f7"
            ],
            [
             0.6,
             "#e6f5d0"
            ],
            [
             0.7,
             "#b8e186"
            ],
            [
             0.8,
             "#7fbc41"
            ],
            [
             0.9,
             "#4d9221"
            ],
            [
             1,
             "#276419"
            ]
           ],
           "sequential": [
            [
             0,
             "#0d0887"
            ],
            [
             0.1111111111111111,
             "#46039f"
            ],
            [
             0.2222222222222222,
             "#7201a8"
            ],
            [
             0.3333333333333333,
             "#9c179e"
            ],
            [
             0.4444444444444444,
             "#bd3786"
            ],
            [
             0.5555555555555556,
             "#d8576b"
            ],
            [
             0.6666666666666666,
             "#ed7953"
            ],
            [
             0.7777777777777778,
             "#fb9f3a"
            ],
            [
             0.8888888888888888,
             "#fdca26"
            ],
            [
             1,
             "#f0f921"
            ]
           ],
           "sequentialminus": [
            [
             0,
             "#0d0887"
            ],
            [
             0.1111111111111111,
             "#46039f"
            ],
            [
             0.2222222222222222,
             "#7201a8"
            ],
            [
             0.3333333333333333,
             "#9c179e"
            ],
            [
             0.4444444444444444,
             "#bd3786"
            ],
            [
             0.5555555555555556,
             "#d8576b"
            ],
            [
             0.6666666666666666,
             "#ed7953"
            ],
            [
             0.7777777777777778,
             "#fb9f3a"
            ],
            [
             0.8888888888888888,
             "#fdca26"
            ],
            [
             1,
             "#f0f921"
            ]
           ]
          },
          "colorway": [
           "#636efa",
           "#EF553B",
           "#00cc96",
           "#ab63fa",
           "#FFA15A",
           "#19d3f3",
           "#FF6692",
           "#B6E880",
           "#FF97FF",
           "#FECB52"
          ],
          "font": {
           "color": "#2a3f5f"
          },
          "geo": {
           "bgcolor": "white",
           "lakecolor": "white",
           "landcolor": "#E5ECF6",
           "showlakes": true,
           "showland": true,
           "subunitcolor": "white"
          },
          "hoverlabel": {
           "align": "left"
          },
          "hovermode": "closest",
          "mapbox": {
           "style": "light"
          },
          "paper_bgcolor": "white",
          "plot_bgcolor": "#E5ECF6",
          "polar": {
           "angularaxis": {
            "gridcolor": "white",
            "linecolor": "white",
            "ticks": ""
           },
           "bgcolor": "#E5ECF6",
           "radialaxis": {
            "gridcolor": "white",
            "linecolor": "white",
            "ticks": ""
           }
          },
          "scene": {
           "xaxis": {
            "backgroundcolor": "#E5ECF6",
            "gridcolor": "white",
            "gridwidth": 2,
            "linecolor": "white",
            "showbackground": true,
            "ticks": "",
            "zerolinecolor": "white"
           },
           "yaxis": {
            "backgroundcolor": "#E5ECF6",
            "gridcolor": "white",
            "gridwidth": 2,
            "linecolor": "white",
            "showbackground": true,
            "ticks": "",
            "zerolinecolor": "white"
           },
           "zaxis": {
            "backgroundcolor": "#E5ECF6",
            "gridcolor": "white",
            "gridwidth": 2,
            "linecolor": "white",
            "showbackground": true,
            "ticks": "",
            "zerolinecolor": "white"
           }
          },
          "shapedefaults": {
           "line": {
            "color": "#2a3f5f"
           }
          },
          "ternary": {
           "aaxis": {
            "gridcolor": "white",
            "linecolor": "white",
            "ticks": ""
           },
           "baxis": {
            "gridcolor": "white",
            "linecolor": "white",
            "ticks": ""
           },
           "bgcolor": "#E5ECF6",
           "caxis": {
            "gridcolor": "white",
            "linecolor": "white",
            "ticks": ""
           }
          },
          "title": {
           "x": 0.05
          },
          "xaxis": {
           "automargin": true,
           "gridcolor": "white",
           "linecolor": "white",
           "ticks": "",
           "title": {
            "standoff": 15
           },
           "zerolinecolor": "white",
           "zerolinewidth": 2
          },
          "yaxis": {
           "automargin": true,
           "gridcolor": "white",
           "linecolor": "white",
           "ticks": "",
           "title": {
            "standoff": 15
           },
           "zerolinecolor": "white",
           "zerolinewidth": 2
          }
         }
        },
        "title": {
         "font": {
          "size": 16
         },
         "text": "Louvain Product Clustering (All Edges)",
         "x": 0.5
        },
        "width": 1200,
        "xaxis": {
         "showgrid": false,
         "showticklabels": false,
         "zeroline": false
        },
        "yaxis": {
         "showgrid": false,
         "showticklabels": false,
         "zeroline": false
        }
       }
      },
      "text/html": [
       "<div>                            <div id=\"9a9f57ee-6102-4524-8031-2d6baa9cf1b6\" class=\"plotly-graph-div\" style=\"height:800px; width:1200px;\"></div>            <script type=\"text/javascript\">                require([\"plotly\"], function(Plotly) {                    window.PLOTLYENV=window.PLOTLYENV || {};                                    if (document.getElementById(\"9a9f57ee-6102-4524-8031-2d6baa9cf1b6\")) {                    Plotly.newPlot(                        \"9a9f57ee-6102-4524-8031-2d6baa9cf1b6\",                        [{\"hoverinfo\":\"none\",\"line\":{\"color\":\"gray\",\"width\":1},\"mode\":\"lines\",\"x\":[-0.04427263714530739,0.27939203555824593,null,-0.04427263714530739,-0.440967158158357,null,0.27939203555824593,0.043870077404981576,null,0.043870077404981576,0.16197768234043688,null,0.043870077404981576,-0.440967158158357,null],\"y\":[0.7045531783146911,0.3161149930291891,null,0.7045531783146911,0.2503102322875075,null,0.3161149930291891,-0.27097840363138803,null,-0.27097840363138803,-1.0,null,-0.27097840363138803,0.2503102322875075,null],\"type\":\"scatter\"},{\"hoverinfo\":\"text\",\"marker\":{\"color\":[\"#1f77b4\",\"#ff7f0e\",\"#ff7f0e\",\"#1f77b4\",\"#ff7f0e\"],\"line\":{\"color\":\"black\",\"width\":2},\"size\":[10.0,10,40.0,10,10]},\"mode\":\"markers+text\",\"text\":[\"500 SKYLIGHT ACCESSORIES\",\"500 BUILDING SUPPLIES OFFRANGE\",\"500 ROOF WINDOWS\",\"500 STRUCT FRAMG H1 2 KD LINKD\",\"500 CONNECTORS\"],\"textfont\":{\"color\":\"black\",\"family\":\"Arial\",\"size\":16},\"textposition\":\"top center\",\"x\":[-0.04427263714530739,0.27939203555824593,0.043870077404981576,-0.440967158158357,0.16197768234043688],\"y\":[0.7045531783146911,0.3161149930291891,-0.27097840363138803,0.2503102322875075,-1.0],\"type\":\"scatter\"}],                        {\"height\":800,\"hovermode\":\"closest\",\"margin\":{\"b\":20,\"l\":20,\"r\":20,\"t\":40},\"showlegend\":false,\"title\":{\"font\":{\"size\":16},\"text\":\"Louvain Product Clustering (All Edges)\",\"x\":0.5},\"width\":1200,\"xaxis\":{\"showgrid\":false,\"showticklabels\":false,\"zeroline\":false},\"yaxis\":{\"showgrid\":false,\"showticklabels\":false,\"zeroline\":false},\"template\":{\"data\":{\"histogram2dcontour\":[{\"type\":\"histogram2dcontour\",\"colorbar\":{\"outlinewidth\":0,\"ticks\":\"\"},\"colorscale\":[[0.0,\"#0d0887\"],[0.1111111111111111,\"#46039f\"],[0.2222222222222222,\"#7201a8\"],[0.3333333333333333,\"#9c179e\"],[0.4444444444444444,\"#bd3786\"],[0.5555555555555556,\"#d8576b\"],[0.6666666666666666,\"#ed7953\"],[0.7777777777777778,\"#fb9f3a\"],[0.8888888888888888,\"#fdca26\"],[1.0,\"#f0f921\"]]}],\"choropleth\":[{\"type\":\"choropleth\",\"colorbar\":{\"outlinewidth\":0,\"ticks\":\"\"}}],\"histogram2d\":[{\"type\":\"histogram2d\",\"colorbar\":{\"outlinewidth\":0,\"ticks\":\"\"},\"colorscale\":[[0.0,\"#0d0887\"],[0.1111111111111111,\"#46039f\"],[0.2222222222222222,\"#7201a8\"],[0.3333333333333333,\"#9c179e\"],[0.4444444444444444,\"#bd3786\"],[0.5555555555555556,\"#d8576b\"],[0.6666666666666666,\"#ed7953\"],[0.7777777777777778,\"#fb9f3a\"],[0.8888888888888888,\"#fdca26\"],[1.0,\"#f0f921\"]]}],\"heatmap\":[{\"type\":\"heatmap\",\"colorbar\":{\"outlinewidth\":0,\"ticks\":\"\"},\"colorscale\":[[0.0,\"#0d0887\"],[0.1111111111111111,\"#46039f\"],[0.2222222222222222,\"#7201a8\"],[0.3333333333333333,\"#9c179e\"],[0.4444444444444444,\"#bd3786\"],[0.5555555555555556,\"#d8576b\"],[0.6666666666666666,\"#ed7953\"],[0.7777777777777778,\"#fb9f3a\"],[0.8888888888888888,\"#fdca26\"],[1.0,\"#f0f921\"]]}],\"heatmapgl\":[{\"type\":\"heatmapgl\",\"colorbar\":{\"outlinewidth\":0,\"ticks\":\"\"},\"colorscale\":[[0.0,\"#0d0887\"],[0.1111111111111111,\"#46039f\"],[0.2222222222222222,\"#7201a8\"],[0.3333333333333333,\"#9c179e\"],[0.4444444444444444,\"#bd3786\"],[0.5555555555555556,\"#d8576b\"],[0.6666666666666666,\"#ed7953\"],[0.7777777777777778,\"#fb9f3a\"],[0.8888888888888888,\"#fdca26\"],[1.0,\"#f0f921\"]]}],\"contourcarpet\":[{\"type\":\"contourcarpet\",\"colorbar\":{\"outlinewidth\":0,\"ticks\":\"\"}}],\"contour\":[{\"type\":\"contour\",\"colorbar\":{\"outlinewidth\":0,\"ticks\":\"\"},\"colorscale\":[[0.0,\"#0d0887\"],[0.1111111111111111,\"#46039f\"],[0.2222222222222222,\"#7201a8\"],[0.3333333333333333,\"#9c179e\"],[0.4444444444444444,\"#bd3786\"],[0.5555555555555556,\"#d8576b\"],[0.6666666666666666,\"#ed7953\"],[0.7777777777777778,\"#fb9f3a\"],[0.8888888888888888,\"#fdca26\"],[1.0,\"#f0f921\"]]}],\"surface\":[{\"type\":\"surface\",\"colorbar\":{\"outlinewidth\":0,\"ticks\":\"\"},\"colorscale\":[[0.0,\"#0d0887\"],[0.1111111111111111,\"#46039f\"],[0.2222222222222222,\"#7201a8\"],[0.3333333333333333,\"#9c179e\"],[0.4444444444444444,\"#bd3786\"],[0.5555555555555556,\"#d8576b\"],[0.6666666666666666,\"#ed7953\"],[0.7777777777777778,\"#fb9f3a\"],[0.8888888888888888,\"#fdca26\"],[1.0,\"#f0f921\"]]}],\"mesh3d\":[{\"type\":\"mesh3d\",\"colorbar\":{\"outlinewidth\":0,\"ticks\":\"\"}}],\"scatter\":[{\"fillpattern\":{\"fillmode\":\"overlay\",\"size\":10,\"solidity\":0.2},\"type\":\"scatter\"}],\"parcoords\":[{\"type\":\"parcoords\",\"line\":{\"colorbar\":{\"outlinewidth\":0,\"ticks\":\"\"}}}],\"scatterpolargl\":[{\"type\":\"scatterpolargl\",\"marker\":{\"colorbar\":{\"outlinewidth\":0,\"ticks\":\"\"}}}],\"bar\":[{\"error_x\":{\"color\":\"#2a3f5f\"},\"error_y\":{\"color\":\"#2a3f5f\"},\"marker\":{\"line\":{\"color\":\"#E5ECF6\",\"width\":0.5},\"pattern\":{\"fillmode\":\"overlay\",\"size\":10,\"solidity\":0.2}},\"type\":\"bar\"}],\"scattergeo\":[{\"type\":\"scattergeo\",\"marker\":{\"colorbar\":{\"outlinewidth\":0,\"ticks\":\"\"}}}],\"scatterpolar\":[{\"type\":\"scatterpolar\",\"marker\":{\"colorbar\":{\"outlinewidth\":0,\"ticks\":\"\"}}}],\"histogram\":[{\"marker\":{\"pattern\":{\"fillmode\":\"overlay\",\"size\":10,\"solidity\":0.2}},\"type\":\"histogram\"}],\"scattergl\":[{\"type\":\"scattergl\",\"marker\":{\"colorbar\":{\"outlinewidth\":0,\"ticks\":\"\"}}}],\"scatter3d\":[{\"type\":\"scatter3d\",\"line\":{\"colorbar\":{\"outlinewidth\":0,\"ticks\":\"\"}},\"marker\":{\"colorbar\":{\"outlinewidth\":0,\"ticks\":\"\"}}}],\"scattermapbox\":[{\"type\":\"scattermapbox\",\"marker\":{\"colorbar\":{\"outlinewidth\":0,\"ticks\":\"\"}}}],\"scatterternary\":[{\"type\":\"scatterternary\",\"marker\":{\"colorbar\":{\"outlinewidth\":0,\"ticks\":\"\"}}}],\"scattercarpet\":[{\"type\":\"scattercarpet\",\"marker\":{\"colorbar\":{\"outlinewidth\":0,\"ticks\":\"\"}}}],\"carpet\":[{\"aaxis\":{\"endlinecolor\":\"#2a3f5f\",\"gridcolor\":\"white\",\"linecolor\":\"white\",\"minorgridcolor\":\"white\",\"startlinecolor\":\"#2a3f5f\"},\"baxis\":{\"endlinecolor\":\"#2a3f5f\",\"gridcolor\":\"white\",\"linecolor\":\"white\",\"minorgridcolor\":\"white\",\"startlinecolor\":\"#2a3f5f\"},\"type\":\"carpet\"}],\"table\":[{\"cells\":{\"fill\":{\"color\":\"#EBF0F8\"},\"line\":{\"color\":\"white\"}},\"header\":{\"fill\":{\"color\":\"#C8D4E3\"},\"line\":{\"color\":\"white\"}},\"type\":\"table\"}],\"barpolar\":[{\"marker\":{\"line\":{\"color\":\"#E5ECF6\",\"width\":0.5},\"pattern\":{\"fillmode\":\"overlay\",\"size\":10,\"solidity\":0.2}},\"type\":\"barpolar\"}],\"pie\":[{\"automargin\":true,\"type\":\"pie\"}]},\"layout\":{\"autotypenumbers\":\"strict\",\"colorway\":[\"#636efa\",\"#EF553B\",\"#00cc96\",\"#ab63fa\",\"#FFA15A\",\"#19d3f3\",\"#FF6692\",\"#B6E880\",\"#FF97FF\",\"#FECB52\"],\"font\":{\"color\":\"#2a3f5f\"},\"hovermode\":\"closest\",\"hoverlabel\":{\"align\":\"left\"},\"paper_bgcolor\":\"white\",\"plot_bgcolor\":\"#E5ECF6\",\"polar\":{\"bgcolor\":\"#E5ECF6\",\"angularaxis\":{\"gridcolor\":\"white\",\"linecolor\":\"white\",\"ticks\":\"\"},\"radialaxis\":{\"gridcolor\":\"white\",\"linecolor\":\"white\",\"ticks\":\"\"}},\"ternary\":{\"bgcolor\":\"#E5ECF6\",\"aaxis\":{\"gridcolor\":\"white\",\"linecolor\":\"white\",\"ticks\":\"\"},\"baxis\":{\"gridcolor\":\"white\",\"linecolor\":\"white\",\"ticks\":\"\"},\"caxis\":{\"gridcolor\":\"white\",\"linecolor\":\"white\",\"ticks\":\"\"}},\"coloraxis\":{\"colorbar\":{\"outlinewidth\":0,\"ticks\":\"\"}},\"colorscale\":{\"sequential\":[[0.0,\"#0d0887\"],[0.1111111111111111,\"#46039f\"],[0.2222222222222222,\"#7201a8\"],[0.3333333333333333,\"#9c179e\"],[0.4444444444444444,\"#bd3786\"],[0.5555555555555556,\"#d8576b\"],[0.6666666666666666,\"#ed7953\"],[0.7777777777777778,\"#fb9f3a\"],[0.8888888888888888,\"#fdca26\"],[1.0,\"#f0f921\"]],\"sequentialminus\":[[0.0,\"#0d0887\"],[0.1111111111111111,\"#46039f\"],[0.2222222222222222,\"#7201a8\"],[0.3333333333333333,\"#9c179e\"],[0.4444444444444444,\"#bd3786\"],[0.5555555555555556,\"#d8576b\"],[0.6666666666666666,\"#ed7953\"],[0.7777777777777778,\"#fb9f3a\"],[0.8888888888888888,\"#fdca26\"],[1.0,\"#f0f921\"]],\"diverging\":[[0,\"#8e0152\"],[0.1,\"#c51b7d\"],[0.2,\"#de77ae\"],[0.3,\"#f1b6da\"],[0.4,\"#fde0ef\"],[0.5,\"#f7f7f7\"],[0.6,\"#e6f5d0\"],[0.7,\"#b8e186\"],[0.8,\"#7fbc41\"],[0.9,\"#4d9221\"],[1,\"#276419\"]]},\"xaxis\":{\"gridcolor\":\"white\",\"linecolor\":\"white\",\"ticks\":\"\",\"title\":{\"standoff\":15},\"zerolinecolor\":\"white\",\"automargin\":true,\"zerolinewidth\":2},\"yaxis\":{\"gridcolor\":\"white\",\"linecolor\":\"white\",\"ticks\":\"\",\"title\":{\"standoff\":15},\"zerolinecolor\":\"white\",\"automargin\":true,\"zerolinewidth\":2},\"scene\":{\"xaxis\":{\"backgroundcolor\":\"#E5ECF6\",\"gridcolor\":\"white\",\"linecolor\":\"white\",\"showbackground\":true,\"ticks\":\"\",\"zerolinecolor\":\"white\",\"gridwidth\":2},\"yaxis\":{\"backgroundcolor\":\"#E5ECF6\",\"gridcolor\":\"white\",\"linecolor\":\"white\",\"showbackground\":true,\"ticks\":\"\",\"zerolinecolor\":\"white\",\"gridwidth\":2},\"zaxis\":{\"backgroundcolor\":\"#E5ECF6\",\"gridcolor\":\"white\",\"linecolor\":\"white\",\"showbackground\":true,\"ticks\":\"\",\"zerolinecolor\":\"white\",\"gridwidth\":2}},\"shapedefaults\":{\"line\":{\"color\":\"#2a3f5f\"}},\"annotationdefaults\":{\"arrowcolor\":\"#2a3f5f\",\"arrowhead\":0,\"arrowwidth\":1},\"geo\":{\"bgcolor\":\"white\",\"landcolor\":\"#E5ECF6\",\"subunitcolor\":\"white\",\"showland\":true,\"showlakes\":true,\"lakecolor\":\"white\"},\"title\":{\"x\":0.05},\"mapbox\":{\"style\":\"light\"}}}},                        {\"responsive\": true}                    ).then(function(){\n",
       "                            \n",
       "var gd = document.getElementById('9a9f57ee-6102-4524-8031-2d6baa9cf1b6');\n",
       "var x = new MutationObserver(function (mutations, observer) {{\n",
       "        var display = window.getComputedStyle(gd).display;\n",
       "        if (!display || display === 'none') {{\n",
       "            console.log([gd, 'removed!']);\n",
       "            Plotly.purge(gd);\n",
       "            observer.disconnect();\n",
       "        }}\n",
       "}});\n",
       "\n",
       "// Listen for the removal of the full notebook cells\n",
       "var notebookContainer = gd.closest('#notebook-container');\n",
       "if (notebookContainer) {{\n",
       "    x.observe(notebookContainer, {childList: true});\n",
       "}}\n",
       "\n",
       "// Listen for the clearing of the current output cell\n",
       "var outputEl = gd.closest('.output');\n",
       "if (outputEl) {{\n",
       "    x.observe(outputEl, {childList: true});\n",
       "}}\n",
       "\n",
       "                        })                };                });            </script>        </div>"
      ]
     },
     "metadata": {},
     "output_type": "display_data"
    }
   ],
   "source": [
    "fig.show()"
   ]
  },
  {
   "cell_type": "code",
   "execution_count": 452,
   "metadata": {},
   "outputs": [
    {
     "data": {
      "text/html": [
       "<div>\n",
       "<style scoped>\n",
       "    .dataframe tbody tr th:only-of-type {\n",
       "        vertical-align: middle;\n",
       "    }\n",
       "\n",
       "    .dataframe tbody tr th {\n",
       "        vertical-align: top;\n",
       "    }\n",
       "\n",
       "    .dataframe thead th {\n",
       "        text-align: right;\n",
       "    }\n",
       "</style>\n",
       "<table border=\"1\" class=\"dataframe\">\n",
       "  <thead>\n",
       "    <tr style=\"text-align: right;\">\n",
       "      <th></th>\n",
       "      <th>PRIMARY_ID</th>\n",
       "      <th>PRIMARY_TRANSACTIONS</th>\n",
       "      <th>segment</th>\n",
       "    </tr>\n",
       "  </thead>\n",
       "  <tbody>\n",
       "    <tr>\n",
       "      <th>3</th>\n",
       "      <td>500 SKYLIGHT ACCESSORIES</td>\n",
       "      <td>670</td>\n",
       "      <td>0</td>\n",
       "    </tr>\n",
       "    <tr>\n",
       "      <th>0</th>\n",
       "      <td>500 ROOF WINDOWS</td>\n",
       "      <td>1090</td>\n",
       "      <td>1</td>\n",
       "    </tr>\n",
       "  </tbody>\n",
       "</table>\n",
       "</div>"
      ],
      "text/plain": [
       "                 PRIMARY_ID  PRIMARY_TRANSACTIONS  segment\n",
       "3  500 SKYLIGHT ACCESSORIES                   670        0\n",
       "0          500 ROOF WINDOWS                  1090        1"
      ]
     },
     "execution_count": 452,
     "metadata": {},
     "output_type": "execute_result"
    }
   ],
   "source": [
    "partition_df = pd.DataFrame.from_dict(partition, orient='index', columns=['segment']).reset_index()\n",
    "partition_df.rename(columns={'index': 'PRIMARY_ID'}, inplace=True)\n",
    "labelled_df = filtered_df.merge(partition_df, on='PRIMARY_ID', how='left')\n",
    "labelled_df = labelled_df[['PRIMARY_ID','PRIMARY_TRANSACTIONS', 'segment']].drop_duplicates()\n",
    "labelled_df.sort_values(by='segment')"
   ]
  },
  {
   "cell_type": "markdown",
   "metadata": {},
   "source": [
    "New skylight framing or structural retrofit:\n",
    "Segment 0 – Roof cutout prep and reinforcement\n",
    "\n",
    "Roof recladding or cut-in during roof works:\n",
    "Segment 1 – Mixed Site Prep, Sheathing, and Noise\n",
    "\n",
    "Full-frame integration for high-quality install:\n",
    "Segment 2 – Fibre Cement Integration & Segment 3 – Connector Framing & Timber\n",
    "\n",
    "Internal ceiling refit or thermal efficiency upgrade:\n",
    "Segment 4 – Insulation & Finishing Support"
   ]
  },
  {
   "cell_type": "code",
   "execution_count": 453,
   "metadata": {},
   "outputs": [],
   "source": [
    "labelled_df.to_csv('Labelled_class_segment.csv',index=False)"
   ]
  }
 ],
 "metadata": {
  "kernelspec": {
   "display_name": "Python 3 (ipykernel)",
   "language": "python",
   "name": "python3"
  },
  "language_info": {
   "codemirror_mode": {
    "name": "ipython",
    "version": 3
   },
   "file_extension": ".py",
   "mimetype": "text/x-python",
   "name": "python",
   "nbconvert_exporter": "python",
   "pygments_lexer": "ipython3",
   "version": "3.10.18"
  }
 },
 "nbformat": 4,
 "nbformat_minor": 4
}
