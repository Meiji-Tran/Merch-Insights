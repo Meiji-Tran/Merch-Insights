{
 "cells": [
  {
   "cell_type": "code",
   "execution_count": 2,
   "metadata": {},
   "outputs": [
    {
     "name": "stderr",
     "output_type": "stream",
     "text": [
      "snowflake_tools - 2025-06-20 11:02:04.628843+10:00 - Generating new token with 'INSIGHT_ANALYST_MERCH_DE_GENERAL_PRD' role and 'SESSION:ROLE-ANY' scope...\n",
      "snowflake_tools - 2025-06-20 11:02:10.448204+10:00 - Saved token with '2025-06-20 15:02:10+10:00' expiry...\n"
     ]
    }
   ],
   "source": [
    "import os\n",
    "import importlib\n",
    "from datetime  import datetime\n",
    "from ds_common_utils.aux.io.snowflake_tools import SnowflakeTools\n",
    "import sys\n",
    "# sys.path.append('../')\n",
    "import association_functions as a\n",
    "\n",
    "def message(text):\n",
    "    print(text)\n",
    "\n",
    "db_con = SnowflakeTools().get_snowflake_ctx(\n",
    "     method = 'token',\n",
    "    user = '250807',\n",
    "    role = 'INSIGHT_ANALYST_MERCH_DE_GENERAL_PRD',\n",
    "    warehouse = 'INSIGHT_ANALYST_WH'\n",
    ")\n",
    "\n",
    "params = {\n",
    "        'db_con': db_con,\n",
    "        'process_ts': datetime.now(), \n",
    "        'dw_airflow_dag_run_id': '',\n",
    "        'temp_schema_path':'BDWPRD_DE.IA_MERCH_DE', \n",
    "        'association_table': 'BDWPRD_DE.IA_MERCH_DE.SKYLIGHT_CLASS_TO_CLASS_ASSOCIATION',\n",
    "        'metric_table': 'BDWPRD_DE.IA_MERCH_DE.SKYLIGHT_CLASS_TO_CLASS_ASSOCIATION_METRICS',\n",
    "        'start_date': \"2020-06-18\",\n",
    "        'end_date': \"2025-06-18\", # exclusive\n",
    "        'pft_table': 'bdwprd_cds.item.item_dim',\n",
    "        'item_identifier': 'dw_item_id',\n",
    "        'primary_pft': 'item_class_name',\n",
    "        'secondary_pft': 'item_class_name',\n",
    "        'model_type': 'Basket',\n",
    "        'model_name': 'MT_SKYLIGHT_TEST',\n",
    "        'win_size': 0,\n",
    "        'is_ao_run': False  \n",
    "                }"
   ]
  },
  {
   "cell_type": "code",
   "execution_count": 3,
   "metadata": {},
   "outputs": [
    {
     "name": "stdout",
     "output_type": "stream",
     "text": [
      "Creating association data table ...\n",
      "Collecting transactions ...\n",
      "sql_01 done\n",
      "Running the model ...\n",
      "sql_02 done\n",
      "Association data is stored in BDWPRD_DE.IA_MERCH_DE.SKYLIGHT_CLASS_TO_CLASS_ASSOCIATION table.\n",
      "Calculating metrics ...\n",
      "Metrics are stored in BDWPRD_DE.IA_MERCH_DE.SKYLIGHT_CLASS_TO_CLASS_ASSOCIATION_METRICS table\n"
     ]
    }
   ],
   "source": [
    "a.generate_association_data(params, message)\n",
    "a.run_and_format_sql_file(db_con, 'sql/00-table-initiator.sql', params) \n",
    "a.run_and_format_sql_file(db_con, 'sql/01-transaction_data.sql', params) \n",
    "a.run_and_format_sql_file(db_con, 'sql/02-basket_association.sql', params)\n",
    "a.generate_association_metrics(params, message)"
   ]
  }
 ],
 "metadata": {
  "kernelspec": {
   "display_name": "Python 3 (ipykernel)",
   "language": "python",
   "name": "python3"
  },
  "language_info": {
   "codemirror_mode": {
    "name": "ipython",
    "version": 3
   },
   "file_extension": ".py",
   "mimetype": "text/x-python",
   "name": "python",
   "nbconvert_exporter": "python",
   "pygments_lexer": "ipython3",
   "version": "3.10.18"
  }
 },
 "nbformat": 4,
 "nbformat_minor": 4
}
