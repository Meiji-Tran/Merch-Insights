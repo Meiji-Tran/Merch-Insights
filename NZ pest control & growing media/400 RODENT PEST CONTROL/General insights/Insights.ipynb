{
 "cells": [
  {
   "cell_type": "markdown",
   "metadata": {},
   "source": [
    "# Setup"
   ]
  },
  {
   "cell_type": "code",
   "execution_count": 1,
   "metadata": {},
   "outputs": [],
   "source": [
    "# Import packages\n",
    "import pandas as pd\n",
    "from ds_common_utils.aux.io.snowflake_tools import SnowflakeTools\n",
    "from datetime import datetime\n",
    "import matplotlib.pyplot as plt"
   ]
  },
  {
   "cell_type": "code",
   "execution_count": 2,
   "metadata": {},
   "outputs": [],
   "source": [
    "# Setup connection\n",
    "con = SnowflakeTools(\n",
    "    role=\"INSIGHT_ANALYST_MERCH_DE_GENERAL_PRD\",\n",
    "    warehouse=\"INSIGHT_ANALYST_WH\",\n",
    "    database=\"BDWPRD_DE\",\n",
    "    schema=\"IA_MERCH_DE\"\n",
    ")"
   ]
  },
  {
   "cell_type": "code",
   "execution_count": 3,
   "metadata": {},
   "outputs": [],
   "source": [
    "start_date = \"'2024-06-01'\"\n",
    "end_date = \"'2025-05-31'\"\n",
    "sub_dept = \"400 RODENT PEST CONTROL\""
   ]
  },
  {
   "cell_type": "code",
   "execution_count": null,
   "metadata": {},
   "outputs": [],
   "source": [
    "PC_ds = con.read_sql_file_into_pandas(\n",
    "    file=\"sql/1-demographic-segments.sql\",\n",
    "    formatting={\n",
    "        'start_date': start_date,\n",
    "        'end_date': end_date,\n",
    "        'table_name': table_PC,\n",
    "        'level' : 'item_class_name',\n",
    "        'country' : 'AU' \n",
    "    }\n",
    ")"
   ]
  }
 ],
 "metadata": {
  "kernelspec": {
   "display_name": "meiji",
   "language": "python",
   "name": "python3"
  },
  "language_info": {
   "codemirror_mode": {
    "name": "ipython",
    "version": 3
   },
   "file_extension": ".py",
   "mimetype": "text/x-python",
   "name": "python",
   "nbconvert_exporter": "python",
   "pygments_lexer": "ipython3",
   "version": "3.10.18"
  }
 },
 "nbformat": 4,
 "nbformat_minor": 2
}
