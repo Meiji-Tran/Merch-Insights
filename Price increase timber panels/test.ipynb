{
 "cells": [
  {
   "cell_type": "code",
   "execution_count": 1,
   "metadata": {},
   "outputs": [],
   "source": [
    "from ds_common_utils.aux.io.snowflake_tools import SnowflakeTools\n",
    "from datetime import datetime\n",
    "import pandas as pd"
   ]
  },
  {
   "cell_type": "code",
   "execution_count": 2,
   "metadata": {},
   "outputs": [],
   "source": [
    "# Setup connection\n",
    "con = SnowflakeTools(\n",
    "    role=\"INSIGHT_ANALYST_MERCH_DE_GENERAL_PRD\",\n",
    "    warehouse=\"INSIGHT_ANALYST_WH\",\n",
    "    database=\"BDWPRD_DE\",\n",
    "    schema=\"IA_MERCH_DE\"\n",
    ")"
   ]
  },
  {
   "cell_type": "markdown",
   "metadata": {},
   "source": [
    "### Item list"
   ]
  },
  {
   "cell_type": "code",
   "execution_count": 22,
   "metadata": {},
   "outputs": [
    {
     "name": "stdout",
     "output_type": "stream",
     "text": [
      "Index(['item_number', 'item_description'], dtype='object')\n",
      "Index(['item_number', 'item_description'], dtype='object')\n"
     ]
    }
   ],
   "source": [
    "# Load both AU and NZ sheets from the Excel file\n",
    "item_list = pd.read_excel(\"Item list.xlsx\", sheet_name=None)\n",
    "\n",
    "# Replace sheet names if needed\n",
    "au_items = item_list['AU']\n",
    "nz_items = item_list['NZ']\n",
    "\n",
    "# Standardise column names (optional but helpful)\n",
    "au_items.columns = au_items.columns.str.strip().str.lower()\n",
    "nz_items.columns = nz_items.columns.str.strip().str.lower()\n",
    "\n",
    "# Ensure item_number is string with leading zeroes\n",
    "au_items['item_number'] = au_items['item_number'].astype(str).str.zfill(7)\n",
    "nz_items['item_number'] = nz_items['item_number'].astype(str).str.zfill(7)"
   ]
  },
  {
   "cell_type": "code",
   "execution_count": 24,
   "metadata": {},
   "outputs": [],
   "source": [
    "# Read product hierarchy\n",
    "product_hierarchy = con.read_sql_file_into_pandas(\n",
    "    file=\"sql/item-hierarchy.sql\"\n",
    ")"
   ]
  },
  {
   "cell_type": "code",
   "execution_count": 25,
   "metadata": {},
   "outputs": [],
   "source": [
    "# Clean column names\n",
    "product_hierarchy.columns = (\n",
    "    product_hierarchy.columns\n",
    "    .str.strip()\n",
    "    .str.lower()\n",
    "    .str.replace(' ', '_')\n",
    ")\n",
    "\n",
    "# Ensure item_number is string with 7-digit padding\n",
    "product_hierarchy['item_number'] = product_hierarchy['item_number'].astype(str).str.zfill(7)"
   ]
  },
  {
   "cell_type": "code",
   "execution_count": 26,
   "metadata": {},
   "outputs": [],
   "source": [
    "# Merge enriched hierarchy into AU and NZ item lists\n",
    "au_items_enriched = au_items.merge(product_hierarchy, on='item_number', how='left')\n",
    "nz_items_enriched = nz_items.merge(product_hierarchy, on='item_number', how='left')\n"
   ]
  },
  {
   "cell_type": "code",
   "execution_count": 29,
   "metadata": {},
   "outputs": [
    {
     "name": "stdout",
     "output_type": "stream",
     "text": [
      "\n",
      "🔹 AU ITEMS: Unique item_category_name\n",
      "['200 TIMBER']\n",
      "\n",
      "🔹 AU ITEMS: Unique item_department_name\n",
      "['300 INDOOR TIMBER AND BOARDS']\n",
      "\n",
      "🔹 AU ITEMS: Unique item_sub_department_name\n",
      "['400 PANELS']\n",
      "\n",
      "🔹 AU ITEMS: Unique item_class_name\n",
      "['500 PANELS' '500 PANELS BULK STACK']\n",
      "\n",
      "🔹 AU ITEMS: Unique item_sub_class_name\n",
      "['600 EXOTIC PANELS' '600 PANELS BULK STACK' '600 PANELS'\n",
      " '600 DRESSED PINE PNL BULK STCK']\n",
      "\n",
      "🔹 NZ ITEMS: Unique item_category_name\n",
      "['200 TIMBER']\n",
      "\n",
      "🔹 NZ ITEMS: Unique item_department_name\n",
      "['300 INDOOR TIMBER AND BOARDS']\n",
      "\n",
      "🔹 NZ ITEMS: Unique item_sub_department_name\n",
      "['400 PANELS']\n",
      "\n",
      "🔹 NZ ITEMS: Unique item_class_name\n",
      "['500 PANELS' '500 PANELS BULK STACK']\n",
      "\n",
      "🔹 NZ ITEMS: Unique item_sub_class_name\n",
      "['600 EXOTIC PANELS' '600 PANELS' '600 PANELS BULK STACK'\n",
      " '600 DRESSED PINE PNL BULK STCK']\n"
     ]
    }
   ],
   "source": [
    "# Function to print unique values for each hierarchy column\n",
    "def show_unique_hierarchy(df, label):\n",
    "    print(f\"\\n🔹 {label}: Unique item_category_name\")\n",
    "    print(df['item_category_name'].dropna().unique())\n",
    "\n",
    "    print(f\"\\n🔹 {label}: Unique item_department_name\")\n",
    "    print(df['item_department_name'].dropna().unique())\n",
    "\n",
    "    print(f\"\\n🔹 {label}: Unique item_sub_department_name\")\n",
    "    print(df['item_sub_department_name'].dropna().unique())\n",
    "\n",
    "    print(f\"\\n🔹 {label}: Unique item_class_name\")\n",
    "    print(df['item_class_name'].dropna().unique())\n",
    "\n",
    "    print(f\"\\n🔹 {label}: Unique item_sub_class_name\")\n",
    "    print(df['item_sub_class_name'].dropna().unique())\n",
    "\n",
    "# Show for both AU and NZ\n",
    "show_unique_hierarchy(au_items_enriched, \"AU ITEMS\")\n",
    "show_unique_hierarchy(nz_items_enriched, \"NZ ITEMS\")\n"
   ]
  },
  {
   "cell_type": "markdown",
   "metadata": {},
   "source": [
    "### Working"
   ]
  },
  {
   "cell_type": "code",
   "execution_count": 30,
   "metadata": {},
   "outputs": [],
   "source": []
  },
  {
   "cell_type": "markdown",
   "metadata": {},
   "source": []
  }
 ],
 "metadata": {
  "kernelspec": {
   "display_name": "meiji",
   "language": "python",
   "name": "python3"
  },
  "language_info": {
   "codemirror_mode": {
    "name": "ipython",
    "version": 3
   },
   "file_extension": ".py",
   "mimetype": "text/x-python",
   "name": "python",
   "nbconvert_exporter": "python",
   "pygments_lexer": "ipython3",
   "version": "3.9.21"
  }
 },
 "nbformat": 4,
 "nbformat_minor": 2
}
